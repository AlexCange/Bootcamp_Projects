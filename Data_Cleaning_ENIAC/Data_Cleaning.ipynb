{
 "cells": [
  {
   "cell_type": "markdown",
   "id": "673488c5",
   "metadata": {},
   "source": [
    "# Import Libraries, Datas and Set up Display"
   ]
  },
  {
   "cell_type": "code",
   "execution_count": 1,
   "id": "98be3625-bce5-44d3-a560-4632de9a94f0",
   "metadata": {},
   "outputs": [],
   "source": [
    "import pandas as pd\n",
    "pd.options.display.max_rows = 100"
   ]
  },
  {
   "cell_type": "code",
   "execution_count": 2,
   "id": "13c4aef4",
   "metadata": {},
   "outputs": [],
   "source": [
    "products = pd.read_csv('/Users/alex/Desktop/Eniac/Project_Folder/DataFrames/Base/products.csv')\n",
    "orderlines = pd.read_csv('/Users/alex/Desktop/Eniac/Project_Folder/DataFrames/Base/orderlines.csv')\n",
    "orders = pd.read_csv('/Users/alex/Desktop/Eniac/Project_Folder/DataFrames/Base/orders.csv')\n",
    "brands = pd.read_csv('/Users/alex/Desktop/Eniac/Project_Folder/DataFrames/Base/brands.csv')"
   ]
  },
  {
   "cell_type": "markdown",
   "id": "e9333b7b",
   "metadata": {},
   "source": [
    "# Get to know Data Frames"
   ]
  },
  {
   "cell_type": "markdown",
   "id": "0367f674",
   "metadata": {},
   "source": [
    "## *Orderlines*"
   ]
  },
  {
   "cell_type": "code",
   "execution_count": 3,
   "id": "20ec5811",
   "metadata": {},
   "outputs": [
    {
     "name": "stdout",
     "output_type": "stream",
     "text": [
      "<class 'pandas.core.frame.DataFrame'>\n",
      "RangeIndex: 293983 entries, 0 to 293982\n",
      "Data columns (total 7 columns):\n",
      " #   Column            Non-Null Count   Dtype \n",
      "---  ------            --------------   ----- \n",
      " 0   id                293983 non-null  int64 \n",
      " 1   id_order          293983 non-null  int64 \n",
      " 2   product_id        293983 non-null  int64 \n",
      " 3   product_quantity  293983 non-null  int64 \n",
      " 4   sku               293983 non-null  object\n",
      " 5   unit_price        293983 non-null  object\n",
      " 6   date              293983 non-null  object\n",
      "dtypes: int64(4), object(3)\n",
      "memory usage: 15.7+ MB\n"
     ]
    }
   ],
   "source": [
    "orderlines.info()"
   ]
  },
  {
   "cell_type": "code",
   "execution_count": 4,
   "id": "5baaee02",
   "metadata": {},
   "outputs": [
    {
     "data": {
      "text/html": [
       "<div>\n",
       "<style scoped>\n",
       "    .dataframe tbody tr th:only-of-type {\n",
       "        vertical-align: middle;\n",
       "    }\n",
       "\n",
       "    .dataframe tbody tr th {\n",
       "        vertical-align: top;\n",
       "    }\n",
       "\n",
       "    .dataframe thead th {\n",
       "        text-align: right;\n",
       "    }\n",
       "</style>\n",
       "<table border=\"1\" class=\"dataframe\">\n",
       "  <thead>\n",
       "    <tr style=\"text-align: right;\">\n",
       "      <th></th>\n",
       "      <th>id</th>\n",
       "      <th>id_order</th>\n",
       "      <th>product_id</th>\n",
       "      <th>product_quantity</th>\n",
       "      <th>sku</th>\n",
       "      <th>unit_price</th>\n",
       "      <th>date</th>\n",
       "    </tr>\n",
       "  </thead>\n",
       "  <tbody>\n",
       "    <tr>\n",
       "      <th>0</th>\n",
       "      <td>1119109</td>\n",
       "      <td>299539</td>\n",
       "      <td>0</td>\n",
       "      <td>1</td>\n",
       "      <td>OTT0133</td>\n",
       "      <td>18.99</td>\n",
       "      <td>2017-01-01 00:07:19</td>\n",
       "    </tr>\n",
       "    <tr>\n",
       "      <th>1</th>\n",
       "      <td>1119110</td>\n",
       "      <td>299540</td>\n",
       "      <td>0</td>\n",
       "      <td>1</td>\n",
       "      <td>LGE0043</td>\n",
       "      <td>399.00</td>\n",
       "      <td>2017-01-01 00:19:45</td>\n",
       "    </tr>\n",
       "    <tr>\n",
       "      <th>2</th>\n",
       "      <td>1119111</td>\n",
       "      <td>299541</td>\n",
       "      <td>0</td>\n",
       "      <td>1</td>\n",
       "      <td>PAR0071</td>\n",
       "      <td>474.05</td>\n",
       "      <td>2017-01-01 00:20:57</td>\n",
       "    </tr>\n",
       "    <tr>\n",
       "      <th>3</th>\n",
       "      <td>1119112</td>\n",
       "      <td>299542</td>\n",
       "      <td>0</td>\n",
       "      <td>1</td>\n",
       "      <td>WDT0315</td>\n",
       "      <td>68.39</td>\n",
       "      <td>2017-01-01 00:51:40</td>\n",
       "    </tr>\n",
       "    <tr>\n",
       "      <th>4</th>\n",
       "      <td>1119113</td>\n",
       "      <td>299543</td>\n",
       "      <td>0</td>\n",
       "      <td>1</td>\n",
       "      <td>JBL0104</td>\n",
       "      <td>23.74</td>\n",
       "      <td>2017-01-01 01:06:38</td>\n",
       "    </tr>\n",
       "  </tbody>\n",
       "</table>\n",
       "</div>"
      ],
      "text/plain": [
       "        id  id_order  product_id  product_quantity      sku unit_price  \\\n",
       "0  1119109    299539           0                 1  OTT0133      18.99   \n",
       "1  1119110    299540           0                 1  LGE0043     399.00   \n",
       "2  1119111    299541           0                 1  PAR0071     474.05   \n",
       "3  1119112    299542           0                 1  WDT0315      68.39   \n",
       "4  1119113    299543           0                 1  JBL0104      23.74   \n",
       "\n",
       "                  date  \n",
       "0  2017-01-01 00:07:19  \n",
       "1  2017-01-01 00:19:45  \n",
       "2  2017-01-01 00:20:57  \n",
       "3  2017-01-01 00:51:40  \n",
       "4  2017-01-01 01:06:38  "
      ]
     },
     "execution_count": 4,
     "metadata": {},
     "output_type": "execute_result"
    }
   ],
   "source": [
    "orderlines.head()"
   ]
  },
  {
   "cell_type": "code",
   "execution_count": 5,
   "id": "71351adf",
   "metadata": {},
   "outputs": [
    {
     "data": {
      "text/plain": [
       "id                  293983\n",
       "id_order            204855\n",
       "product_id               1\n",
       "product_quantity        67\n",
       "sku                   7951\n",
       "unit_price           11329\n",
       "date                251631\n",
       "dtype: int64"
      ]
     },
     "execution_count": 5,
     "metadata": {},
     "output_type": "execute_result"
    }
   ],
   "source": [
    "orderlines.nunique()"
   ]
  },
  {
   "cell_type": "markdown",
   "id": "a2579e0d",
   "metadata": {},
   "source": [
    "## *Products*"
   ]
  },
  {
   "cell_type": "code",
   "execution_count": 6,
   "id": "d21046b9",
   "metadata": {},
   "outputs": [
    {
     "name": "stdout",
     "output_type": "stream",
     "text": [
      "<class 'pandas.core.frame.DataFrame'>\n",
      "RangeIndex: 19326 entries, 0 to 19325\n",
      "Data columns (total 7 columns):\n",
      " #   Column       Non-Null Count  Dtype \n",
      "---  ------       --------------  ----- \n",
      " 0   sku          19326 non-null  object\n",
      " 1   name         19326 non-null  object\n",
      " 2   desc         19319 non-null  object\n",
      " 3   price        19280 non-null  object\n",
      " 4   promo_price  19326 non-null  object\n",
      " 5   in_stock     19326 non-null  int64 \n",
      " 6   type         19276 non-null  object\n",
      "dtypes: int64(1), object(6)\n",
      "memory usage: 1.0+ MB\n"
     ]
    }
   ],
   "source": [
    "products.info()"
   ]
  },
  {
   "cell_type": "code",
   "execution_count": 7,
   "id": "805ad5ee",
   "metadata": {},
   "outputs": [
    {
     "data": {
      "text/html": [
       "<div>\n",
       "<style scoped>\n",
       "    .dataframe tbody tr th:only-of-type {\n",
       "        vertical-align: middle;\n",
       "    }\n",
       "\n",
       "    .dataframe tbody tr th {\n",
       "        vertical-align: top;\n",
       "    }\n",
       "\n",
       "    .dataframe thead th {\n",
       "        text-align: right;\n",
       "    }\n",
       "</style>\n",
       "<table border=\"1\" class=\"dataframe\">\n",
       "  <thead>\n",
       "    <tr style=\"text-align: right;\">\n",
       "      <th></th>\n",
       "      <th>sku</th>\n",
       "      <th>name</th>\n",
       "      <th>desc</th>\n",
       "      <th>price</th>\n",
       "      <th>promo_price</th>\n",
       "      <th>in_stock</th>\n",
       "      <th>type</th>\n",
       "    </tr>\n",
       "  </thead>\n",
       "  <tbody>\n",
       "    <tr>\n",
       "      <th>0</th>\n",
       "      <td>RAI0007</td>\n",
       "      <td>Silver Rain Design mStand Support</td>\n",
       "      <td>Aluminum support compatible with all MacBook</td>\n",
       "      <td>59.99</td>\n",
       "      <td>499.899</td>\n",
       "      <td>1</td>\n",
       "      <td>8696</td>\n",
       "    </tr>\n",
       "    <tr>\n",
       "      <th>1</th>\n",
       "      <td>APP0023</td>\n",
       "      <td>Apple Mac Keyboard Keypad Spanish</td>\n",
       "      <td>USB ultrathin keyboard Apple Mac Spanish.</td>\n",
       "      <td>59</td>\n",
       "      <td>589.996</td>\n",
       "      <td>0</td>\n",
       "      <td>13855401</td>\n",
       "    </tr>\n",
       "    <tr>\n",
       "      <th>2</th>\n",
       "      <td>APP0025</td>\n",
       "      <td>Mighty Mouse Apple Mouse for Mac</td>\n",
       "      <td>mouse Apple USB cable.</td>\n",
       "      <td>59</td>\n",
       "      <td>569.898</td>\n",
       "      <td>0</td>\n",
       "      <td>1387</td>\n",
       "    </tr>\n",
       "    <tr>\n",
       "      <th>3</th>\n",
       "      <td>APP0072</td>\n",
       "      <td>Apple Dock to USB Cable iPhone and iPod white</td>\n",
       "      <td>IPhone dock and USB Cable Apple iPod.</td>\n",
       "      <td>25</td>\n",
       "      <td>229.997</td>\n",
       "      <td>0</td>\n",
       "      <td>1230</td>\n",
       "    </tr>\n",
       "    <tr>\n",
       "      <th>4</th>\n",
       "      <td>KIN0007</td>\n",
       "      <td>Mac Memory Kingston 2GB 667MHz DDR2 SO-DIMM</td>\n",
       "      <td>2GB RAM Mac mini and iMac (2006/07) MacBook Pr...</td>\n",
       "      <td>34.99</td>\n",
       "      <td>31.99</td>\n",
       "      <td>1</td>\n",
       "      <td>1364</td>\n",
       "    </tr>\n",
       "  </tbody>\n",
       "</table>\n",
       "</div>"
      ],
      "text/plain": [
       "       sku                                           name  \\\n",
       "0  RAI0007              Silver Rain Design mStand Support   \n",
       "1  APP0023              Apple Mac Keyboard Keypad Spanish   \n",
       "2  APP0025               Mighty Mouse Apple Mouse for Mac   \n",
       "3  APP0072  Apple Dock to USB Cable iPhone and iPod white   \n",
       "4  KIN0007    Mac Memory Kingston 2GB 667MHz DDR2 SO-DIMM   \n",
       "\n",
       "                                                desc  price promo_price  \\\n",
       "0       Aluminum support compatible with all MacBook  59.99     499.899   \n",
       "1          USB ultrathin keyboard Apple Mac Spanish.     59     589.996   \n",
       "2                             mouse Apple USB cable.     59     569.898   \n",
       "3              IPhone dock and USB Cable Apple iPod.     25     229.997   \n",
       "4  2GB RAM Mac mini and iMac (2006/07) MacBook Pr...  34.99       31.99   \n",
       "\n",
       "   in_stock      type  \n",
       "0         1      8696  \n",
       "1         0  13855401  \n",
       "2         0      1387  \n",
       "3         0      1230  \n",
       "4         1      1364  "
      ]
     },
     "execution_count": 7,
     "metadata": {},
     "output_type": "execute_result"
    }
   ],
   "source": [
    "products.head()"
   ]
  },
  {
   "cell_type": "code",
   "execution_count": 8,
   "id": "796f9f53",
   "metadata": {},
   "outputs": [
    {
     "data": {
      "text/plain": [
       "sku            10579\n",
       "name           10373\n",
       "desc            7098\n",
       "price           2690\n",
       "promo_price     4614\n",
       "in_stock           2\n",
       "type             126\n",
       "dtype: int64"
      ]
     },
     "execution_count": 8,
     "metadata": {},
     "output_type": "execute_result"
    }
   ],
   "source": [
    "products.nunique()"
   ]
  },
  {
   "cell_type": "markdown",
   "id": "73411019",
   "metadata": {},
   "source": [
    "## *Orders*"
   ]
  },
  {
   "cell_type": "code",
   "execution_count": 9,
   "id": "003ca734",
   "metadata": {},
   "outputs": [
    {
     "name": "stdout",
     "output_type": "stream",
     "text": [
      "<class 'pandas.core.frame.DataFrame'>\n",
      "RangeIndex: 226909 entries, 0 to 226908\n",
      "Data columns (total 4 columns):\n",
      " #   Column        Non-Null Count   Dtype  \n",
      "---  ------        --------------   -----  \n",
      " 0   order_id      226909 non-null  int64  \n",
      " 1   created_date  226909 non-null  object \n",
      " 2   total_paid    226904 non-null  float64\n",
      " 3   state         226909 non-null  object \n",
      "dtypes: float64(1), int64(1), object(2)\n",
      "memory usage: 6.9+ MB\n"
     ]
    }
   ],
   "source": [
    "orders.info()"
   ]
  },
  {
   "cell_type": "code",
   "execution_count": 10,
   "id": "5d9ff74c",
   "metadata": {},
   "outputs": [
    {
     "data": {
      "text/html": [
       "<div>\n",
       "<style scoped>\n",
       "    .dataframe tbody tr th:only-of-type {\n",
       "        vertical-align: middle;\n",
       "    }\n",
       "\n",
       "    .dataframe tbody tr th {\n",
       "        vertical-align: top;\n",
       "    }\n",
       "\n",
       "    .dataframe thead th {\n",
       "        text-align: right;\n",
       "    }\n",
       "</style>\n",
       "<table border=\"1\" class=\"dataframe\">\n",
       "  <thead>\n",
       "    <tr style=\"text-align: right;\">\n",
       "      <th></th>\n",
       "      <th>order_id</th>\n",
       "      <th>created_date</th>\n",
       "      <th>total_paid</th>\n",
       "      <th>state</th>\n",
       "    </tr>\n",
       "  </thead>\n",
       "  <tbody>\n",
       "    <tr>\n",
       "      <th>0</th>\n",
       "      <td>241319</td>\n",
       "      <td>2017-01-02 13:35:40</td>\n",
       "      <td>44.99</td>\n",
       "      <td>Cancelled</td>\n",
       "    </tr>\n",
       "    <tr>\n",
       "      <th>1</th>\n",
       "      <td>241423</td>\n",
       "      <td>2017-11-06 13:10:02</td>\n",
       "      <td>136.15</td>\n",
       "      <td>Completed</td>\n",
       "    </tr>\n",
       "    <tr>\n",
       "      <th>2</th>\n",
       "      <td>242832</td>\n",
       "      <td>2017-12-31 17:40:03</td>\n",
       "      <td>15.76</td>\n",
       "      <td>Completed</td>\n",
       "    </tr>\n",
       "    <tr>\n",
       "      <th>3</th>\n",
       "      <td>243330</td>\n",
       "      <td>2017-02-16 10:59:38</td>\n",
       "      <td>84.98</td>\n",
       "      <td>Completed</td>\n",
       "    </tr>\n",
       "    <tr>\n",
       "      <th>4</th>\n",
       "      <td>243784</td>\n",
       "      <td>2017-11-24 13:35:19</td>\n",
       "      <td>157.86</td>\n",
       "      <td>Cancelled</td>\n",
       "    </tr>\n",
       "  </tbody>\n",
       "</table>\n",
       "</div>"
      ],
      "text/plain": [
       "   order_id         created_date  total_paid      state\n",
       "0    241319  2017-01-02 13:35:40       44.99  Cancelled\n",
       "1    241423  2017-11-06 13:10:02      136.15  Completed\n",
       "2    242832  2017-12-31 17:40:03       15.76  Completed\n",
       "3    243330  2017-02-16 10:59:38       84.98  Completed\n",
       "4    243784  2017-11-24 13:35:19      157.86  Cancelled"
      ]
     },
     "execution_count": 10,
     "metadata": {},
     "output_type": "execute_result"
    }
   ],
   "source": [
    "orders.head()"
   ]
  },
  {
   "cell_type": "code",
   "execution_count": 11,
   "id": "0df7772c",
   "metadata": {},
   "outputs": [
    {
     "data": {
      "text/plain": [
       "order_id        226909\n",
       "created_date    224828\n",
       "total_paid       31236\n",
       "state                5\n",
       "dtype: int64"
      ]
     },
     "execution_count": 11,
     "metadata": {},
     "output_type": "execute_result"
    }
   ],
   "source": [
    "orders.nunique()"
   ]
  },
  {
   "cell_type": "markdown",
   "id": "af677826",
   "metadata": {},
   "source": [
    "# Clean Data"
   ]
  },
  {
   "cell_type": "markdown",
   "id": "90bbbb35",
   "metadata": {},
   "source": [
    "## *Orderlines*"
   ]
  },
  {
   "cell_type": "code",
   "execution_count": 12,
   "id": "0fea9662",
   "metadata": {},
   "outputs": [
    {
     "data": {
      "text/plain": [
       "id                  0\n",
       "id_order            0\n",
       "product_id          0\n",
       "product_quantity    0\n",
       "sku                 0\n",
       "unit_price          0\n",
       "date                0\n",
       "dtype: int64"
      ]
     },
     "execution_count": 12,
     "metadata": {},
     "output_type": "execute_result"
    }
   ],
   "source": [
    "#Check Nan Values\n",
    "orderlines.isna().sum()\n",
    "                        # Nothing to delete"
   ]
  },
  {
   "cell_type": "code",
   "execution_count": 13,
   "id": "28293d93",
   "metadata": {},
   "outputs": [
    {
     "data": {
      "text/plain": [
       "0"
      ]
     },
     "execution_count": 13,
     "metadata": {},
     "output_type": "execute_result"
    }
   ],
   "source": [
    "#Check duplicated\n",
    "orderlines.duplicated().sum()\n",
    "                        # Nothing to delete"
   ]
  },
  {
   "cell_type": "markdown",
   "id": "dd570244",
   "metadata": {},
   "source": [
    "***unit_price and date Dtypes are not correct. Let's change it***"
   ]
  },
  {
   "cell_type": "code",
   "execution_count": 14,
   "id": "c3f51d0d",
   "metadata": {},
   "outputs": [
    {
     "ename": "ValueError",
     "evalue": "Unable to parse string \"1.137.99\" at position 6",
     "output_type": "error",
     "traceback": [
      "\u001b[0;31m---------------------------------------------------------------------------\u001b[0m",
      "\u001b[0;31mValueError\u001b[0m                                Traceback (most recent call last)",
      "File \u001b[0;32m~/opt/anaconda3/lib/python3.9/site-packages/pandas/_libs/lib.pyx:2364\u001b[0m, in \u001b[0;36mpandas._libs.lib.maybe_convert_numeric\u001b[0;34m()\u001b[0m\n",
      "\u001b[0;31mValueError\u001b[0m: Unable to parse string \"1.137.99\"",
      "\nDuring handling of the above exception, another exception occurred:\n",
      "\u001b[0;31mValueError\u001b[0m                                Traceback (most recent call last)",
      "Input \u001b[0;32mIn [14]\u001b[0m, in \u001b[0;36m<cell line: 2>\u001b[0;34m()\u001b[0m\n\u001b[1;32m      1\u001b[0m \u001b[38;5;66;03m#Unit_Price from object to float\u001b[39;00m\n\u001b[0;32m----> 2\u001b[0m orderlines[\u001b[38;5;124m\"\u001b[39m\u001b[38;5;124munit_price\u001b[39m\u001b[38;5;124m\"\u001b[39m] \u001b[38;5;241m=\u001b[39m \u001b[43mpd\u001b[49m\u001b[38;5;241;43m.\u001b[39;49m\u001b[43mto_numeric\u001b[49m\u001b[43m(\u001b[49m\u001b[43morderlines\u001b[49m\u001b[43m[\u001b[49m\u001b[38;5;124;43m\"\u001b[39;49m\u001b[38;5;124;43munit_price\u001b[39;49m\u001b[38;5;124;43m\"\u001b[39;49m\u001b[43m]\u001b[49m\u001b[43m)\u001b[49m\n",
      "File \u001b[0;32m~/opt/anaconda3/lib/python3.9/site-packages/pandas/core/tools/numeric.py:185\u001b[0m, in \u001b[0;36mto_numeric\u001b[0;34m(arg, errors, downcast)\u001b[0m\n\u001b[1;32m    183\u001b[0m coerce_numeric \u001b[38;5;241m=\u001b[39m errors \u001b[38;5;129;01mnot\u001b[39;00m \u001b[38;5;129;01min\u001b[39;00m (\u001b[38;5;124m\"\u001b[39m\u001b[38;5;124mignore\u001b[39m\u001b[38;5;124m\"\u001b[39m, \u001b[38;5;124m\"\u001b[39m\u001b[38;5;124mraise\u001b[39m\u001b[38;5;124m\"\u001b[39m)\n\u001b[1;32m    184\u001b[0m \u001b[38;5;28;01mtry\u001b[39;00m:\n\u001b[0;32m--> 185\u001b[0m     values, _ \u001b[38;5;241m=\u001b[39m \u001b[43mlib\u001b[49m\u001b[38;5;241;43m.\u001b[39;49m\u001b[43mmaybe_convert_numeric\u001b[49m\u001b[43m(\u001b[49m\n\u001b[1;32m    186\u001b[0m \u001b[43m        \u001b[49m\u001b[43mvalues\u001b[49m\u001b[43m,\u001b[49m\u001b[43m \u001b[49m\u001b[38;5;28;43mset\u001b[39;49m\u001b[43m(\u001b[49m\u001b[43m)\u001b[49m\u001b[43m,\u001b[49m\u001b[43m \u001b[49m\u001b[43mcoerce_numeric\u001b[49m\u001b[38;5;241;43m=\u001b[39;49m\u001b[43mcoerce_numeric\u001b[49m\n\u001b[1;32m    187\u001b[0m \u001b[43m    \u001b[49m\u001b[43m)\u001b[49m\n\u001b[1;32m    188\u001b[0m \u001b[38;5;28;01mexcept\u001b[39;00m (\u001b[38;5;167;01mValueError\u001b[39;00m, \u001b[38;5;167;01mTypeError\u001b[39;00m):\n\u001b[1;32m    189\u001b[0m     \u001b[38;5;28;01mif\u001b[39;00m errors \u001b[38;5;241m==\u001b[39m \u001b[38;5;124m\"\u001b[39m\u001b[38;5;124mraise\u001b[39m\u001b[38;5;124m\"\u001b[39m:\n",
      "File \u001b[0;32m~/opt/anaconda3/lib/python3.9/site-packages/pandas/_libs/lib.pyx:2406\u001b[0m, in \u001b[0;36mpandas._libs.lib.maybe_convert_numeric\u001b[0;34m()\u001b[0m\n",
      "\u001b[0;31mValueError\u001b[0m: Unable to parse string \"1.137.99\" at position 6"
     ]
    }
   ],
   "source": [
    "#Unit_Price from object to float\n",
    "orderlines[\"unit_price\"] = pd.to_numeric(orderlines[\"unit_price\"])"
   ]
  },
  {
   "cell_type": "markdown",
   "id": "d0d1f2f9",
   "metadata": {},
   "source": [
    "Looks like some numbers have a problem. \n",
    "Make a list of the order ID, see how many are they, and delete these rows."
   ]
  },
  {
   "cell_type": "code",
   "execution_count": 16,
   "id": "81dc3197",
   "metadata": {},
   "outputs": [],
   "source": [
    "#Make a list of Order IDs\n",
    "two_dot_order_ids_list = orderlines.loc[orderlines.unit_price.astype(str).str.contains(\"\\d+\\.\\d+\\.\\d+\"), \"id_order\"]"
   ]
  },
  {
   "cell_type": "code",
   "execution_count": 17,
   "id": "5b653f05",
   "metadata": {},
   "outputs": [
    {
     "data": {
      "text/plain": [
       "'Wrong numbers represent 17.66% of the total amount of entries'"
      ]
     },
     "execution_count": 17,
     "metadata": {},
     "output_type": "execute_result"
    }
   ],
   "source": [
    "#Check the lenght and what it represents\n",
    "f\"Wrong numbers represent \\\n",
    "{round((len(two_dot_order_ids_list)/(orderlines.id_order.nunique())*100),2)}\\\n",
    "% of the total amount of entries\""
   ]
  },
  {
   "cell_type": "markdown",
   "id": "79b8fde7",
   "metadata": {},
   "source": [
    "**17,66% is a high part of the datas, but because time restrictions, we would delete these entries and we will stil have enough to make our analyses.**"
   ]
  },
  {
   "cell_type": "code",
   "execution_count": 18,
   "id": "9575134d",
   "metadata": {},
   "outputs": [],
   "source": [
    "#Remove these entries\n",
    "orderlines = orderlines.loc[~orderlines.id_order.isin(two_dot_order_ids_list)]"
   ]
  },
  {
   "cell_type": "code",
   "execution_count": 19,
   "id": "24509980",
   "metadata": {},
   "outputs": [],
   "source": [
    "#Change Unit_Price Dtype:\n",
    "orderlines[\"unit_price\"] = pd.to_numeric(orderlines[\"unit_price\"])"
   ]
  },
  {
   "cell_type": "code",
   "execution_count": 20,
   "id": "5a7ae547",
   "metadata": {},
   "outputs": [],
   "source": [
    "#Change Date Dtype:\n",
    "orderlines[\"date\"] = pd.to_datetime(orderlines[\"date\"])"
   ]
  },
  {
   "cell_type": "code",
   "execution_count": 21,
   "id": "339c31fa",
   "metadata": {},
   "outputs": [
    {
     "name": "stdout",
     "output_type": "stream",
     "text": [
      "<class 'pandas.core.frame.DataFrame'>\n",
      "Int64Index: 216250 entries, 0 to 293982\n",
      "Data columns (total 7 columns):\n",
      " #   Column            Non-Null Count   Dtype         \n",
      "---  ------            --------------   -----         \n",
      " 0   id                216250 non-null  int64         \n",
      " 1   id_order          216250 non-null  int64         \n",
      " 2   product_id        216250 non-null  int64         \n",
      " 3   product_quantity  216250 non-null  int64         \n",
      " 4   sku               216250 non-null  object        \n",
      " 5   unit_price        216250 non-null  float64       \n",
      " 6   date              216250 non-null  datetime64[ns]\n",
      "dtypes: datetime64[ns](1), float64(1), int64(4), object(1)\n",
      "memory usage: 13.2+ MB\n"
     ]
    }
   ],
   "source": [
    "#Check if the changes worked correctly:\n",
    "orderlines.info()"
   ]
  },
  {
   "cell_type": "markdown",
   "id": "e93b4869",
   "metadata": {},
   "source": [
    "## *Products*"
   ]
  },
  {
   "cell_type": "code",
   "execution_count": 22,
   "id": "f7b53694",
   "metadata": {},
   "outputs": [
    {
     "data": {
      "text/plain": [
       "sku             0\n",
       "name            0\n",
       "desc            7\n",
       "price          46\n",
       "promo_price     0\n",
       "in_stock        0\n",
       "type           50\n",
       "dtype: int64"
      ]
     },
     "execution_count": 22,
     "metadata": {},
     "output_type": "execute_result"
    }
   ],
   "source": [
    "#Check Nan Values\n",
    "products.isna().sum()"
   ]
  },
  {
   "cell_type": "markdown",
   "id": "c95778ee",
   "metadata": {},
   "source": [
    "***Price is important for our analyse. We need to remove these products without price.***"
   ]
  },
  {
   "cell_type": "code",
   "execution_count": 23,
   "id": "849e3e11",
   "metadata": {},
   "outputs": [],
   "source": [
    "#Keep only rows with prices\n",
    "products = products[~products.price.isna()]"
   ]
  },
  {
   "cell_type": "code",
   "execution_count": 24,
   "id": "6e241ac2",
   "metadata": {},
   "outputs": [
    {
     "data": {
      "text/plain": [
       "8746"
      ]
     },
     "execution_count": 24,
     "metadata": {},
     "output_type": "execute_result"
    }
   ],
   "source": [
    "#Check duplicated\n",
    "products.duplicated().sum()"
   ]
  },
  {
   "cell_type": "code",
   "execution_count": 25,
   "id": "9297807a",
   "metadata": {},
   "outputs": [],
   "source": [
    "#Delete these duplicated:\n",
    "products = products.drop_duplicates()"
   ]
  },
  {
   "cell_type": "markdown",
   "id": "37c3cd57",
   "metadata": {},
   "source": [
    "price and promo_price have wrong Dtype."
   ]
  },
  {
   "cell_type": "code",
   "execution_count": 26,
   "id": "c5623fa2",
   "metadata": {},
   "outputs": [
    {
     "name": "stdout",
     "output_type": "stream",
     "text": [
      "<class 'pandas.core.frame.DataFrame'>\n",
      "Int64Index: 10534 entries, 0 to 19325\n",
      "Data columns (total 7 columns):\n",
      " #   Column       Non-Null Count  Dtype \n",
      "---  ------       --------------  ----- \n",
      " 0   sku          10534 non-null  object\n",
      " 1   name         10534 non-null  object\n",
      " 2   desc         10527 non-null  object\n",
      " 3   price        10534 non-null  object\n",
      " 4   promo_price  10534 non-null  object\n",
      " 5   in_stock     10534 non-null  int64 \n",
      " 6   type         10484 non-null  object\n",
      "dtypes: int64(1), object(6)\n",
      "memory usage: 658.4+ KB\n"
     ]
    }
   ],
   "source": [
    "products.info()"
   ]
  },
  {
   "cell_type": "code",
   "execution_count": 28,
   "id": "fcae2e03",
   "metadata": {},
   "outputs": [
    {
     "ename": "ValueError",
     "evalue": "Unable to parse string \"1.639.792\" at position 504",
     "output_type": "error",
     "traceback": [
      "\u001b[0;31m---------------------------------------------------------------------------\u001b[0m",
      "\u001b[0;31mValueError\u001b[0m                                Traceback (most recent call last)",
      "File \u001b[0;32m~/opt/anaconda3/lib/python3.9/site-packages/pandas/_libs/lib.pyx:2364\u001b[0m, in \u001b[0;36mpandas._libs.lib.maybe_convert_numeric\u001b[0;34m()\u001b[0m\n",
      "\u001b[0;31mValueError\u001b[0m: Unable to parse string \"1.639.792\"",
      "\nDuring handling of the above exception, another exception occurred:\n",
      "\u001b[0;31mValueError\u001b[0m                                Traceback (most recent call last)",
      "Input \u001b[0;32mIn [28]\u001b[0m, in \u001b[0;36m<cell line: 2>\u001b[0;34m()\u001b[0m\n\u001b[1;32m      1\u001b[0m \u001b[38;5;66;03m#Change Dtype:\u001b[39;00m\n\u001b[0;32m----> 2\u001b[0m products[\u001b[38;5;124m\"\u001b[39m\u001b[38;5;124mprice\u001b[39m\u001b[38;5;124m\"\u001b[39m] \u001b[38;5;241m=\u001b[39m \u001b[43mpd\u001b[49m\u001b[38;5;241;43m.\u001b[39;49m\u001b[43mto_numeric\u001b[49m\u001b[43m(\u001b[49m\u001b[43mproducts\u001b[49m\u001b[43m[\u001b[49m\u001b[38;5;124;43m\"\u001b[39;49m\u001b[38;5;124;43mprice\u001b[39;49m\u001b[38;5;124;43m\"\u001b[39;49m\u001b[43m]\u001b[49m\u001b[43m)\u001b[49m\n",
      "File \u001b[0;32m~/opt/anaconda3/lib/python3.9/site-packages/pandas/core/tools/numeric.py:185\u001b[0m, in \u001b[0;36mto_numeric\u001b[0;34m(arg, errors, downcast)\u001b[0m\n\u001b[1;32m    183\u001b[0m coerce_numeric \u001b[38;5;241m=\u001b[39m errors \u001b[38;5;129;01mnot\u001b[39;00m \u001b[38;5;129;01min\u001b[39;00m (\u001b[38;5;124m\"\u001b[39m\u001b[38;5;124mignore\u001b[39m\u001b[38;5;124m\"\u001b[39m, \u001b[38;5;124m\"\u001b[39m\u001b[38;5;124mraise\u001b[39m\u001b[38;5;124m\"\u001b[39m)\n\u001b[1;32m    184\u001b[0m \u001b[38;5;28;01mtry\u001b[39;00m:\n\u001b[0;32m--> 185\u001b[0m     values, _ \u001b[38;5;241m=\u001b[39m \u001b[43mlib\u001b[49m\u001b[38;5;241;43m.\u001b[39;49m\u001b[43mmaybe_convert_numeric\u001b[49m\u001b[43m(\u001b[49m\n\u001b[1;32m    186\u001b[0m \u001b[43m        \u001b[49m\u001b[43mvalues\u001b[49m\u001b[43m,\u001b[49m\u001b[43m \u001b[49m\u001b[38;5;28;43mset\u001b[39;49m\u001b[43m(\u001b[49m\u001b[43m)\u001b[49m\u001b[43m,\u001b[49m\u001b[43m \u001b[49m\u001b[43mcoerce_numeric\u001b[49m\u001b[38;5;241;43m=\u001b[39;49m\u001b[43mcoerce_numeric\u001b[49m\n\u001b[1;32m    187\u001b[0m \u001b[43m    \u001b[49m\u001b[43m)\u001b[49m\n\u001b[1;32m    188\u001b[0m \u001b[38;5;28;01mexcept\u001b[39;00m (\u001b[38;5;167;01mValueError\u001b[39;00m, \u001b[38;5;167;01mTypeError\u001b[39;00m):\n\u001b[1;32m    189\u001b[0m     \u001b[38;5;28;01mif\u001b[39;00m errors \u001b[38;5;241m==\u001b[39m \u001b[38;5;124m\"\u001b[39m\u001b[38;5;124mraise\u001b[39m\u001b[38;5;124m\"\u001b[39m:\n",
      "File \u001b[0;32m~/opt/anaconda3/lib/python3.9/site-packages/pandas/_libs/lib.pyx:2406\u001b[0m, in \u001b[0;36mpandas._libs.lib.maybe_convert_numeric\u001b[0;34m()\u001b[0m\n",
      "\u001b[0;31mValueError\u001b[0m: Unable to parse string \"1.639.792\" at position 504"
     ]
    }
   ],
   "source": [
    "#Change Dtype:\n",
    "products[\"price\"] = pd.to_numeric(products[\"price\"])"
   ]
  },
  {
   "cell_type": "markdown",
   "id": "ed417a59",
   "metadata": {},
   "source": [
    "Looks like some numbers have a problem. \n",
    "Make a list of the order ID, see how many are they, and delete these rows."
   ]
  },
  {
   "cell_type": "code",
   "execution_count": 30,
   "id": "c6aef20f",
   "metadata": {},
   "outputs": [],
   "source": [
    "#Make a list of Order IDs\n",
    "two_dot_sku_list = products.loc[products.price.astype(str).str.contains(\"\\d+\\.\\d+\\.\\d+\"), \"sku\"]\n"
   ]
  },
  {
   "cell_type": "code",
   "execution_count": 31,
   "id": "2b3c4faf",
   "metadata": {},
   "outputs": [
    {
     "data": {
      "text/plain": [
       "'Wrong prices represent 3.58% of the total amount of entries'"
      ]
     },
     "execution_count": 31,
     "metadata": {},
     "output_type": "execute_result"
    }
   ],
   "source": [
    "#Check the lenght and what it represents\n",
    "f\"Wrong prices represent \\\n",
    "{round((len(two_dot_sku_list)/(products.sku.nunique())*100),2)}\\\n",
    "% of the total amount of entries\""
   ]
  },
  {
   "cell_type": "code",
   "execution_count": 32,
   "id": "33d4308e",
   "metadata": {},
   "outputs": [],
   "source": [
    "#Keep only rows with valid price:\n",
    "products = products.loc[~products.sku.isin(two_dot_sku_list)]"
   ]
  },
  {
   "cell_type": "code",
   "execution_count": 33,
   "id": "9e634737",
   "metadata": {},
   "outputs": [],
   "source": [
    "#Change price Dtypes:\n",
    "products[\"price\"] = pd.to_numeric(products[\"price\"])"
   ]
  },
  {
   "cell_type": "markdown",
   "id": "453b6d3d",
   "metadata": {},
   "source": [
    "We check now Promo_Price"
   ]
  },
  {
   "cell_type": "code",
   "execution_count": 34,
   "id": "77eaf2f0",
   "metadata": {},
   "outputs": [],
   "source": [
    "#Make a list of Order IDs\n",
    "two_dot_sku_promo_list = products.loc[products.promo_price.astype(str).str.contains(\"\\d+\\.\\d+\\.\\d+\"), \"sku\"]"
   ]
  },
  {
   "cell_type": "code",
   "execution_count": 35,
   "id": "288dd8e3",
   "metadata": {},
   "outputs": [
    {
     "data": {
      "text/plain": [
       "'Wrong prices represent 42.54% of the total amount of entries'"
      ]
     },
     "execution_count": 35,
     "metadata": {},
     "output_type": "execute_result"
    }
   ],
   "source": [
    "f\"Wrong prices represent \\\n",
    "{round((len(two_dot_sku_promo_list)/(products.sku.nunique())*100),2)}\\\n",
    "% of the total amount of entries\""
   ]
  },
  {
   "cell_type": "markdown",
   "id": "08e3c13e",
   "metadata": {},
   "source": [
    "***42,54% is too high and we can't handle analyses without these article. We will replace these numbers with the actual price of articles.***"
   ]
  },
  {
   "cell_type": "code",
   "execution_count": 36,
   "id": "29ef2ce3",
   "metadata": {},
   "outputs": [],
   "source": [
    "#Replace wrong promo_price by NaN\n",
    "products = products.replace(to_replace=\"\\d+\\.\\d+\\.\\d+\", value='',regex=True)"
   ]
  },
  {
   "cell_type": "code",
   "execution_count": 37,
   "id": "7f2fab82",
   "metadata": {},
   "outputs": [],
   "source": [
    "#Replace NaN Promo Price by the price of the items\n",
    "products.promo_price = products.promo_price.fillna(products['price'])"
   ]
  },
  {
   "cell_type": "code",
   "execution_count": 38,
   "id": "d601f5c0",
   "metadata": {},
   "outputs": [],
   "source": [
    "#Change promo_price Dtype:\n",
    "products['promo_price'] = pd.to_numeric(products['promo_price'])"
   ]
  },
  {
   "cell_type": "code",
   "execution_count": 39,
   "id": "cc4c5f06",
   "metadata": {},
   "outputs": [
    {
     "name": "stdout",
     "output_type": "stream",
     "text": [
      "<class 'pandas.core.frame.DataFrame'>\n",
      "Int64Index: 10157 entries, 0 to 19325\n",
      "Data columns (total 7 columns):\n",
      " #   Column       Non-Null Count  Dtype  \n",
      "---  ------       --------------  -----  \n",
      " 0   sku          10157 non-null  object \n",
      " 1   name         10157 non-null  object \n",
      " 2   desc         10151 non-null  object \n",
      " 3   price        10157 non-null  float64\n",
      " 4   promo_price  5836 non-null   float64\n",
      " 5   in_stock     10157 non-null  int64  \n",
      " 6   type         10110 non-null  object \n",
      "dtypes: float64(2), int64(1), object(4)\n",
      "memory usage: 634.8+ KB\n"
     ]
    }
   ],
   "source": [
    "#Check if the changes worked correctly:\n",
    "products.info()"
   ]
  },
  {
   "cell_type": "markdown",
   "id": "d877cc01",
   "metadata": {},
   "source": [
    "## *Orders*"
   ]
  },
  {
   "cell_type": "code",
   "execution_count": 40,
   "id": "717d8180",
   "metadata": {},
   "outputs": [],
   "source": [
    "#Keep only rows with payments\n",
    "orders = orders[~orders.total_paid.isna()]"
   ]
  },
  {
   "cell_type": "code",
   "execution_count": 41,
   "id": "d94b4af7",
   "metadata": {},
   "outputs": [],
   "source": [
    "#Change Dtype for dates\n",
    "orders['created_date'] = pd.to_datetime(orders['created_date'])"
   ]
  },
  {
   "cell_type": "markdown",
   "id": "7cbd5e0c",
   "metadata": {},
   "source": [
    "## *Brands does not look having any important issues*"
   ]
  },
  {
   "cell_type": "markdown",
   "id": "607916c2",
   "metadata": {},
   "source": [
    "# Last check and Export DataFrames"
   ]
  },
  {
   "cell_type": "code",
   "execution_count": 42,
   "id": "9394ada0",
   "metadata": {},
   "outputs": [
    {
     "name": "stdout",
     "output_type": "stream",
     "text": [
      "<class 'pandas.core.frame.DataFrame'>\n",
      "Int64Index: 216250 entries, 0 to 293982\n",
      "Data columns (total 7 columns):\n",
      " #   Column            Non-Null Count   Dtype         \n",
      "---  ------            --------------   -----         \n",
      " 0   id                216250 non-null  int64         \n",
      " 1   id_order          216250 non-null  int64         \n",
      " 2   product_id        216250 non-null  int64         \n",
      " 3   product_quantity  216250 non-null  int64         \n",
      " 4   sku               216250 non-null  object        \n",
      " 5   unit_price        216250 non-null  float64       \n",
      " 6   date              216250 non-null  datetime64[ns]\n",
      "dtypes: datetime64[ns](1), float64(1), int64(4), object(1)\n",
      "memory usage: 13.2+ MB\n"
     ]
    }
   ],
   "source": [
    "orderlines.info()"
   ]
  },
  {
   "cell_type": "code",
   "execution_count": 43,
   "id": "9c50dc23",
   "metadata": {},
   "outputs": [
    {
     "name": "stdout",
     "output_type": "stream",
     "text": [
      "<class 'pandas.core.frame.DataFrame'>\n",
      "Int64Index: 226904 entries, 0 to 226908\n",
      "Data columns (total 4 columns):\n",
      " #   Column        Non-Null Count   Dtype         \n",
      "---  ------        --------------   -----         \n",
      " 0   order_id      226904 non-null  int64         \n",
      " 1   created_date  226904 non-null  datetime64[ns]\n",
      " 2   total_paid    226904 non-null  float64       \n",
      " 3   state         226904 non-null  object        \n",
      "dtypes: datetime64[ns](1), float64(1), int64(1), object(1)\n",
      "memory usage: 8.7+ MB\n"
     ]
    }
   ],
   "source": [
    "orders.info()"
   ]
  },
  {
   "cell_type": "code",
   "execution_count": 44,
   "id": "3f7f159c",
   "metadata": {},
   "outputs": [
    {
     "name": "stdout",
     "output_type": "stream",
     "text": [
      "<class 'pandas.core.frame.DataFrame'>\n",
      "Int64Index: 10157 entries, 0 to 19325\n",
      "Data columns (total 7 columns):\n",
      " #   Column       Non-Null Count  Dtype  \n",
      "---  ------       --------------  -----  \n",
      " 0   sku          10157 non-null  object \n",
      " 1   name         10157 non-null  object \n",
      " 2   desc         10151 non-null  object \n",
      " 3   price        10157 non-null  float64\n",
      " 4   promo_price  5836 non-null   float64\n",
      " 5   in_stock     10157 non-null  int64  \n",
      " 6   type         10110 non-null  object \n",
      "dtypes: float64(2), int64(1), object(4)\n",
      "memory usage: 634.8+ KB\n"
     ]
    }
   ],
   "source": [
    "products.info()"
   ]
  },
  {
   "cell_type": "code",
   "execution_count": 45,
   "id": "4e51a0df",
   "metadata": {},
   "outputs": [],
   "source": [
    "orderlines.to_csv(\"/Users/alex/Desktop/Eniac/Project_Folder/DataFrames/Cleaned/cl_orderlines.csv\", index=False)\n",
    "orders.to_csv(\"/Users/alex/Desktop/Eniac/Project_Folder/DataFrames/Cleaned/cl_orders.csv\", index=False)\n",
    "products.to_csv(\"/Users/alex/Desktop/Eniac/Project_Folder/DataFrames/Cleaned/cl_products.csv\", index=False)\n",
    "brands.to_csv(\"/Users/alex/Desktop/Eniac/Project_Folder/DataFrames/Cleaned/cl_brands.csv\", index=False)"
   ]
  }
 ],
 "metadata": {
  "kernelspec": {
   "display_name": "Python 3 (ipykernel)",
   "language": "python",
   "name": "python3"
  },
  "language_info": {
   "codemirror_mode": {
    "name": "ipython",
    "version": 3
   },
   "file_extension": ".py",
   "mimetype": "text/x-python",
   "name": "python",
   "nbconvert_exporter": "python",
   "pygments_lexer": "ipython3",
   "version": "3.9.12"
  }
 },
 "nbformat": 4,
 "nbformat_minor": 5
}
