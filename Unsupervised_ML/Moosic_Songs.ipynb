{
 "cells": [
  {
   "cell_type": "markdown",
   "metadata": {},
   "source": [
    "# Import Libraries\n"
   ]
  },
  {
   "cell_type": "code",
   "execution_count": 1,
   "metadata": {},
   "outputs": [],
   "source": [
    "import pandas as pd\n",
    "import numpy as np\n",
    "import seaborn as sns\n",
    "import matplotlib.pyplot as plt\n",
    "from sklearn.metrics import pairwise_distances\n",
    "from sklearn.preprocessing import MinMaxScaler\n",
    "from sklearn.preprocessing import StandardScaler\n",
    "from sklearn.preprocessing import RobustScaler\n",
    "from sklearn.preprocessing import QuantileTransformer\n",
    "from sklearn.preprocessing import PowerTransformer\n",
    "from sklearn.cluster import KMeans\n",
    "from sklearn.metrics import silhouette_score\n",
    "import plotly.graph_objects as go\n",
    "\n"
   ]
  },
  {
   "cell_type": "markdown",
   "metadata": {},
   "source": [
    "# Import and Create Dataframe"
   ]
  },
  {
   "cell_type": "code",
   "execution_count": 65,
   "metadata": {},
   "outputs": [],
   "source": [
    "songs = pd.read_csv('/Users/alex/Desktop/School_Projects/5_unsupervised_ML/df_audio_features_10')"
   ]
  },
  {
   "cell_type": "code",
   "execution_count": 66,
   "metadata": {},
   "outputs": [],
   "source": [
    "df = songs.set_index('song_name')\n",
    "df = (\n",
    "    df[['danceability', 'energy', 'key', 'loudness', 'mode','speechiness', \n",
    "    'acousticness', 'instrumentalness', 'liveness','valence', 'tempo', \n",
    "    'duration_ms', 'time_signature']]\n",
    ")"
   ]
  },
  {
   "cell_type": "code",
   "execution_count": 67,
   "metadata": {},
   "outputs": [
    {
     "data": {
      "text/html": [
       "<div>\n",
       "<style scoped>\n",
       "    .dataframe tbody tr th:only-of-type {\n",
       "        vertical-align: middle;\n",
       "    }\n",
       "\n",
       "    .dataframe tbody tr th {\n",
       "        vertical-align: top;\n",
       "    }\n",
       "\n",
       "    .dataframe thead th {\n",
       "        text-align: right;\n",
       "    }\n",
       "</style>\n",
       "<table border=\"1\" class=\"dataframe\">\n",
       "  <thead>\n",
       "    <tr style=\"text-align: right;\">\n",
       "      <th></th>\n",
       "      <th>danceability</th>\n",
       "      <th>energy</th>\n",
       "      <th>key</th>\n",
       "      <th>loudness</th>\n",
       "      <th>mode</th>\n",
       "      <th>speechiness</th>\n",
       "      <th>acousticness</th>\n",
       "      <th>instrumentalness</th>\n",
       "      <th>liveness</th>\n",
       "      <th>valence</th>\n",
       "      <th>tempo</th>\n",
       "      <th>duration_ms</th>\n",
       "      <th>time_signature</th>\n",
       "    </tr>\n",
       "    <tr>\n",
       "      <th>song_name</th>\n",
       "      <th></th>\n",
       "      <th></th>\n",
       "      <th></th>\n",
       "      <th></th>\n",
       "      <th></th>\n",
       "      <th></th>\n",
       "      <th></th>\n",
       "      <th></th>\n",
       "      <th></th>\n",
       "      <th></th>\n",
       "      <th></th>\n",
       "      <th></th>\n",
       "      <th></th>\n",
       "    </tr>\n",
       "  </thead>\n",
       "  <tbody>\n",
       "    <tr>\n",
       "      <th>My Band</th>\n",
       "      <td>0.851</td>\n",
       "      <td>0.849</td>\n",
       "      <td>1</td>\n",
       "      <td>-3.383</td>\n",
       "      <td>0</td>\n",
       "      <td>0.0828</td>\n",
       "      <td>0.4970</td>\n",
       "      <td>0.000002</td>\n",
       "      <td>0.1160</td>\n",
       "      <td>0.844</td>\n",
       "      <td>120.014</td>\n",
       "      <td>298773</td>\n",
       "      <td>4</td>\n",
       "    </tr>\n",
       "    <tr>\n",
       "      <th>The Real Slim Shady</th>\n",
       "      <td>0.949</td>\n",
       "      <td>0.661</td>\n",
       "      <td>5</td>\n",
       "      <td>-4.244</td>\n",
       "      <td>0</td>\n",
       "      <td>0.0572</td>\n",
       "      <td>0.0302</td>\n",
       "      <td>0.000000</td>\n",
       "      <td>0.0454</td>\n",
       "      <td>0.760</td>\n",
       "      <td>104.504</td>\n",
       "      <td>284200</td>\n",
       "      <td>4</td>\n",
       "    </tr>\n",
       "    <tr>\n",
       "      <th>Águas De Março</th>\n",
       "      <td>0.642</td>\n",
       "      <td>0.339</td>\n",
       "      <td>3</td>\n",
       "      <td>-15.503</td>\n",
       "      <td>1</td>\n",
       "      <td>0.1400</td>\n",
       "      <td>0.8540</td>\n",
       "      <td>0.000000</td>\n",
       "      <td>0.1050</td>\n",
       "      <td>0.491</td>\n",
       "      <td>143.418</td>\n",
       "      <td>212400</td>\n",
       "      <td>4</td>\n",
       "    </tr>\n",
       "  </tbody>\n",
       "</table>\n",
       "</div>"
      ],
      "text/plain": [
       "                     danceability  energy  key  loudness  mode  speechiness  \\\n",
       "song_name                                                                     \n",
       "My Band                     0.851   0.849    1    -3.383     0       0.0828   \n",
       "The Real Slim Shady         0.949   0.661    5    -4.244     0       0.0572   \n",
       "Águas De Março              0.642   0.339    3   -15.503     1       0.1400   \n",
       "\n",
       "                     acousticness  instrumentalness  liveness  valence  \\\n",
       "song_name                                                                \n",
       "My Band                    0.4970          0.000002    0.1160    0.844   \n",
       "The Real Slim Shady        0.0302          0.000000    0.0454    0.760   \n",
       "Águas De Março             0.8540          0.000000    0.1050    0.491   \n",
       "\n",
       "                       tempo  duration_ms  time_signature  \n",
       "song_name                                                  \n",
       "My Band              120.014       298773               4  \n",
       "The Real Slim Shady  104.504       284200               4  \n",
       "Águas De Março       143.418       212400               4  "
      ]
     },
     "execution_count": 67,
     "metadata": {},
     "output_type": "execute_result"
    }
   ],
   "source": [
    "df.head(3)"
   ]
  },
  {
   "cell_type": "markdown",
   "metadata": {},
   "source": [
    "# Scale distances"
   ]
  },
  {
   "cell_type": "markdown",
   "metadata": {},
   "source": [
    "## Min-Max Scale"
   ]
  },
  {
   "cell_type": "code",
   "execution_count": 68,
   "metadata": {},
   "outputs": [
    {
     "data": {
      "image/png": "[encoded data removed]",
      "text/plain": [
       "<Figure size 720x576 with 2 Axes>"
      ]
     },
     "metadata": {
      "needs_background": "light"
     },
     "output_type": "display_data"
    }
   ],
   "source": [
    "min_max_df = MinMaxScaler().fit_transform(df)\n",
    "minmax = pd.DataFrame(min_max_df, columns=df.columns, index=df.index)\n",
    "\n",
    "# Making the DataFrame for the MinMaxed heatmap\n",
    "minmax_distances = pd.DataFrame(pairwise_distances(minmax), index=df.index, columns=df.index)\n",
    "\n",
    "# Stating that we want two plots\n",
    "fig, (ax1) = plt.subplots(1, figsize=(10, 8))\n",
    "\n",
    "# Plotting the two plots\n",
    "sns.heatmap(minmax_distances, ax=ax1, linewidths=.2);"
   ]
  },
  {
   "cell_type": "markdown",
   "metadata": {},
   "source": [
    "## Standard Scaler"
   ]
  },
  {
   "cell_type": "code",
   "execution_count": 69,
   "metadata": {},
   "outputs": [
    {
     "data": {
      "image/png": "[encoded data removed]",
      "text/plain": [
       "<Figure size 720x576 with 2 Axes>"
      ]
     },
     "metadata": {
      "needs_background": "light"
     },
     "output_type": "display_data"
    }
   ],
   "source": [
    "Standard_df = StandardScaler().fit_transform(df)\n",
    "standard = pd.DataFrame(Standard_df, columns=df.columns, index=df.index)\n",
    "\n",
    "# Making the DataFrame for the MinMaxed heatmap\n",
    "standard_distances = pd.DataFrame(pairwise_distances(standard), index=df.index, columns=df.index)\n",
    "\n",
    "# Stating that we want two plots\n",
    "fig, (ax1) = plt.subplots(1, figsize=(10, 8))\n",
    "\n",
    "# Plotting the two plots\n",
    "sns.heatmap(standard_distances, ax=ax1, linewidths=.2);"
   ]
  },
  {
   "cell_type": "markdown",
   "metadata": {},
   "source": [
    "## Robust Scaler"
   ]
  },
  {
   "cell_type": "code",
   "execution_count": 70,
   "metadata": {},
   "outputs": [
    {
     "data": {
      "image/png": "[encoded data removed]",
      "text/plain": [
       "<Figure size 720x576 with 2 Axes>"
      ]
     },
     "metadata": {
      "needs_background": "light"
     },
     "output_type": "display_data"
    }
   ],
   "source": [
    "robust_df = RobustScaler().fit_transform(df)\n",
    "robust = pd.DataFrame(robust_df, columns=df.columns, index=df.index)\n",
    "\n",
    "# Making the DataFrame for the MinMaxed heatmap\n",
    "robust_distances = pd.DataFrame(pairwise_distances(robust), index=df.index, columns=df.index)\n",
    "\n",
    "# Stating that we want two plots\n",
    "fig, (ax1) = plt.subplots(1, figsize=(10, 8))\n",
    "\n",
    "# Plotting the two plots\n",
    "sns.heatmap(robust_distances, ax=ax1, linewidths=.2);"
   ]
  },
  {
   "cell_type": "markdown",
   "metadata": {},
   "source": [
    "## Quantile Transformer"
   ]
  },
  {
   "cell_type": "code",
   "execution_count": 71,
   "metadata": {},
   "outputs": [
    {
     "data": {
      "image/png": "[encoded data removed]",
      "text/plain": [
       "<Figure size 720x576 with 2 Axes>"
      ]
     },
     "metadata": {
      "needs_background": "light"
     },
     "output_type": "display_data"
    }
   ],
   "source": [
    "quantile_df = QuantileTransformer(n_quantiles=len(df)).fit_transform(df)\n",
    "quantile = pd.DataFrame(quantile_df, columns=df.columns, index=df.index)\n",
    "\n",
    "# Making the DataFrame for the MinMaxed heatmap\n",
    "quantile_distances = pd.DataFrame(pairwise_distances(quantile), index=df.index, columns=df.index)\n",
    "\n",
    "# Stating that we want two plots\n",
    "fig, (ax1) = plt.subplots(1, figsize=(10, 8))\n",
    "\n",
    "# Plotting the two plots\n",
    "sns.heatmap(quantile_distances, ax=ax1, linewidths=.2);"
   ]
  },
  {
   "cell_type": "markdown",
   "metadata": {},
   "source": [
    "## Power Transformer"
   ]
  },
  {
   "cell_type": "code",
   "execution_count": 72,
   "metadata": {},
   "outputs": [
    {
     "data": {
      "image/png": "[encoded data removed]",
      "text/plain": [
       "<Figure size 720x576 with 2 Axes>"
      ]
     },
     "metadata": {
      "needs_background": "light"
     },
     "output_type": "display_data"
    }
   ],
   "source": [
    "power_df = PowerTransformer().fit_transform(df)\n",
    "power = pd.DataFrame(power_df, columns=df.columns, index=df.index)\n",
    "\n",
    "# Making the DataFrame for the MinMaxed heatmap\n",
    "power_distances = pd.DataFrame(pairwise_distances(power), index=df.index, columns=df.index)\n",
    "\n",
    "# Stating that we want two plots\n",
    "fig, (ax1) = plt.subplots(1, figsize=(10, 8))\n",
    "\n",
    "# Plotting the two plots\n",
    "sns.heatmap(power_distances, ax=ax1, linewidths=.2);"
   ]
  },
  {
   "cell_type": "code",
   "execution_count": 73,
   "metadata": {},
   "outputs": [],
   "source": [
    "distance_df = pd.DataFrame(pairwise_distances(df), index=df.index, columns=df.index)"
   ]
  },
  {
   "cell_type": "markdown",
   "metadata": {},
   "source": [
    "# All HeatMap\n"
   ]
  },
  {
   "cell_type": "code",
   "execution_count": 74,
   "metadata": {},
   "outputs": [
    {
     "data": {
      "image/png": "[encoded data removed]",
      "text/plain": [
       "<Figure size 1440x1440 with 12 Axes>"
      ]
     },
     "metadata": {
      "needs_background": "light"
     },
     "output_type": "display_data"
    }
   ],
   "source": [
    "fig, ax = plt.subplots(3,2, figsize=(20, 20), sharex=True, sharey=True)\n",
    "\n",
    "sns.heatmap(minmax_distances, ax=ax[0, 0], linewidths=.2);\n",
    "sns.heatmap(robust_distances, ax=ax[0, 1], linewidths=.2);\n",
    "sns.heatmap(standard_distances, ax=ax[1, 0], linewidths=.2);\n",
    "sns.heatmap(quantile_distances, ax=ax[1, 1], linewidths=.2);\n",
    "sns.heatmap(power_distances, ax=ax[2, 0], linewidths=.2);\n",
    "sns.heatmap(distance_df, ax=ax[2, 1], linewidths=.2);\n",
    "\n",
    "ax[0, 0].set_title('MinMax')\n",
    "ax[0, 1].set_title('Robust')\n",
    "ax[1, 0].set_title('Standard')\n",
    "ax[1, 1].set_title('Quantile')\n",
    "ax[2, 0].set_title('Power')\n",
    "ax[2, 1].set_title('Eucleasian')\n",
    "\n",
    "\n",
    "plt.show()"
   ]
  },
  {
   "cell_type": "code",
   "execution_count": 75,
   "metadata": {},
   "outputs": [],
   "source": [
    "# 2. initialize the model\n",
    "my_kmeans = KMeans(n_clusters= 5)\n",
    "# 3. fit the model to the data\n",
    "my_kmeans.fit(quantile_distances) # pass your scaled data here\n",
    "# 4. obtain the cluster output\n",
    "clusters = my_kmeans.predict(quantile_distances) # pass your scaled data here\n",
    "# 5. attach the cluster output to our original DataFrame\n",
    "df[\"cluster\"] = clusters"
   ]
  },
  {
   "cell_type": "code",
   "execution_count": 76,
   "metadata": {},
   "outputs": [
    {
     "data": {
      "text/html": [
       "<div>\n",
       "<style scoped>\n",
       "    .dataframe tbody tr th:only-of-type {\n",
       "        vertical-align: middle;\n",
       "    }\n",
       "\n",
       "    .dataframe tbody tr th {\n",
       "        vertical-align: top;\n",
       "    }\n",
       "\n",
       "    .dataframe thead th {\n",
       "        text-align: right;\n",
       "    }\n",
       "</style>\n",
       "<table border=\"1\" class=\"dataframe\">\n",
       "  <thead>\n",
       "    <tr style=\"text-align: right;\">\n",
       "      <th></th>\n",
       "      <th>danceability</th>\n",
       "      <th>energy</th>\n",
       "      <th>key</th>\n",
       "      <th>loudness</th>\n",
       "      <th>mode</th>\n",
       "      <th>speechiness</th>\n",
       "      <th>acousticness</th>\n",
       "      <th>instrumentalness</th>\n",
       "      <th>liveness</th>\n",
       "      <th>valence</th>\n",
       "      <th>tempo</th>\n",
       "      <th>duration_ms</th>\n",
       "      <th>time_signature</th>\n",
       "    </tr>\n",
       "    <tr>\n",
       "      <th>cluster</th>\n",
       "      <th></th>\n",
       "      <th></th>\n",
       "      <th></th>\n",
       "      <th></th>\n",
       "      <th></th>\n",
       "      <th></th>\n",
       "      <th></th>\n",
       "      <th></th>\n",
       "      <th></th>\n",
       "      <th></th>\n",
       "      <th></th>\n",
       "      <th></th>\n",
       "      <th></th>\n",
       "    </tr>\n",
       "  </thead>\n",
       "  <tbody>\n",
       "    <tr>\n",
       "      <th>0</th>\n",
       "      <td>0.9000</td>\n",
       "      <td>0.755000</td>\n",
       "      <td>3.0</td>\n",
       "      <td>-3.8135</td>\n",
       "      <td>0.0</td>\n",
       "      <td>0.07000</td>\n",
       "      <td>0.26360</td>\n",
       "      <td>0.000001</td>\n",
       "      <td>0.0807</td>\n",
       "      <td>0.8020</td>\n",
       "      <td>112.2590</td>\n",
       "      <td>291486.5</td>\n",
       "      <td>4.0</td>\n",
       "    </tr>\n",
       "    <tr>\n",
       "      <th>1</th>\n",
       "      <td>0.6415</td>\n",
       "      <td>0.239500</td>\n",
       "      <td>5.5</td>\n",
       "      <td>-16.1465</td>\n",
       "      <td>1.0</td>\n",
       "      <td>0.08950</td>\n",
       "      <td>0.86050</td>\n",
       "      <td>0.000830</td>\n",
       "      <td>0.1050</td>\n",
       "      <td>0.4395</td>\n",
       "      <td>136.3680</td>\n",
       "      <td>265193.5</td>\n",
       "      <td>4.0</td>\n",
       "    </tr>\n",
       "    <tr>\n",
       "      <th>2</th>\n",
       "      <td>0.7425</td>\n",
       "      <td>0.788000</td>\n",
       "      <td>2.5</td>\n",
       "      <td>-11.4410</td>\n",
       "      <td>1.0</td>\n",
       "      <td>0.07285</td>\n",
       "      <td>0.00431</td>\n",
       "      <td>0.884000</td>\n",
       "      <td>0.1110</td>\n",
       "      <td>0.1289</td>\n",
       "      <td>130.0030</td>\n",
       "      <td>416230.0</td>\n",
       "      <td>4.0</td>\n",
       "    </tr>\n",
       "    <tr>\n",
       "      <th>3</th>\n",
       "      <td>0.5985</td>\n",
       "      <td>0.794500</td>\n",
       "      <td>3.0</td>\n",
       "      <td>-9.6450</td>\n",
       "      <td>1.0</td>\n",
       "      <td>0.06165</td>\n",
       "      <td>0.05535</td>\n",
       "      <td>0.019570</td>\n",
       "      <td>0.3645</td>\n",
       "      <td>0.7715</td>\n",
       "      <td>153.4325</td>\n",
       "      <td>275445.5</td>\n",
       "      <td>4.0</td>\n",
       "    </tr>\n",
       "    <tr>\n",
       "      <th>4</th>\n",
       "      <td>0.2855</td>\n",
       "      <td>0.026715</td>\n",
       "      <td>3.0</td>\n",
       "      <td>-29.1005</td>\n",
       "      <td>1.0</td>\n",
       "      <td>0.04415</td>\n",
       "      <td>0.98950</td>\n",
       "      <td>0.754500</td>\n",
       "      <td>0.1080</td>\n",
       "      <td>0.1410</td>\n",
       "      <td>61.5175</td>\n",
       "      <td>189113.5</td>\n",
       "      <td>3.5</td>\n",
       "    </tr>\n",
       "  </tbody>\n",
       "</table>\n",
       "</div>"
      ],
      "text/plain": [
       "         danceability    energy  key  loudness  mode  speechiness  \\\n",
       "cluster                                                             \n",
       "0              0.9000  0.755000  3.0   -3.8135   0.0      0.07000   \n",
       "1              0.6415  0.239500  5.5  -16.1465   1.0      0.08950   \n",
       "2              0.7425  0.788000  2.5  -11.4410   1.0      0.07285   \n",
       "3              0.5985  0.794500  3.0   -9.6450   1.0      0.06165   \n",
       "4              0.2855  0.026715  3.0  -29.1005   1.0      0.04415   \n",
       "\n",
       "         acousticness  instrumentalness  liveness  valence     tempo  \\\n",
       "cluster                                                                \n",
       "0             0.26360          0.000001    0.0807   0.8020  112.2590   \n",
       "1             0.86050          0.000830    0.1050   0.4395  136.3680   \n",
       "2             0.00431          0.884000    0.1110   0.1289  130.0030   \n",
       "3             0.05535          0.019570    0.3645   0.7715  153.4325   \n",
       "4             0.98950          0.754500    0.1080   0.1410   61.5175   \n",
       "\n",
       "         duration_ms  time_signature  \n",
       "cluster                               \n",
       "0           291486.5             4.0  \n",
       "1           265193.5             4.0  \n",
       "2           416230.0             4.0  \n",
       "3           275445.5             4.0  \n",
       "4           189113.5             3.5  "
      ]
     },
     "execution_count": 76,
     "metadata": {},
     "output_type": "execute_result"
    }
   ],
   "source": [
    "df.groupby(by=\"cluster\").mean() "
   ]
  },
  {
   "cell_type": "markdown",
   "metadata": {},
   "source": [
    "# WITH 100 SONGS"
   ]
  },
  {
   "cell_type": "code",
   "execution_count": 77,
   "metadata": {},
   "outputs": [],
   "source": [
    "songs_1000_df_full = pd.read_csv('/Users/alex/Desktop/School_Projects/5_unsupervised_ML/df_audio_features_1000')"
   ]
  },
  {
   "cell_type": "code",
   "execution_count": 78,
   "metadata": {},
   "outputs": [
    {
     "data": {
      "text/html": [
       "<div>\n",
       "<style scoped>\n",
       "    .dataframe tbody tr th:only-of-type {\n",
       "        vertical-align: middle;\n",
       "    }\n",
       "\n",
       "    .dataframe tbody tr th {\n",
       "        vertical-align: top;\n",
       "    }\n",
       "\n",
       "    .dataframe thead th {\n",
       "        text-align: right;\n",
       "    }\n",
       "</style>\n",
       "<table border=\"1\" class=\"dataframe\">\n",
       "  <thead>\n",
       "    <tr style=\"text-align: right;\">\n",
       "      <th></th>\n",
       "      <th>name</th>\n",
       "      <th>artist</th>\n",
       "      <th>danceability</th>\n",
       "      <th>energy</th>\n",
       "      <th>key</th>\n",
       "      <th>loudness</th>\n",
       "      <th>mode</th>\n",
       "      <th>speechiness</th>\n",
       "      <th>acousticness</th>\n",
       "      <th>instrumentalness</th>\n",
       "      <th>liveness</th>\n",
       "      <th>valence</th>\n",
       "      <th>tempo</th>\n",
       "      <th>type</th>\n",
       "      <th>duration_ms</th>\n",
       "      <th>time_signature</th>\n",
       "      <th>id</th>\n",
       "      <th>html</th>\n",
       "    </tr>\n",
       "  </thead>\n",
       "  <tbody>\n",
       "    <tr>\n",
       "      <th>0</th>\n",
       "      <td>All Shook Up</td>\n",
       "      <td>Elvis Presley</td>\n",
       "      <td>0.624</td>\n",
       "      <td>0.468</td>\n",
       "      <td>10</td>\n",
       "      <td>-12.162</td>\n",
       "      <td>1</td>\n",
       "      <td>0.1320</td>\n",
       "      <td>0.881</td>\n",
       "      <td>0.000006</td>\n",
       "      <td>0.144</td>\n",
       "      <td>0.952</td>\n",
       "      <td>74.139</td>\n",
       "      <td>NaN</td>\n",
       "      <td>117080</td>\n",
       "      <td>4</td>\n",
       "      <td>5ueyLj6e6oVaTY0KQ6yLaA</td>\n",
       "      <td>https://open.spotify.com/track/5ueyLj6e6oVaTY0...</td>\n",
       "    </tr>\n",
       "    <tr>\n",
       "      <th>1</th>\n",
       "      <td>I've Got You Under My Skin - Remastered 1998</td>\n",
       "      <td>Frank Sinatra</td>\n",
       "      <td>0.585</td>\n",
       "      <td>0.247</td>\n",
       "      <td>1</td>\n",
       "      <td>-12.612</td>\n",
       "      <td>1</td>\n",
       "      <td>0.0400</td>\n",
       "      <td>0.452</td>\n",
       "      <td>0.000009</td>\n",
       "      <td>0.107</td>\n",
       "      <td>0.591</td>\n",
       "      <td>127.150</td>\n",
       "      <td>NaN</td>\n",
       "      <td>223760</td>\n",
       "      <td>4</td>\n",
       "      <td>3aEJMh1cXKEjgh52claxQp</td>\n",
       "      <td>https://open.spotify.com/track/3aEJMh1cXKEjgh5...</td>\n",
       "    </tr>\n",
       "    <tr>\n",
       "      <th>2</th>\n",
       "      <td>Smoke Gets In Your Eyes</td>\n",
       "      <td>The Platters</td>\n",
       "      <td>0.290</td>\n",
       "      <td>0.227</td>\n",
       "      <td>3</td>\n",
       "      <td>-13.060</td>\n",
       "      <td>1</td>\n",
       "      <td>0.0311</td>\n",
       "      <td>0.944</td>\n",
       "      <td>0.000079</td>\n",
       "      <td>0.617</td>\n",
       "      <td>0.224</td>\n",
       "      <td>114.278</td>\n",
       "      <td>NaN</td>\n",
       "      <td>157293</td>\n",
       "      <td>4</td>\n",
       "      <td>307XEC1IUwUs9ojlEFwH7f</td>\n",
       "      <td>https://open.spotify.com/track/307XEC1IUwUs9oj...</td>\n",
       "    </tr>\n",
       "  </tbody>\n",
       "</table>\n",
       "</div>"
      ],
      "text/plain": [
       "                                           name         artist  danceability  \\\n",
       "0                                  All Shook Up  Elvis Presley         0.624   \n",
       "1  I've Got You Under My Skin - Remastered 1998  Frank Sinatra         0.585   \n",
       "2                       Smoke Gets In Your Eyes   The Platters         0.290   \n",
       "\n",
       "   energy  key  loudness  mode  speechiness  acousticness  instrumentalness  \\\n",
       "0   0.468   10   -12.162     1       0.1320         0.881          0.000006   \n",
       "1   0.247    1   -12.612     1       0.0400         0.452          0.000009   \n",
       "2   0.227    3   -13.060     1       0.0311         0.944          0.000079   \n",
       "\n",
       "   liveness  valence    tempo  type  duration_ms  time_signature  \\\n",
       "0     0.144    0.952   74.139   NaN       117080               4   \n",
       "1     0.107    0.591  127.150   NaN       223760               4   \n",
       "2     0.617    0.224  114.278   NaN       157293               4   \n",
       "\n",
       "                       id                                               html  \n",
       "0  5ueyLj6e6oVaTY0KQ6yLaA  https://open.spotify.com/track/5ueyLj6e6oVaTY0...  \n",
       "1  3aEJMh1cXKEjgh52claxQp  https://open.spotify.com/track/3aEJMh1cXKEjgh5...  \n",
       "2  307XEC1IUwUs9ojlEFwH7f  https://open.spotify.com/track/307XEC1IUwUs9oj...  "
      ]
     },
     "execution_count": 78,
     "metadata": {},
     "output_type": "execute_result"
    }
   ],
   "source": [
    "songs_1000_df_full.head(3)"
   ]
  },
  {
   "cell_type": "markdown",
   "metadata": {},
   "source": [
    "## Set up the DF"
   ]
  },
  {
   "cell_type": "code",
   "execution_count": 79,
   "metadata": {},
   "outputs": [],
   "source": [
    "songs_1000 = songs_1000_df_full.copy()\n",
    "songs_1000.pop('id')\n",
    "songs_1000.pop('html')\n",
    "df_songs_1000 = songs_1000.set_index('name')\n",
    "df_songs_1000 = (\n",
    "    df_songs_1000[['danceability', 'energy', 'key', \n",
    "    'loudness', 'mode','speechiness', 'acousticness', \n",
    "    'instrumentalness', 'liveness','valence', 'tempo', \n",
    "    'duration_ms', 'time_signature']]\n",
    ")"
   ]
  },
  {
   "cell_type": "code",
   "execution_count": 80,
   "metadata": {},
   "outputs": [
    {
     "data": {
      "text/html": [
       "<div>\n",
       "<style scoped>\n",
       "    .dataframe tbody tr th:only-of-type {\n",
       "        vertical-align: middle;\n",
       "    }\n",
       "\n",
       "    .dataframe tbody tr th {\n",
       "        vertical-align: top;\n",
       "    }\n",
       "\n",
       "    .dataframe thead th {\n",
       "        text-align: right;\n",
       "    }\n",
       "</style>\n",
       "<table border=\"1\" class=\"dataframe\">\n",
       "  <thead>\n",
       "    <tr style=\"text-align: right;\">\n",
       "      <th></th>\n",
       "      <th>danceability</th>\n",
       "      <th>energy</th>\n",
       "      <th>key</th>\n",
       "      <th>loudness</th>\n",
       "      <th>mode</th>\n",
       "      <th>speechiness</th>\n",
       "      <th>acousticness</th>\n",
       "      <th>instrumentalness</th>\n",
       "      <th>liveness</th>\n",
       "      <th>valence</th>\n",
       "      <th>tempo</th>\n",
       "      <th>duration_ms</th>\n",
       "      <th>time_signature</th>\n",
       "    </tr>\n",
       "    <tr>\n",
       "      <th>name</th>\n",
       "      <th></th>\n",
       "      <th></th>\n",
       "      <th></th>\n",
       "      <th></th>\n",
       "      <th></th>\n",
       "      <th></th>\n",
       "      <th></th>\n",
       "      <th></th>\n",
       "      <th></th>\n",
       "      <th></th>\n",
       "      <th></th>\n",
       "      <th></th>\n",
       "      <th></th>\n",
       "    </tr>\n",
       "  </thead>\n",
       "  <tbody>\n",
       "    <tr>\n",
       "      <th>All Shook Up</th>\n",
       "      <td>0.624</td>\n",
       "      <td>0.468</td>\n",
       "      <td>10</td>\n",
       "      <td>-12.162</td>\n",
       "      <td>1</td>\n",
       "      <td>0.1320</td>\n",
       "      <td>0.881</td>\n",
       "      <td>0.000006</td>\n",
       "      <td>0.144</td>\n",
       "      <td>0.952</td>\n",
       "      <td>74.139</td>\n",
       "      <td>117080</td>\n",
       "      <td>4</td>\n",
       "    </tr>\n",
       "    <tr>\n",
       "      <th>I've Got You Under My Skin - Remastered 1998</th>\n",
       "      <td>0.585</td>\n",
       "      <td>0.247</td>\n",
       "      <td>1</td>\n",
       "      <td>-12.612</td>\n",
       "      <td>1</td>\n",
       "      <td>0.0400</td>\n",
       "      <td>0.452</td>\n",
       "      <td>0.000009</td>\n",
       "      <td>0.107</td>\n",
       "      <td>0.591</td>\n",
       "      <td>127.150</td>\n",
       "      <td>223760</td>\n",
       "      <td>4</td>\n",
       "    </tr>\n",
       "    <tr>\n",
       "      <th>Smoke Gets In Your Eyes</th>\n",
       "      <td>0.290</td>\n",
       "      <td>0.227</td>\n",
       "      <td>3</td>\n",
       "      <td>-13.060</td>\n",
       "      <td>1</td>\n",
       "      <td>0.0311</td>\n",
       "      <td>0.944</td>\n",
       "      <td>0.000079</td>\n",
       "      <td>0.617</td>\n",
       "      <td>0.224</td>\n",
       "      <td>114.278</td>\n",
       "      <td>157293</td>\n",
       "      <td>4</td>\n",
       "    </tr>\n",
       "  </tbody>\n",
       "</table>\n",
       "</div>"
      ],
      "text/plain": [
       "                                              danceability  energy  key  \\\n",
       "name                                                                      \n",
       "All Shook Up                                         0.624   0.468   10   \n",
       "I've Got You Under My Skin - Remastered 1998         0.585   0.247    1   \n",
       "Smoke Gets In Your Eyes                              0.290   0.227    3   \n",
       "\n",
       "                                              loudness  mode  speechiness  \\\n",
       "name                                                                        \n",
       "All Shook Up                                   -12.162     1       0.1320   \n",
       "I've Got You Under My Skin - Remastered 1998   -12.612     1       0.0400   \n",
       "Smoke Gets In Your Eyes                        -13.060     1       0.0311   \n",
       "\n",
       "                                              acousticness  instrumentalness  \\\n",
       "name                                                                           \n",
       "All Shook Up                                         0.881          0.000006   \n",
       "I've Got You Under My Skin - Remastered 1998         0.452          0.000009   \n",
       "Smoke Gets In Your Eyes                              0.944          0.000079   \n",
       "\n",
       "                                              liveness  valence    tempo  \\\n",
       "name                                                                       \n",
       "All Shook Up                                     0.144    0.952   74.139   \n",
       "I've Got You Under My Skin - Remastered 1998     0.107    0.591  127.150   \n",
       "Smoke Gets In Your Eyes                          0.617    0.224  114.278   \n",
       "\n",
       "                                              duration_ms  time_signature  \n",
       "name                                                                       \n",
       "All Shook Up                                       117080               4  \n",
       "I've Got You Under My Skin - Remastered 1998       223760               4  \n",
       "Smoke Gets In Your Eyes                            157293               4  "
      ]
     },
     "execution_count": 80,
     "metadata": {},
     "output_type": "execute_result"
    }
   ],
   "source": [
    "df_songs_1000.head(3)"
   ]
  },
  {
   "cell_type": "markdown",
   "metadata": {},
   "source": [
    "## Scales"
   ]
  },
  {
   "cell_type": "code",
   "execution_count": 81,
   "metadata": {},
   "outputs": [
    {
     "name": "stderr",
     "output_type": "stream",
     "text": [
      "/Users/alex/opt/anaconda3/lib/python3.9/site-packages/sklearn/preprocessing/_data.py:3253: RuntimeWarning:\n",
      "\n",
      "divide by zero encountered in log\n",
      "\n"
     ]
    }
   ],
   "source": [
    "distance_df = pd.DataFrame(pairwise_distances(df_songs_1000), index=df_songs_1000.index, columns=df_songs_1000.index)\n",
    "\n",
    "\n",
    "min_max_df = MinMaxScaler().fit_transform(df_songs_1000)\n",
    "minmax = pd.DataFrame(min_max_df, columns=df_songs_1000.columns, index=df_songs_1000.index)\n",
    "\n",
    "# Making the DataFrame for the MinMaxed heatmap\n",
    "minmax_distances = pd.DataFrame(pairwise_distances(minmax), index=df_songs_1000.index, columns=df_songs_1000.index)\n",
    "\n",
    "## Standard Scaler\n",
    "Standard_df = StandardScaler().fit_transform(df_songs_1000)\n",
    "standard = pd.DataFrame(Standard_df, columns=df_songs_1000.columns, index=df_songs_1000.index)\n",
    "\n",
    "# Making the DataFrame for the MinMaxed heatmap\n",
    "standard_distances = pd.DataFrame(pairwise_distances(standard), index=df_songs_1000.index, columns=df_songs_1000.index)\n",
    "\n",
    "## Robust Scaler\n",
    "robust_df = RobustScaler().fit_transform(df_songs_1000)\n",
    "robust = pd.DataFrame(robust_df, columns=df_songs_1000.columns, index=df_songs_1000.index)\n",
    "\n",
    "# Making the DataFrame for the MinMaxed heatmap\n",
    "robust_distances = pd.DataFrame(pairwise_distances(robust), index=df_songs_1000.index, columns=df_songs_1000.index)\n",
    "\n",
    "\n",
    "## Quantile Transformer\n",
    "quantile_df = QuantileTransformer(n_quantiles=len(df)).fit_transform(df_songs_1000)\n",
    "quantile = pd.DataFrame(quantile_df, columns=df_songs_1000.columns, index=df_songs_1000.index)\n",
    "\n",
    "# Making the DataFrame for the MinMaxed heatmap\n",
    "quantile_distances = pd.DataFrame(pairwise_distances(quantile), index=df_songs_1000.index, columns=df_songs_1000.index)\n",
    "\n",
    "\n",
    "## Power Transformer\n",
    "power_df = PowerTransformer().fit_transform(df_songs_1000)\n",
    "power = pd.DataFrame(power_df, columns=df_songs_1000.columns, index=df_songs_1000.index)\n",
    "\n",
    "# Making the DataFrame for the MinMaxed heatmap\n",
    "power_distances = pd.DataFrame(pairwise_distances(power), index=df_songs_1000.index, columns=df_songs_1000.index)\n",
    "\n"
   ]
  },
  {
   "cell_type": "markdown",
   "metadata": {},
   "source": [
    "## KMeans"
   ]
  },
  {
   "cell_type": "markdown",
   "metadata": {},
   "source": [
    "## Check how many Clusters and how good the clusters are "
   ]
  },
  {
   "cell_type": "markdown",
   "metadata": {},
   "source": [
    "### With Standard Scale Distance"
   ]
  },
  {
   "cell_type": "code",
   "execution_count": 82,
   "metadata": {},
   "outputs": [],
   "source": [
    "# max_k = 35\n",
    "\n",
    "# distance_inertia_list = []\n",
    "\n",
    "# for i in range(1, max_k):\n",
    "#     myKMeans = KMeans(n_clusters=i)\n",
    "#     myKMeans.fit(standard_distances)\n",
    "#     distance_inertia_list.append(round(myKMeans.inertia_))"
   ]
  },
  {
   "cell_type": "code",
   "execution_count": 83,
   "metadata": {},
   "outputs": [],
   "source": [
    "# max_k = 35\n",
    "# distance_sil_score = []\n",
    "\n",
    "# for j in range(2, max_k):\n",
    "#   labels = KMeans(n_clusters=j).fit(standard_distances).labels_\n",
    "#   distance_sil_score.append(silhouette_score(standard_distances, labels))"
   ]
  },
  {
   "cell_type": "markdown",
   "metadata": {},
   "source": [
    "### With Quantile Scale"
   ]
  },
  {
   "cell_type": "code",
   "execution_count": 84,
   "metadata": {},
   "outputs": [],
   "source": [
    "# max_k = 35\n",
    "\n",
    "# quantile_inertia_list = []\n",
    "\n",
    "# for i in range(1, max_k):\n",
    "#     myKMeans = KMeans(n_clusters=i)\n",
    "#     myKMeans.fit(quantile_distances)\n",
    "#     quantile_inertia_list.append(round(myKMeans.inertia_))\n"
   ]
  },
  {
   "cell_type": "code",
   "execution_count": 85,
   "metadata": {},
   "outputs": [],
   "source": [
    "# max_k = 35\n",
    "# quantile_sil_score = []\n",
    "\n",
    "# for j in range(2, max_k):\n",
    "#   labels = KMeans(n_clusters=j).fit(quantile_distances).labels_\n",
    "#   quantile_sil_score.append(silhouette_score(quantile_distances, labels))\n"
   ]
  },
  {
   "cell_type": "markdown",
   "metadata": {},
   "source": [
    "### With MinMax Scale"
   ]
  },
  {
   "cell_type": "code",
   "execution_count": 86,
   "metadata": {},
   "outputs": [],
   "source": [
    "# max_k = 35\n",
    "\n",
    "# inertia_list_minmax = []\n",
    "\n",
    "# for i in range(1, max_k):\n",
    "#     myKMeans = KMeans(n_clusters=i)\n",
    "#     myKMeans.fit(minmax_distances)\n",
    "#     inertia_list_minmax.append(round(myKMeans.inertia_))\n"
   ]
  },
  {
   "cell_type": "code",
   "execution_count": 87,
   "metadata": {},
   "outputs": [],
   "source": [
    "# max_k = 35\n",
    "# sil_score_minmax = []\n",
    "\n",
    "# for j in range(2, max_k):\n",
    "#   labels = KMeans(n_clusters=j).fit(minmax_distances).labels_\n",
    "#   sil_score_minmax.append(silhouette_score(minmax_distances, labels))\n"
   ]
  },
  {
   "cell_type": "code",
   "execution_count": 88,
   "metadata": {},
   "outputs": [
    {
     "data": {
      "text/plain": [
       "Text(0.5, 1.0, 'Silhouette Distance Scale')"
      ]
     },
     "execution_count": 88,
     "metadata": {},
     "output_type": "execute_result"
    },
    {
     "data": {
      "image/png": "[encoded data removed]",
      "text/plain": [
       "<Figure size 1800x1080 with 6 Axes>"
      ]
     },
     "metadata": {
      "needs_background": "light"
     },
     "output_type": "display_data"
    }
   ],
   "source": [
    "# fig, axes = plt.subplots(2, 3, figsize=(25, 15))\n",
    "\n",
    "# sns.lineplot(ax=axes[0,0], data=inertia_list_minmax, marker='o')\n",
    "# sns.lineplot(ax=axes[1,0], data=sil_score_minmax, marker='o')\n",
    "# sns.lineplot(ax=axes[0,1], data=quantile_inertia_list, marker='o')\n",
    "# sns.lineplot(ax=axes[1,1], data=quantile_sil_score, marker='o')\n",
    "# sns.lineplot(ax=axes[0,2], data=distance_inertia_list, marker='o')\n",
    "# sns.lineplot(ax=axes[1,2], data=distance_sil_score, marker='o')\n",
    "# axes[0,0].set_title(\"Inertia MinMax Scale\")\n",
    "# axes[1,0].set_title(\"Silhouette MinMax Scale\")\n",
    "# axes[0,1].set_title(\"Inertia Quantile Scale\")\n",
    "# axes[1,1].set_title(\"Silhouette Quantile Scale\")\n",
    "# axes[0,2].set_title(\"Inertia Distance Scale\")\n",
    "# axes[1,2].set_title(\"Silhouette Distance Scale\")\n",
    "\n"
   ]
  },
  {
   "cell_type": "markdown",
   "metadata": {},
   "source": [
    "## With 5 clusters"
   ]
  },
  {
   "cell_type": "code",
   "execution_count": 89,
   "metadata": {},
   "outputs": [],
   "source": [
    "# 2. initialize the model\n",
    "my_kmeans = KMeans(n_clusters= 5)\n",
    "# 3. fit the model to the data\n",
    "my_kmeans.fit(standard_distances) \n",
    "# 4. obtain the cluster output\n",
    "clusters = my_kmeans.predict(standard_distances)\n",
    "# 5. attach the cluster output to our original DataFrame\n",
    "df_songs_1000[\"cluster\"] = clusters"
   ]
  },
  {
   "cell_type": "code",
   "execution_count": 90,
   "metadata": {},
   "outputs": [],
   "source": [
    "df_songs_1000 = df_songs_1000.reset_index()"
   ]
  },
  {
   "cell_type": "code",
   "execution_count": 91,
   "metadata": {},
   "outputs": [],
   "source": [
    "results = pd.concat([df_songs_1000, songs_1000_df_full.artist], axis=1)\n",
    "results = results.reindex(columns=['name','artist', 'danceability', 'energy', 'key', 'loudness', 'mode','speechiness', 'acousticness', 'instrumentalness', 'liveness','valence', 'tempo', 'duration_ms', 'time_signature', 'cluster'])"
   ]
  },
  {
   "cell_type": "code",
   "execution_count": 92,
   "metadata": {},
   "outputs": [
    {
     "data": {
      "text/html": [
       "<div>\n",
       "<style scoped>\n",
       "    .dataframe tbody tr th:only-of-type {\n",
       "        vertical-align: middle;\n",
       "    }\n",
       "\n",
       "    .dataframe tbody tr th {\n",
       "        vertical-align: top;\n",
       "    }\n",
       "\n",
       "    .dataframe thead th {\n",
       "        text-align: right;\n",
       "    }\n",
       "</style>\n",
       "<table border=\"1\" class=\"dataframe\">\n",
       "  <thead>\n",
       "    <tr style=\"text-align: right;\">\n",
       "      <th></th>\n",
       "      <th>name</th>\n",
       "      <th>artist</th>\n",
       "      <th>danceability</th>\n",
       "      <th>energy</th>\n",
       "      <th>key</th>\n",
       "      <th>loudness</th>\n",
       "      <th>mode</th>\n",
       "      <th>speechiness</th>\n",
       "      <th>acousticness</th>\n",
       "      <th>instrumentalness</th>\n",
       "      <th>liveness</th>\n",
       "      <th>valence</th>\n",
       "      <th>tempo</th>\n",
       "      <th>duration_ms</th>\n",
       "      <th>time_signature</th>\n",
       "      <th>cluster</th>\n",
       "    </tr>\n",
       "  </thead>\n",
       "  <tbody>\n",
       "    <tr>\n",
       "      <th>0</th>\n",
       "      <td>All Shook Up</td>\n",
       "      <td>Elvis Presley</td>\n",
       "      <td>0.624</td>\n",
       "      <td>0.468</td>\n",
       "      <td>10</td>\n",
       "      <td>-12.162</td>\n",
       "      <td>1</td>\n",
       "      <td>0.1320</td>\n",
       "      <td>0.881</td>\n",
       "      <td>0.000006</td>\n",
       "      <td>0.144</td>\n",
       "      <td>0.952</td>\n",
       "      <td>74.139</td>\n",
       "      <td>117080</td>\n",
       "      <td>4</td>\n",
       "      <td>0</td>\n",
       "    </tr>\n",
       "    <tr>\n",
       "      <th>1</th>\n",
       "      <td>I've Got You Under My Skin - Remastered 1998</td>\n",
       "      <td>Frank Sinatra</td>\n",
       "      <td>0.585</td>\n",
       "      <td>0.247</td>\n",
       "      <td>1</td>\n",
       "      <td>-12.612</td>\n",
       "      <td>1</td>\n",
       "      <td>0.0400</td>\n",
       "      <td>0.452</td>\n",
       "      <td>0.000009</td>\n",
       "      <td>0.107</td>\n",
       "      <td>0.591</td>\n",
       "      <td>127.150</td>\n",
       "      <td>223760</td>\n",
       "      <td>4</td>\n",
       "      <td>0</td>\n",
       "    </tr>\n",
       "    <tr>\n",
       "      <th>2</th>\n",
       "      <td>Smoke Gets In Your Eyes</td>\n",
       "      <td>The Platters</td>\n",
       "      <td>0.290</td>\n",
       "      <td>0.227</td>\n",
       "      <td>3</td>\n",
       "      <td>-13.060</td>\n",
       "      <td>1</td>\n",
       "      <td>0.0311</td>\n",
       "      <td>0.944</td>\n",
       "      <td>0.000079</td>\n",
       "      <td>0.617</td>\n",
       "      <td>0.224</td>\n",
       "      <td>114.278</td>\n",
       "      <td>157293</td>\n",
       "      <td>4</td>\n",
       "      <td>1</td>\n",
       "    </tr>\n",
       "  </tbody>\n",
       "</table>\n",
       "</div>"
      ],
      "text/plain": [
       "                                           name         artist  danceability  \\\n",
       "0                                  All Shook Up  Elvis Presley         0.624   \n",
       "1  I've Got You Under My Skin - Remastered 1998  Frank Sinatra         0.585   \n",
       "2                       Smoke Gets In Your Eyes   The Platters         0.290   \n",
       "\n",
       "   energy  key  loudness  mode  speechiness  acousticness  instrumentalness  \\\n",
       "0   0.468   10   -12.162     1       0.1320         0.881          0.000006   \n",
       "1   0.247    1   -12.612     1       0.0400         0.452          0.000009   \n",
       "2   0.227    3   -13.060     1       0.0311         0.944          0.000079   \n",
       "\n",
       "   liveness  valence    tempo  duration_ms  time_signature  cluster  \n",
       "0     0.144    0.952   74.139       117080               4        0  \n",
       "1     0.107    0.591  127.150       223760               4        0  \n",
       "2     0.617    0.224  114.278       157293               4        1  "
      ]
     },
     "execution_count": 92,
     "metadata": {},
     "output_type": "execute_result"
    }
   ],
   "source": [
    "results.head(3)"
   ]
  },
  {
   "cell_type": "code",
   "execution_count": 93,
   "metadata": {},
   "outputs": [],
   "source": [
    "sample_results = (\n",
    "    results.groupby('cluster')[['name', 'artist', 'cluster','danceability', 'energy', 'loudness', 'acousticness', 'tempo', 'instrumentalness','key','speechiness', 'valence' ]]\n",
    "    .head(5).sort_values(by='cluster')\n",
    ")"
   ]
  },
  {
   "cell_type": "markdown",
   "metadata": {},
   "source": [
    "### Sample of Playlists 5 clusters"
   ]
  },
  {
   "cell_type": "code",
   "execution_count": null,
   "metadata": {},
   "outputs": [],
   "source": [
    "sample_results"
   ]
  },
  {
   "cell_type": "code",
   "execution_count": 101,
   "metadata": {},
   "outputs": [],
   "source": [
    "results_means = (\n",
    "    results.groupby('cluster')[['danceability', 'energy', 'loudness', 'acousticness', 'tempo', 'instrumentalness','key','speechiness', 'valence']]\n",
    "    .agg({\n",
    "        'key':'mean', \n",
    "        'energy':'mean',\n",
    "        'loudness':'mean', \n",
    "        'acousticness':'mean', \n",
    "        'tempo':'mean', \n",
    "        'instrumentalness':'mean',\n",
    "        'speechiness':'mean',\n",
    "        'valence':'mean'\n",
    "    })\n",
    ")"
   ]
  },
  {
   "cell_type": "code",
   "execution_count": 95,
   "metadata": {},
   "outputs": [
    {
     "data": {
      "text/html": [
       "<div>\n",
       "<style scoped>\n",
       "    .dataframe tbody tr th:only-of-type {\n",
       "        vertical-align: middle;\n",
       "    }\n",
       "\n",
       "    .dataframe tbody tr th {\n",
       "        vertical-align: top;\n",
       "    }\n",
       "\n",
       "    .dataframe thead th {\n",
       "        text-align: right;\n",
       "    }\n",
       "</style>\n",
       "<table border=\"1\" class=\"dataframe\">\n",
       "  <thead>\n",
       "    <tr style=\"text-align: right;\">\n",
       "      <th></th>\n",
       "      <th>name</th>\n",
       "      <th>artist</th>\n",
       "      <th>cluster</th>\n",
       "      <th>danceability</th>\n",
       "      <th>energy</th>\n",
       "      <th>loudness</th>\n",
       "      <th>acousticness</th>\n",
       "      <th>tempo</th>\n",
       "      <th>instrumentalness</th>\n",
       "      <th>key</th>\n",
       "      <th>speechiness</th>\n",
       "      <th>valence</th>\n",
       "    </tr>\n",
       "  </thead>\n",
       "  <tbody>\n",
       "    <tr>\n",
       "      <th>0</th>\n",
       "      <td>All Shook Up</td>\n",
       "      <td>Elvis Presley</td>\n",
       "      <td>0</td>\n",
       "      <td>0.6240</td>\n",
       "      <td>0.4680</td>\n",
       "      <td>-12.162</td>\n",
       "      <td>0.881</td>\n",
       "      <td>74.139</td>\n",
       "      <td>0.000006</td>\n",
       "      <td>10</td>\n",
       "      <td>0.1320</td>\n",
       "      <td>0.9520</td>\n",
       "    </tr>\n",
       "    <tr>\n",
       "      <th>1</th>\n",
       "      <td>I've Got You Under My Skin - Remastered 1998</td>\n",
       "      <td>Frank Sinatra</td>\n",
       "      <td>0</td>\n",
       "      <td>0.5850</td>\n",
       "      <td>0.2470</td>\n",
       "      <td>-12.612</td>\n",
       "      <td>0.452</td>\n",
       "      <td>127.150</td>\n",
       "      <td>0.000009</td>\n",
       "      <td>1</td>\n",
       "      <td>0.0400</td>\n",
       "      <td>0.5910</td>\n",
       "    </tr>\n",
       "    <tr>\n",
       "      <th>3</th>\n",
       "      <td>What'd I Say, Pt. 1 &amp; 2</td>\n",
       "      <td>Ray Charles</td>\n",
       "      <td>0</td>\n",
       "      <td>0.5400</td>\n",
       "      <td>0.6810</td>\n",
       "      <td>-5.440</td>\n",
       "      <td>0.808</td>\n",
       "      <td>88.385</td>\n",
       "      <td>0.000000</td>\n",
       "      <td>4</td>\n",
       "      <td>0.0508</td>\n",
       "      <td>0.7940</td>\n",
       "    </tr>\n",
       "    <tr>\n",
       "      <th>5</th>\n",
       "      <td>That'll Be The Day</td>\n",
       "      <td>Buddy Holly</td>\n",
       "      <td>0</td>\n",
       "      <td>0.5360</td>\n",
       "      <td>0.6370</td>\n",
       "      <td>-7.774</td>\n",
       "      <td>0.467</td>\n",
       "      <td>115.240</td>\n",
       "      <td>0.000000</td>\n",
       "      <td>2</td>\n",
       "      <td>0.0343</td>\n",
       "      <td>0.7980</td>\n",
       "    </tr>\n",
       "    <tr>\n",
       "      <th>6</th>\n",
       "      <td>Blueberry Hill</td>\n",
       "      <td>Fats Domino</td>\n",
       "      <td>0</td>\n",
       "      <td>0.4890</td>\n",
       "      <td>0.4990</td>\n",
       "      <td>-9.702</td>\n",
       "      <td>0.740</td>\n",
       "      <td>133.341</td>\n",
       "      <td>0.000236</td>\n",
       "      <td>11</td>\n",
       "      <td>0.0271</td>\n",
       "      <td>0.8290</td>\n",
       "    </tr>\n",
       "    <tr>\n",
       "      <th>1429</th>\n",
       "      <td>Symphony No. 6</td>\n",
       "      <td>Allan Pettersson</td>\n",
       "      <td>2</td>\n",
       "      <td>0.0864</td>\n",
       "      <td>0.0665</td>\n",
       "      <td>-26.515</td>\n",
       "      <td>0.828</td>\n",
       "      <td>77.880</td>\n",
       "      <td>0.797000</td>\n",
       "      <td>10</td>\n",
       "      <td>0.0452</td>\n",
       "      <td>0.0387</td>\n",
       "    </tr>\n",
       "    <tr>\n",
       "      <th>1158</th>\n",
       "      <td>dlp 1.1</td>\n",
       "      <td>William Basinski</td>\n",
       "      <td>2</td>\n",
       "      <td>0.2800</td>\n",
       "      <td>0.0816</td>\n",
       "      <td>-31.702</td>\n",
       "      <td>0.973</td>\n",
       "      <td>95.380</td>\n",
       "      <td>0.938000</td>\n",
       "      <td>5</td>\n",
       "      <td>0.0406</td>\n",
       "      <td>0.0669</td>\n",
       "    </tr>\n",
       "  </tbody>\n",
       "</table>\n",
       "</div>"
      ],
      "text/plain": [
       "                                              name            artist  cluster  \\\n",
       "0                                     All Shook Up     Elvis Presley        0   \n",
       "1     I've Got You Under My Skin - Remastered 1998     Frank Sinatra        0   \n",
       "3                          What'd I Say, Pt. 1 & 2       Ray Charles        0   \n",
       "5                               That'll Be The Day       Buddy Holly        0   \n",
       "6                                   Blueberry Hill       Fats Domino        0   \n",
       "1429                                Symphony No. 6  Allan Pettersson        2   \n",
       "1158                                       dlp 1.1  William Basinski        2   \n",
       "\n",
       "      danceability  energy  loudness  acousticness    tempo  instrumentalness  \\\n",
       "0           0.6240  0.4680   -12.162         0.881   74.139          0.000006   \n",
       "1           0.5850  0.2470   -12.612         0.452  127.150          0.000009   \n",
       "3           0.5400  0.6810    -5.440         0.808   88.385          0.000000   \n",
       "5           0.5360  0.6370    -7.774         0.467  115.240          0.000000   \n",
       "6           0.4890  0.4990    -9.702         0.740  133.341          0.000236   \n",
       "1429        0.0864  0.0665   -26.515         0.828   77.880          0.797000   \n",
       "1158        0.2800  0.0816   -31.702         0.973   95.380          0.938000   \n",
       "\n",
       "      key  speechiness  valence  \n",
       "0      10       0.1320   0.9520  \n",
       "1       1       0.0400   0.5910  \n",
       "3       4       0.0508   0.7940  \n",
       "5       2       0.0343   0.7980  \n",
       "6      11       0.0271   0.8290  \n",
       "1429   10       0.0452   0.0387  \n",
       "1158    5       0.0406   0.0669  "
      ]
     },
     "execution_count": 95,
     "metadata": {},
     "output_type": "execute_result"
    }
   ],
   "source": [
    "sample_results.loc[(sample_results.cluster == 0) | (sample_results.cluster == 2) ,:]"
   ]
  },
  {
   "cell_type": "code",
   "execution_count": 96,
   "metadata": {},
   "outputs": [
    {
     "data": {
      "text/html": [
       "<div>\n",
       "<style scoped>\n",
       "    .dataframe tbody tr th:only-of-type {\n",
       "        vertical-align: middle;\n",
       "    }\n",
       "\n",
       "    .dataframe tbody tr th {\n",
       "        vertical-align: top;\n",
       "    }\n",
       "\n",
       "    .dataframe thead th {\n",
       "        text-align: right;\n",
       "    }\n",
       "</style>\n",
       "<table border=\"1\" class=\"dataframe\">\n",
       "  <thead>\n",
       "    <tr style=\"text-align: right;\">\n",
       "      <th></th>\n",
       "      <th>danceability</th>\n",
       "      <th>energy</th>\n",
       "      <th>loudness</th>\n",
       "      <th>acousticness</th>\n",
       "      <th>tempo</th>\n",
       "      <th>instrumentalness</th>\n",
       "      <th>speechiness</th>\n",
       "      <th>valence</th>\n",
       "    </tr>\n",
       "    <tr>\n",
       "      <th>cluster</th>\n",
       "      <th></th>\n",
       "      <th></th>\n",
       "      <th></th>\n",
       "      <th></th>\n",
       "      <th></th>\n",
       "      <th></th>\n",
       "      <th></th>\n",
       "      <th></th>\n",
       "    </tr>\n",
       "  </thead>\n",
       "  <tbody>\n",
       "    <tr>\n",
       "      <th>0</th>\n",
       "      <td>0.642693</td>\n",
       "      <td>0.604747</td>\n",
       "      <td>-7.906631</td>\n",
       "      <td>0.326051</td>\n",
       "      <td>116.309455</td>\n",
       "      <td>0.022664</td>\n",
       "      <td>0.066640</td>\n",
       "      <td>0.617865</td>\n",
       "    </tr>\n",
       "    <tr>\n",
       "      <th>1</th>\n",
       "      <td>0.374616</td>\n",
       "      <td>0.191864</td>\n",
       "      <td>-16.809943</td>\n",
       "      <td>0.884384</td>\n",
       "      <td>105.797717</td>\n",
       "      <td>0.394781</td>\n",
       "      <td>0.043719</td>\n",
       "      <td>0.234232</td>\n",
       "    </tr>\n",
       "    <tr>\n",
       "      <th>2</th>\n",
       "      <td>0.183200</td>\n",
       "      <td>0.074050</td>\n",
       "      <td>-29.108500</td>\n",
       "      <td>0.900500</td>\n",
       "      <td>86.630000</td>\n",
       "      <td>0.867500</td>\n",
       "      <td>0.042900</td>\n",
       "      <td>0.052800</td>\n",
       "    </tr>\n",
       "    <tr>\n",
       "      <th>3</th>\n",
       "      <td>0.640567</td>\n",
       "      <td>0.750658</td>\n",
       "      <td>-6.058795</td>\n",
       "      <td>0.139755</td>\n",
       "      <td>132.660669</td>\n",
       "      <td>0.095790</td>\n",
       "      <td>0.211150</td>\n",
       "      <td>0.568828</td>\n",
       "    </tr>\n",
       "    <tr>\n",
       "      <th>4</th>\n",
       "      <td>0.202812</td>\n",
       "      <td>0.144079</td>\n",
       "      <td>-23.379421</td>\n",
       "      <td>0.874267</td>\n",
       "      <td>99.293697</td>\n",
       "      <td>0.719295</td>\n",
       "      <td>0.049470</td>\n",
       "      <td>0.102490</td>\n",
       "    </tr>\n",
       "  </tbody>\n",
       "</table>\n",
       "</div>"
      ],
      "text/plain": [
       "         danceability    energy   loudness  acousticness       tempo  \\\n",
       "cluster                                                                \n",
       "0            0.642693  0.604747  -7.906631      0.326051  116.309455   \n",
       "1            0.374616  0.191864 -16.809943      0.884384  105.797717   \n",
       "2            0.183200  0.074050 -29.108500      0.900500   86.630000   \n",
       "3            0.640567  0.750658  -6.058795      0.139755  132.660669   \n",
       "4            0.202812  0.144079 -23.379421      0.874267   99.293697   \n",
       "\n",
       "         instrumentalness  speechiness   valence  \n",
       "cluster                                           \n",
       "0                0.022664     0.066640  0.617865  \n",
       "1                0.394781     0.043719  0.234232  \n",
       "2                0.867500     0.042900  0.052800  \n",
       "3                0.095790     0.211150  0.568828  \n",
       "4                0.719295     0.049470  0.102490  "
      ]
     },
     "execution_count": 96,
     "metadata": {},
     "output_type": "execute_result"
    }
   ],
   "source": [
    "results_means"
   ]
  },
  {
   "cell_type": "code",
   "execution_count": 102,
   "metadata": {},
   "outputs": [],
   "source": [
    "my_std_scaler = StandardScaler()\n",
    "\n",
    "my_std_scaler.fit(results_means)\n",
    "\n",
    "scaled_results = my_std_scaler.transform(results_means)\n",
    "\n",
    "result_means_distance = pd.DataFrame(scaled_results,index=results_means.index, columns=results_means.columns)\n"
   ]
  },
  {
   "cell_type": "code",
   "execution_count": 103,
   "metadata": {},
   "outputs": [],
   "source": [
    "result_means_distance = result_means_distance.reset_index()"
   ]
  },
  {
   "cell_type": "code",
   "execution_count": 104,
   "metadata": {},
   "outputs": [
    {
     "data": {
      "text/html": [
       "<div>\n",
       "<style scoped>\n",
       "    .dataframe tbody tr th:only-of-type {\n",
       "        vertical-align: middle;\n",
       "    }\n",
       "\n",
       "    .dataframe tbody tr th {\n",
       "        vertical-align: top;\n",
       "    }\n",
       "\n",
       "    .dataframe thead th {\n",
       "        text-align: right;\n",
       "    }\n",
       "</style>\n",
       "<table border=\"1\" class=\"dataframe\">\n",
       "  <thead>\n",
       "    <tr style=\"text-align: right;\">\n",
       "      <th></th>\n",
       "      <th>cluster</th>\n",
       "      <th>key</th>\n",
       "      <th>energy</th>\n",
       "      <th>loudness</th>\n",
       "      <th>acousticness</th>\n",
       "      <th>tempo</th>\n",
       "      <th>instrumentalness</th>\n",
       "      <th>speechiness</th>\n",
       "      <th>valence</th>\n",
       "    </tr>\n",
       "  </thead>\n",
       "  <tbody>\n",
       "    <tr>\n",
       "      <th>0</th>\n",
       "      <td>0</td>\n",
       "      <td>-0.585748</td>\n",
       "      <td>0.926484</td>\n",
       "      <td>0.991380</td>\n",
       "      <td>-0.918061</td>\n",
       "      <td>0.524303</td>\n",
       "      <td>-1.194283</td>\n",
       "      <td>-0.249193</td>\n",
       "      <td>1.286674</td>\n",
       "    </tr>\n",
       "    <tr>\n",
       "      <th>1</th>\n",
       "      <td>1</td>\n",
       "      <td>-0.708014</td>\n",
       "      <td>-0.593495</td>\n",
       "      <td>-0.017829</td>\n",
       "      <td>0.796607</td>\n",
       "      <td>-0.150184</td>\n",
       "      <td>-0.075819</td>\n",
       "      <td>-0.603154</td>\n",
       "      <td>-0.344438</td>\n",
       "    </tr>\n",
       "    <tr>\n",
       "      <th>2</th>\n",
       "      <td>2</td>\n",
       "      <td>1.976385</td>\n",
       "      <td>-1.027213</td>\n",
       "      <td>-1.411895</td>\n",
       "      <td>0.846100</td>\n",
       "      <td>-1.380084</td>\n",
       "      <td>1.345023</td>\n",
       "      <td>-0.615808</td>\n",
       "      <td>-1.115844</td>\n",
       "    </tr>\n",
       "    <tr>\n",
       "      <th>3</th>\n",
       "      <td>3</td>\n",
       "      <td>-0.250403</td>\n",
       "      <td>1.463636</td>\n",
       "      <td>1.200836</td>\n",
       "      <td>-1.490184</td>\n",
       "      <td>1.573482</td>\n",
       "      <td>-0.974489</td>\n",
       "      <td>1.982506</td>\n",
       "      <td>1.078180</td>\n",
       "    </tr>\n",
       "    <tr>\n",
       "      <th>4</th>\n",
       "      <td>4</td>\n",
       "      <td>-0.432221</td>\n",
       "      <td>-0.769411</td>\n",
       "      <td>-0.762492</td>\n",
       "      <td>0.765537</td>\n",
       "      <td>-0.567516</td>\n",
       "      <td>0.899568</td>\n",
       "      <td>-0.514352</td>\n",
       "      <td>-0.904573</td>\n",
       "    </tr>\n",
       "  </tbody>\n",
       "</table>\n",
       "</div>"
      ],
      "text/plain": [
       "   cluster       key    energy  loudness  acousticness     tempo  \\\n",
       "0        0 -0.585748  0.926484  0.991380     -0.918061  0.524303   \n",
       "1        1 -0.708014 -0.593495 -0.017829      0.796607 -0.150184   \n",
       "2        2  1.976385 -1.027213 -1.411895      0.846100 -1.380084   \n",
       "3        3 -0.250403  1.463636  1.200836     -1.490184  1.573482   \n",
       "4        4 -0.432221 -0.769411 -0.762492      0.765537 -0.567516   \n",
       "\n",
       "   instrumentalness  speechiness   valence  \n",
       "0         -1.194283    -0.249193  1.286674  \n",
       "1         -0.075819    -0.603154 -0.344438  \n",
       "2          1.345023    -0.615808 -1.115844  \n",
       "3         -0.974489     1.982506  1.078180  \n",
       "4          0.899568    -0.514352 -0.904573  "
      ]
     },
     "execution_count": 104,
     "metadata": {},
     "output_type": "execute_result"
    }
   ],
   "source": [
    "result_means_distance"
   ]
  },
  {
   "cell_type": "markdown",
   "metadata": {},
   "source": [
    "#### Chart"
   ]
  },
  {
   "cell_type": "code",
   "execution_count": 105,
   "metadata": {},
   "outputs": [
    {
     "data": {
      "application/vnd.plotly.v1+json": {
       "config": {
        "plotlyServerURL": "https://plot.ly"
       },
       "data": [
        {
         "fill": "toself",
         "marker": {
          "color": "blue"
         },
         "name": "Cluster 0",
         "r": [
          -0.5857476793399583,
          0.9264835505198097,
          0.9913798071669168,
          -0.9180607016273021,
          0.5243030902431617,
          -1.194283120391308,
          -0.24919270504506996,
          1.2866742991926468
         ],
         "theta": [
          "energy",
          "loudness",
          "acousticness",
          "tempo ",
          "instrumentalness",
          "key",
          "speechiness",
          "valence"
         ],
         "type": "scatterpolar"
        },
        {
         "fill": "toself",
         "marker": {
          "color": "red"
         },
         "name": "Cluster 1",
         "r": [
          -0.7080141117204762,
          -0.5934951754205168,
          -0.01782855140308561,
          0.7966074380476016,
          -0.150184418130849,
          -0.07581863508771162,
          -0.603153583688986,
          -0.3444378044218882
         ],
         "theta": [
          "energy",
          "loudness",
          "acousticness",
          "tempo ",
          "instrumentalness",
          "key",
          "speechiness",
          "valence"
         ],
         "type": "scatterpolar"
        },
        {
         "fill": "toself",
         "marker": {
          "color": "green"
         },
         "name": "Cluster 2",
         "r": [
          1.9763854244515047,
          -1.0272132787315313,
          -1.4118949056567947,
          0.8461002383119911,
          -1.3800842183052788,
          1.345023414606782,
          -0.6158081212338766,
          -1.1158438463053921
         ],
         "theta": [
          "energy",
          "loudness",
          "acousticness",
          "tempo ",
          "instrumentalness",
          "key",
          "speechiness",
          "valence"
         ],
         "type": "scatterpolar"
        },
        {
         "fill": "toself",
         "marker": {
          "color": "pink"
         },
         "name": "Cluster 3",
         "r": [
          -0.2504030290670829,
          1.4636361817374315,
          1.2008358250952607,
          -1.4901840517775626,
          1.5734815167746863,
          -0.9744893108754473,
          1.9825063023506753,
          1.0781801433847134
         ],
         "theta": [
          "energy",
          "loudness",
          "acousticness",
          "tempo ",
          "instrumentalness",
          "key",
          "speechiness",
          "valence"
         ],
         "type": "scatterpolar"
        },
        {
         "fill": "toself",
         "marker": {
          "color": "yellow"
         },
         "name": "Cluster 4",
         "r": [
          -0.4322206043239873,
          -0.7694112781051928,
          -0.7624921752022962,
          0.7655370770452721,
          -0.5675159705817175,
          0.8995676517476852,
          -0.5143518923827433,
          -0.9045727918500798
         ],
         "theta": [
          "energy",
          "loudness",
          "acousticness",
          "tempo ",
          "instrumentalness",
          "key",
          "speechiness",
          "valence"
         ],
         "type": "scatterpolar"
        }
       ],
       "layout": {
        "height": 500,
        "polar": {
         "radialaxis": {
          "range": [
           -2,
           2.5
          ],
          "visible": true
         }
        },
        "showlegend": true,
        "template": {
         "data": {
          "bar": [
           {
            "error_x": {
             "color": "#2a3f5f"
            },
            "error_y": {
             "color": "#2a3f5f"
            },
            "marker": {
             "line": {
              "color": "#E5ECF6",
              "width": 0.5
             },
             "pattern": {
              "fillmode": "overlay",
              "size": 10,
              "solidity": 0.2
             }
            },
            "type": "bar"
           }
          ],
          "barpolar": [
           {
            "marker": {
             "line": {
              "color": "#E5ECF6",
              "width": 0.5
             },
             "pattern": {
              "fillmode": "overlay",
              "size": 10,
              "solidity": 0.2
             }
            },
            "type": "barpolar"
           }
          ],
          "carpet": [
           {
            "aaxis": {
             "endlinecolor": "#2a3f5f",
             "gridcolor": "white",
             "linecolor": "white",
             "minorgridcolor": "white",
             "startlinecolor": "#2a3f5f"
            },
            "baxis": {
             "endlinecolor": "#2a3f5f",
             "gridcolor": "white",
             "linecolor": "white",
             "minorgridcolor": "white",
             "startlinecolor": "#2a3f5f"
            },
            "type": "carpet"
           }
          ],
          "choropleth": [
           {
            "colorbar": {
             "outlinewidth": 0,
             "ticks": ""
            },
            "type": "choropleth"
           }
          ],
          "contour": [
           {
            "colorbar": {
             "outlinewidth": 0,
             "ticks": ""
            },
            "colorscale": [
             [
              0,
              "#0d0887"
             ],
             [
              0.1111111111111111,
              "#46039f"
             ],
             [
              0.2222222222222222,
              "#7201a8"
             ],
             [
              0.3333333333333333,
              "#9c179e"
             ],
             [
              0.4444444444444444,
              "#bd3786"
             ],
             [
              0.5555555555555556,
              "#d8576b"
             ],
             [
              0.6666666666666666,
              "#ed7953"
             ],
             [
              0.7777777777777778,
              "#fb9f3a"
             ],
             [
              0.8888888888888888,
              "#fdca26"
             ],
             [
              1,
              "#f0f921"
             ]
            ],
            "type": "contour"
           }
          ],
          "contourcarpet": [
           {
            "colorbar": {
             "outlinewidth": 0,
             "ticks": ""
            },
            "type": "contourcarpet"
           }
          ],
          "heatmap": [
           {
            "colorbar": {
             "outlinewidth": 0,
             "ticks": ""
            },
            "colorscale": [
             [
              0,
              "#0d0887"
             ],
             [
              0.1111111111111111,
              "#46039f"
             ],
             [
              0.2222222222222222,
              "#7201a8"
             ],
             [
              0.3333333333333333,
              "#9c179e"
             ],
             [
              0.4444444444444444,
              "#bd3786"
             ],
             [
              0.5555555555555556,
              "#d8576b"
             ],
             [
              0.6666666666666666,
              "#ed7953"
             ],
             [
              0.7777777777777778,
              "#fb9f3a"
             ],
             [
              0.8888888888888888,
              "#fdca26"
             ],
             [
              1,
              "#f0f921"
             ]
            ],
            "type": "heatmap"
           }
          ],
          "heatmapgl": [
           {
            "colorbar": {
             "outlinewidth": 0,
             "ticks": ""
            },
            "colorscale": [
             [
              0,
              "#0d0887"
             ],
             [
              0.1111111111111111,
              "#46039f"
             ],
             [
              0.2222222222222222,
              "#7201a8"
             ],
             [
              0.3333333333333333,
              "#9c179e"
             ],
             [
              0.4444444444444444,
              "#bd3786"
             ],
             [
              0.5555555555555556,
              "#d8576b"
             ],
             [
              0.6666666666666666,
              "#ed7953"
             ],
             [
              0.7777777777777778,
              "#fb9f3a"
             ],
             [
              0.8888888888888888,
              "#fdca26"
             ],
             [
              1,
              "#f0f921"
             ]
            ],
            "type": "heatmapgl"
           }
          ],
          "histogram": [
           {
            "marker": {
             "pattern": {
              "fillmode": "overlay",
              "size": 10,
              "solidity": 0.2
             }
            },
            "type": "histogram"
           }
          ],
          "histogram2d": [
           {
            "colorbar": {
             "outlinewidth": 0,
             "ticks": ""
            },
            "colorscale": [
             [
              0,
              "#0d0887"
             ],
             [
              0.1111111111111111,
              "#46039f"
             ],
             [
              0.2222222222222222,
              "#7201a8"
             ],
             [
              0.3333333333333333,
              "#9c179e"
             ],
             [
              0.4444444444444444,
              "#bd3786"
             ],
             [
              0.5555555555555556,
              "#d8576b"
             ],
             [
              0.6666666666666666,
              "#ed7953"
             ],
             [
              0.7777777777777778,
              "#fb9f3a"
             ],
             [
              0.8888888888888888,
              "#fdca26"
             ],
             [
              1,
              "#f0f921"
             ]
            ],
            "type": "histogram2d"
           }
          ],
          "histogram2dcontour": [
           {
            "colorbar": {
             "outlinewidth": 0,
             "ticks": ""
            },
            "colorscale": [
             [
              0,
              "#0d0887"
             ],
             [
              0.1111111111111111,
              "#46039f"
             ],
             [
              0.2222222222222222,
              "#7201a8"
             ],
             [
              0.3333333333333333,
              "#9c179e"
             ],
             [
              0.4444444444444444,
              "#bd3786"
             ],
             [
              0.5555555555555556,
              "#d8576b"
             ],
             [
              0.6666666666666666,
              "#ed7953"
             ],
             [
              0.7777777777777778,
              "#fb9f3a"
             ],
             [
              0.8888888888888888,
              "#fdca26"
             ],
             [
              1,
              "#f0f921"
             ]
            ],
            "type": "histogram2dcontour"
           }
          ],
          "mesh3d": [
           {
            "colorbar": {
             "outlinewidth": 0,
             "ticks": ""
            },
            "type": "mesh3d"
           }
          ],
          "parcoords": [
           {
            "line": {
             "colorbar": {
              "outlinewidth": 0,
              "ticks": ""
             }
            },
            "type": "parcoords"
           }
          ],
          "pie": [
           {
            "automargin": true,
            "type": "pie"
           }
          ],
          "scatter": [
           {
            "marker": {
             "colorbar": {
              "outlinewidth": 0,
              "ticks": ""
             }
            },
            "type": "scatter"
           }
          ],
          "scatter3d": [
           {
            "line": {
             "colorbar": {
              "outlinewidth": 0,
              "ticks": ""
             }
            },
            "marker": {
             "colorbar": {
              "outlinewidth": 0,
              "ticks": ""
             }
            },
            "type": "scatter3d"
           }
          ],
          "scattercarpet": [
           {
            "marker": {
             "colorbar": {
              "outlinewidth": 0,
              "ticks": ""
             }
            },
            "type": "scattercarpet"
           }
          ],
          "scattergeo": [
           {
            "marker": {
             "colorbar": {
              "outlinewidth": 0,
              "ticks": ""
             }
            },
            "type": "scattergeo"
           }
          ],
          "scattergl": [
           {
            "marker": {
             "colorbar": {
              "outlinewidth": 0,
              "ticks": ""
             }
            },
            "type": "scattergl"
           }
          ],
          "scattermapbox": [
           {
            "marker": {
             "colorbar": {
              "outlinewidth": 0,
              "ticks": ""
             }
            },
            "type": "scattermapbox"
           }
          ],
          "scatterpolar": [
           {
            "marker": {
             "colorbar": {
              "outlinewidth": 0,
              "ticks": ""
             }
            },
            "type": "scatterpolar"
           }
          ],
          "scatterpolargl": [
           {
            "marker": {
             "colorbar": {
              "outlinewidth": 0,
              "ticks": ""
             }
            },
            "type": "scatterpolargl"
           }
          ],
          "scatterternary": [
           {
            "marker": {
             "colorbar": {
              "outlinewidth": 0,
              "ticks": ""
             }
            },
            "type": "scatterternary"
           }
          ],
          "surface": [
           {
            "colorbar": {
             "outlinewidth": 0,
             "ticks": ""
            },
            "colorscale": [
             [
              0,
              "#0d0887"
             ],
             [
              0.1111111111111111,
              "#46039f"
             ],
             [
              0.2222222222222222,
              "#7201a8"
             ],
             [
              0.3333333333333333,
              "#9c179e"
             ],
             [
              0.4444444444444444,
              "#bd3786"
             ],
             [
              0.5555555555555556,
              "#d8576b"
             ],
             [
              0.6666666666666666,
              "#ed7953"
             ],
             [
              0.7777777777777778,
              "#fb9f3a"
             ],
             [
              0.8888888888888888,
              "#fdca26"
             ],
             [
              1,
              "#f0f921"
             ]
            ],
            "type": "surface"
           }
          ],
          "table": [
           {
            "cells": {
             "fill": {
              "color": "#EBF0F8"
             },
             "line": {
              "color": "white"
             }
            },
            "header": {
             "fill": {
              "color": "#C8D4E3"
             },
             "line": {
              "color": "white"
             }
            },
            "type": "table"
           }
          ]
         },
         "layout": {
          "annotationdefaults": {
           "arrowcolor": "#2a3f5f",
           "arrowhead": 0,
           "arrowwidth": 1
          },
          "autotypenumbers": "strict",
          "coloraxis": {
           "colorbar": {
            "outlinewidth": 0,
            "ticks": ""
           }
          },
          "colorscale": {
           "diverging": [
            [
             0,
             "#8e0152"
            ],
            [
             0.1,
             "#c51b7d"
            ],
            [
             0.2,
             "#de77ae"
            ],
            [
             0.3,
             "#f1b6da"
            ],
            [
             0.4,
             "#fde0ef"
            ],
            [
             0.5,
             "#f7f7f7"
            ],
            [
             0.6,
             "#e6f5d0"
            ],
            [
             0.7,
             "#b8e186"
            ],
            [
             0.8,
             "#7fbc41"
            ],
            [
             0.9,
             "#4d9221"
            ],
            [
             1,
             "#276419"
            ]
           ],
           "sequential": [
            [
             0,
             "#0d0887"
            ],
            [
             0.1111111111111111,
             "#46039f"
            ],
            [
             0.2222222222222222,
             "#7201a8"
            ],
            [
             0.3333333333333333,
             "#9c179e"
            ],
            [
             0.4444444444444444,
             "#bd3786"
            ],
            [
             0.5555555555555556,
             "#d8576b"
            ],
            [
             0.6666666666666666,
             "#ed7953"
            ],
            [
             0.7777777777777778,
             "#fb9f3a"
            ],
            [
             0.8888888888888888,
             "#fdca26"
            ],
            [
             1,
             "#f0f921"
            ]
           ],
           "sequentialminus": [
            [
             0,
             "#0d0887"
            ],
            [
             0.1111111111111111,
             "#46039f"
            ],
            [
             0.2222222222222222,
             "#7201a8"
            ],
            [
             0.3333333333333333,
             "#9c179e"
            ],
            [
             0.4444444444444444,
             "#bd3786"
            ],
            [
             0.5555555555555556,
             "#d8576b"
            ],
            [
             0.6666666666666666,
             "#ed7953"
            ],
            [
             0.7777777777777778,
             "#fb9f3a"
            ],
            [
             0.8888888888888888,
             "#fdca26"
            ],
            [
             1,
             "#f0f921"
            ]
           ]
          },
          "colorway": [
           "#636efa",
           "#EF553B",
           "#00cc96",
           "#ab63fa",
           "#FFA15A",
           "#19d3f3",
           "#FF6692",
           "#B6E880",
           "#FF97FF",
           "#FECB52"
          ],
          "font": {
           "color": "#2a3f5f"
          },
          "geo": {
           "bgcolor": "white",
           "lakecolor": "white",
           "landcolor": "#E5ECF6",
           "showlakes": true,
           "showland": true,
           "subunitcolor": "white"
          },
          "hoverlabel": {
           "align": "left"
          },
          "hovermode": "closest",
          "mapbox": {
           "style": "light"
          },
          "paper_bgcolor": "white",
          "plot_bgcolor": "#E5ECF6",
          "polar": {
           "angularaxis": {
            "gridcolor": "white",
            "linecolor": "white",
            "ticks": ""
           },
           "bgcolor": "#E5ECF6",
           "radialaxis": {
            "gridcolor": "white",
            "linecolor": "white",
            "ticks": ""
           }
          },
          "scene": {
           "xaxis": {
            "backgroundcolor": "#E5ECF6",
            "gridcolor": "white",
            "gridwidth": 2,
            "linecolor": "white",
            "showbackground": true,
            "ticks": "",
            "zerolinecolor": "white"
           },
           "yaxis": {
            "backgroundcolor": "#E5ECF6",
            "gridcolor": "white",
            "gridwidth": 2,
            "linecolor": "white",
            "showbackground": true,
            "ticks": "",
            "zerolinecolor": "white"
           },
           "zaxis": {
            "backgroundcolor": "#E5ECF6",
            "gridcolor": "white",
            "gridwidth": 2,
            "linecolor": "white",
            "showbackground": true,
            "ticks": "",
            "zerolinecolor": "white"
           }
          },
          "shapedefaults": {
           "line": {
            "color": "#2a3f5f"
           }
          },
          "ternary": {
           "aaxis": {
            "gridcolor": "white",
            "linecolor": "white",
            "ticks": ""
           },
           "baxis": {
            "gridcolor": "white",
            "linecolor": "white",
            "ticks": ""
           },
           "bgcolor": "#E5ECF6",
           "caxis": {
            "gridcolor": "white",
            "linecolor": "white",
            "ticks": ""
           }
          },
          "title": {
           "x": 0.05
          },
          "xaxis": {
           "automargin": true,
           "gridcolor": "white",
           "linecolor": "white",
           "ticks": "",
           "title": {
            "standoff": 15
           },
           "zerolinecolor": "white",
           "zerolinewidth": 2
          },
          "yaxis": {
           "automargin": true,
           "gridcolor": "white",
           "linecolor": "white",
           "ticks": "",
           "title": {
            "standoff": 15
           },
           "zerolinecolor": "white",
           "zerolinewidth": 2
          }
         }
        },
        "title": {
         "text": "Radar chart of mean values of clusters"
        },
        "width": 800
       }
      }
     },
     "metadata": {},
     "output_type": "display_data"
    }
   ],
   "source": [
    "# state the label for each arm of the chart\n",
    "categories = ['energy', 'loudness', 'acousticness','tempo ','instrumentalness','key','speechiness', 'valence']\n",
    "\n",
    "# plot the initialised plot\n",
    "fig = go.Figure()\n",
    "\n",
    "# add a layer over the top of the initialised plot - this one is for cluster 0\n",
    "fig.add_trace(go.Scatterpolar(\n",
    "      r=[result_means_distance.loc[result_means_distance[\"cluster\"] == 0, 'key'].mean(),\n",
    "        result_means_distance.loc[result_means_distance[\"cluster\"] == 0, 'energy'].mean(),\n",
    "        result_means_distance.loc[result_means_distance[\"cluster\"] == 0, 'loudness'].mean(),\n",
    "        result_means_distance.loc[result_means_distance[\"cluster\"] == 0, 'acousticness'].mean(),\n",
    "        result_means_distance.loc[result_means_distance[\"cluster\"] == 0, 'tempo'].mean(),\n",
    "        result_means_distance.loc[result_means_distance[\"cluster\"] == 0, 'instrumentalness'].mean(),\n",
    "        result_means_distance.loc[result_means_distance[\"cluster\"] == 0, 'speechiness'].mean(),\n",
    "        result_means_distance.loc[result_means_distance[\"cluster\"] == 0, 'valence'].mean()\n",
    "],\n",
    "      theta=categories,\n",
    "      fill='toself',\n",
    "      name='Cluster 0',\n",
    "      marker=dict(color=\"blue\")\n",
    "))\n",
    "\n",
    "# add a layer over the top of the initialised plot - this one is for cluster 1\n",
    "fig.add_trace(go.Scatterpolar(\n",
    "      r=[result_means_distance.loc[result_means_distance[\"cluster\"] == 1, 'key'].mean(),\n",
    "        result_means_distance.loc[result_means_distance[\"cluster\"] == 1, 'energy'].mean(),\n",
    "        result_means_distance.loc[result_means_distance[\"cluster\"] == 1, 'loudness'].mean(),\n",
    "        result_means_distance.loc[result_means_distance[\"cluster\"] == 1, 'acousticness'].mean(),\n",
    "        result_means_distance.loc[result_means_distance[\"cluster\"] == 1, 'tempo'].mean(),\n",
    "        result_means_distance.loc[result_means_distance[\"cluster\"] == 1, 'instrumentalness'].mean(),\n",
    "        result_means_distance.loc[result_means_distance[\"cluster\"] == 1, 'speechiness'].mean(),\n",
    "        result_means_distance.loc[result_means_distance[\"cluster\"] == 1, 'valence'].mean()],\n",
    "      theta=categories,\n",
    "      fill='toself',\n",
    "      name='Cluster 1',\n",
    "      marker=dict(color=\"red\")\n",
    "))\n",
    "\n",
    "# add a layer over the top of the initialised plot - this one is for cluster 2\n",
    "fig.add_trace(go.Scatterpolar(\n",
    "      r=[result_means_distance.loc[result_means_distance[\"cluster\"] == 2, 'key'].mean(),\n",
    "        result_means_distance.loc[result_means_distance[\"cluster\"] == 2, 'energy'].mean(),\n",
    "        result_means_distance.loc[result_means_distance[\"cluster\"] == 2, 'loudness'].mean(),\n",
    "        result_means_distance.loc[result_means_distance[\"cluster\"] == 2, 'acousticness'].mean(),\n",
    "        result_means_distance.loc[result_means_distance[\"cluster\"] == 2, 'tempo'].mean(),\n",
    "        result_means_distance.loc[result_means_distance[\"cluster\"] == 2, 'instrumentalness'].mean(),\n",
    "        result_means_distance.loc[result_means_distance[\"cluster\"] == 2, 'speechiness'].mean(),\n",
    "        result_means_distance.loc[result_means_distance[\"cluster\"] == 2, 'valence'].mean()],\n",
    "      theta=categories,\n",
    "      fill='toself',\n",
    "      name='Cluster 2',\n",
    "      marker=dict(color=\"green\")\n",
    "))\n",
    "\n",
    "# add a layer over the top of the initialised plot - this one is for cluster 3\n",
    "fig.add_trace(go.Scatterpolar(\n",
    "      r=[result_means_distance.loc[result_means_distance[\"cluster\"] == 3, 'key'].mean(),\n",
    "        result_means_distance.loc[result_means_distance[\"cluster\"] == 3, 'energy'].mean(),\n",
    "        result_means_distance.loc[result_means_distance[\"cluster\"] == 3, 'loudness'].mean(),\n",
    "        result_means_distance.loc[result_means_distance[\"cluster\"] == 3, 'acousticness'].mean(),\n",
    "        result_means_distance.loc[result_means_distance[\"cluster\"] == 3, 'tempo'].mean(),\n",
    "        result_means_distance.loc[result_means_distance[\"cluster\"] == 3, 'instrumentalness'].mean(),\n",
    "        result_means_distance.loc[result_means_distance[\"cluster\"] == 3, 'speechiness'].mean(),\n",
    "        result_means_distance.loc[result_means_distance[\"cluster\"] == 3, 'valence'].mean()],\n",
    "      theta=categories,\n",
    "      fill='toself',\n",
    "      name='Cluster 3',\n",
    "      marker=dict(color=\"pink\")\n",
    "))\n",
    "\n",
    "# add a layer over the top of the initialised plot - this one is for cluster 4\n",
    "fig.add_trace(go.Scatterpolar(\n",
    "      r=[result_means_distance.loc[result_means_distance[\"cluster\"] == 4, 'key'].mean(),\n",
    "        result_means_distance.loc[result_means_distance[\"cluster\"] == 4, 'energy'].mean(),\n",
    "        result_means_distance.loc[result_means_distance[\"cluster\"] == 4, 'loudness'].mean(),\n",
    "        result_means_distance.loc[result_means_distance[\"cluster\"] == 4, 'acousticness'].mean(),\n",
    "        result_means_distance.loc[result_means_distance[\"cluster\"] == 4, 'tempo'].mean(),\n",
    "        result_means_distance.loc[result_means_distance[\"cluster\"] == 4, 'instrumentalness'].mean(),\n",
    "        result_means_distance.loc[result_means_distance[\"cluster\"] == 4, 'speechiness'].mean(),\n",
    "        result_means_distance.loc[result_means_distance[\"cluster\"] == 4, 'valence'].mean()],\n",
    "      theta=categories,\n",
    "      fill='toself',\n",
    "      name='Cluster 4',\n",
    "      marker=dict(color=\"yellow\")\n",
    "))\n",
    "\n",
    "\n",
    "\n",
    "# Add extras to the plot such as title\n",
    "# You'll always need `polar=dict(radialaxis=dict(visible=True,range=[0, 1])),` when creating a radar plot\n",
    "fig.update_layout(\n",
    "  title_text = 'Radar chart of mean values of clusters',\n",
    "  height = 500,\n",
    "  width = 800,\n",
    "  polar=dict(\n",
    "    radialaxis=dict(\n",
    "      visible=True,\n",
    "      range=[-2, 2.5]\n",
    "    )),\n",
    "  showlegend=True\n",
    ")\n",
    "\n",
    "# Show the initialised plot and the layers\n",
    "fig.show()"
   ]
  },
  {
   "cell_type": "markdown",
   "metadata": {},
   "source": [
    "## With 10 clusters"
   ]
  },
  {
   "cell_type": "code",
   "execution_count": 106,
   "metadata": {},
   "outputs": [],
   "source": [
    "# 2. initialize the model\n",
    "my_kmeans = KMeans(n_clusters= 10)\n",
    "# 3. fit the model to the data\n",
    "my_kmeans.fit(standard_distances) \n",
    "# 4. obtain the cluster output\n",
    "clusters = my_kmeans.predict(standard_distances)\n",
    "# 5. attach the cluster output to our original DataFrame\n",
    "df_songs_1000[\"cluster\"] = clusters"
   ]
  },
  {
   "cell_type": "code",
   "execution_count": 107,
   "metadata": {},
   "outputs": [],
   "source": [
    "df_songs_1000 = df_songs_1000.reset_index()"
   ]
  },
  {
   "cell_type": "code",
   "execution_count": 108,
   "metadata": {},
   "outputs": [],
   "source": [
    "results = pd.concat([df_songs_1000, songs_1000_df_full.artist], axis=1)\n",
    "results = results.reindex(columns=['name','artist', 'danceability', 'energy', 'key', 'loudness', 'mode','speechiness', 'acousticness', 'instrumentalness', 'liveness','valence', 'tempo', 'duration_ms', 'time_signature', 'cluster'])"
   ]
  },
  {
   "cell_type": "code",
   "execution_count": 109,
   "metadata": {},
   "outputs": [
    {
     "data": {
      "text/html": [
       "<div>\n",
       "<style scoped>\n",
       "    .dataframe tbody tr th:only-of-type {\n",
       "        vertical-align: middle;\n",
       "    }\n",
       "\n",
       "    .dataframe tbody tr th {\n",
       "        vertical-align: top;\n",
       "    }\n",
       "\n",
       "    .dataframe thead th {\n",
       "        text-align: right;\n",
       "    }\n",
       "</style>\n",
       "<table border=\"1\" class=\"dataframe\">\n",
       "  <thead>\n",
       "    <tr style=\"text-align: right;\">\n",
       "      <th></th>\n",
       "      <th>name</th>\n",
       "      <th>artist</th>\n",
       "      <th>danceability</th>\n",
       "      <th>energy</th>\n",
       "      <th>key</th>\n",
       "      <th>loudness</th>\n",
       "      <th>mode</th>\n",
       "      <th>speechiness</th>\n",
       "      <th>acousticness</th>\n",
       "      <th>instrumentalness</th>\n",
       "      <th>liveness</th>\n",
       "      <th>valence</th>\n",
       "      <th>tempo</th>\n",
       "      <th>duration_ms</th>\n",
       "      <th>time_signature</th>\n",
       "      <th>cluster</th>\n",
       "    </tr>\n",
       "  </thead>\n",
       "  <tbody>\n",
       "    <tr>\n",
       "      <th>0</th>\n",
       "      <td>All Shook Up</td>\n",
       "      <td>Elvis Presley</td>\n",
       "      <td>0.624</td>\n",
       "      <td>0.468</td>\n",
       "      <td>10</td>\n",
       "      <td>-12.162</td>\n",
       "      <td>1</td>\n",
       "      <td>0.1320</td>\n",
       "      <td>0.881</td>\n",
       "      <td>0.000006</td>\n",
       "      <td>0.144</td>\n",
       "      <td>0.952</td>\n",
       "      <td>74.139</td>\n",
       "      <td>117080</td>\n",
       "      <td>4</td>\n",
       "      <td>3</td>\n",
       "    </tr>\n",
       "    <tr>\n",
       "      <th>1</th>\n",
       "      <td>I've Got You Under My Skin - Remastered 1998</td>\n",
       "      <td>Frank Sinatra</td>\n",
       "      <td>0.585</td>\n",
       "      <td>0.247</td>\n",
       "      <td>1</td>\n",
       "      <td>-12.612</td>\n",
       "      <td>1</td>\n",
       "      <td>0.0400</td>\n",
       "      <td>0.452</td>\n",
       "      <td>0.000009</td>\n",
       "      <td>0.107</td>\n",
       "      <td>0.591</td>\n",
       "      <td>127.150</td>\n",
       "      <td>223760</td>\n",
       "      <td>4</td>\n",
       "      <td>3</td>\n",
       "    </tr>\n",
       "    <tr>\n",
       "      <th>2</th>\n",
       "      <td>Smoke Gets In Your Eyes</td>\n",
       "      <td>The Platters</td>\n",
       "      <td>0.290</td>\n",
       "      <td>0.227</td>\n",
       "      <td>3</td>\n",
       "      <td>-13.060</td>\n",
       "      <td>1</td>\n",
       "      <td>0.0311</td>\n",
       "      <td>0.944</td>\n",
       "      <td>0.000079</td>\n",
       "      <td>0.617</td>\n",
       "      <td>0.224</td>\n",
       "      <td>114.278</td>\n",
       "      <td>157293</td>\n",
       "      <td>4</td>\n",
       "      <td>5</td>\n",
       "    </tr>\n",
       "  </tbody>\n",
       "</table>\n",
       "</div>"
      ],
      "text/plain": [
       "                                           name         artist  danceability  \\\n",
       "0                                  All Shook Up  Elvis Presley         0.624   \n",
       "1  I've Got You Under My Skin - Remastered 1998  Frank Sinatra         0.585   \n",
       "2                       Smoke Gets In Your Eyes   The Platters         0.290   \n",
       "\n",
       "   energy  key  loudness  mode  speechiness  acousticness  instrumentalness  \\\n",
       "0   0.468   10   -12.162     1       0.1320         0.881          0.000006   \n",
       "1   0.247    1   -12.612     1       0.0400         0.452          0.000009   \n",
       "2   0.227    3   -13.060     1       0.0311         0.944          0.000079   \n",
       "\n",
       "   liveness  valence    tempo  duration_ms  time_signature  cluster  \n",
       "0     0.144    0.952   74.139       117080               4        3  \n",
       "1     0.107    0.591  127.150       223760               4        3  \n",
       "2     0.617    0.224  114.278       157293               4        5  "
      ]
     },
     "execution_count": 109,
     "metadata": {},
     "output_type": "execute_result"
    }
   ],
   "source": [
    "results.head(3)"
   ]
  },
  {
   "cell_type": "code",
   "execution_count": 110,
   "metadata": {},
   "outputs": [],
   "source": [
    "sample_results = (\n",
    "    results.groupby('cluster')[['name', 'artist', 'cluster','danceability', 'energy', 'loudness', 'acousticness', 'tempo', 'instrumentalness','key','speechiness', 'valence' ]]\n",
    "    .head(5).sort_values(by='cluster')\n",
    ")"
   ]
  },
  {
   "cell_type": "markdown",
   "metadata": {},
   "source": [
    "### Sample of playlist 10 clusters"
   ]
  },
  {
   "cell_type": "markdown",
   "metadata": {},
   "source": []
  },
  {
   "cell_type": "code",
   "execution_count": 121,
   "metadata": {},
   "outputs": [
    {
     "data": {
      "text/html": [
       "<div>\n",
       "<style scoped>\n",
       "    .dataframe tbody tr th:only-of-type {\n",
       "        vertical-align: middle;\n",
       "    }\n",
       "\n",
       "    .dataframe tbody tr th {\n",
       "        vertical-align: top;\n",
       "    }\n",
       "\n",
       "    .dataframe thead th {\n",
       "        text-align: right;\n",
       "    }\n",
       "</style>\n",
       "<table border=\"1\" class=\"dataframe\">\n",
       "  <thead>\n",
       "    <tr style=\"text-align: right;\">\n",
       "      <th></th>\n",
       "      <th>name</th>\n",
       "      <th>artist</th>\n",
       "      <th>cluster</th>\n",
       "      <th>danceability</th>\n",
       "      <th>energy</th>\n",
       "      <th>loudness</th>\n",
       "      <th>acousticness</th>\n",
       "      <th>tempo</th>\n",
       "      <th>instrumentalness</th>\n",
       "      <th>key</th>\n",
       "      <th>speechiness</th>\n",
       "      <th>valence</th>\n",
       "    </tr>\n",
       "  </thead>\n",
       "  <tbody>\n",
       "    <tr>\n",
       "      <th>50</th>\n",
       "      <td>Tutti Frutti</td>\n",
       "      <td>Little Richard</td>\n",
       "      <td>0</td>\n",
       "      <td>0.5550</td>\n",
       "      <td>0.6580</td>\n",
       "      <td>-3.866</td>\n",
       "      <td>0.7930</td>\n",
       "      <td>184.835</td>\n",
       "      <td>0.000000</td>\n",
       "      <td>5</td>\n",
       "      <td>0.0541</td>\n",
       "      <td>0.9370</td>\n",
       "    </tr>\n",
       "    <tr>\n",
       "      <th>12</th>\n",
       "      <td>Johnny B. Goode</td>\n",
       "      <td>Chuck Berry</td>\n",
       "      <td>0</td>\n",
       "      <td>0.5160</td>\n",
       "      <td>0.7980</td>\n",
       "      <td>-9.049</td>\n",
       "      <td>0.7380</td>\n",
       "      <td>168.195</td>\n",
       "      <td>0.000128</td>\n",
       "      <td>10</td>\n",
       "      <td>0.0830</td>\n",
       "      <td>0.9690</td>\n",
       "    </tr>\n",
       "    <tr>\n",
       "      <th>48</th>\n",
       "      <td>Baby (You've Got What It Takes)</td>\n",
       "      <td>Dinah Washington</td>\n",
       "      <td>0</td>\n",
       "      <td>0.6900</td>\n",
       "      <td>0.5080</td>\n",
       "      <td>-9.920</td>\n",
       "      <td>0.8510</td>\n",
       "      <td>132.892</td>\n",
       "      <td>0.000185</td>\n",
       "      <td>8</td>\n",
       "      <td>0.0469</td>\n",
       "      <td>0.8180</td>\n",
       "    </tr>\n",
       "    <tr>\n",
       "      <th>17</th>\n",
       "      <td>Rave On</td>\n",
       "      <td>Buddy Holly</td>\n",
       "      <td>0</td>\n",
       "      <td>0.5660</td>\n",
       "      <td>0.7110</td>\n",
       "      <td>-6.536</td>\n",
       "      <td>0.6110</td>\n",
       "      <td>159.629</td>\n",
       "      <td>0.000007</td>\n",
       "      <td>0</td>\n",
       "      <td>0.0335</td>\n",
       "      <td>0.9610</td>\n",
       "    </tr>\n",
       "    <tr>\n",
       "      <th>32</th>\n",
       "      <td>I Get A Kick Out Of You</td>\n",
       "      <td>Frank Sinatra</td>\n",
       "      <td>0</td>\n",
       "      <td>0.3950</td>\n",
       "      <td>0.3750</td>\n",
       "      <td>-10.966</td>\n",
       "      <td>0.5550</td>\n",
       "      <td>178.105</td>\n",
       "      <td>0.000000</td>\n",
       "      <td>5</td>\n",
       "      <td>0.0381</td>\n",
       "      <td>0.7750</td>\n",
       "    </tr>\n",
       "    <tr>\n",
       "      <th>715</th>\n",
       "      <td>Rinaldo, HWV 7a / Act 2: \"Lascia ch'io pianga\"</td>\n",
       "      <td>George Frideric Handel</td>\n",
       "      <td>1</td>\n",
       "      <td>0.1980</td>\n",
       "      <td>0.0664</td>\n",
       "      <td>-24.115</td>\n",
       "      <td>0.9810</td>\n",
       "      <td>175.541</td>\n",
       "      <td>0.004760</td>\n",
       "      <td>4</td>\n",
       "      <td>0.0698</td>\n",
       "      <td>0.0398</td>\n",
       "    </tr>\n",
       "    <tr>\n",
       "      <th>708</th>\n",
       "      <td>Tosca / Act 3: \"E lucevan le stelle\"</td>\n",
       "      <td>Giacomo Puccini</td>\n",
       "      <td>1</td>\n",
       "      <td>0.1680</td>\n",
       "      <td>0.1450</td>\n",
       "      <td>-13.609</td>\n",
       "      <td>0.9830</td>\n",
       "      <td>86.544</td>\n",
       "      <td>0.770000</td>\n",
       "      <td>11</td>\n",
       "      <td>0.0464</td>\n",
       "      <td>0.0335</td>\n",
       "    </tr>\n",
       "    <tr>\n",
       "      <th>702</th>\n",
       "      <td>Don Giovanni, ossia Il dissoluto punito, K.527...</td>\n",
       "      <td>Wolfgang Amadeus Mozart</td>\n",
       "      <td>1</td>\n",
       "      <td>0.2380</td>\n",
       "      <td>0.0622</td>\n",
       "      <td>-22.349</td>\n",
       "      <td>0.9850</td>\n",
       "      <td>85.183</td>\n",
       "      <td>0.015900</td>\n",
       "      <td>9</td>\n",
       "      <td>0.0498</td>\n",
       "      <td>0.2890</td>\n",
       "    </tr>\n",
       "    <tr>\n",
       "      <th>694</th>\n",
       "      <td>Le nozze di Figaro, K. 492 / Act 3: \"Sull’aria...</td>\n",
       "      <td>Wolfgang Amadeus Mozart</td>\n",
       "      <td>1</td>\n",
       "      <td>0.2450</td>\n",
       "      <td>0.0497</td>\n",
       "      <td>-24.792</td>\n",
       "      <td>0.9850</td>\n",
       "      <td>103.021</td>\n",
       "      <td>0.000008</td>\n",
       "      <td>10</td>\n",
       "      <td>0.0523</td>\n",
       "      <td>0.1040</td>\n",
       "    </tr>\n",
       "    <tr>\n",
       "      <th>693</th>\n",
       "      <td>Gianni Schicchi: \"O mio babbino caro\"</td>\n",
       "      <td>Giacomo Puccini</td>\n",
       "      <td>1</td>\n",
       "      <td>0.2550</td>\n",
       "      <td>0.1940</td>\n",
       "      <td>-18.924</td>\n",
       "      <td>0.9790</td>\n",
       "      <td>128.548</td>\n",
       "      <td>0.375000</td>\n",
       "      <td>8</td>\n",
       "      <td>0.0440</td>\n",
       "      <td>0.0799</td>\n",
       "    </tr>\n",
       "    <tr>\n",
       "      <th>757</th>\n",
       "      <td>Serse / Act 1 HWV40: \"Ombra mai fu\"</td>\n",
       "      <td>George Frideric Handel</td>\n",
       "      <td>2</td>\n",
       "      <td>0.1220</td>\n",
       "      <td>0.1370</td>\n",
       "      <td>-21.780</td>\n",
       "      <td>0.9500</td>\n",
       "      <td>89.821</td>\n",
       "      <td>0.840000</td>\n",
       "      <td>4</td>\n",
       "      <td>0.0427</td>\n",
       "      <td>0.0458</td>\n",
       "    </tr>\n",
       "    <tr>\n",
       "      <th>753</th>\n",
       "      <td>Lakmé / Act 1: Viens, Mallika, ... Dôme épais ...</td>\n",
       "      <td>Léo Delibes</td>\n",
       "      <td>2</td>\n",
       "      <td>0.2400</td>\n",
       "      <td>0.1420</td>\n",
       "      <td>-20.358</td>\n",
       "      <td>0.9730</td>\n",
       "      <td>80.252</td>\n",
       "      <td>0.000021</td>\n",
       "      <td>11</td>\n",
       "      <td>0.0573</td>\n",
       "      <td>0.0416</td>\n",
       "    </tr>\n",
       "    <tr>\n",
       "      <th>732</th>\n",
       "      <td>La Bohème / Act 1: \"Sì. Mi chiamano Mimì\" - Live</td>\n",
       "      <td>Giacomo Puccini</td>\n",
       "      <td>2</td>\n",
       "      <td>0.1910</td>\n",
       "      <td>0.0766</td>\n",
       "      <td>-22.998</td>\n",
       "      <td>0.9720</td>\n",
       "      <td>84.640</td>\n",
       "      <td>0.000079</td>\n",
       "      <td>2</td>\n",
       "      <td>0.0548</td>\n",
       "      <td>0.0358</td>\n",
       "    </tr>\n",
       "    <tr>\n",
       "      <th>174</th>\n",
       "      <td>Solsbury Hill</td>\n",
       "      <td>Peter Gabriel</td>\n",
       "      <td>2</td>\n",
       "      <td>0.6780</td>\n",
       "      <td>0.6310</td>\n",
       "      <td>-8.624</td>\n",
       "      <td>0.3550</td>\n",
       "      <td>102.378</td>\n",
       "      <td>0.000268</td>\n",
       "      <td>11</td>\n",
       "      <td>0.0301</td>\n",
       "      <td>0.4630</td>\n",
       "    </tr>\n",
       "    <tr>\n",
       "      <th>96</th>\n",
       "      <td>Chances Are - Single Version</td>\n",
       "      <td>Johnny Mathis</td>\n",
       "      <td>2</td>\n",
       "      <td>0.3100</td>\n",
       "      <td>0.2540</td>\n",
       "      <td>-12.200</td>\n",
       "      <td>0.8970</td>\n",
       "      <td>77.512</td>\n",
       "      <td>0.000003</td>\n",
       "      <td>10</td>\n",
       "      <td>0.0343</td>\n",
       "      <td>0.2960</td>\n",
       "    </tr>\n",
       "    <tr>\n",
       "      <th>0</th>\n",
       "      <td>All Shook Up</td>\n",
       "      <td>Elvis Presley</td>\n",
       "      <td>3</td>\n",
       "      <td>0.6240</td>\n",
       "      <td>0.4680</td>\n",
       "      <td>-12.162</td>\n",
       "      <td>0.8810</td>\n",
       "      <td>74.139</td>\n",
       "      <td>0.000006</td>\n",
       "      <td>10</td>\n",
       "      <td>0.1320</td>\n",
       "      <td>0.9520</td>\n",
       "    </tr>\n",
       "    <tr>\n",
       "      <th>1</th>\n",
       "      <td>I've Got You Under My Skin - Remastered 1998</td>\n",
       "      <td>Frank Sinatra</td>\n",
       "      <td>3</td>\n",
       "      <td>0.5850</td>\n",
       "      <td>0.2470</td>\n",
       "      <td>-12.612</td>\n",
       "      <td>0.4520</td>\n",
       "      <td>127.150</td>\n",
       "      <td>0.000009</td>\n",
       "      <td>1</td>\n",
       "      <td>0.0400</td>\n",
       "      <td>0.5910</td>\n",
       "    </tr>\n",
       "    <tr>\n",
       "      <th>4</th>\n",
       "      <td>Dream A Little Dream Of Me</td>\n",
       "      <td>Ella Fitzgerald</td>\n",
       "      <td>3</td>\n",
       "      <td>0.4550</td>\n",
       "      <td>0.1670</td>\n",
       "      <td>-13.613</td>\n",
       "      <td>0.9180</td>\n",
       "      <td>76.118</td>\n",
       "      <td>0.000000</td>\n",
       "      <td>0</td>\n",
       "      <td>0.0739</td>\n",
       "      <td>0.4040</td>\n",
       "    </tr>\n",
       "    <tr>\n",
       "      <th>6</th>\n",
       "      <td>Blueberry Hill</td>\n",
       "      <td>Fats Domino</td>\n",
       "      <td>3</td>\n",
       "      <td>0.4890</td>\n",
       "      <td>0.4990</td>\n",
       "      <td>-9.702</td>\n",
       "      <td>0.7400</td>\n",
       "      <td>133.341</td>\n",
       "      <td>0.000236</td>\n",
       "      <td>11</td>\n",
       "      <td>0.0271</td>\n",
       "      <td>0.8290</td>\n",
       "    </tr>\n",
       "    <tr>\n",
       "      <th>7</th>\n",
       "      <td>Mack the Knife</td>\n",
       "      <td>Bobby Darin</td>\n",
       "      <td>3</td>\n",
       "      <td>0.5490</td>\n",
       "      <td>0.5290</td>\n",
       "      <td>-12.291</td>\n",
       "      <td>0.7600</td>\n",
       "      <td>82.755</td>\n",
       "      <td>0.000000</td>\n",
       "      <td>3</td>\n",
       "      <td>0.1080</td>\n",
       "      <td>0.4640</td>\n",
       "    </tr>\n",
       "    <tr>\n",
       "      <th>136</th>\n",
       "      <td>Little Bitty Pretty One</td>\n",
       "      <td>Thurston Harris</td>\n",
       "      <td>4</td>\n",
       "      <td>0.7030</td>\n",
       "      <td>0.8830</td>\n",
       "      <td>1.085</td>\n",
       "      <td>0.7770</td>\n",
       "      <td>88.351</td>\n",
       "      <td>0.000002</td>\n",
       "      <td>8</td>\n",
       "      <td>0.2410</td>\n",
       "      <td>0.8870</td>\n",
       "    </tr>\n",
       "    <tr>\n",
       "      <th>409</th>\n",
       "      <td>7 rings</td>\n",
       "      <td>Ariana Grande</td>\n",
       "      <td>4</td>\n",
       "      <td>0.7780</td>\n",
       "      <td>0.3170</td>\n",
       "      <td>-10.732</td>\n",
       "      <td>0.5920</td>\n",
       "      <td>140.048</td>\n",
       "      <td>0.000000</td>\n",
       "      <td>1</td>\n",
       "      <td>0.3340</td>\n",
       "      <td>0.3270</td>\n",
       "    </tr>\n",
       "    <tr>\n",
       "      <th>312</th>\n",
       "      <td>Treat You Better</td>\n",
       "      <td>Shawn Mendes</td>\n",
       "      <td>4</td>\n",
       "      <td>0.4440</td>\n",
       "      <td>0.8190</td>\n",
       "      <td>-4.078</td>\n",
       "      <td>0.1060</td>\n",
       "      <td>82.695</td>\n",
       "      <td>0.000000</td>\n",
       "      <td>10</td>\n",
       "      <td>0.3410</td>\n",
       "      <td>0.7470</td>\n",
       "    </tr>\n",
       "    <tr>\n",
       "      <th>308</th>\n",
       "      <td>bad guy</td>\n",
       "      <td>Billie Eilish</td>\n",
       "      <td>4</td>\n",
       "      <td>0.7010</td>\n",
       "      <td>0.4250</td>\n",
       "      <td>-10.965</td>\n",
       "      <td>0.3280</td>\n",
       "      <td>135.128</td>\n",
       "      <td>0.130000</td>\n",
       "      <td>7</td>\n",
       "      <td>0.3750</td>\n",
       "      <td>0.5620</td>\n",
       "    </tr>\n",
       "    <tr>\n",
       "      <th>283</th>\n",
       "      <td>Roxanne - Remastered 2003</td>\n",
       "      <td>The Police</td>\n",
       "      <td>4</td>\n",
       "      <td>0.6180</td>\n",
       "      <td>0.7480</td>\n",
       "      <td>-8.905</td>\n",
       "      <td>0.0384</td>\n",
       "      <td>134.001</td>\n",
       "      <td>0.000004</td>\n",
       "      <td>0</td>\n",
       "      <td>0.3610</td>\n",
       "      <td>0.6620</td>\n",
       "    </tr>\n",
       "    <tr>\n",
       "      <th>2</th>\n",
       "      <td>Smoke Gets In Your Eyes</td>\n",
       "      <td>The Platters</td>\n",
       "      <td>5</td>\n",
       "      <td>0.2900</td>\n",
       "      <td>0.2270</td>\n",
       "      <td>-13.060</td>\n",
       "      <td>0.9440</td>\n",
       "      <td>114.278</td>\n",
       "      <td>0.000079</td>\n",
       "      <td>3</td>\n",
       "      <td>0.0311</td>\n",
       "      <td>0.2240</td>\n",
       "    </tr>\n",
       "    <tr>\n",
       "      <th>29</th>\n",
       "      <td>Smile</td>\n",
       "      <td>Nat King Cole</td>\n",
       "      <td>5</td>\n",
       "      <td>0.2260</td>\n",
       "      <td>0.1360</td>\n",
       "      <td>-19.203</td>\n",
       "      <td>0.8620</td>\n",
       "      <td>79.370</td>\n",
       "      <td>0.000008</td>\n",
       "      <td>5</td>\n",
       "      <td>0.0327</td>\n",
       "      <td>0.2630</td>\n",
       "    </tr>\n",
       "    <tr>\n",
       "      <th>10</th>\n",
       "      <td>True Love Ways</td>\n",
       "      <td>Buddy Holly</td>\n",
       "      <td>5</td>\n",
       "      <td>0.2210</td>\n",
       "      <td>0.1240</td>\n",
       "      <td>-19.545</td>\n",
       "      <td>0.8000</td>\n",
       "      <td>82.727</td>\n",
       "      <td>0.103000</td>\n",
       "      <td>10</td>\n",
       "      <td>0.0346</td>\n",
       "      <td>0.2760</td>\n",
       "    </tr>\n",
       "    <tr>\n",
       "      <th>14</th>\n",
       "      <td>I Can't Stop Loving You</td>\n",
       "      <td>Ray Charles</td>\n",
       "      <td>5</td>\n",
       "      <td>0.3100</td>\n",
       "      <td>0.2790</td>\n",
       "      <td>-13.552</td>\n",
       "      <td>0.8150</td>\n",
       "      <td>79.397</td>\n",
       "      <td>0.000000</td>\n",
       "      <td>5</td>\n",
       "      <td>0.0308</td>\n",
       "      <td>0.3770</td>\n",
       "    </tr>\n",
       "    <tr>\n",
       "      <th>19</th>\n",
       "      <td>Unforgettable</td>\n",
       "      <td>Nat King Cole</td>\n",
       "      <td>5</td>\n",
       "      <td>0.3490</td>\n",
       "      <td>0.1820</td>\n",
       "      <td>-13.507</td>\n",
       "      <td>0.9200</td>\n",
       "      <td>136.094</td>\n",
       "      <td>0.015200</td>\n",
       "      <td>5</td>\n",
       "      <td>0.0310</td>\n",
       "      <td>0.1780</td>\n",
       "    </tr>\n",
       "    <tr>\n",
       "      <th>3</th>\n",
       "      <td>What'd I Say, Pt. 1 &amp; 2</td>\n",
       "      <td>Ray Charles</td>\n",
       "      <td>6</td>\n",
       "      <td>0.5400</td>\n",
       "      <td>0.6810</td>\n",
       "      <td>-5.440</td>\n",
       "      <td>0.8080</td>\n",
       "      <td>88.385</td>\n",
       "      <td>0.000000</td>\n",
       "      <td>4</td>\n",
       "      <td>0.0508</td>\n",
       "      <td>0.7940</td>\n",
       "    </tr>\n",
       "    <tr>\n",
       "      <th>5</th>\n",
       "      <td>That'll Be The Day</td>\n",
       "      <td>Buddy Holly</td>\n",
       "      <td>6</td>\n",
       "      <td>0.5360</td>\n",
       "      <td>0.6370</td>\n",
       "      <td>-7.774</td>\n",
       "      <td>0.4670</td>\n",
       "      <td>115.240</td>\n",
       "      <td>0.000000</td>\n",
       "      <td>2</td>\n",
       "      <td>0.0343</td>\n",
       "      <td>0.7980</td>\n",
       "    </tr>\n",
       "    <tr>\n",
       "      <th>22</th>\n",
       "      <td>Dream Lover</td>\n",
       "      <td>Bobby Darin</td>\n",
       "      <td>6</td>\n",
       "      <td>0.5260</td>\n",
       "      <td>0.7740</td>\n",
       "      <td>-1.692</td>\n",
       "      <td>0.7150</td>\n",
       "      <td>131.715</td>\n",
       "      <td>0.000000</td>\n",
       "      <td>5</td>\n",
       "      <td>0.0459</td>\n",
       "      <td>0.7150</td>\n",
       "    </tr>\n",
       "    <tr>\n",
       "      <th>15</th>\n",
       "      <td>Wake up Little Susie</td>\n",
       "      <td>The Everly Brothers</td>\n",
       "      <td>6</td>\n",
       "      <td>0.7090</td>\n",
       "      <td>0.6200</td>\n",
       "      <td>-9.382</td>\n",
       "      <td>0.3180</td>\n",
       "      <td>93.723</td>\n",
       "      <td>0.000000</td>\n",
       "      <td>2</td>\n",
       "      <td>0.0340</td>\n",
       "      <td>0.9360</td>\n",
       "    </tr>\n",
       "    <tr>\n",
       "      <th>18</th>\n",
       "      <td>Good Golly, Miss Molly</td>\n",
       "      <td>Little Richard</td>\n",
       "      <td>6</td>\n",
       "      <td>0.5700</td>\n",
       "      <td>0.8630</td>\n",
       "      <td>-10.820</td>\n",
       "      <td>0.5810</td>\n",
       "      <td>163.837</td>\n",
       "      <td>0.004120</td>\n",
       "      <td>7</td>\n",
       "      <td>0.0526</td>\n",
       "      <td>0.9090</td>\n",
       "    </tr>\n",
       "    <tr>\n",
       "      <th>80</th>\n",
       "      <td>Jailhouse Rock</td>\n",
       "      <td>Elvis Presley</td>\n",
       "      <td>7</td>\n",
       "      <td>0.6470</td>\n",
       "      <td>0.5820</td>\n",
       "      <td>-9.538</td>\n",
       "      <td>0.4100</td>\n",
       "      <td>167.396</td>\n",
       "      <td>0.000002</td>\n",
       "      <td>10</td>\n",
       "      <td>0.0755</td>\n",
       "      <td>0.9150</td>\n",
       "    </tr>\n",
       "    <tr>\n",
       "      <th>25</th>\n",
       "      <td>(‘Til) I Kissed You</td>\n",
       "      <td>The Everly Brothers</td>\n",
       "      <td>7</td>\n",
       "      <td>0.5800</td>\n",
       "      <td>0.3560</td>\n",
       "      <td>-12.894</td>\n",
       "      <td>0.3380</td>\n",
       "      <td>140.647</td>\n",
       "      <td>0.000000</td>\n",
       "      <td>10</td>\n",
       "      <td>0.0387</td>\n",
       "      <td>0.7000</td>\n",
       "    </tr>\n",
       "    <tr>\n",
       "      <th>24</th>\n",
       "      <td>Great Balls Of Fire</td>\n",
       "      <td>Jerry Lee Lewis</td>\n",
       "      <td>7</td>\n",
       "      <td>0.4680</td>\n",
       "      <td>0.5270</td>\n",
       "      <td>-13.897</td>\n",
       "      <td>0.5540</td>\n",
       "      <td>159.501</td>\n",
       "      <td>0.000000</td>\n",
       "      <td>7</td>\n",
       "      <td>0.0683</td>\n",
       "      <td>0.8550</td>\n",
       "    </tr>\n",
       "    <tr>\n",
       "      <th>23</th>\n",
       "      <td>Summertime Blues</td>\n",
       "      <td>Eddie Cochran</td>\n",
       "      <td>7</td>\n",
       "      <td>0.7170</td>\n",
       "      <td>0.8830</td>\n",
       "      <td>-8.686</td>\n",
       "      <td>0.1250</td>\n",
       "      <td>156.299</td>\n",
       "      <td>0.167000</td>\n",
       "      <td>9</td>\n",
       "      <td>0.0608</td>\n",
       "      <td>0.9420</td>\n",
       "    </tr>\n",
       "    <tr>\n",
       "      <th>13</th>\n",
       "      <td>Jambalaya (On The Bayou)</td>\n",
       "      <td>Fats Domino</td>\n",
       "      <td>7</td>\n",
       "      <td>0.6050</td>\n",
       "      <td>0.8450</td>\n",
       "      <td>-8.672</td>\n",
       "      <td>0.8190</td>\n",
       "      <td>75.322</td>\n",
       "      <td>0.000267</td>\n",
       "      <td>6</td>\n",
       "      <td>0.0596</td>\n",
       "      <td>0.9650</td>\n",
       "    </tr>\n",
       "    <tr>\n",
       "      <th>1158</th>\n",
       "      <td>dlp 1.1</td>\n",
       "      <td>William Basinski</td>\n",
       "      <td>8</td>\n",
       "      <td>0.2800</td>\n",
       "      <td>0.0816</td>\n",
       "      <td>-31.702</td>\n",
       "      <td>0.9730</td>\n",
       "      <td>95.380</td>\n",
       "      <td>0.938000</td>\n",
       "      <td>5</td>\n",
       "      <td>0.0406</td>\n",
       "      <td>0.0669</td>\n",
       "    </tr>\n",
       "    <tr>\n",
       "      <th>1429</th>\n",
       "      <td>Symphony No. 6</td>\n",
       "      <td>Allan Pettersson</td>\n",
       "      <td>8</td>\n",
       "      <td>0.0864</td>\n",
       "      <td>0.0665</td>\n",
       "      <td>-26.515</td>\n",
       "      <td>0.8280</td>\n",
       "      <td>77.880</td>\n",
       "      <td>0.797000</td>\n",
       "      <td>10</td>\n",
       "      <td>0.0452</td>\n",
       "      <td>0.0387</td>\n",
       "    </tr>\n",
       "    <tr>\n",
       "      <th>103</th>\n",
       "      <td>Lonely Teardrops</td>\n",
       "      <td>Jackie Wilson</td>\n",
       "      <td>9</td>\n",
       "      <td>0.5240</td>\n",
       "      <td>0.4780</td>\n",
       "      <td>-8.894</td>\n",
       "      <td>0.4060</td>\n",
       "      <td>137.133</td>\n",
       "      <td>0.000000</td>\n",
       "      <td>7</td>\n",
       "      <td>0.1180</td>\n",
       "      <td>0.8430</td>\n",
       "    </tr>\n",
       "    <tr>\n",
       "      <th>89</th>\n",
       "      <td>Diana</td>\n",
       "      <td>Paul Anka</td>\n",
       "      <td>9</td>\n",
       "      <td>0.5510</td>\n",
       "      <td>0.5760</td>\n",
       "      <td>-8.490</td>\n",
       "      <td>0.7620</td>\n",
       "      <td>142.814</td>\n",
       "      <td>0.000000</td>\n",
       "      <td>7</td>\n",
       "      <td>0.0325</td>\n",
       "      <td>0.9190</td>\n",
       "    </tr>\n",
       "    <tr>\n",
       "      <th>88</th>\n",
       "      <td>Hound Dog</td>\n",
       "      <td>Elvis Presley</td>\n",
       "      <td>9</td>\n",
       "      <td>0.4940</td>\n",
       "      <td>0.7560</td>\n",
       "      <td>-8.492</td>\n",
       "      <td>0.7330</td>\n",
       "      <td>86.895</td>\n",
       "      <td>0.005050</td>\n",
       "      <td>0</td>\n",
       "      <td>0.0499</td>\n",
       "      <td>0.9490</td>\n",
       "    </tr>\n",
       "    <tr>\n",
       "      <th>82</th>\n",
       "      <td>Rebel Rouser</td>\n",
       "      <td>Duane Eddy</td>\n",
       "      <td>9</td>\n",
       "      <td>0.3880</td>\n",
       "      <td>0.4340</td>\n",
       "      <td>-11.997</td>\n",
       "      <td>0.7890</td>\n",
       "      <td>206.313</td>\n",
       "      <td>0.954000</td>\n",
       "      <td>7</td>\n",
       "      <td>0.0354</td>\n",
       "      <td>0.8730</td>\n",
       "    </tr>\n",
       "    <tr>\n",
       "      <th>81</th>\n",
       "      <td>The Theme From \"A Summer Place\"</td>\n",
       "      <td>Percy Faith</td>\n",
       "      <td>9</td>\n",
       "      <td>0.3110</td>\n",
       "      <td>0.4550</td>\n",
       "      <td>-10.150</td>\n",
       "      <td>0.2700</td>\n",
       "      <td>186.162</td>\n",
       "      <td>0.919000</td>\n",
       "      <td>0</td>\n",
       "      <td>0.0311</td>\n",
       "      <td>0.8450</td>\n",
       "    </tr>\n",
       "  </tbody>\n",
       "</table>\n",
       "</div>"
      ],
      "text/plain": [
       "                                                   name  \\\n",
       "50                                         Tutti Frutti   \n",
       "12                                      Johnny B. Goode   \n",
       "48                      Baby (You've Got What It Takes)   \n",
       "17                                              Rave On   \n",
       "32                              I Get A Kick Out Of You   \n",
       "715      Rinaldo, HWV 7a / Act 2: \"Lascia ch'io pianga\"   \n",
       "708                Tosca / Act 3: \"E lucevan le stelle\"   \n",
       "702   Don Giovanni, ossia Il dissoluto punito, K.527...   \n",
       "694   Le nozze di Figaro, K. 492 / Act 3: \"Sull’aria...   \n",
       "693               Gianni Schicchi: \"O mio babbino caro\"   \n",
       "757                 Serse / Act 1 HWV40: \"Ombra mai fu\"   \n",
       "753   Lakmé / Act 1: Viens, Mallika, ... Dôme épais ...   \n",
       "732    La Bohème / Act 1: \"Sì. Mi chiamano Mimì\" - Live   \n",
       "174                                       Solsbury Hill   \n",
       "96                         Chances Are - Single Version   \n",
       "0                                          All Shook Up   \n",
       "1          I've Got You Under My Skin - Remastered 1998   \n",
       "4                            Dream A Little Dream Of Me   \n",
       "6                                        Blueberry Hill   \n",
       "7                                        Mack the Knife   \n",
       "136                             Little Bitty Pretty One   \n",
       "409                                             7 rings   \n",
       "312                                    Treat You Better   \n",
       "308                                             bad guy   \n",
       "283                           Roxanne - Remastered 2003   \n",
       "2                               Smoke Gets In Your Eyes   \n",
       "29                                                Smile   \n",
       "10                                       True Love Ways   \n",
       "14                              I Can't Stop Loving You   \n",
       "19                                        Unforgettable   \n",
       "3                               What'd I Say, Pt. 1 & 2   \n",
       "5                                    That'll Be The Day   \n",
       "22                                          Dream Lover   \n",
       "15                                 Wake up Little Susie   \n",
       "18                               Good Golly, Miss Molly   \n",
       "80                                       Jailhouse Rock   \n",
       "25                                  (‘Til) I Kissed You   \n",
       "24                                  Great Balls Of Fire   \n",
       "23                                     Summertime Blues   \n",
       "13                             Jambalaya (On The Bayou)   \n",
       "1158                                            dlp 1.1   \n",
       "1429                                     Symphony No. 6   \n",
       "103                                    Lonely Teardrops   \n",
       "89                                                Diana   \n",
       "88                                            Hound Dog   \n",
       "82                                         Rebel Rouser   \n",
       "81                      The Theme From \"A Summer Place\"   \n",
       "\n",
       "                       artist  cluster  danceability  energy  loudness  \\\n",
       "50             Little Richard        0        0.5550  0.6580    -3.866   \n",
       "12                Chuck Berry        0        0.5160  0.7980    -9.049   \n",
       "48           Dinah Washington        0        0.6900  0.5080    -9.920   \n",
       "17                Buddy Holly        0        0.5660  0.7110    -6.536   \n",
       "32              Frank Sinatra        0        0.3950  0.3750   -10.966   \n",
       "715    George Frideric Handel        1        0.1980  0.0664   -24.115   \n",
       "708           Giacomo Puccini        1        0.1680  0.1450   -13.609   \n",
       "702   Wolfgang Amadeus Mozart        1        0.2380  0.0622   -22.349   \n",
       "694   Wolfgang Amadeus Mozart        1        0.2450  0.0497   -24.792   \n",
       "693           Giacomo Puccini        1        0.2550  0.1940   -18.924   \n",
       "757    George Frideric Handel        2        0.1220  0.1370   -21.780   \n",
       "753               Léo Delibes        2        0.2400  0.1420   -20.358   \n",
       "732           Giacomo Puccini        2        0.1910  0.0766   -22.998   \n",
       "174             Peter Gabriel        2        0.6780  0.6310    -8.624   \n",
       "96              Johnny Mathis        2        0.3100  0.2540   -12.200   \n",
       "0               Elvis Presley        3        0.6240  0.4680   -12.162   \n",
       "1               Frank Sinatra        3        0.5850  0.2470   -12.612   \n",
       "4             Ella Fitzgerald        3        0.4550  0.1670   -13.613   \n",
       "6                 Fats Domino        3        0.4890  0.4990    -9.702   \n",
       "7                 Bobby Darin        3        0.5490  0.5290   -12.291   \n",
       "136           Thurston Harris        4        0.7030  0.8830     1.085   \n",
       "409             Ariana Grande        4        0.7780  0.3170   -10.732   \n",
       "312              Shawn Mendes        4        0.4440  0.8190    -4.078   \n",
       "308             Billie Eilish        4        0.7010  0.4250   -10.965   \n",
       "283                The Police        4        0.6180  0.7480    -8.905   \n",
       "2                The Platters        5        0.2900  0.2270   -13.060   \n",
       "29              Nat King Cole        5        0.2260  0.1360   -19.203   \n",
       "10                Buddy Holly        5        0.2210  0.1240   -19.545   \n",
       "14                Ray Charles        5        0.3100  0.2790   -13.552   \n",
       "19              Nat King Cole        5        0.3490  0.1820   -13.507   \n",
       "3                 Ray Charles        6        0.5400  0.6810    -5.440   \n",
       "5                 Buddy Holly        6        0.5360  0.6370    -7.774   \n",
       "22                Bobby Darin        6        0.5260  0.7740    -1.692   \n",
       "15        The Everly Brothers        6        0.7090  0.6200    -9.382   \n",
       "18             Little Richard        6        0.5700  0.8630   -10.820   \n",
       "80              Elvis Presley        7        0.6470  0.5820    -9.538   \n",
       "25        The Everly Brothers        7        0.5800  0.3560   -12.894   \n",
       "24            Jerry Lee Lewis        7        0.4680  0.5270   -13.897   \n",
       "23              Eddie Cochran        7        0.7170  0.8830    -8.686   \n",
       "13                Fats Domino        7        0.6050  0.8450    -8.672   \n",
       "1158         William Basinski        8        0.2800  0.0816   -31.702   \n",
       "1429         Allan Pettersson        8        0.0864  0.0665   -26.515   \n",
       "103             Jackie Wilson        9        0.5240  0.4780    -8.894   \n",
       "89                  Paul Anka        9        0.5510  0.5760    -8.490   \n",
       "88              Elvis Presley        9        0.4940  0.7560    -8.492   \n",
       "82                 Duane Eddy        9        0.3880  0.4340   -11.997   \n",
       "81                Percy Faith        9        0.3110  0.4550   -10.150   \n",
       "\n",
       "      acousticness    tempo  instrumentalness  key  speechiness  valence  \n",
       "50          0.7930  184.835          0.000000    5       0.0541   0.9370  \n",
       "12          0.7380  168.195          0.000128   10       0.0830   0.9690  \n",
       "48          0.8510  132.892          0.000185    8       0.0469   0.8180  \n",
       "17          0.6110  159.629          0.000007    0       0.0335   0.9610  \n",
       "32          0.5550  178.105          0.000000    5       0.0381   0.7750  \n",
       "715         0.9810  175.541          0.004760    4       0.0698   0.0398  \n",
       "708         0.9830   86.544          0.770000   11       0.0464   0.0335  \n",
       "702         0.9850   85.183          0.015900    9       0.0498   0.2890  \n",
       "694         0.9850  103.021          0.000008   10       0.0523   0.1040  \n",
       "693         0.9790  128.548          0.375000    8       0.0440   0.0799  \n",
       "757         0.9500   89.821          0.840000    4       0.0427   0.0458  \n",
       "753         0.9730   80.252          0.000021   11       0.0573   0.0416  \n",
       "732         0.9720   84.640          0.000079    2       0.0548   0.0358  \n",
       "174         0.3550  102.378          0.000268   11       0.0301   0.4630  \n",
       "96          0.8970   77.512          0.000003   10       0.0343   0.2960  \n",
       "0           0.8810   74.139          0.000006   10       0.1320   0.9520  \n",
       "1           0.4520  127.150          0.000009    1       0.0400   0.5910  \n",
       "4           0.9180   76.118          0.000000    0       0.0739   0.4040  \n",
       "6           0.7400  133.341          0.000236   11       0.0271   0.8290  \n",
       "7           0.7600   82.755          0.000000    3       0.1080   0.4640  \n",
       "136         0.7770   88.351          0.000002    8       0.2410   0.8870  \n",
       "409         0.5920  140.048          0.000000    1       0.3340   0.3270  \n",
       "312         0.1060   82.695          0.000000   10       0.3410   0.7470  \n",
       "308         0.3280  135.128          0.130000    7       0.3750   0.5620  \n",
       "283         0.0384  134.001          0.000004    0       0.3610   0.6620  \n",
       "2           0.9440  114.278          0.000079    3       0.0311   0.2240  \n",
       "29          0.8620   79.370          0.000008    5       0.0327   0.2630  \n",
       "10          0.8000   82.727          0.103000   10       0.0346   0.2760  \n",
       "14          0.8150   79.397          0.000000    5       0.0308   0.3770  \n",
       "19          0.9200  136.094          0.015200    5       0.0310   0.1780  \n",
       "3           0.8080   88.385          0.000000    4       0.0508   0.7940  \n",
       "5           0.4670  115.240          0.000000    2       0.0343   0.7980  \n",
       "22          0.7150  131.715          0.000000    5       0.0459   0.7150  \n",
       "15          0.3180   93.723          0.000000    2       0.0340   0.9360  \n",
       "18          0.5810  163.837          0.004120    7       0.0526   0.9090  \n",
       "80          0.4100  167.396          0.000002   10       0.0755   0.9150  \n",
       "25          0.3380  140.647          0.000000   10       0.0387   0.7000  \n",
       "24          0.5540  159.501          0.000000    7       0.0683   0.8550  \n",
       "23          0.1250  156.299          0.167000    9       0.0608   0.9420  \n",
       "13          0.8190   75.322          0.000267    6       0.0596   0.9650  \n",
       "1158        0.9730   95.380          0.938000    5       0.0406   0.0669  \n",
       "1429        0.8280   77.880          0.797000   10       0.0452   0.0387  \n",
       "103         0.4060  137.133          0.000000    7       0.1180   0.8430  \n",
       "89          0.7620  142.814          0.000000    7       0.0325   0.9190  \n",
       "88          0.7330   86.895          0.005050    0       0.0499   0.9490  \n",
       "82          0.7890  206.313          0.954000    7       0.0354   0.8730  \n",
       "81          0.2700  186.162          0.919000    0       0.0311   0.8450  "
      ]
     },
     "execution_count": 121,
     "metadata": {},
     "output_type": "execute_result"
    }
   ],
   "source": [
    "sample_results"
   ]
  },
  {
   "cell_type": "code",
   "execution_count": 111,
   "metadata": {},
   "outputs": [],
   "source": [
    "results_means = (\n",
    "    results.groupby('cluster')[['energy', 'loudness', 'acousticness', 'tempo', 'instrumentalness','key','speechiness', 'valence']]\n",
    "    .agg({\n",
    "        'key':'mean', \n",
    "        'energy':'mean',\n",
    "        'loudness':'mean', \n",
    "        'acousticness':'mean', \n",
    "        'tempo':'mean', \n",
    "        'instrumentalness':'mean',\n",
    "        'speechiness':'mean',\n",
    "        'valence':'mean'\n",
    "    })\n",
    ")"
   ]
  },
  {
   "cell_type": "code",
   "execution_count": 112,
   "metadata": {},
   "outputs": [
    {
     "data": {
      "text/html": [
       "<div>\n",
       "<style scoped>\n",
       "    .dataframe tbody tr th:only-of-type {\n",
       "        vertical-align: middle;\n",
       "    }\n",
       "\n",
       "    .dataframe tbody tr th {\n",
       "        vertical-align: top;\n",
       "    }\n",
       "\n",
       "    .dataframe thead th {\n",
       "        text-align: right;\n",
       "    }\n",
       "</style>\n",
       "<table border=\"1\" class=\"dataframe\">\n",
       "  <thead>\n",
       "    <tr style=\"text-align: right;\">\n",
       "      <th></th>\n",
       "      <th>name</th>\n",
       "      <th>artist</th>\n",
       "      <th>cluster</th>\n",
       "      <th>danceability</th>\n",
       "      <th>energy</th>\n",
       "      <th>loudness</th>\n",
       "      <th>acousticness</th>\n",
       "      <th>tempo</th>\n",
       "      <th>instrumentalness</th>\n",
       "      <th>key</th>\n",
       "      <th>speechiness</th>\n",
       "      <th>valence</th>\n",
       "    </tr>\n",
       "  </thead>\n",
       "  <tbody>\n",
       "    <tr>\n",
       "      <th>50</th>\n",
       "      <td>Tutti Frutti</td>\n",
       "      <td>Little Richard</td>\n",
       "      <td>0</td>\n",
       "      <td>0.555</td>\n",
       "      <td>0.6580</td>\n",
       "      <td>-3.866</td>\n",
       "      <td>0.793</td>\n",
       "      <td>184.835</td>\n",
       "      <td>0.000000</td>\n",
       "      <td>5</td>\n",
       "      <td>0.0541</td>\n",
       "      <td>0.9370</td>\n",
       "    </tr>\n",
       "    <tr>\n",
       "      <th>12</th>\n",
       "      <td>Johnny B. Goode</td>\n",
       "      <td>Chuck Berry</td>\n",
       "      <td>0</td>\n",
       "      <td>0.516</td>\n",
       "      <td>0.7980</td>\n",
       "      <td>-9.049</td>\n",
       "      <td>0.738</td>\n",
       "      <td>168.195</td>\n",
       "      <td>0.000128</td>\n",
       "      <td>10</td>\n",
       "      <td>0.0830</td>\n",
       "      <td>0.9690</td>\n",
       "    </tr>\n",
       "    <tr>\n",
       "      <th>48</th>\n",
       "      <td>Baby (You've Got What It Takes)</td>\n",
       "      <td>Dinah Washington</td>\n",
       "      <td>0</td>\n",
       "      <td>0.690</td>\n",
       "      <td>0.5080</td>\n",
       "      <td>-9.920</td>\n",
       "      <td>0.851</td>\n",
       "      <td>132.892</td>\n",
       "      <td>0.000185</td>\n",
       "      <td>8</td>\n",
       "      <td>0.0469</td>\n",
       "      <td>0.8180</td>\n",
       "    </tr>\n",
       "    <tr>\n",
       "      <th>17</th>\n",
       "      <td>Rave On</td>\n",
       "      <td>Buddy Holly</td>\n",
       "      <td>0</td>\n",
       "      <td>0.566</td>\n",
       "      <td>0.7110</td>\n",
       "      <td>-6.536</td>\n",
       "      <td>0.611</td>\n",
       "      <td>159.629</td>\n",
       "      <td>0.000007</td>\n",
       "      <td>0</td>\n",
       "      <td>0.0335</td>\n",
       "      <td>0.9610</td>\n",
       "    </tr>\n",
       "    <tr>\n",
       "      <th>32</th>\n",
       "      <td>I Get A Kick Out Of You</td>\n",
       "      <td>Frank Sinatra</td>\n",
       "      <td>0</td>\n",
       "      <td>0.395</td>\n",
       "      <td>0.3750</td>\n",
       "      <td>-10.966</td>\n",
       "      <td>0.555</td>\n",
       "      <td>178.105</td>\n",
       "      <td>0.000000</td>\n",
       "      <td>5</td>\n",
       "      <td>0.0381</td>\n",
       "      <td>0.7750</td>\n",
       "    </tr>\n",
       "    <tr>\n",
       "      <th>757</th>\n",
       "      <td>Serse / Act 1 HWV40: \"Ombra mai fu\"</td>\n",
       "      <td>George Frideric Handel</td>\n",
       "      <td>2</td>\n",
       "      <td>0.122</td>\n",
       "      <td>0.1370</td>\n",
       "      <td>-21.780</td>\n",
       "      <td>0.950</td>\n",
       "      <td>89.821</td>\n",
       "      <td>0.840000</td>\n",
       "      <td>4</td>\n",
       "      <td>0.0427</td>\n",
       "      <td>0.0458</td>\n",
       "    </tr>\n",
       "    <tr>\n",
       "      <th>753</th>\n",
       "      <td>Lakmé / Act 1: Viens, Mallika, ... Dôme épais ...</td>\n",
       "      <td>Léo Delibes</td>\n",
       "      <td>2</td>\n",
       "      <td>0.240</td>\n",
       "      <td>0.1420</td>\n",
       "      <td>-20.358</td>\n",
       "      <td>0.973</td>\n",
       "      <td>80.252</td>\n",
       "      <td>0.000021</td>\n",
       "      <td>11</td>\n",
       "      <td>0.0573</td>\n",
       "      <td>0.0416</td>\n",
       "    </tr>\n",
       "    <tr>\n",
       "      <th>732</th>\n",
       "      <td>La Bohème / Act 1: \"Sì. Mi chiamano Mimì\" - Live</td>\n",
       "      <td>Giacomo Puccini</td>\n",
       "      <td>2</td>\n",
       "      <td>0.191</td>\n",
       "      <td>0.0766</td>\n",
       "      <td>-22.998</td>\n",
       "      <td>0.972</td>\n",
       "      <td>84.640</td>\n",
       "      <td>0.000079</td>\n",
       "      <td>2</td>\n",
       "      <td>0.0548</td>\n",
       "      <td>0.0358</td>\n",
       "    </tr>\n",
       "    <tr>\n",
       "      <th>174</th>\n",
       "      <td>Solsbury Hill</td>\n",
       "      <td>Peter Gabriel</td>\n",
       "      <td>2</td>\n",
       "      <td>0.678</td>\n",
       "      <td>0.6310</td>\n",
       "      <td>-8.624</td>\n",
       "      <td>0.355</td>\n",
       "      <td>102.378</td>\n",
       "      <td>0.000268</td>\n",
       "      <td>11</td>\n",
       "      <td>0.0301</td>\n",
       "      <td>0.4630</td>\n",
       "    </tr>\n",
       "    <tr>\n",
       "      <th>96</th>\n",
       "      <td>Chances Are - Single Version</td>\n",
       "      <td>Johnny Mathis</td>\n",
       "      <td>2</td>\n",
       "      <td>0.310</td>\n",
       "      <td>0.2540</td>\n",
       "      <td>-12.200</td>\n",
       "      <td>0.897</td>\n",
       "      <td>77.512</td>\n",
       "      <td>0.000003</td>\n",
       "      <td>10</td>\n",
       "      <td>0.0343</td>\n",
       "      <td>0.2960</td>\n",
       "    </tr>\n",
       "  </tbody>\n",
       "</table>\n",
       "</div>"
      ],
      "text/plain": [
       "                                                  name  \\\n",
       "50                                        Tutti Frutti   \n",
       "12                                     Johnny B. Goode   \n",
       "48                     Baby (You've Got What It Takes)   \n",
       "17                                             Rave On   \n",
       "32                             I Get A Kick Out Of You   \n",
       "757                Serse / Act 1 HWV40: \"Ombra mai fu\"   \n",
       "753  Lakmé / Act 1: Viens, Mallika, ... Dôme épais ...   \n",
       "732   La Bohème / Act 1: \"Sì. Mi chiamano Mimì\" - Live   \n",
       "174                                      Solsbury Hill   \n",
       "96                        Chances Are - Single Version   \n",
       "\n",
       "                     artist  cluster  danceability  energy  loudness  \\\n",
       "50           Little Richard        0         0.555  0.6580    -3.866   \n",
       "12              Chuck Berry        0         0.516  0.7980    -9.049   \n",
       "48         Dinah Washington        0         0.690  0.5080    -9.920   \n",
       "17              Buddy Holly        0         0.566  0.7110    -6.536   \n",
       "32            Frank Sinatra        0         0.395  0.3750   -10.966   \n",
       "757  George Frideric Handel        2         0.122  0.1370   -21.780   \n",
       "753             Léo Delibes        2         0.240  0.1420   -20.358   \n",
       "732         Giacomo Puccini        2         0.191  0.0766   -22.998   \n",
       "174           Peter Gabriel        2         0.678  0.6310    -8.624   \n",
       "96            Johnny Mathis        2         0.310  0.2540   -12.200   \n",
       "\n",
       "     acousticness    tempo  instrumentalness  key  speechiness  valence  \n",
       "50          0.793  184.835          0.000000    5       0.0541   0.9370  \n",
       "12          0.738  168.195          0.000128   10       0.0830   0.9690  \n",
       "48          0.851  132.892          0.000185    8       0.0469   0.8180  \n",
       "17          0.611  159.629          0.000007    0       0.0335   0.9610  \n",
       "32          0.555  178.105          0.000000    5       0.0381   0.7750  \n",
       "757         0.950   89.821          0.840000    4       0.0427   0.0458  \n",
       "753         0.973   80.252          0.000021   11       0.0573   0.0416  \n",
       "732         0.972   84.640          0.000079    2       0.0548   0.0358  \n",
       "174         0.355  102.378          0.000268   11       0.0301   0.4630  \n",
       "96          0.897   77.512          0.000003   10       0.0343   0.2960  "
      ]
     },
     "execution_count": 112,
     "metadata": {},
     "output_type": "execute_result"
    }
   ],
   "source": [
    "sample_results.loc[(sample_results.cluster == 0) | (sample_results.cluster == 2) ,:]"
   ]
  },
  {
   "cell_type": "code",
   "execution_count": 113,
   "metadata": {},
   "outputs": [
    {
     "data": {
      "text/html": [
       "<div>\n",
       "<style scoped>\n",
       "    .dataframe tbody tr th:only-of-type {\n",
       "        vertical-align: middle;\n",
       "    }\n",
       "\n",
       "    .dataframe tbody tr th {\n",
       "        vertical-align: top;\n",
       "    }\n",
       "\n",
       "    .dataframe thead th {\n",
       "        text-align: right;\n",
       "    }\n",
       "</style>\n",
       "<table border=\"1\" class=\"dataframe\">\n",
       "  <thead>\n",
       "    <tr style=\"text-align: right;\">\n",
       "      <th></th>\n",
       "      <th>key</th>\n",
       "      <th>energy</th>\n",
       "      <th>loudness</th>\n",
       "      <th>acousticness</th>\n",
       "      <th>tempo</th>\n",
       "      <th>instrumentalness</th>\n",
       "      <th>speechiness</th>\n",
       "      <th>valence</th>\n",
       "    </tr>\n",
       "    <tr>\n",
       "      <th>cluster</th>\n",
       "      <th></th>\n",
       "      <th></th>\n",
       "      <th></th>\n",
       "      <th></th>\n",
       "      <th></th>\n",
       "      <th></th>\n",
       "      <th></th>\n",
       "      <th></th>\n",
       "    </tr>\n",
       "  </thead>\n",
       "  <tbody>\n",
       "    <tr>\n",
       "      <th>0</th>\n",
       "      <td>4.678261</td>\n",
       "      <td>0.771599</td>\n",
       "      <td>-6.051565</td>\n",
       "      <td>0.187308</td>\n",
       "      <td>153.232409</td>\n",
       "      <td>0.176049</td>\n",
       "      <td>0.095988</td>\n",
       "      <td>0.488507</td>\n",
       "    </tr>\n",
       "    <tr>\n",
       "      <th>1</th>\n",
       "      <td>5.315789</td>\n",
       "      <td>0.110015</td>\n",
       "      <td>-23.544118</td>\n",
       "      <td>0.909382</td>\n",
       "      <td>100.029454</td>\n",
       "      <td>0.761869</td>\n",
       "      <td>0.044464</td>\n",
       "      <td>0.082504</td>\n",
       "    </tr>\n",
       "    <tr>\n",
       "      <th>2</th>\n",
       "      <td>5.878788</td>\n",
       "      <td>0.163478</td>\n",
       "      <td>-23.199152</td>\n",
       "      <td>0.836142</td>\n",
       "      <td>92.480848</td>\n",
       "      <td>0.601263</td>\n",
       "      <td>0.044179</td>\n",
       "      <td>0.091221</td>\n",
       "    </tr>\n",
       "    <tr>\n",
       "      <th>3</th>\n",
       "      <td>5.379032</td>\n",
       "      <td>0.371024</td>\n",
       "      <td>-11.306202</td>\n",
       "      <td>0.678250</td>\n",
       "      <td>111.905698</td>\n",
       "      <td>0.047393</td>\n",
       "      <td>0.048578</td>\n",
       "      <td>0.482332</td>\n",
       "    </tr>\n",
       "    <tr>\n",
       "      <th>4</th>\n",
       "      <td>5.391667</td>\n",
       "      <td>0.695883</td>\n",
       "      <td>-6.098658</td>\n",
       "      <td>0.140885</td>\n",
       "      <td>108.867458</td>\n",
       "      <td>0.008675</td>\n",
       "      <td>0.280125</td>\n",
       "      <td>0.639217</td>\n",
       "    </tr>\n",
       "    <tr>\n",
       "      <th>5</th>\n",
       "      <td>4.636792</td>\n",
       "      <td>0.187456</td>\n",
       "      <td>-16.717906</td>\n",
       "      <td>0.896654</td>\n",
       "      <td>106.418783</td>\n",
       "      <td>0.410224</td>\n",
       "      <td>0.043413</td>\n",
       "      <td>0.230029</td>\n",
       "    </tr>\n",
       "    <tr>\n",
       "      <th>6</th>\n",
       "      <td>4.828313</td>\n",
       "      <td>0.683319</td>\n",
       "      <td>-6.981901</td>\n",
       "      <td>0.212009</td>\n",
       "      <td>115.870813</td>\n",
       "      <td>0.014366</td>\n",
       "      <td>0.071798</td>\n",
       "      <td>0.680714</td>\n",
       "    </tr>\n",
       "    <tr>\n",
       "      <th>7</th>\n",
       "      <td>5.887574</td>\n",
       "      <td>0.686828</td>\n",
       "      <td>-6.501953</td>\n",
       "      <td>0.175234</td>\n",
       "      <td>118.154195</td>\n",
       "      <td>0.014215</td>\n",
       "      <td>0.076406</td>\n",
       "      <td>0.652367</td>\n",
       "    </tr>\n",
       "    <tr>\n",
       "      <th>8</th>\n",
       "      <td>7.500000</td>\n",
       "      <td>0.074050</td>\n",
       "      <td>-29.108500</td>\n",
       "      <td>0.900500</td>\n",
       "      <td>86.630000</td>\n",
       "      <td>0.867500</td>\n",
       "      <td>0.042900</td>\n",
       "      <td>0.052800</td>\n",
       "    </tr>\n",
       "    <tr>\n",
       "      <th>9</th>\n",
       "      <td>5.368421</td>\n",
       "      <td>0.745807</td>\n",
       "      <td>-6.771000</td>\n",
       "      <td>0.212458</td>\n",
       "      <td>141.976561</td>\n",
       "      <td>0.120240</td>\n",
       "      <td>0.232928</td>\n",
       "      <td>0.479588</td>\n",
       "    </tr>\n",
       "  </tbody>\n",
       "</table>\n",
       "</div>"
      ],
      "text/plain": [
       "              key    energy   loudness  acousticness       tempo  \\\n",
       "cluster                                                            \n",
       "0        4.678261  0.771599  -6.051565      0.187308  153.232409   \n",
       "1        5.315789  0.110015 -23.544118      0.909382  100.029454   \n",
       "2        5.878788  0.163478 -23.199152      0.836142   92.480848   \n",
       "3        5.379032  0.371024 -11.306202      0.678250  111.905698   \n",
       "4        5.391667  0.695883  -6.098658      0.140885  108.867458   \n",
       "5        4.636792  0.187456 -16.717906      0.896654  106.418783   \n",
       "6        4.828313  0.683319  -6.981901      0.212009  115.870813   \n",
       "7        5.887574  0.686828  -6.501953      0.175234  118.154195   \n",
       "8        7.500000  0.074050 -29.108500      0.900500   86.630000   \n",
       "9        5.368421  0.745807  -6.771000      0.212458  141.976561   \n",
       "\n",
       "         instrumentalness  speechiness   valence  \n",
       "cluster                                           \n",
       "0                0.176049     0.095988  0.488507  \n",
       "1                0.761869     0.044464  0.082504  \n",
       "2                0.601263     0.044179  0.091221  \n",
       "3                0.047393     0.048578  0.482332  \n",
       "4                0.008675     0.280125  0.639217  \n",
       "5                0.410224     0.043413  0.230029  \n",
       "6                0.014366     0.071798  0.680714  \n",
       "7                0.014215     0.076406  0.652367  \n",
       "8                0.867500     0.042900  0.052800  \n",
       "9                0.120240     0.232928  0.479588  "
      ]
     },
     "execution_count": 113,
     "metadata": {},
     "output_type": "execute_result"
    }
   ],
   "source": [
    "results_means"
   ]
  },
  {
   "cell_type": "code",
   "execution_count": 114,
   "metadata": {},
   "outputs": [],
   "source": [
    "my_std_scaler = StandardScaler()\n",
    "\n",
    "my_std_scaler.fit(results_means)\n",
    "\n",
    "scaled_results = my_std_scaler.transform(results_means)\n",
    "\n",
    "result_means_distance = pd.DataFrame(scaled_results,index=results_means.index, columns=results_means.columns)\n"
   ]
  },
  {
   "cell_type": "code",
   "execution_count": 115,
   "metadata": {},
   "outputs": [],
   "source": [
    "result_means_distance = result_means_distance.reset_index()"
   ]
  },
  {
   "cell_type": "code",
   "execution_count": 116,
   "metadata": {},
   "outputs": [
    {
     "data": {
      "text/html": [
       "<div>\n",
       "<style scoped>\n",
       "    .dataframe tbody tr th:only-of-type {\n",
       "        vertical-align: middle;\n",
       "    }\n",
       "\n",
       "    .dataframe tbody tr th {\n",
       "        vertical-align: top;\n",
       "    }\n",
       "\n",
       "    .dataframe thead th {\n",
       "        text-align: right;\n",
       "    }\n",
       "</style>\n",
       "<table border=\"1\" class=\"dataframe\">\n",
       "  <thead>\n",
       "    <tr style=\"text-align: right;\">\n",
       "      <th></th>\n",
       "      <th>cluster</th>\n",
       "      <th>key</th>\n",
       "      <th>energy</th>\n",
       "      <th>loudness</th>\n",
       "      <th>acousticness</th>\n",
       "      <th>tempo</th>\n",
       "      <th>instrumentalness</th>\n",
       "      <th>speechiness</th>\n",
       "      <th>valence</th>\n",
       "    </tr>\n",
       "  </thead>\n",
       "  <tbody>\n",
       "    <tr>\n",
       "      <th>0</th>\n",
       "      <td>0</td>\n",
       "      <td>-1.023040</td>\n",
       "      <td>1.158190</td>\n",
       "      <td>0.905191</td>\n",
       "      <td>-0.976330</td>\n",
       "      <td>2.025691</td>\n",
       "      <td>-0.399288</td>\n",
       "      <td>-0.025581</td>\n",
       "      <td>0.423218</td>\n",
       "    </tr>\n",
       "    <tr>\n",
       "      <th>1</th>\n",
       "      <td>1</td>\n",
       "      <td>-0.216043</td>\n",
       "      <td>-1.216620</td>\n",
       "      <td>-1.184698</td>\n",
       "      <td>1.175799</td>\n",
       "      <td>-0.690644</td>\n",
       "      <td>1.455224</td>\n",
       "      <td>-0.656211</td>\n",
       "      <td>-1.285168</td>\n",
       "    </tr>\n",
       "    <tr>\n",
       "      <th>2</th>\n",
       "      <td>2</td>\n",
       "      <td>0.496612</td>\n",
       "      <td>-1.024712</td>\n",
       "      <td>-1.143484</td>\n",
       "      <td>0.957511</td>\n",
       "      <td>-1.076047</td>\n",
       "      <td>0.946800</td>\n",
       "      <td>-0.659699</td>\n",
       "      <td>-1.248488</td>\n",
       "    </tr>\n",
       "    <tr>\n",
       "      <th>3</th>\n",
       "      <td>3</td>\n",
       "      <td>-0.135989</td>\n",
       "      <td>-0.279707</td>\n",
       "      <td>0.277404</td>\n",
       "      <td>0.486915</td>\n",
       "      <td>-0.084290</td>\n",
       "      <td>-0.806570</td>\n",
       "      <td>-0.605852</td>\n",
       "      <td>0.397236</td>\n",
       "    </tr>\n",
       "    <tr>\n",
       "      <th>4</th>\n",
       "      <td>4</td>\n",
       "      <td>-0.119996</td>\n",
       "      <td>0.886402</td>\n",
       "      <td>0.899565</td>\n",
       "      <td>-1.114693</td>\n",
       "      <td>-0.239410</td>\n",
       "      <td>-0.929139</td>\n",
       "      <td>2.228170</td>\n",
       "      <td>1.057377</td>\n",
       "    </tr>\n",
       "    <tr>\n",
       "      <th>5</th>\n",
       "      <td>5</td>\n",
       "      <td>-1.075531</td>\n",
       "      <td>-0.938640</td>\n",
       "      <td>-0.369149</td>\n",
       "      <td>1.137864</td>\n",
       "      <td>-0.364430</td>\n",
       "      <td>0.342035</td>\n",
       "      <td>-0.669075</td>\n",
       "      <td>-0.664409</td>\n",
       "    </tr>\n",
       "    <tr>\n",
       "      <th>6</th>\n",
       "      <td>6</td>\n",
       "      <td>-0.833100</td>\n",
       "      <td>0.841302</td>\n",
       "      <td>0.794041</td>\n",
       "      <td>-0.902707</td>\n",
       "      <td>0.118154</td>\n",
       "      <td>-0.911122</td>\n",
       "      <td>-0.321647</td>\n",
       "      <td>1.231992</td>\n",
       "    </tr>\n",
       "    <tr>\n",
       "      <th>7</th>\n",
       "      <td>7</td>\n",
       "      <td>0.507733</td>\n",
       "      <td>0.853898</td>\n",
       "      <td>0.851382</td>\n",
       "      <td>-1.012317</td>\n",
       "      <td>0.234734</td>\n",
       "      <td>-0.911599</td>\n",
       "      <td>-0.265255</td>\n",
       "      <td>1.112711</td>\n",
       "    </tr>\n",
       "    <tr>\n",
       "      <th>8</th>\n",
       "      <td>8</td>\n",
       "      <td>2.548775</td>\n",
       "      <td>-1.345720</td>\n",
       "      <td>-1.849492</td>\n",
       "      <td>1.149328</td>\n",
       "      <td>-1.374768</td>\n",
       "      <td>1.789618</td>\n",
       "      <td>-0.675351</td>\n",
       "      <td>-1.410157</td>\n",
       "    </tr>\n",
       "    <tr>\n",
       "      <th>9</th>\n",
       "      <td>9</td>\n",
       "      <td>-0.149421</td>\n",
       "      <td>1.065607</td>\n",
       "      <td>0.819238</td>\n",
       "      <td>-0.901370</td>\n",
       "      <td>1.451011</td>\n",
       "      <td>-0.575960</td>\n",
       "      <td>1.650502</td>\n",
       "      <td>0.385688</td>\n",
       "    </tr>\n",
       "  </tbody>\n",
       "</table>\n",
       "</div>"
      ],
      "text/plain": [
       "   cluster       key    energy  loudness  acousticness     tempo  \\\n",
       "0        0 -1.023040  1.158190  0.905191     -0.976330  2.025691   \n",
       "1        1 -0.216043 -1.216620 -1.184698      1.175799 -0.690644   \n",
       "2        2  0.496612 -1.024712 -1.143484      0.957511 -1.076047   \n",
       "3        3 -0.135989 -0.279707  0.277404      0.486915 -0.084290   \n",
       "4        4 -0.119996  0.886402  0.899565     -1.114693 -0.239410   \n",
       "5        5 -1.075531 -0.938640 -0.369149      1.137864 -0.364430   \n",
       "6        6 -0.833100  0.841302  0.794041     -0.902707  0.118154   \n",
       "7        7  0.507733  0.853898  0.851382     -1.012317  0.234734   \n",
       "8        8  2.548775 -1.345720 -1.849492      1.149328 -1.374768   \n",
       "9        9 -0.149421  1.065607  0.819238     -0.901370  1.451011   \n",
       "\n",
       "   instrumentalness  speechiness   valence  \n",
       "0         -0.399288    -0.025581  0.423218  \n",
       "1          1.455224    -0.656211 -1.285168  \n",
       "2          0.946800    -0.659699 -1.248488  \n",
       "3         -0.806570    -0.605852  0.397236  \n",
       "4         -0.929139     2.228170  1.057377  \n",
       "5          0.342035    -0.669075 -0.664409  \n",
       "6         -0.911122    -0.321647  1.231992  \n",
       "7         -0.911599    -0.265255  1.112711  \n",
       "8          1.789618    -0.675351 -1.410157  \n",
       "9         -0.575960     1.650502  0.385688  "
      ]
     },
     "execution_count": 116,
     "metadata": {},
     "output_type": "execute_result"
    }
   ],
   "source": [
    "result_means_distance"
   ]
  },
  {
   "cell_type": "markdown",
   "metadata": {},
   "source": [
    "#### Chart"
   ]
  },
  {
   "cell_type": "code",
   "execution_count": 117,
   "metadata": {},
   "outputs": [
    {
     "data": {
      "application/vnd.plotly.v1+json": {
       "config": {
        "plotlyServerURL": "https://plot.ly"
       },
       "data": [
        {
         "fill": "toself",
         "marker": {
          "color": "blue"
         },
         "name": "Cluster 0",
         "r": [
          -1.0230397872868133,
          1.1581895870736387,
          0.9051913859227133,
          -0.9763301949383266,
          2.0256905580027635,
          -0.39928772359610937,
          -0.02558134934506821,
          0.4232181012063777
         ],
         "theta": [
          "energy",
          "loudness",
          "acousticness",
          "tempo ",
          "instrumentalness",
          "key",
          "speechiness",
          "valence"
         ],
         "type": "scatterpolar"
        },
        {
         "fill": "toself",
         "marker": {
          "color": "red"
         },
         "name": "Cluster 1",
         "r": [
          -0.21604303746275744,
          -1.2166199400794733,
          -1.1846977969645838,
          1.1757990646792487,
          -0.690644316808357,
          1.4552240117819737,
          -0.6562105942663662,
          -1.285168161647116
         ],
         "theta": [
          "energy",
          "loudness",
          "acousticness",
          "tempo ",
          "instrumentalness",
          "key",
          "speechiness",
          "valence"
         ],
         "type": "scatterpolar"
        },
        {
         "fill": "toself",
         "marker": {
          "color": "green"
         },
         "name": "Cluster 2",
         "r": [
          0.49661186168900856,
          -1.0247120500798832,
          -1.14348353871977,
          0.957510974007152,
          -1.0760466007800769,
          0.9468002955547752,
          -0.659699199579879,
          -1.2484875089978114
         ],
         "theta": [
          "energy",
          "loudness",
          "acousticness",
          "tempo ",
          "instrumentalness",
          "key",
          "speechiness",
          "valence"
         ],
         "type": "scatterpolar"
        },
        {
         "fill": "toself",
         "marker": {
          "color": "pink"
         },
         "name": "Cluster 3",
         "r": [
          -0.13598902715641498,
          -0.27970663417792435,
          0.2774037991061858,
          0.4869152119681237,
          -0.08428974655088768,
          -0.8065704558347331,
          -0.6058521833561391,
          0.39723610160597833
         ],
         "theta": [
          "energy",
          "loudness",
          "acousticness",
          "tempo ",
          "instrumentalness",
          "key",
          "speechiness",
          "valence"
         ],
         "type": "scatterpolar"
        },
        {
         "fill": "toself",
         "marker": {
          "color": "yellow"
         },
         "name": "Cluster 4",
         "r": [
          -0.11999613426971155,
          0.8864015930781473,
          0.8995650263827518,
          -1.114693135137475,
          -0.23941036465451382,
          -0.9291386018405722,
          2.2281695965978447,
          1.0573769440857859
         ],
         "theta": [
          "energy",
          "loudness",
          "acousticness",
          "tempo ",
          "instrumentalness",
          "key",
          "speechiness",
          "valence"
         ],
         "type": "scatterpolar"
        }
       ],
       "layout": {
        "height": 500,
        "polar": {
         "radialaxis": {
          "range": [
           -2,
           2.5
          ],
          "visible": true
         }
        },
        "showlegend": true,
        "template": {
         "data": {
          "bar": [
           {
            "error_x": {
             "color": "#2a3f5f"
            },
            "error_y": {
             "color": "#2a3f5f"
            },
            "marker": {
             "line": {
              "color": "#E5ECF6",
              "width": 0.5
             },
             "pattern": {
              "fillmode": "overlay",
              "size": 10,
              "solidity": 0.2
             }
            },
            "type": "bar"
           }
          ],
          "barpolar": [
           {
            "marker": {
             "line": {
              "color": "#E5ECF6",
              "width": 0.5
             },
             "pattern": {
              "fillmode": "overlay",
              "size": 10,
              "solidity": 0.2
             }
            },
            "type": "barpolar"
           }
          ],
          "carpet": [
           {
            "aaxis": {
             "endlinecolor": "#2a3f5f",
             "gridcolor": "white",
             "linecolor": "white",
             "minorgridcolor": "white",
             "startlinecolor": "#2a3f5f"
            },
            "baxis": {
             "endlinecolor": "#2a3f5f",
             "gridcolor": "white",
             "linecolor": "white",
             "minorgridcolor": "white",
             "startlinecolor": "#2a3f5f"
            },
            "type": "carpet"
           }
          ],
          "choropleth": [
           {
            "colorbar": {
             "outlinewidth": 0,
             "ticks": ""
            },
            "type": "choropleth"
           }
          ],
          "contour": [
           {
            "colorbar": {
             "outlinewidth": 0,
             "ticks": ""
            },
            "colorscale": [
             [
              0,
              "#0d0887"
             ],
             [
              0.1111111111111111,
              "#46039f"
             ],
             [
              0.2222222222222222,
              "#7201a8"
             ],
             [
              0.3333333333333333,
              "#9c179e"
             ],
             [
              0.4444444444444444,
              "#bd3786"
             ],
             [
              0.5555555555555556,
              "#d8576b"
             ],
             [
              0.6666666666666666,
              "#ed7953"
             ],
             [
              0.7777777777777778,
              "#fb9f3a"
             ],
             [
              0.8888888888888888,
              "#fdca26"
             ],
             [
              1,
              "#f0f921"
             ]
            ],
            "type": "contour"
           }
          ],
          "contourcarpet": [
           {
            "colorbar": {
             "outlinewidth": 0,
             "ticks": ""
            },
            "type": "contourcarpet"
           }
          ],
          "heatmap": [
           {
            "colorbar": {
             "outlinewidth": 0,
             "ticks": ""
            },
            "colorscale": [
             [
              0,
              "#0d0887"
             ],
             [
              0.1111111111111111,
              "#46039f"
             ],
             [
              0.2222222222222222,
              "#7201a8"
             ],
             [
              0.3333333333333333,
              "#9c179e"
             ],
             [
              0.4444444444444444,
              "#bd3786"
             ],
             [
              0.5555555555555556,
              "#d8576b"
             ],
             [
              0.6666666666666666,
              "#ed7953"
             ],
             [
              0.7777777777777778,
              "#fb9f3a"
             ],
             [
              0.8888888888888888,
              "#fdca26"
             ],
             [
              1,
              "#f0f921"
             ]
            ],
            "type": "heatmap"
           }
          ],
          "heatmapgl": [
           {
            "colorbar": {
             "outlinewidth": 0,
             "ticks": ""
            },
            "colorscale": [
             [
              0,
              "#0d0887"
             ],
             [
              0.1111111111111111,
              "#46039f"
             ],
             [
              0.2222222222222222,
              "#7201a8"
             ],
             [
              0.3333333333333333,
              "#9c179e"
             ],
             [
              0.4444444444444444,
              "#bd3786"
             ],
             [
              0.5555555555555556,
              "#d8576b"
             ],
             [
              0.6666666666666666,
              "#ed7953"
             ],
             [
              0.7777777777777778,
              "#fb9f3a"
             ],
             [
              0.8888888888888888,
              "#fdca26"
             ],
             [
              1,
              "#f0f921"
             ]
            ],
            "type": "heatmapgl"
           }
          ],
          "histogram": [
           {
            "marker": {
             "pattern": {
              "fillmode": "overlay",
              "size": 10,
              "solidity": 0.2
             }
            },
            "type": "histogram"
           }
          ],
          "histogram2d": [
           {
            "colorbar": {
             "outlinewidth": 0,
             "ticks": ""
            },
            "colorscale": [
             [
              0,
              "#0d0887"
             ],
             [
              0.1111111111111111,
              "#46039f"
             ],
             [
              0.2222222222222222,
              "#7201a8"
             ],
             [
              0.3333333333333333,
              "#9c179e"
             ],
             [
              0.4444444444444444,
              "#bd3786"
             ],
             [
              0.5555555555555556,
              "#d8576b"
             ],
             [
              0.6666666666666666,
              "#ed7953"
             ],
             [
              0.7777777777777778,
              "#fb9f3a"
             ],
             [
              0.8888888888888888,
              "#fdca26"
             ],
             [
              1,
              "#f0f921"
             ]
            ],
            "type": "histogram2d"
           }
          ],
          "histogram2dcontour": [
           {
            "colorbar": {
             "outlinewidth": 0,
             "ticks": ""
            },
            "colorscale": [
             [
              0,
              "#0d0887"
             ],
             [
              0.1111111111111111,
              "#46039f"
             ],
             [
              0.2222222222222222,
              "#7201a8"
             ],
             [
              0.3333333333333333,
              "#9c179e"
             ],
             [
              0.4444444444444444,
              "#bd3786"
             ],
             [
              0.5555555555555556,
              "#d8576b"
             ],
             [
              0.6666666666666666,
              "#ed7953"
             ],
             [
              0.7777777777777778,
              "#fb9f3a"
             ],
             [
              0.8888888888888888,
              "#fdca26"
             ],
             [
              1,
              "#f0f921"
             ]
            ],
            "type": "histogram2dcontour"
           }
          ],
          "mesh3d": [
           {
            "colorbar": {
             "outlinewidth": 0,
             "ticks": ""
            },
            "type": "mesh3d"
           }
          ],
          "parcoords": [
           {
            "line": {
             "colorbar": {
              "outlinewidth": 0,
              "ticks": ""
             }
            },
            "type": "parcoords"
           }
          ],
          "pie": [
           {
            "automargin": true,
            "type": "pie"
           }
          ],
          "scatter": [
           {
            "marker": {
             "colorbar": {
              "outlinewidth": 0,
              "ticks": ""
             }
            },
            "type": "scatter"
           }
          ],
          "scatter3d": [
           {
            "line": {
             "colorbar": {
              "outlinewidth": 0,
              "ticks": ""
             }
            },
            "marker": {
             "colorbar": {
              "outlinewidth": 0,
              "ticks": ""
             }
            },
            "type": "scatter3d"
           }
          ],
          "scattercarpet": [
           {
            "marker": {
             "colorbar": {
              "outlinewidth": 0,
              "ticks": ""
             }
            },
            "type": "scattercarpet"
           }
          ],
          "scattergeo": [
           {
            "marker": {
             "colorbar": {
              "outlinewidth": 0,
              "ticks": ""
             }
            },
            "type": "scattergeo"
           }
          ],
          "scattergl": [
           {
            "marker": {
             "colorbar": {
              "outlinewidth": 0,
              "ticks": ""
             }
            },
            "type": "scattergl"
           }
          ],
          "scattermapbox": [
           {
            "marker": {
             "colorbar": {
              "outlinewidth": 0,
              "ticks": ""
             }
            },
            "type": "scattermapbox"
           }
          ],
          "scatterpolar": [
           {
            "marker": {
             "colorbar": {
              "outlinewidth": 0,
              "ticks": ""
             }
            },
            "type": "scatterpolar"
           }
          ],
          "scatterpolargl": [
           {
            "marker": {
             "colorbar": {
              "outlinewidth": 0,
              "ticks": ""
             }
            },
            "type": "scatterpolargl"
           }
          ],
          "scatterternary": [
           {
            "marker": {
             "colorbar": {
              "outlinewidth": 0,
              "ticks": ""
             }
            },
            "type": "scatterternary"
           }
          ],
          "surface": [
           {
            "colorbar": {
             "outlinewidth": 0,
             "ticks": ""
            },
            "colorscale": [
             [
              0,
              "#0d0887"
             ],
             [
              0.1111111111111111,
              "#46039f"
             ],
             [
              0.2222222222222222,
              "#7201a8"
             ],
             [
              0.3333333333333333,
              "#9c179e"
             ],
             [
              0.4444444444444444,
              "#bd3786"
             ],
             [
              0.5555555555555556,
              "#d8576b"
             ],
             [
              0.6666666666666666,
              "#ed7953"
             ],
             [
              0.7777777777777778,
              "#fb9f3a"
             ],
             [
              0.8888888888888888,
              "#fdca26"
             ],
             [
              1,
              "#f0f921"
             ]
            ],
            "type": "surface"
           }
          ],
          "table": [
           {
            "cells": {
             "fill": {
              "color": "#EBF0F8"
             },
             "line": {
              "color": "white"
             }
            },
            "header": {
             "fill": {
              "color": "#C8D4E3"
             },
             "line": {
              "color": "white"
             }
            },
            "type": "table"
           }
          ]
         },
         "layout": {
          "annotationdefaults": {
           "arrowcolor": "#2a3f5f",
           "arrowhead": 0,
           "arrowwidth": 1
          },
          "autotypenumbers": "strict",
          "coloraxis": {
           "colorbar": {
            "outlinewidth": 0,
            "ticks": ""
           }
          },
          "colorscale": {
           "diverging": [
            [
             0,
             "#8e0152"
            ],
            [
             0.1,
             "#c51b7d"
            ],
            [
             0.2,
             "#de77ae"
            ],
            [
             0.3,
             "#f1b6da"
            ],
            [
             0.4,
             "#fde0ef"
            ],
            [
             0.5,
             "#f7f7f7"
            ],
            [
             0.6,
             "#e6f5d0"
            ],
            [
             0.7,
             "#b8e186"
            ],
            [
             0.8,
             "#7fbc41"
            ],
            [
             0.9,
             "#4d9221"
            ],
            [
             1,
             "#276419"
            ]
           ],
           "sequential": [
            [
             0,
             "#0d0887"
            ],
            [
             0.1111111111111111,
             "#46039f"
            ],
            [
             0.2222222222222222,
             "#7201a8"
            ],
            [
             0.3333333333333333,
             "#9c179e"
            ],
            [
             0.4444444444444444,
             "#bd3786"
            ],
            [
             0.5555555555555556,
             "#d8576b"
            ],
            [
             0.6666666666666666,
             "#ed7953"
            ],
            [
             0.7777777777777778,
             "#fb9f3a"
            ],
            [
             0.8888888888888888,
             "#fdca26"
            ],
            [
             1,
             "#f0f921"
            ]
           ],
           "sequentialminus": [
            [
             0,
             "#0d0887"
            ],
            [
             0.1111111111111111,
             "#46039f"
            ],
            [
             0.2222222222222222,
             "#7201a8"
            ],
            [
             0.3333333333333333,
             "#9c179e"
            ],
            [
             0.4444444444444444,
             "#bd3786"
            ],
            [
             0.5555555555555556,
             "#d8576b"
            ],
            [
             0.6666666666666666,
             "#ed7953"
            ],
            [
             0.7777777777777778,
             "#fb9f3a"
            ],
            [
             0.8888888888888888,
             "#fdca26"
            ],
            [
             1,
             "#f0f921"
            ]
           ]
          },
          "colorway": [
           "#636efa",
           "#EF553B",
           "#00cc96",
           "#ab63fa",
           "#FFA15A",
           "#19d3f3",
           "#FF6692",
           "#B6E880",
           "#FF97FF",
           "#FECB52"
          ],
          "font": {
           "color": "#2a3f5f"
          },
          "geo": {
           "bgcolor": "white",
           "lakecolor": "white",
           "landcolor": "#E5ECF6",
           "showlakes": true,
           "showland": true,
           "subunitcolor": "white"
          },
          "hoverlabel": {
           "align": "left"
          },
          "hovermode": "closest",
          "mapbox": {
           "style": "light"
          },
          "paper_bgcolor": "white",
          "plot_bgcolor": "#E5ECF6",
          "polar": {
           "angularaxis": {
            "gridcolor": "white",
            "linecolor": "white",
            "ticks": ""
           },
           "bgcolor": "#E5ECF6",
           "radialaxis": {
            "gridcolor": "white",
            "linecolor": "white",
            "ticks": ""
           }
          },
          "scene": {
           "xaxis": {
            "backgroundcolor": "#E5ECF6",
            "gridcolor": "white",
            "gridwidth": 2,
            "linecolor": "white",
            "showbackground": true,
            "ticks": "",
            "zerolinecolor": "white"
           },
           "yaxis": {
            "backgroundcolor": "#E5ECF6",
            "gridcolor": "white",
            "gridwidth": 2,
            "linecolor": "white",
            "showbackground": true,
            "ticks": "",
            "zerolinecolor": "white"
           },
           "zaxis": {
            "backgroundcolor": "#E5ECF6",
            "gridcolor": "white",
            "gridwidth": 2,
            "linecolor": "white",
            "showbackground": true,
            "ticks": "",
            "zerolinecolor": "white"
           }
          },
          "shapedefaults": {
           "line": {
            "color": "#2a3f5f"
           }
          },
          "ternary": {
           "aaxis": {
            "gridcolor": "white",
            "linecolor": "white",
            "ticks": ""
           },
           "baxis": {
            "gridcolor": "white",
            "linecolor": "white",
            "ticks": ""
           },
           "bgcolor": "#E5ECF6",
           "caxis": {
            "gridcolor": "white",
            "linecolor": "white",
            "ticks": ""
           }
          },
          "title": {
           "x": 0.05
          },
          "xaxis": {
           "automargin": true,
           "gridcolor": "white",
           "linecolor": "white",
           "ticks": "",
           "title": {
            "standoff": 15
           },
           "zerolinecolor": "white",
           "zerolinewidth": 2
          },
          "yaxis": {
           "automargin": true,
           "gridcolor": "white",
           "linecolor": "white",
           "ticks": "",
           "title": {
            "standoff": 15
           },
           "zerolinecolor": "white",
           "zerolinewidth": 2
          }
         }
        },
        "title": {
         "text": "Radar chart of mean values of clusters"
        },
        "width": 800
       }
      }
     },
     "metadata": {},
     "output_type": "display_data"
    },
    {
     "data": {
      "application/vnd.plotly.v1+json": {
       "config": {
        "plotlyServerURL": "https://plot.ly"
       },
       "data": [
        {
         "fill": "toself",
         "marker": {
          "color": "blue"
         },
         "name": "Cluster 5",
         "r": [
          -1.0755313575619434,
          -0.9386397548749169,
          -0.36914914363040385,
          1.1378640510624063,
          -0.36443015322153943,
          0.34203496054632954,
          -0.6690753100629456,
          -0.6644087418924353
         ],
         "theta": [
          "energy",
          "loudness",
          "acousticness",
          "tempo ",
          "instrumentalness",
          "key",
          "speechiness",
          "valence"
         ],
         "type": "scatterpolar"
        },
        {
         "fill": "toself",
         "marker": {
          "color": "red"
         },
         "name": "Cluster 6",
         "r": [
          -0.8331004105081298,
          0.8413018943556114,
          0.7940413533934341,
          -0.9027070692451672,
          0.1181535582330019,
          -0.9111218211430994,
          -0.32164720594802465,
          1.2319920448760713
         ],
         "theta": [
          "energy",
          "loudness",
          "acousticness",
          "tempo ",
          "instrumentalness",
          "key",
          "speechiness",
          "valence"
         ],
         "type": "scatterpolar"
        },
        {
         "fill": "toself",
         "marker": {
          "color": "green"
         },
         "name": "Cluster 7",
         "r": [
          0.507733468727751,
          0.853898184049158,
          0.851382211290183,
          -1.0123165285037283,
          0.23473411704745495,
          -0.9115992944980703,
          -0.26525454965643414,
          1.112710564304977
         ],
         "theta": [
          "energy",
          "loudness",
          "acousticness",
          "tempo ",
          "instrumentalness",
          "key",
          "speechiness",
          "valence"
         ],
         "type": "scatterpolar"
        },
        {
         "fill": "toself",
         "marker": {
          "color": "pink"
         },
         "name": "Cluster 8",
         "r": [
          2.5487753319093205,
          -1.3457195855412791,
          -1.8494915944112258,
          1.149327665352139,
          -1.374768050778912,
          1.7896182545127113,
          -0.6753509516418474,
          -1.4101569289534455
         ],
         "theta": [
          "energy",
          "loudness",
          "acousticness",
          "tempo ",
          "instrumentalness",
          "key",
          "speechiness",
          "valence"
         ],
         "type": "scatterpolar"
        },
        {
         "fill": "toself",
         "marker": {
          "color": "yellow"
         },
         "name": "Cluster 9",
         "r": [
          -0.14942090808029806,
          1.0656067061969212,
          0.8192382976307147,
          -0.9013700392443745,
          1.4510109995110658,
          -0.5759596254832056,
          1.6505017472588592,
          0.38568758541161974
         ],
         "theta": [
          "energy",
          "loudness",
          "acousticness",
          "tempo ",
          "instrumentalness",
          "key",
          "speechiness",
          "valence"
         ],
         "type": "scatterpolar"
        }
       ],
       "layout": {
        "height": 500,
        "polar": {
         "radialaxis": {
          "range": [
           -2,
           2.5
          ],
          "visible": true
         }
        },
        "showlegend": true,
        "template": {
         "data": {
          "bar": [
           {
            "error_x": {
             "color": "#2a3f5f"
            },
            "error_y": {
             "color": "#2a3f5f"
            },
            "marker": {
             "line": {
              "color": "#E5ECF6",
              "width": 0.5
             },
             "pattern": {
              "fillmode": "overlay",
              "size": 10,
              "solidity": 0.2
             }
            },
            "type": "bar"
           }
          ],
          "barpolar": [
           {
            "marker": {
             "line": {
              "color": "#E5ECF6",
              "width": 0.5
             },
             "pattern": {
              "fillmode": "overlay",
              "size": 10,
              "solidity": 0.2
             }
            },
            "type": "barpolar"
           }
          ],
          "carpet": [
           {
            "aaxis": {
             "endlinecolor": "#2a3f5f",
             "gridcolor": "white",
             "linecolor": "white",
             "minorgridcolor": "white",
             "startlinecolor": "#2a3f5f"
            },
            "baxis": {
             "endlinecolor": "#2a3f5f",
             "gridcolor": "white",
             "linecolor": "white",
             "minorgridcolor": "white",
             "startlinecolor": "#2a3f5f"
            },
            "type": "carpet"
           }
          ],
          "choropleth": [
           {
            "colorbar": {
             "outlinewidth": 0,
             "ticks": ""
            },
            "type": "choropleth"
           }
          ],
          "contour": [
           {
            "colorbar": {
             "outlinewidth": 0,
             "ticks": ""
            },
            "colorscale": [
             [
              0,
              "#0d0887"
             ],
             [
              0.1111111111111111,
              "#46039f"
             ],
             [
              0.2222222222222222,
              "#7201a8"
             ],
             [
              0.3333333333333333,
              "#9c179e"
             ],
             [
              0.4444444444444444,
              "#bd3786"
             ],
             [
              0.5555555555555556,
              "#d8576b"
             ],
             [
              0.6666666666666666,
              "#ed7953"
             ],
             [
              0.7777777777777778,
              "#fb9f3a"
             ],
             [
              0.8888888888888888,
              "#fdca26"
             ],
             [
              1,
              "#f0f921"
             ]
            ],
            "type": "contour"
           }
          ],
          "contourcarpet": [
           {
            "colorbar": {
             "outlinewidth": 0,
             "ticks": ""
            },
            "type": "contourcarpet"
           }
          ],
          "heatmap": [
           {
            "colorbar": {
             "outlinewidth": 0,
             "ticks": ""
            },
            "colorscale": [
             [
              0,
              "#0d0887"
             ],
             [
              0.1111111111111111,
              "#46039f"
             ],
             [
              0.2222222222222222,
              "#7201a8"
             ],
             [
              0.3333333333333333,
              "#9c179e"
             ],
             [
              0.4444444444444444,
              "#bd3786"
             ],
             [
              0.5555555555555556,
              "#d8576b"
             ],
             [
              0.6666666666666666,
              "#ed7953"
             ],
             [
              0.7777777777777778,
              "#fb9f3a"
             ],
             [
              0.8888888888888888,
              "#fdca26"
             ],
             [
              1,
              "#f0f921"
             ]
            ],
            "type": "heatmap"
           }
          ],
          "heatmapgl": [
           {
            "colorbar": {
             "outlinewidth": 0,
             "ticks": ""
            },
            "colorscale": [
             [
              0,
              "#0d0887"
             ],
             [
              0.1111111111111111,
              "#46039f"
             ],
             [
              0.2222222222222222,
              "#7201a8"
             ],
             [
              0.3333333333333333,
              "#9c179e"
             ],
             [
              0.4444444444444444,
              "#bd3786"
             ],
             [
              0.5555555555555556,
              "#d8576b"
             ],
             [
              0.6666666666666666,
              "#ed7953"
             ],
             [
              0.7777777777777778,
              "#fb9f3a"
             ],
             [
              0.8888888888888888,
              "#fdca26"
             ],
             [
              1,
              "#f0f921"
             ]
            ],
            "type": "heatmapgl"
           }
          ],
          "histogram": [
           {
            "marker": {
             "pattern": {
              "fillmode": "overlay",
              "size": 10,
              "solidity": 0.2
             }
            },
            "type": "histogram"
           }
          ],
          "histogram2d": [
           {
            "colorbar": {
             "outlinewidth": 0,
             "ticks": ""
            },
            "colorscale": [
             [
              0,
              "#0d0887"
             ],
             [
              0.1111111111111111,
              "#46039f"
             ],
             [
              0.2222222222222222,
              "#7201a8"
             ],
             [
              0.3333333333333333,
              "#9c179e"
             ],
             [
              0.4444444444444444,
              "#bd3786"
             ],
             [
              0.5555555555555556,
              "#d8576b"
             ],
             [
              0.6666666666666666,
              "#ed7953"
             ],
             [
              0.7777777777777778,
              "#fb9f3a"
             ],
             [
              0.8888888888888888,
              "#fdca26"
             ],
             [
              1,
              "#f0f921"
             ]
            ],
            "type": "histogram2d"
           }
          ],
          "histogram2dcontour": [
           {
            "colorbar": {
             "outlinewidth": 0,
             "ticks": ""
            },
            "colorscale": [
             [
              0,
              "#0d0887"
             ],
             [
              0.1111111111111111,
              "#46039f"
             ],
             [
              0.2222222222222222,
              "#7201a8"
             ],
             [
              0.3333333333333333,
              "#9c179e"
             ],
             [
              0.4444444444444444,
              "#bd3786"
             ],
             [
              0.5555555555555556,
              "#d8576b"
             ],
             [
              0.6666666666666666,
              "#ed7953"
             ],
             [
              0.7777777777777778,
              "#fb9f3a"
             ],
             [
              0.8888888888888888,
              "#fdca26"
             ],
             [
              1,
              "#f0f921"
             ]
            ],
            "type": "histogram2dcontour"
           }
          ],
          "mesh3d": [
           {
            "colorbar": {
             "outlinewidth": 0,
             "ticks": ""
            },
            "type": "mesh3d"
           }
          ],
          "parcoords": [
           {
            "line": {
             "colorbar": {
              "outlinewidth": 0,
              "ticks": ""
             }
            },
            "type": "parcoords"
           }
          ],
          "pie": [
           {
            "automargin": true,
            "type": "pie"
           }
          ],
          "scatter": [
           {
            "marker": {
             "colorbar": {
              "outlinewidth": 0,
              "ticks": ""
             }
            },
            "type": "scatter"
           }
          ],
          "scatter3d": [
           {
            "line": {
             "colorbar": {
              "outlinewidth": 0,
              "ticks": ""
             }
            },
            "marker": {
             "colorbar": {
              "outlinewidth": 0,
              "ticks": ""
             }
            },
            "type": "scatter3d"
           }
          ],
          "scattercarpet": [
           {
            "marker": {
             "colorbar": {
              "outlinewidth": 0,
              "ticks": ""
             }
            },
            "type": "scattercarpet"
           }
          ],
          "scattergeo": [
           {
            "marker": {
             "colorbar": {
              "outlinewidth": 0,
              "ticks": ""
             }
            },
            "type": "scattergeo"
           }
          ],
          "scattergl": [
           {
            "marker": {
             "colorbar": {
              "outlinewidth": 0,
              "ticks": ""
             }
            },
            "type": "scattergl"
           }
          ],
          "scattermapbox": [
           {
            "marker": {
             "colorbar": {
              "outlinewidth": 0,
              "ticks": ""
             }
            },
            "type": "scattermapbox"
           }
          ],
          "scatterpolar": [
           {
            "marker": {
             "colorbar": {
              "outlinewidth": 0,
              "ticks": ""
             }
            },
            "type": "scatterpolar"
           }
          ],
          "scatterpolargl": [
           {
            "marker": {
             "colorbar": {
              "outlinewidth": 0,
              "ticks": ""
             }
            },
            "type": "scatterpolargl"
           }
          ],
          "scatterternary": [
           {
            "marker": {
             "colorbar": {
              "outlinewidth": 0,
              "ticks": ""
             }
            },
            "type": "scatterternary"
           }
          ],
          "surface": [
           {
            "colorbar": {
             "outlinewidth": 0,
             "ticks": ""
            },
            "colorscale": [
             [
              0,
              "#0d0887"
             ],
             [
              0.1111111111111111,
              "#46039f"
             ],
             [
              0.2222222222222222,
              "#7201a8"
             ],
             [
              0.3333333333333333,
              "#9c179e"
             ],
             [
              0.4444444444444444,
              "#bd3786"
             ],
             [
              0.5555555555555556,
              "#d8576b"
             ],
             [
              0.6666666666666666,
              "#ed7953"
             ],
             [
              0.7777777777777778,
              "#fb9f3a"
             ],
             [
              0.8888888888888888,
              "#fdca26"
             ],
             [
              1,
              "#f0f921"
             ]
            ],
            "type": "surface"
           }
          ],
          "table": [
           {
            "cells": {
             "fill": {
              "color": "#EBF0F8"
             },
             "line": {
              "color": "white"
             }
            },
            "header": {
             "fill": {
              "color": "#C8D4E3"
             },
             "line": {
              "color": "white"
             }
            },
            "type": "table"
           }
          ]
         },
         "layout": {
          "annotationdefaults": {
           "arrowcolor": "#2a3f5f",
           "arrowhead": 0,
           "arrowwidth": 1
          },
          "autotypenumbers": "strict",
          "coloraxis": {
           "colorbar": {
            "outlinewidth": 0,
            "ticks": ""
           }
          },
          "colorscale": {
           "diverging": [
            [
             0,
             "#8e0152"
            ],
            [
             0.1,
             "#c51b7d"
            ],
            [
             0.2,
             "#de77ae"
            ],
            [
             0.3,
             "#f1b6da"
            ],
            [
             0.4,
             "#fde0ef"
            ],
            [
             0.5,
             "#f7f7f7"
            ],
            [
             0.6,
             "#e6f5d0"
            ],
            [
             0.7,
             "#b8e186"
            ],
            [
             0.8,
             "#7fbc41"
            ],
            [
             0.9,
             "#4d9221"
            ],
            [
             1,
             "#276419"
            ]
           ],
           "sequential": [
            [
             0,
             "#0d0887"
            ],
            [
             0.1111111111111111,
             "#46039f"
            ],
            [
             0.2222222222222222,
             "#7201a8"
            ],
            [
             0.3333333333333333,
             "#9c179e"
            ],
            [
             0.4444444444444444,
             "#bd3786"
            ],
            [
             0.5555555555555556,
             "#d8576b"
            ],
            [
             0.6666666666666666,
             "#ed7953"
            ],
            [
             0.7777777777777778,
             "#fb9f3a"
            ],
            [
             0.8888888888888888,
             "#fdca26"
            ],
            [
             1,
             "#f0f921"
            ]
           ],
           "sequentialminus": [
            [
             0,
             "#0d0887"
            ],
            [
             0.1111111111111111,
             "#46039f"
            ],
            [
             0.2222222222222222,
             "#7201a8"
            ],
            [
             0.3333333333333333,
             "#9c179e"
            ],
            [
             0.4444444444444444,
             "#bd3786"
            ],
            [
             0.5555555555555556,
             "#d8576b"
            ],
            [
             0.6666666666666666,
             "#ed7953"
            ],
            [
             0.7777777777777778,
             "#fb9f3a"
            ],
            [
             0.8888888888888888,
             "#fdca26"
            ],
            [
             1,
             "#f0f921"
            ]
           ]
          },
          "colorway": [
           "#636efa",
           "#EF553B",
           "#00cc96",
           "#ab63fa",
           "#FFA15A",
           "#19d3f3",
           "#FF6692",
           "#B6E880",
           "#FF97FF",
           "#FECB52"
          ],
          "font": {
           "color": "#2a3f5f"
          },
          "geo": {
           "bgcolor": "white",
           "lakecolor": "white",
           "landcolor": "#E5ECF6",
           "showlakes": true,
           "showland": true,
           "subunitcolor": "white"
          },
          "hoverlabel": {
           "align": "left"
          },
          "hovermode": "closest",
          "mapbox": {
           "style": "light"
          },
          "paper_bgcolor": "white",
          "plot_bgcolor": "#E5ECF6",
          "polar": {
           "angularaxis": {
            "gridcolor": "white",
            "linecolor": "white",
            "ticks": ""
           },
           "bgcolor": "#E5ECF6",
           "radialaxis": {
            "gridcolor": "white",
            "linecolor": "white",
            "ticks": ""
           }
          },
          "scene": {
           "xaxis": {
            "backgroundcolor": "#E5ECF6",
            "gridcolor": "white",
            "gridwidth": 2,
            "linecolor": "white",
            "showbackground": true,
            "ticks": "",
            "zerolinecolor": "white"
           },
           "yaxis": {
            "backgroundcolor": "#E5ECF6",
            "gridcolor": "white",
            "gridwidth": 2,
            "linecolor": "white",
            "showbackground": true,
            "ticks": "",
            "zerolinecolor": "white"
           },
           "zaxis": {
            "backgroundcolor": "#E5ECF6",
            "gridcolor": "white",
            "gridwidth": 2,
            "linecolor": "white",
            "showbackground": true,
            "ticks": "",
            "zerolinecolor": "white"
           }
          },
          "shapedefaults": {
           "line": {
            "color": "#2a3f5f"
           }
          },
          "ternary": {
           "aaxis": {
            "gridcolor": "white",
            "linecolor": "white",
            "ticks": ""
           },
           "baxis": {
            "gridcolor": "white",
            "linecolor": "white",
            "ticks": ""
           },
           "bgcolor": "#E5ECF6",
           "caxis": {
            "gridcolor": "white",
            "linecolor": "white",
            "ticks": ""
           }
          },
          "title": {
           "x": 0.05
          },
          "xaxis": {
           "automargin": true,
           "gridcolor": "white",
           "linecolor": "white",
           "ticks": "",
           "title": {
            "standoff": 15
           },
           "zerolinecolor": "white",
           "zerolinewidth": 2
          },
          "yaxis": {
           "automargin": true,
           "gridcolor": "white",
           "linecolor": "white",
           "ticks": "",
           "title": {
            "standoff": 15
           },
           "zerolinecolor": "white",
           "zerolinewidth": 2
          }
         }
        },
        "title": {
         "text": "Radar chart of mean values of clusters"
        },
        "width": 800
       }
      }
     },
     "metadata": {},
     "output_type": "display_data"
    }
   ],
   "source": [
    "# state the label for each arm of the chart\n",
    "categories = ['energy', 'loudness', 'acousticness','tempo ','instrumentalness','key','speechiness', 'valence']\n",
    "\n",
    "# plot the initialised plot\n",
    "fig = go.Figure()\n",
    "\n",
    "# add a layer over the top of the initialised plot - this one is for cluster 0\n",
    "fig.add_trace(go.Scatterpolar(\n",
    "      r=[result_means_distance.loc[result_means_distance[\"cluster\"] == 0, 'key'].mean(),\n",
    "        result_means_distance.loc[result_means_distance[\"cluster\"] == 0, 'energy'].mean(),\n",
    "        result_means_distance.loc[result_means_distance[\"cluster\"] == 0, 'loudness'].mean(),\n",
    "        result_means_distance.loc[result_means_distance[\"cluster\"] == 0, 'acousticness'].mean(),\n",
    "        result_means_distance.loc[result_means_distance[\"cluster\"] == 0, 'tempo'].mean(),\n",
    "        result_means_distance.loc[result_means_distance[\"cluster\"] == 0, 'instrumentalness'].mean(),\n",
    "        result_means_distance.loc[result_means_distance[\"cluster\"] == 0, 'speechiness'].mean(),\n",
    "        result_means_distance.loc[result_means_distance[\"cluster\"] == 0, 'valence'].mean()\n",
    "],\n",
    "      theta=categories,\n",
    "      fill='toself',\n",
    "      name='Cluster 0',\n",
    "      marker=dict(color=\"blue\")\n",
    "))\n",
    "\n",
    "# add a layer over the top of the initialised plot - this one is for cluster 1\n",
    "fig.add_trace(go.Scatterpolar(\n",
    "      r=[result_means_distance.loc[result_means_distance[\"cluster\"] == 1, 'key'].mean(),\n",
    "        result_means_distance.loc[result_means_distance[\"cluster\"] == 1, 'energy'].mean(),\n",
    "        result_means_distance.loc[result_means_distance[\"cluster\"] == 1, 'loudness'].mean(),\n",
    "        result_means_distance.loc[result_means_distance[\"cluster\"] == 1, 'acousticness'].mean(),\n",
    "        result_means_distance.loc[result_means_distance[\"cluster\"] == 1, 'tempo'].mean(),\n",
    "        result_means_distance.loc[result_means_distance[\"cluster\"] == 1, 'instrumentalness'].mean(),\n",
    "        result_means_distance.loc[result_means_distance[\"cluster\"] == 1, 'speechiness'].mean(),\n",
    "        result_means_distance.loc[result_means_distance[\"cluster\"] == 1, 'valence'].mean()],\n",
    "      theta=categories,\n",
    "      fill='toself',\n",
    "      name='Cluster 1',\n",
    "      marker=dict(color=\"red\")\n",
    "))\n",
    "\n",
    "# add a layer over the top of the initialised plot - this one is for cluster 2\n",
    "fig.add_trace(go.Scatterpolar(\n",
    "      r=[result_means_distance.loc[result_means_distance[\"cluster\"] == 2, 'key'].mean(),\n",
    "        result_means_distance.loc[result_means_distance[\"cluster\"] == 2, 'energy'].mean(),\n",
    "        result_means_distance.loc[result_means_distance[\"cluster\"] == 2, 'loudness'].mean(),\n",
    "        result_means_distance.loc[result_means_distance[\"cluster\"] == 2, 'acousticness'].mean(),\n",
    "        result_means_distance.loc[result_means_distance[\"cluster\"] == 2, 'tempo'].mean(),\n",
    "        result_means_distance.loc[result_means_distance[\"cluster\"] == 2, 'instrumentalness'].mean(),\n",
    "        result_means_distance.loc[result_means_distance[\"cluster\"] == 2, 'speechiness'].mean(),\n",
    "        result_means_distance.loc[result_means_distance[\"cluster\"] == 2, 'valence'].mean()],\n",
    "      theta=categories,\n",
    "      fill='toself',\n",
    "      name='Cluster 2',\n",
    "      marker=dict(color=\"green\")\n",
    "))\n",
    "\n",
    "# add a layer over the top of the initialised plot - this one is for cluster 3\n",
    "fig.add_trace(go.Scatterpolar(\n",
    "      r=[result_means_distance.loc[result_means_distance[\"cluster\"] == 3, 'key'].mean(),\n",
    "        result_means_distance.loc[result_means_distance[\"cluster\"] == 3, 'energy'].mean(),\n",
    "        result_means_distance.loc[result_means_distance[\"cluster\"] == 3, 'loudness'].mean(),\n",
    "        result_means_distance.loc[result_means_distance[\"cluster\"] == 3, 'acousticness'].mean(),\n",
    "        result_means_distance.loc[result_means_distance[\"cluster\"] == 3, 'tempo'].mean(),\n",
    "        result_means_distance.loc[result_means_distance[\"cluster\"] == 3, 'instrumentalness'].mean(),\n",
    "        result_means_distance.loc[result_means_distance[\"cluster\"] == 3, 'speechiness'].mean(),\n",
    "        result_means_distance.loc[result_means_distance[\"cluster\"] == 3, 'valence'].mean()],\n",
    "      theta=categories,\n",
    "      fill='toself',\n",
    "      name='Cluster 3',\n",
    "      marker=dict(color=\"pink\")\n",
    "))\n",
    "\n",
    "# add a layer over the top of the initialised plot - this one is for cluster 4\n",
    "fig.add_trace(go.Scatterpolar(\n",
    "      r=[result_means_distance.loc[result_means_distance[\"cluster\"] == 4, 'key'].mean(),\n",
    "        result_means_distance.loc[result_means_distance[\"cluster\"] == 4, 'energy'].mean(),\n",
    "        result_means_distance.loc[result_means_distance[\"cluster\"] == 4, 'loudness'].mean(),\n",
    "        result_means_distance.loc[result_means_distance[\"cluster\"] == 4, 'acousticness'].mean(),\n",
    "        result_means_distance.loc[result_means_distance[\"cluster\"] == 4, 'tempo'].mean(),\n",
    "        result_means_distance.loc[result_means_distance[\"cluster\"] == 4, 'instrumentalness'].mean(),\n",
    "        result_means_distance.loc[result_means_distance[\"cluster\"] == 4, 'speechiness'].mean(),\n",
    "        result_means_distance.loc[result_means_distance[\"cluster\"] == 4, 'valence'].mean()],\n",
    "      theta=categories,\n",
    "      fill='toself',\n",
    "      name='Cluster 4',\n",
    "      marker=dict(color=\"yellow\")\n",
    "))\n",
    "\n",
    "\n",
    "\n",
    "# Add extras to the plot such as title\n",
    "# You'll always need `polar=dict(radialaxis=dict(visible=True,range=[0, 1])),` when creating a radar plot\n",
    "fig.update_layout(\n",
    "  title_text = 'Radar chart of mean values of clusters',\n",
    "  height = 500,\n",
    "  width = 800,\n",
    "  polar=dict(\n",
    "    radialaxis=dict(\n",
    "      visible=True,\n",
    "      range=[-2, 2.5]\n",
    "    )),\n",
    "  showlegend=True\n",
    ")\n",
    "\n",
    "# Show the initialised plot and the layers\n",
    "fig.show()\n",
    "\n",
    "# plot the initialised plot\n",
    "fig2 = go.Figure()\n",
    "\n",
    "# add a layer over the top of the initialised plot - this one is for cluster 0\n",
    "fig2.add_trace(go.Scatterpolar(\n",
    "      r=[result_means_distance.loc[result_means_distance[\"cluster\"] == 5, 'key'].mean(),\n",
    "        result_means_distance.loc[result_means_distance[\"cluster\"] == 5, 'energy'].mean(),\n",
    "        result_means_distance.loc[result_means_distance[\"cluster\"] == 5, 'loudness'].mean(),\n",
    "        result_means_distance.loc[result_means_distance[\"cluster\"] == 5, 'acousticness'].mean(),\n",
    "        result_means_distance.loc[result_means_distance[\"cluster\"] == 5, 'tempo'].mean(),\n",
    "        result_means_distance.loc[result_means_distance[\"cluster\"] == 5, 'instrumentalness'].mean(),\n",
    "        result_means_distance.loc[result_means_distance[\"cluster\"] == 5, 'speechiness'].mean(),\n",
    "        result_means_distance.loc[result_means_distance[\"cluster\"] == 5, 'valence'].mean()],\n",
    "      theta=categories,\n",
    "      fill='toself',\n",
    "      name='Cluster 5',\n",
    "      marker=dict(color=\"blue\")\n",
    "))\n",
    "\n",
    "# add a layer over the top of the initialised plot - this one is for cluster 1\n",
    "fig2.add_trace(go.Scatterpolar(\n",
    "      r=[result_means_distance.loc[result_means_distance[\"cluster\"] == 6, 'key'].mean(),\n",
    "        result_means_distance.loc[result_means_distance[\"cluster\"] == 6, 'energy'].mean(),\n",
    "        result_means_distance.loc[result_means_distance[\"cluster\"] == 6, 'loudness'].mean(),\n",
    "        result_means_distance.loc[result_means_distance[\"cluster\"] == 6, 'acousticness'].mean(),\n",
    "        result_means_distance.loc[result_means_distance[\"cluster\"] == 6, 'tempo'].mean(),\n",
    "        result_means_distance.loc[result_means_distance[\"cluster\"] == 6, 'instrumentalness'].mean(),\n",
    "        result_means_distance.loc[result_means_distance[\"cluster\"] == 6, 'speechiness'].mean(),\n",
    "        result_means_distance.loc[result_means_distance[\"cluster\"] == 6, 'valence'].mean()],\n",
    "      theta=categories,\n",
    "      fill='toself',\n",
    "      name='Cluster 6',\n",
    "      marker=dict(color=\"red\")\n",
    "))\n",
    "\n",
    "# add a layer over the top of the initialised plot - this one is for cluster 2\n",
    "fig2.add_trace(go.Scatterpolar(\n",
    "      r=[result_means_distance.loc[result_means_distance[\"cluster\"] == 7, 'key'].mean(),\n",
    "        result_means_distance.loc[result_means_distance[\"cluster\"] == 7, 'energy'].mean(),\n",
    "        result_means_distance.loc[result_means_distance[\"cluster\"] == 7, 'loudness'].mean(),\n",
    "        result_means_distance.loc[result_means_distance[\"cluster\"] == 7, 'acousticness'].mean(),\n",
    "        result_means_distance.loc[result_means_distance[\"cluster\"] == 7, 'tempo'].mean(),\n",
    "        result_means_distance.loc[result_means_distance[\"cluster\"] == 7, 'instrumentalness'].mean(),\n",
    "        result_means_distance.loc[result_means_distance[\"cluster\"] == 7, 'speechiness'].mean(),\n",
    "        result_means_distance.loc[result_means_distance[\"cluster\"] == 7, 'valence'].mean()],\n",
    "      theta=categories,\n",
    "      fill='toself',\n",
    "      name='Cluster 7',\n",
    "      marker=dict(color=\"green\")\n",
    "))\n",
    "\n",
    "# add a layer over the top of the initialised plot - this one is for cluster 3\n",
    "fig2.add_trace(go.Scatterpolar(\n",
    "      r=[result_means_distance.loc[result_means_distance[\"cluster\"] == 8, 'key'].mean(),\n",
    "        result_means_distance.loc[result_means_distance[\"cluster\"] == 8, 'energy'].mean(),\n",
    "        result_means_distance.loc[result_means_distance[\"cluster\"] == 8, 'loudness'].mean(),\n",
    "        result_means_distance.loc[result_means_distance[\"cluster\"] == 8, 'acousticness'].mean(),\n",
    "        result_means_distance.loc[result_means_distance[\"cluster\"] == 8, 'tempo'].mean(),\n",
    "        result_means_distance.loc[result_means_distance[\"cluster\"] == 8, 'instrumentalness'].mean(),\n",
    "        result_means_distance.loc[result_means_distance[\"cluster\"] == 8, 'speechiness'].mean(),\n",
    "        result_means_distance.loc[result_means_distance[\"cluster\"] == 8, 'valence'].mean()],\n",
    "      theta=categories,\n",
    "      fill='toself',\n",
    "      name='Cluster 8',\n",
    "      marker=dict(color=\"pink\")\n",
    "))\n",
    "\n",
    "# add a layer over the top of the initialised plot - this one is for cluster 4\n",
    "fig2.add_trace(go.Scatterpolar(\n",
    "      r=[result_means_distance.loc[result_means_distance[\"cluster\"] == 9, 'key'].mean(),\n",
    "        result_means_distance.loc[result_means_distance[\"cluster\"] == 9, 'energy'].mean(),\n",
    "        result_means_distance.loc[result_means_distance[\"cluster\"] == 9, 'loudness'].mean(),\n",
    "        result_means_distance.loc[result_means_distance[\"cluster\"] == 9, 'acousticness'].mean(),\n",
    "        result_means_distance.loc[result_means_distance[\"cluster\"] == 9, 'tempo'].mean(),\n",
    "        result_means_distance.loc[result_means_distance[\"cluster\"] == 9, 'instrumentalness'].mean(),\n",
    "        result_means_distance.loc[result_means_distance[\"cluster\"] == 9, 'speechiness'].mean(),\n",
    "        result_means_distance.loc[result_means_distance[\"cluster\"] == 9, 'valence'].mean()],\n",
    "      theta=categories,\n",
    "      fill='toself',\n",
    "      name='Cluster 9',\n",
    "      marker=dict(color=\"yellow\")\n",
    "))\n",
    "\n",
    "\n",
    "\n",
    "# Add extras to the plot such as title\n",
    "# You'll always need `polar=dict(radialaxis=dict(visible=True,range=[0, 1])),` when creating a radar plot\n",
    "fig2.update_layout(\n",
    "  title_text = 'Radar chart of mean values of clusters',\n",
    "  height = 500,\n",
    "  width = 800,\n",
    "  polar=dict(\n",
    "    radialaxis=dict(\n",
    "      visible=True,\n",
    "      range=[-2, 2.5]\n",
    "    )),\n",
    "  showlegend=True\n",
    ")\n",
    "\n",
    "# Show the initialised plot and the layers\n",
    "fig2.show()"
   ]
  },
  {
   "cell_type": "code",
   "execution_count": 118,
   "metadata": {},
   "outputs": [
    {
     "data": {
      "application/vnd.plotly.v1+json": {
       "config": {
        "plotlyServerURL": "https://plot.ly"
       },
       "data": [
        {
         "fill": "toself",
         "marker": {
          "color": "red"
         },
         "name": "Cluster 1",
         "r": [
          -0.21604303746275744,
          -1.2166199400794733,
          -1.1846977969645838,
          1.1757990646792487,
          -0.690644316808357,
          1.4552240117819737,
          -0.6562105942663662,
          -1.285168161647116
         ],
         "theta": [
          "energy",
          "loudness",
          "acousticness",
          "tempo ",
          "instrumentalness",
          "key",
          "speechiness",
          "valence"
         ],
         "type": "scatterpolar"
        },
        {
         "fill": "toself",
         "marker": {
          "color": "pink"
         },
         "name": "Cluster 3",
         "r": [
          -0.13598902715641498,
          -0.27970663417792435,
          0.2774037991061858,
          0.4869152119681237,
          -0.08428974655088768,
          -0.8065704558347331,
          -0.6058521833561391,
          0.39723610160597833
         ],
         "theta": [
          "energy",
          "loudness",
          "acousticness",
          "tempo ",
          "instrumentalness",
          "key",
          "speechiness",
          "valence"
         ],
         "type": "scatterpolar"
        },
        {
         "fill": "toself",
         "marker": {
          "color": "yellow"
         },
         "name": "Cluster 4",
         "r": [
          -0.11999613426971155,
          0.8864015930781473,
          0.8995650263827518,
          -1.114693135137475,
          -0.23941036465451382,
          -0.9291386018405722,
          2.2281695965978447,
          1.0573769440857859
         ],
         "theta": [
          "energy",
          "loudness",
          "acousticness",
          "tempo ",
          "instrumentalness",
          "key",
          "speechiness",
          "valence"
         ],
         "type": "scatterpolar"
        },
        {
         "fill": "toself",
         "marker": {
          "color": "blue"
         },
         "name": "Cluster 5",
         "r": [
          -1.0755313575619434,
          -0.9386397548749169,
          -0.36914914363040385,
          1.1378640510624063,
          -0.36443015322153943,
          0.34203496054632954,
          -0.6690753100629456,
          -0.6644087418924353
         ],
         "theta": [
          "energy",
          "loudness",
          "acousticness",
          "tempo ",
          "instrumentalness",
          "key",
          "speechiness",
          "valence"
         ],
         "type": "scatterpolar"
        },
        {
         "fill": "toself",
         "marker": {
          "color": "green"
         },
         "name": "Cluster 7",
         "r": [
          0.507733468727751,
          0.853898184049158,
          0.851382211290183,
          -1.0123165285037283,
          0.23473411704745495,
          -0.9115992944980703,
          -0.26525454965643414,
          1.112710564304977
         ],
         "theta": [
          "energy",
          "loudness",
          "acousticness",
          "tempo ",
          "instrumentalness",
          "key",
          "speechiness",
          "valence"
         ],
         "type": "scatterpolar"
        }
       ],
       "layout": {
        "height": 500,
        "polar": {
         "radialaxis": {
          "range": [
           -2,
           2.5
          ],
          "visible": true
         }
        },
        "showlegend": true,
        "template": {
         "data": {
          "bar": [
           {
            "error_x": {
             "color": "#2a3f5f"
            },
            "error_y": {
             "color": "#2a3f5f"
            },
            "marker": {
             "line": {
              "color": "#E5ECF6",
              "width": 0.5
             },
             "pattern": {
              "fillmode": "overlay",
              "size": 10,
              "solidity": 0.2
             }
            },
            "type": "bar"
           }
          ],
          "barpolar": [
           {
            "marker": {
             "line": {
              "color": "#E5ECF6",
              "width": 0.5
             },
             "pattern": {
              "fillmode": "overlay",
              "size": 10,
              "solidity": 0.2
             }
            },
            "type": "barpolar"
           }
          ],
          "carpet": [
           {
            "aaxis": {
             "endlinecolor": "#2a3f5f",
             "gridcolor": "white",
             "linecolor": "white",
             "minorgridcolor": "white",
             "startlinecolor": "#2a3f5f"
            },
            "baxis": {
             "endlinecolor": "#2a3f5f",
             "gridcolor": "white",
             "linecolor": "white",
             "minorgridcolor": "white",
             "startlinecolor": "#2a3f5f"
            },
            "type": "carpet"
           }
          ],
          "choropleth": [
           {
            "colorbar": {
             "outlinewidth": 0,
             "ticks": ""
            },
            "type": "choropleth"
           }
          ],
          "contour": [
           {
            "colorbar": {
             "outlinewidth": 0,
             "ticks": ""
            },
            "colorscale": [
             [
              0,
              "#0d0887"
             ],
             [
              0.1111111111111111,
              "#46039f"
             ],
             [
              0.2222222222222222,
              "#7201a8"
             ],
             [
              0.3333333333333333,
              "#9c179e"
             ],
             [
              0.4444444444444444,
              "#bd3786"
             ],
             [
              0.5555555555555556,
              "#d8576b"
             ],
             [
              0.6666666666666666,
              "#ed7953"
             ],
             [
              0.7777777777777778,
              "#fb9f3a"
             ],
             [
              0.8888888888888888,
              "#fdca26"
             ],
             [
              1,
              "#f0f921"
             ]
            ],
            "type": "contour"
           }
          ],
          "contourcarpet": [
           {
            "colorbar": {
             "outlinewidth": 0,
             "ticks": ""
            },
            "type": "contourcarpet"
           }
          ],
          "heatmap": [
           {
            "colorbar": {
             "outlinewidth": 0,
             "ticks": ""
            },
            "colorscale": [
             [
              0,
              "#0d0887"
             ],
             [
              0.1111111111111111,
              "#46039f"
             ],
             [
              0.2222222222222222,
              "#7201a8"
             ],
             [
              0.3333333333333333,
              "#9c179e"
             ],
             [
              0.4444444444444444,
              "#bd3786"
             ],
             [
              0.5555555555555556,
              "#d8576b"
             ],
             [
              0.6666666666666666,
              "#ed7953"
             ],
             [
              0.7777777777777778,
              "#fb9f3a"
             ],
             [
              0.8888888888888888,
              "#fdca26"
             ],
             [
              1,
              "#f0f921"
             ]
            ],
            "type": "heatmap"
           }
          ],
          "heatmapgl": [
           {
            "colorbar": {
             "outlinewidth": 0,
             "ticks": ""
            },
            "colorscale": [
             [
              0,
              "#0d0887"
             ],
             [
              0.1111111111111111,
              "#46039f"
             ],
             [
              0.2222222222222222,
              "#7201a8"
             ],
             [
              0.3333333333333333,
              "#9c179e"
             ],
             [
              0.4444444444444444,
              "#bd3786"
             ],
             [
              0.5555555555555556,
              "#d8576b"
             ],
             [
              0.6666666666666666,
              "#ed7953"
             ],
             [
              0.7777777777777778,
              "#fb9f3a"
             ],
             [
              0.8888888888888888,
              "#fdca26"
             ],
             [
              1,
              "#f0f921"
             ]
            ],
            "type": "heatmapgl"
           }
          ],
          "histogram": [
           {
            "marker": {
             "pattern": {
              "fillmode": "overlay",
              "size": 10,
              "solidity": 0.2
             }
            },
            "type": "histogram"
           }
          ],
          "histogram2d": [
           {
            "colorbar": {
             "outlinewidth": 0,
             "ticks": ""
            },
            "colorscale": [
             [
              0,
              "#0d0887"
             ],
             [
              0.1111111111111111,
              "#46039f"
             ],
             [
              0.2222222222222222,
              "#7201a8"
             ],
             [
              0.3333333333333333,
              "#9c179e"
             ],
             [
              0.4444444444444444,
              "#bd3786"
             ],
             [
              0.5555555555555556,
              "#d8576b"
             ],
             [
              0.6666666666666666,
              "#ed7953"
             ],
             [
              0.7777777777777778,
              "#fb9f3a"
             ],
             [
              0.8888888888888888,
              "#fdca26"
             ],
             [
              1,
              "#f0f921"
             ]
            ],
            "type": "histogram2d"
           }
          ],
          "histogram2dcontour": [
           {
            "colorbar": {
             "outlinewidth": 0,
             "ticks": ""
            },
            "colorscale": [
             [
              0,
              "#0d0887"
             ],
             [
              0.1111111111111111,
              "#46039f"
             ],
             [
              0.2222222222222222,
              "#7201a8"
             ],
             [
              0.3333333333333333,
              "#9c179e"
             ],
             [
              0.4444444444444444,
              "#bd3786"
             ],
             [
              0.5555555555555556,
              "#d8576b"
             ],
             [
              0.6666666666666666,
              "#ed7953"
             ],
             [
              0.7777777777777778,
              "#fb9f3a"
             ],
             [
              0.8888888888888888,
              "#fdca26"
             ],
             [
              1,
              "#f0f921"
             ]
            ],
            "type": "histogram2dcontour"
           }
          ],
          "mesh3d": [
           {
            "colorbar": {
             "outlinewidth": 0,
             "ticks": ""
            },
            "type": "mesh3d"
           }
          ],
          "parcoords": [
           {
            "line": {
             "colorbar": {
              "outlinewidth": 0,
              "ticks": ""
             }
            },
            "type": "parcoords"
           }
          ],
          "pie": [
           {
            "automargin": true,
            "type": "pie"
           }
          ],
          "scatter": [
           {
            "marker": {
             "colorbar": {
              "outlinewidth": 0,
              "ticks": ""
             }
            },
            "type": "scatter"
           }
          ],
          "scatter3d": [
           {
            "line": {
             "colorbar": {
              "outlinewidth": 0,
              "ticks": ""
             }
            },
            "marker": {
             "colorbar": {
              "outlinewidth": 0,
              "ticks": ""
             }
            },
            "type": "scatter3d"
           }
          ],
          "scattercarpet": [
           {
            "marker": {
             "colorbar": {
              "outlinewidth": 0,
              "ticks": ""
             }
            },
            "type": "scattercarpet"
           }
          ],
          "scattergeo": [
           {
            "marker": {
             "colorbar": {
              "outlinewidth": 0,
              "ticks": ""
             }
            },
            "type": "scattergeo"
           }
          ],
          "scattergl": [
           {
            "marker": {
             "colorbar": {
              "outlinewidth": 0,
              "ticks": ""
             }
            },
            "type": "scattergl"
           }
          ],
          "scattermapbox": [
           {
            "marker": {
             "colorbar": {
              "outlinewidth": 0,
              "ticks": ""
             }
            },
            "type": "scattermapbox"
           }
          ],
          "scatterpolar": [
           {
            "marker": {
             "colorbar": {
              "outlinewidth": 0,
              "ticks": ""
             }
            },
            "type": "scatterpolar"
           }
          ],
          "scatterpolargl": [
           {
            "marker": {
             "colorbar": {
              "outlinewidth": 0,
              "ticks": ""
             }
            },
            "type": "scatterpolargl"
           }
          ],
          "scatterternary": [
           {
            "marker": {
             "colorbar": {
              "outlinewidth": 0,
              "ticks": ""
             }
            },
            "type": "scatterternary"
           }
          ],
          "surface": [
           {
            "colorbar": {
             "outlinewidth": 0,
             "ticks": ""
            },
            "colorscale": [
             [
              0,
              "#0d0887"
             ],
             [
              0.1111111111111111,
              "#46039f"
             ],
             [
              0.2222222222222222,
              "#7201a8"
             ],
             [
              0.3333333333333333,
              "#9c179e"
             ],
             [
              0.4444444444444444,
              "#bd3786"
             ],
             [
              0.5555555555555556,
              "#d8576b"
             ],
             [
              0.6666666666666666,
              "#ed7953"
             ],
             [
              0.7777777777777778,
              "#fb9f3a"
             ],
             [
              0.8888888888888888,
              "#fdca26"
             ],
             [
              1,
              "#f0f921"
             ]
            ],
            "type": "surface"
           }
          ],
          "table": [
           {
            "cells": {
             "fill": {
              "color": "#EBF0F8"
             },
             "line": {
              "color": "white"
             }
            },
            "header": {
             "fill": {
              "color": "#C8D4E3"
             },
             "line": {
              "color": "white"
             }
            },
            "type": "table"
           }
          ]
         },
         "layout": {
          "annotationdefaults": {
           "arrowcolor": "#2a3f5f",
           "arrowhead": 0,
           "arrowwidth": 1
          },
          "autotypenumbers": "strict",
          "coloraxis": {
           "colorbar": {
            "outlinewidth": 0,
            "ticks": ""
           }
          },
          "colorscale": {
           "diverging": [
            [
             0,
             "#8e0152"
            ],
            [
             0.1,
             "#c51b7d"
            ],
            [
             0.2,
             "#de77ae"
            ],
            [
             0.3,
             "#f1b6da"
            ],
            [
             0.4,
             "#fde0ef"
            ],
            [
             0.5,
             "#f7f7f7"
            ],
            [
             0.6,
             "#e6f5d0"
            ],
            [
             0.7,
             "#b8e186"
            ],
            [
             0.8,
             "#7fbc41"
            ],
            [
             0.9,
             "#4d9221"
            ],
            [
             1,
             "#276419"
            ]
           ],
           "sequential": [
            [
             0,
             "#0d0887"
            ],
            [
             0.1111111111111111,
             "#46039f"
            ],
            [
             0.2222222222222222,
             "#7201a8"
            ],
            [
             0.3333333333333333,
             "#9c179e"
            ],
            [
             0.4444444444444444,
             "#bd3786"
            ],
            [
             0.5555555555555556,
             "#d8576b"
            ],
            [
             0.6666666666666666,
             "#ed7953"
            ],
            [
             0.7777777777777778,
             "#fb9f3a"
            ],
            [
             0.8888888888888888,
             "#fdca26"
            ],
            [
             1,
             "#f0f921"
            ]
           ],
           "sequentialminus": [
            [
             0,
             "#0d0887"
            ],
            [
             0.1111111111111111,
             "#46039f"
            ],
            [
             0.2222222222222222,
             "#7201a8"
            ],
            [
             0.3333333333333333,
             "#9c179e"
            ],
            [
             0.4444444444444444,
             "#bd3786"
            ],
            [
             0.5555555555555556,
             "#d8576b"
            ],
            [
             0.6666666666666666,
             "#ed7953"
            ],
            [
             0.7777777777777778,
             "#fb9f3a"
            ],
            [
             0.8888888888888888,
             "#fdca26"
            ],
            [
             1,
             "#f0f921"
            ]
           ]
          },
          "colorway": [
           "#636efa",
           "#EF553B",
           "#00cc96",
           "#ab63fa",
           "#FFA15A",
           "#19d3f3",
           "#FF6692",
           "#B6E880",
           "#FF97FF",
           "#FECB52"
          ],
          "font": {
           "color": "#2a3f5f"
          },
          "geo": {
           "bgcolor": "white",
           "lakecolor": "white",
           "landcolor": "#E5ECF6",
           "showlakes": true,
           "showland": true,
           "subunitcolor": "white"
          },
          "hoverlabel": {
           "align": "left"
          },
          "hovermode": "closest",
          "mapbox": {
           "style": "light"
          },
          "paper_bgcolor": "white",
          "plot_bgcolor": "#E5ECF6",
          "polar": {
           "angularaxis": {
            "gridcolor": "white",
            "linecolor": "white",
            "ticks": ""
           },
           "bgcolor": "#E5ECF6",
           "radialaxis": {
            "gridcolor": "white",
            "linecolor": "white",
            "ticks": ""
           }
          },
          "scene": {
           "xaxis": {
            "backgroundcolor": "#E5ECF6",
            "gridcolor": "white",
            "gridwidth": 2,
            "linecolor": "white",
            "showbackground": true,
            "ticks": "",
            "zerolinecolor": "white"
           },
           "yaxis": {
            "backgroundcolor": "#E5ECF6",
            "gridcolor": "white",
            "gridwidth": 2,
            "linecolor": "white",
            "showbackground": true,
            "ticks": "",
            "zerolinecolor": "white"
           },
           "zaxis": {
            "backgroundcolor": "#E5ECF6",
            "gridcolor": "white",
            "gridwidth": 2,
            "linecolor": "white",
            "showbackground": true,
            "ticks": "",
            "zerolinecolor": "white"
           }
          },
          "shapedefaults": {
           "line": {
            "color": "#2a3f5f"
           }
          },
          "ternary": {
           "aaxis": {
            "gridcolor": "white",
            "linecolor": "white",
            "ticks": ""
           },
           "baxis": {
            "gridcolor": "white",
            "linecolor": "white",
            "ticks": ""
           },
           "bgcolor": "#E5ECF6",
           "caxis": {
            "gridcolor": "white",
            "linecolor": "white",
            "ticks": ""
           }
          },
          "title": {
           "x": 0.05
          },
          "xaxis": {
           "automargin": true,
           "gridcolor": "white",
           "linecolor": "white",
           "ticks": "",
           "title": {
            "standoff": 15
           },
           "zerolinecolor": "white",
           "zerolinewidth": 2
          },
          "yaxis": {
           "automargin": true,
           "gridcolor": "white",
           "linecolor": "white",
           "ticks": "",
           "title": {
            "standoff": 15
           },
           "zerolinecolor": "white",
           "zerolinewidth": 2
          }
         }
        },
        "title": {
         "text": "Radar chart of mean values of clusters"
        },
        "width": 800
       }
      }
     },
     "metadata": {},
     "output_type": "display_data"
    },
    {
     "data": {
      "application/vnd.plotly.v1+json": {
       "config": {
        "plotlyServerURL": "https://plot.ly"
       },
       "data": [
        {
         "fill": "toself",
         "marker": {
          "color": "blue"
         },
         "name": "Cluster 0",
         "r": [
          -1.0230397872868133,
          1.1581895870736387,
          0.9051913859227133,
          -0.9763301949383266,
          2.0256905580027635,
          -0.39928772359610937,
          -0.02558134934506821,
          0.4232181012063777
         ],
         "theta": [
          "energy",
          "loudness",
          "acousticness",
          "tempo ",
          "instrumentalness",
          "key",
          "speechiness",
          "valence"
         ],
         "type": "scatterpolar"
        },
        {
         "fill": "toself",
         "marker": {
          "color": "green"
         },
         "name": "Cluster 2",
         "r": [
          0.49661186168900856,
          -1.0247120500798832,
          -1.14348353871977,
          0.957510974007152,
          -1.0760466007800769,
          0.9468002955547752,
          -0.659699199579879,
          -1.2484875089978114
         ],
         "theta": [
          "energy",
          "loudness",
          "acousticness",
          "tempo ",
          "instrumentalness",
          "key",
          "speechiness",
          "valence"
         ],
         "type": "scatterpolar"
        },
        {
         "fill": "toself",
         "marker": {
          "color": "red"
         },
         "name": "Cluster 6",
         "r": [
          -0.8331004105081298,
          0.8413018943556114,
          0.7940413533934341,
          -0.9027070692451672,
          0.1181535582330019,
          -0.9111218211430994,
          -0.32164720594802465,
          1.2319920448760713
         ],
         "theta": [
          "energy",
          "loudness",
          "acousticness",
          "tempo ",
          "instrumentalness",
          "key",
          "speechiness",
          "valence"
         ],
         "type": "scatterpolar"
        },
        {
         "fill": "toself",
         "marker": {
          "color": "pink"
         },
         "name": "Cluster 8",
         "r": [
          2.5487753319093205,
          -1.3457195855412791,
          -1.8494915944112258,
          1.149327665352139,
          -1.374768050778912,
          1.7896182545127113,
          -0.6753509516418474,
          -1.4101569289534455
         ],
         "theta": [
          "energy",
          "loudness",
          "acousticness",
          "tempo ",
          "instrumentalness",
          "key",
          "speechiness",
          "valence"
         ],
         "type": "scatterpolar"
        },
        {
         "fill": "toself",
         "marker": {
          "color": "yellow"
         },
         "name": "Cluster 9",
         "r": [
          -0.14942090808029806,
          1.0656067061969212,
          0.8192382976307147,
          -0.9013700392443745,
          1.4510109995110658,
          -0.5759596254832056,
          1.6505017472588592,
          0.38568758541161974
         ],
         "theta": [
          "energy",
          "loudness",
          "acousticness",
          "tempo ",
          "instrumentalness",
          "key",
          "speechiness",
          "valence"
         ],
         "type": "scatterpolar"
        }
       ],
       "layout": {
        "height": 500,
        "polar": {
         "radialaxis": {
          "range": [
           -2,
           2.5
          ],
          "visible": true
         }
        },
        "showlegend": true,
        "template": {
         "data": {
          "bar": [
           {
            "error_x": {
             "color": "#2a3f5f"
            },
            "error_y": {
             "color": "#2a3f5f"
            },
            "marker": {
             "line": {
              "color": "#E5ECF6",
              "width": 0.5
             },
             "pattern": {
              "fillmode": "overlay",
              "size": 10,
              "solidity": 0.2
             }
            },
            "type": "bar"
           }
          ],
          "barpolar": [
           {
            "marker": {
             "line": {
              "color": "#E5ECF6",
              "width": 0.5
             },
             "pattern": {
              "fillmode": "overlay",
              "size": 10,
              "solidity": 0.2
             }
            },
            "type": "barpolar"
           }
          ],
          "carpet": [
           {
            "aaxis": {
             "endlinecolor": "#2a3f5f",
             "gridcolor": "white",
             "linecolor": "white",
             "minorgridcolor": "white",
             "startlinecolor": "#2a3f5f"
            },
            "baxis": {
             "endlinecolor": "#2a3f5f",
             "gridcolor": "white",
             "linecolor": "white",
             "minorgridcolor": "white",
             "startlinecolor": "#2a3f5f"
            },
            "type": "carpet"
           }
          ],
          "choropleth": [
           {
            "colorbar": {
             "outlinewidth": 0,
             "ticks": ""
            },
            "type": "choropleth"
           }
          ],
          "contour": [
           {
            "colorbar": {
             "outlinewidth": 0,
             "ticks": ""
            },
            "colorscale": [
             [
              0,
              "#0d0887"
             ],
             [
              0.1111111111111111,
              "#46039f"
             ],
             [
              0.2222222222222222,
              "#7201a8"
             ],
             [
              0.3333333333333333,
              "#9c179e"
             ],
             [
              0.4444444444444444,
              "#bd3786"
             ],
             [
              0.5555555555555556,
              "#d8576b"
             ],
             [
              0.6666666666666666,
              "#ed7953"
             ],
             [
              0.7777777777777778,
              "#fb9f3a"
             ],
             [
              0.8888888888888888,
              "#fdca26"
             ],
             [
              1,
              "#f0f921"
             ]
            ],
            "type": "contour"
           }
          ],
          "contourcarpet": [
           {
            "colorbar": {
             "outlinewidth": 0,
             "ticks": ""
            },
            "type": "contourcarpet"
           }
          ],
          "heatmap": [
           {
            "colorbar": {
             "outlinewidth": 0,
             "ticks": ""
            },
            "colorscale": [
             [
              0,
              "#0d0887"
             ],
             [
              0.1111111111111111,
              "#46039f"
             ],
             [
              0.2222222222222222,
              "#7201a8"
             ],
             [
              0.3333333333333333,
              "#9c179e"
             ],
             [
              0.4444444444444444,
              "#bd3786"
             ],
             [
              0.5555555555555556,
              "#d8576b"
             ],
             [
              0.6666666666666666,
              "#ed7953"
             ],
             [
              0.7777777777777778,
              "#fb9f3a"
             ],
             [
              0.8888888888888888,
              "#fdca26"
             ],
             [
              1,
              "#f0f921"
             ]
            ],
            "type": "heatmap"
           }
          ],
          "heatmapgl": [
           {
            "colorbar": {
             "outlinewidth": 0,
             "ticks": ""
            },
            "colorscale": [
             [
              0,
              "#0d0887"
             ],
             [
              0.1111111111111111,
              "#46039f"
             ],
             [
              0.2222222222222222,
              "#7201a8"
             ],
             [
              0.3333333333333333,
              "#9c179e"
             ],
             [
              0.4444444444444444,
              "#bd3786"
             ],
             [
              0.5555555555555556,
              "#d8576b"
             ],
             [
              0.6666666666666666,
              "#ed7953"
             ],
             [
              0.7777777777777778,
              "#fb9f3a"
             ],
             [
              0.8888888888888888,
              "#fdca26"
             ],
             [
              1,
              "#f0f921"
             ]
            ],
            "type": "heatmapgl"
           }
          ],
          "histogram": [
           {
            "marker": {
             "pattern": {
              "fillmode": "overlay",
              "size": 10,
              "solidity": 0.2
             }
            },
            "type": "histogram"
           }
          ],
          "histogram2d": [
           {
            "colorbar": {
             "outlinewidth": 0,
             "ticks": ""
            },
            "colorscale": [
             [
              0,
              "#0d0887"
             ],
             [
              0.1111111111111111,
              "#46039f"
             ],
             [
              0.2222222222222222,
              "#7201a8"
             ],
             [
              0.3333333333333333,
              "#9c179e"
             ],
             [
              0.4444444444444444,
              "#bd3786"
             ],
             [
              0.5555555555555556,
              "#d8576b"
             ],
             [
              0.6666666666666666,
              "#ed7953"
             ],
             [
              0.7777777777777778,
              "#fb9f3a"
             ],
             [
              0.8888888888888888,
              "#fdca26"
             ],
             [
              1,
              "#f0f921"
             ]
            ],
            "type": "histogram2d"
           }
          ],
          "histogram2dcontour": [
           {
            "colorbar": {
             "outlinewidth": 0,
             "ticks": ""
            },
            "colorscale": [
             [
              0,
              "#0d0887"
             ],
             [
              0.1111111111111111,
              "#46039f"
             ],
             [
              0.2222222222222222,
              "#7201a8"
             ],
             [
              0.3333333333333333,
              "#9c179e"
             ],
             [
              0.4444444444444444,
              "#bd3786"
             ],
             [
              0.5555555555555556,
              "#d8576b"
             ],
             [
              0.6666666666666666,
              "#ed7953"
             ],
             [
              0.7777777777777778,
              "#fb9f3a"
             ],
             [
              0.8888888888888888,
              "#fdca26"
             ],
             [
              1,
              "#f0f921"
             ]
            ],
            "type": "histogram2dcontour"
           }
          ],
          "mesh3d": [
           {
            "colorbar": {
             "outlinewidth": 0,
             "ticks": ""
            },
            "type": "mesh3d"
           }
          ],
          "parcoords": [
           {
            "line": {
             "colorbar": {
              "outlinewidth": 0,
              "ticks": ""
             }
            },
            "type": "parcoords"
           }
          ],
          "pie": [
           {
            "automargin": true,
            "type": "pie"
           }
          ],
          "scatter": [
           {
            "marker": {
             "colorbar": {
              "outlinewidth": 0,
              "ticks": ""
             }
            },
            "type": "scatter"
           }
          ],
          "scatter3d": [
           {
            "line": {
             "colorbar": {
              "outlinewidth": 0,
              "ticks": ""
             }
            },
            "marker": {
             "colorbar": {
              "outlinewidth": 0,
              "ticks": ""
             }
            },
            "type": "scatter3d"
           }
          ],
          "scattercarpet": [
           {
            "marker": {
             "colorbar": {
              "outlinewidth": 0,
              "ticks": ""
             }
            },
            "type": "scattercarpet"
           }
          ],
          "scattergeo": [
           {
            "marker": {
             "colorbar": {
              "outlinewidth": 0,
              "ticks": ""
             }
            },
            "type": "scattergeo"
           }
          ],
          "scattergl": [
           {
            "marker": {
             "colorbar": {
              "outlinewidth": 0,
              "ticks": ""
             }
            },
            "type": "scattergl"
           }
          ],
          "scattermapbox": [
           {
            "marker": {
             "colorbar": {
              "outlinewidth": 0,
              "ticks": ""
             }
            },
            "type": "scattermapbox"
           }
          ],
          "scatterpolar": [
           {
            "marker": {
             "colorbar": {
              "outlinewidth": 0,
              "ticks": ""
             }
            },
            "type": "scatterpolar"
           }
          ],
          "scatterpolargl": [
           {
            "marker": {
             "colorbar": {
              "outlinewidth": 0,
              "ticks": ""
             }
            },
            "type": "scatterpolargl"
           }
          ],
          "scatterternary": [
           {
            "marker": {
             "colorbar": {
              "outlinewidth": 0,
              "ticks": ""
             }
            },
            "type": "scatterternary"
           }
          ],
          "surface": [
           {
            "colorbar": {
             "outlinewidth": 0,
             "ticks": ""
            },
            "colorscale": [
             [
              0,
              "#0d0887"
             ],
             [
              0.1111111111111111,
              "#46039f"
             ],
             [
              0.2222222222222222,
              "#7201a8"
             ],
             [
              0.3333333333333333,
              "#9c179e"
             ],
             [
              0.4444444444444444,
              "#bd3786"
             ],
             [
              0.5555555555555556,
              "#d8576b"
             ],
             [
              0.6666666666666666,
              "#ed7953"
             ],
             [
              0.7777777777777778,
              "#fb9f3a"
             ],
             [
              0.8888888888888888,
              "#fdca26"
             ],
             [
              1,
              "#f0f921"
             ]
            ],
            "type": "surface"
           }
          ],
          "table": [
           {
            "cells": {
             "fill": {
              "color": "#EBF0F8"
             },
             "line": {
              "color": "white"
             }
            },
            "header": {
             "fill": {
              "color": "#C8D4E3"
             },
             "line": {
              "color": "white"
             }
            },
            "type": "table"
           }
          ]
         },
         "layout": {
          "annotationdefaults": {
           "arrowcolor": "#2a3f5f",
           "arrowhead": 0,
           "arrowwidth": 1
          },
          "autotypenumbers": "strict",
          "coloraxis": {
           "colorbar": {
            "outlinewidth": 0,
            "ticks": ""
           }
          },
          "colorscale": {
           "diverging": [
            [
             0,
             "#8e0152"
            ],
            [
             0.1,
             "#c51b7d"
            ],
            [
             0.2,
             "#de77ae"
            ],
            [
             0.3,
             "#f1b6da"
            ],
            [
             0.4,
             "#fde0ef"
            ],
            [
             0.5,
             "#f7f7f7"
            ],
            [
             0.6,
             "#e6f5d0"
            ],
            [
             0.7,
             "#b8e186"
            ],
            [
             0.8,
             "#7fbc41"
            ],
            [
             0.9,
             "#4d9221"
            ],
            [
             1,
             "#276419"
            ]
           ],
           "sequential": [
            [
             0,
             "#0d0887"
            ],
            [
             0.1111111111111111,
             "#46039f"
            ],
            [
             0.2222222222222222,
             "#7201a8"
            ],
            [
             0.3333333333333333,
             "#9c179e"
            ],
            [
             0.4444444444444444,
             "#bd3786"
            ],
            [
             0.5555555555555556,
             "#d8576b"
            ],
            [
             0.6666666666666666,
             "#ed7953"
            ],
            [
             0.7777777777777778,
             "#fb9f3a"
            ],
            [
             0.8888888888888888,
             "#fdca26"
            ],
            [
             1,
             "#f0f921"
            ]
           ],
           "sequentialminus": [
            [
             0,
             "#0d0887"
            ],
            [
             0.1111111111111111,
             "#46039f"
            ],
            [
             0.2222222222222222,
             "#7201a8"
            ],
            [
             0.3333333333333333,
             "#9c179e"
            ],
            [
             0.4444444444444444,
             "#bd3786"
            ],
            [
             0.5555555555555556,
             "#d8576b"
            ],
            [
             0.6666666666666666,
             "#ed7953"
            ],
            [
             0.7777777777777778,
             "#fb9f3a"
            ],
            [
             0.8888888888888888,
             "#fdca26"
            ],
            [
             1,
             "#f0f921"
            ]
           ]
          },
          "colorway": [
           "#636efa",
           "#EF553B",
           "#00cc96",
           "#ab63fa",
           "#FFA15A",
           "#19d3f3",
           "#FF6692",
           "#B6E880",
           "#FF97FF",
           "#FECB52"
          ],
          "font": {
           "color": "#2a3f5f"
          },
          "geo": {
           "bgcolor": "white",
           "lakecolor": "white",
           "landcolor": "#E5ECF6",
           "showlakes": true,
           "showland": true,
           "subunitcolor": "white"
          },
          "hoverlabel": {
           "align": "left"
          },
          "hovermode": "closest",
          "mapbox": {
           "style": "light"
          },
          "paper_bgcolor": "white",
          "plot_bgcolor": "#E5ECF6",
          "polar": {
           "angularaxis": {
            "gridcolor": "white",
            "linecolor": "white",
            "ticks": ""
           },
           "bgcolor": "#E5ECF6",
           "radialaxis": {
            "gridcolor": "white",
            "linecolor": "white",
            "ticks": ""
           }
          },
          "scene": {
           "xaxis": {
            "backgroundcolor": "#E5ECF6",
            "gridcolor": "white",
            "gridwidth": 2,
            "linecolor": "white",
            "showbackground": true,
            "ticks": "",
            "zerolinecolor": "white"
           },
           "yaxis": {
            "backgroundcolor": "#E5ECF6",
            "gridcolor": "white",
            "gridwidth": 2,
            "linecolor": "white",
            "showbackground": true,
            "ticks": "",
            "zerolinecolor": "white"
           },
           "zaxis": {
            "backgroundcolor": "#E5ECF6",
            "gridcolor": "white",
            "gridwidth": 2,
            "linecolor": "white",
            "showbackground": true,
            "ticks": "",
            "zerolinecolor": "white"
           }
          },
          "shapedefaults": {
           "line": {
            "color": "#2a3f5f"
           }
          },
          "ternary": {
           "aaxis": {
            "gridcolor": "white",
            "linecolor": "white",
            "ticks": ""
           },
           "baxis": {
            "gridcolor": "white",
            "linecolor": "white",
            "ticks": ""
           },
           "bgcolor": "#E5ECF6",
           "caxis": {
            "gridcolor": "white",
            "linecolor": "white",
            "ticks": ""
           }
          },
          "title": {
           "x": 0.05
          },
          "xaxis": {
           "automargin": true,
           "gridcolor": "white",
           "linecolor": "white",
           "ticks": "",
           "title": {
            "standoff": 15
           },
           "zerolinecolor": "white",
           "zerolinewidth": 2
          },
          "yaxis": {
           "automargin": true,
           "gridcolor": "white",
           "linecolor": "white",
           "ticks": "",
           "title": {
            "standoff": 15
           },
           "zerolinecolor": "white",
           "zerolinewidth": 2
          }
         }
        },
        "title": {
         "text": "Radar chart of mean values of clusters"
        },
        "width": 800
       }
      }
     },
     "metadata": {},
     "output_type": "display_data"
    }
   ],
   "source": [
    "# state the label for each arm of the chart\n",
    "categories = ['energy', 'loudness', 'acousticness','tempo ','instrumentalness','key','speechiness', 'valence']\n",
    "\n",
    "# plot the initialised plot\n",
    "fig = go.Figure()\n",
    "\n",
    "\n",
    "\n",
    "# add a layer over the top of the initialised plot - this one is for cluster 1\n",
    "fig.add_trace(go.Scatterpolar(\n",
    "      r=[result_means_distance.loc[result_means_distance[\"cluster\"] == 1, 'key'].mean(),\n",
    "        result_means_distance.loc[result_means_distance[\"cluster\"] == 1, 'energy'].mean(),\n",
    "        result_means_distance.loc[result_means_distance[\"cluster\"] == 1, 'loudness'].mean(),\n",
    "        result_means_distance.loc[result_means_distance[\"cluster\"] == 1, 'acousticness'].mean(),\n",
    "        result_means_distance.loc[result_means_distance[\"cluster\"] == 1, 'tempo'].mean(),\n",
    "        result_means_distance.loc[result_means_distance[\"cluster\"] == 1, 'instrumentalness'].mean(),\n",
    "        result_means_distance.loc[result_means_distance[\"cluster\"] == 1, 'speechiness'].mean(),\n",
    "        result_means_distance.loc[result_means_distance[\"cluster\"] == 1, 'valence'].mean()],\n",
    "      theta=categories,\n",
    "      fill='toself',\n",
    "      name='Cluster 1',\n",
    "      marker=dict(color=\"red\")\n",
    "))\n",
    "\n",
    "\n",
    "# add a layer over the top of the initialised plot - this one is for cluster 3\n",
    "fig.add_trace(go.Scatterpolar(\n",
    "      r=[result_means_distance.loc[result_means_distance[\"cluster\"] == 3, 'key'].mean(),\n",
    "        result_means_distance.loc[result_means_distance[\"cluster\"] == 3, 'energy'].mean(),\n",
    "        result_means_distance.loc[result_means_distance[\"cluster\"] == 3, 'loudness'].mean(),\n",
    "        result_means_distance.loc[result_means_distance[\"cluster\"] == 3, 'acousticness'].mean(),\n",
    "        result_means_distance.loc[result_means_distance[\"cluster\"] == 3, 'tempo'].mean(),\n",
    "        result_means_distance.loc[result_means_distance[\"cluster\"] == 3, 'instrumentalness'].mean(),\n",
    "        result_means_distance.loc[result_means_distance[\"cluster\"] == 3, 'speechiness'].mean(),\n",
    "        result_means_distance.loc[result_means_distance[\"cluster\"] == 3, 'valence'].mean()],\n",
    "      theta=categories,\n",
    "      fill='toself',\n",
    "      name='Cluster 3',\n",
    "      marker=dict(color=\"pink\")\n",
    "))\n",
    "\n",
    "# add a layer over the top of the initialised plot - this one is for cluster 4\n",
    "fig.add_trace(go.Scatterpolar(\n",
    "      r=[result_means_distance.loc[result_means_distance[\"cluster\"] == 4, 'key'].mean(),\n",
    "        result_means_distance.loc[result_means_distance[\"cluster\"] == 4, 'energy'].mean(),\n",
    "        result_means_distance.loc[result_means_distance[\"cluster\"] == 4, 'loudness'].mean(),\n",
    "        result_means_distance.loc[result_means_distance[\"cluster\"] == 4, 'acousticness'].mean(),\n",
    "        result_means_distance.loc[result_means_distance[\"cluster\"] == 4, 'tempo'].mean(),\n",
    "        result_means_distance.loc[result_means_distance[\"cluster\"] == 4, 'instrumentalness'].mean(),\n",
    "        result_means_distance.loc[result_means_distance[\"cluster\"] == 4, 'speechiness'].mean(),\n",
    "        result_means_distance.loc[result_means_distance[\"cluster\"] == 4, 'valence'].mean()],\n",
    "      theta=categories,\n",
    "      fill='toself',\n",
    "      name='Cluster 4',\n",
    "      marker=dict(color=\"yellow\")\n",
    "))\n",
    "\n",
    "# add a layer over the top of the initialised plot - this one is for cluster 0\n",
    "fig.add_trace(go.Scatterpolar(\n",
    "      r=[result_means_distance.loc[result_means_distance[\"cluster\"] == 5, 'key'].mean(),\n",
    "        result_means_distance.loc[result_means_distance[\"cluster\"] == 5, 'energy'].mean(),\n",
    "        result_means_distance.loc[result_means_distance[\"cluster\"] == 5, 'loudness'].mean(),\n",
    "        result_means_distance.loc[result_means_distance[\"cluster\"] == 5, 'acousticness'].mean(),\n",
    "        result_means_distance.loc[result_means_distance[\"cluster\"] == 5, 'tempo'].mean(),\n",
    "        result_means_distance.loc[result_means_distance[\"cluster\"] == 5, 'instrumentalness'].mean(),\n",
    "        result_means_distance.loc[result_means_distance[\"cluster\"] == 5, 'speechiness'].mean(),\n",
    "        result_means_distance.loc[result_means_distance[\"cluster\"] == 5, 'valence'].mean()],\n",
    "      theta=categories,\n",
    "      fill='toself',\n",
    "      name='Cluster 5',\n",
    "      marker=dict(color=\"blue\")\n",
    "))\n",
    "\n",
    "# add a layer over the top of the initialised plot - this one is for cluster 2\n",
    "fig.add_trace(go.Scatterpolar(\n",
    "      r=[result_means_distance.loc[result_means_distance[\"cluster\"] == 7, 'key'].mean(),\n",
    "        result_means_distance.loc[result_means_distance[\"cluster\"] == 7, 'energy'].mean(),\n",
    "        result_means_distance.loc[result_means_distance[\"cluster\"] == 7, 'loudness'].mean(),\n",
    "        result_means_distance.loc[result_means_distance[\"cluster\"] == 7, 'acousticness'].mean(),\n",
    "        result_means_distance.loc[result_means_distance[\"cluster\"] == 7, 'tempo'].mean(),\n",
    "        result_means_distance.loc[result_means_distance[\"cluster\"] == 7, 'instrumentalness'].mean(),\n",
    "        result_means_distance.loc[result_means_distance[\"cluster\"] == 7, 'speechiness'].mean(),\n",
    "        result_means_distance.loc[result_means_distance[\"cluster\"] == 7, 'valence'].mean()],\n",
    "      theta=categories,\n",
    "      fill='toself',\n",
    "      name='Cluster 7',\n",
    "      marker=dict(color=\"green\")\n",
    "))\n",
    "\n",
    "# Add extras to the plot such as title\n",
    "# You'll always need `polar=dict(radialaxis=dict(visible=True,range=[0, 1])),` when creating a radar plot\n",
    "fig.update_layout(\n",
    "  title_text = 'Radar chart of mean values of clusters',\n",
    "  height = 500,\n",
    "  width = 800,\n",
    "  polar=dict(\n",
    "    radialaxis=dict(\n",
    "      visible=True,\n",
    "      range=[-2, 2.5]\n",
    "    )),\n",
    "  showlegend=True\n",
    ")\n",
    "\n",
    "# Show the initialised plot and the layers\n",
    "fig.show()\n",
    "\n",
    "# plot the initialised plot\n",
    "fig2 = go.Figure()\n",
    "\n",
    "# add a layer over the top of the initialised plot - this one is for cluster 0\n",
    "fig2.add_trace(go.Scatterpolar(\n",
    "      r=[result_means_distance.loc[result_means_distance[\"cluster\"] == 0, 'key'].mean(),\n",
    "        result_means_distance.loc[result_means_distance[\"cluster\"] == 0, 'energy'].mean(),\n",
    "        result_means_distance.loc[result_means_distance[\"cluster\"] == 0, 'loudness'].mean(),\n",
    "        result_means_distance.loc[result_means_distance[\"cluster\"] == 0, 'acousticness'].mean(),\n",
    "        result_means_distance.loc[result_means_distance[\"cluster\"] == 0, 'tempo'].mean(),\n",
    "        result_means_distance.loc[result_means_distance[\"cluster\"] == 0, 'instrumentalness'].mean(),\n",
    "        result_means_distance.loc[result_means_distance[\"cluster\"] == 0, 'speechiness'].mean(),\n",
    "        result_means_distance.loc[result_means_distance[\"cluster\"] == 0, 'valence'].mean()\n",
    "],\n",
    "      theta=categories,\n",
    "      fill='toself',\n",
    "      name='Cluster 0',\n",
    "      marker=dict(color=\"blue\")\n",
    "))\n",
    "\n",
    "# add a layer over the top of the initialised plot - this one is for cluster 2\n",
    "fig2.add_trace(go.Scatterpolar(\n",
    "      r=[result_means_distance.loc[result_means_distance[\"cluster\"] == 2, 'key'].mean(),\n",
    "        result_means_distance.loc[result_means_distance[\"cluster\"] == 2, 'energy'].mean(),\n",
    "        result_means_distance.loc[result_means_distance[\"cluster\"] == 2, 'loudness'].mean(),\n",
    "        result_means_distance.loc[result_means_distance[\"cluster\"] == 2, 'acousticness'].mean(),\n",
    "        result_means_distance.loc[result_means_distance[\"cluster\"] == 2, 'tempo'].mean(),\n",
    "        result_means_distance.loc[result_means_distance[\"cluster\"] == 2, 'instrumentalness'].mean(),\n",
    "        result_means_distance.loc[result_means_distance[\"cluster\"] == 2, 'speechiness'].mean(),\n",
    "        result_means_distance.loc[result_means_distance[\"cluster\"] == 2, 'valence'].mean()],\n",
    "      theta=categories,\n",
    "      fill='toself',\n",
    "      name='Cluster 2',\n",
    "      marker=dict(color=\"green\")\n",
    "))\n",
    "\n",
    "\n",
    "\n",
    "# add a layer over the top of the initialised plot - this one is for cluster 1\n",
    "fig2.add_trace(go.Scatterpolar(\n",
    "      r=[result_means_distance.loc[result_means_distance[\"cluster\"] == 6, 'key'].mean(),\n",
    "        result_means_distance.loc[result_means_distance[\"cluster\"] == 6, 'energy'].mean(),\n",
    "        result_means_distance.loc[result_means_distance[\"cluster\"] == 6, 'loudness'].mean(),\n",
    "        result_means_distance.loc[result_means_distance[\"cluster\"] == 6, 'acousticness'].mean(),\n",
    "        result_means_distance.loc[result_means_distance[\"cluster\"] == 6, 'tempo'].mean(),\n",
    "        result_means_distance.loc[result_means_distance[\"cluster\"] == 6, 'instrumentalness'].mean(),\n",
    "        result_means_distance.loc[result_means_distance[\"cluster\"] == 6, 'speechiness'].mean(),\n",
    "        result_means_distance.loc[result_means_distance[\"cluster\"] == 6, 'valence'].mean()],\n",
    "      theta=categories,\n",
    "      fill='toself',\n",
    "      name='Cluster 6',\n",
    "      marker=dict(color=\"red\")\n",
    "))\n",
    "\n",
    "\n",
    "# add a layer over the top of the initialised plot - this one is for cluster 3\n",
    "fig2.add_trace(go.Scatterpolar(\n",
    "      r=[result_means_distance.loc[result_means_distance[\"cluster\"] == 8, 'key'].mean(),\n",
    "        result_means_distance.loc[result_means_distance[\"cluster\"] == 8, 'energy'].mean(),\n",
    "        result_means_distance.loc[result_means_distance[\"cluster\"] == 8, 'loudness'].mean(),\n",
    "        result_means_distance.loc[result_means_distance[\"cluster\"] == 8, 'acousticness'].mean(),\n",
    "        result_means_distance.loc[result_means_distance[\"cluster\"] == 8, 'tempo'].mean(),\n",
    "        result_means_distance.loc[result_means_distance[\"cluster\"] == 8, 'instrumentalness'].mean(),\n",
    "        result_means_distance.loc[result_means_distance[\"cluster\"] == 8, 'speechiness'].mean(),\n",
    "        result_means_distance.loc[result_means_distance[\"cluster\"] == 8, 'valence'].mean()],\n",
    "      theta=categories,\n",
    "      fill='toself',\n",
    "      name='Cluster 8',\n",
    "      marker=dict(color=\"pink\")\n",
    "))\n",
    "\n",
    "# add a layer over the top of the initialised plot - this one is for cluster 4\n",
    "fig2.add_trace(go.Scatterpolar(\n",
    "      r=[result_means_distance.loc[result_means_distance[\"cluster\"] == 9, 'key'].mean(),\n",
    "        result_means_distance.loc[result_means_distance[\"cluster\"] == 9, 'energy'].mean(),\n",
    "        result_means_distance.loc[result_means_distance[\"cluster\"] == 9, 'loudness'].mean(),\n",
    "        result_means_distance.loc[result_means_distance[\"cluster\"] == 9, 'acousticness'].mean(),\n",
    "        result_means_distance.loc[result_means_distance[\"cluster\"] == 9, 'tempo'].mean(),\n",
    "        result_means_distance.loc[result_means_distance[\"cluster\"] == 9, 'instrumentalness'].mean(),\n",
    "        result_means_distance.loc[result_means_distance[\"cluster\"] == 9, 'speechiness'].mean(),\n",
    "        result_means_distance.loc[result_means_distance[\"cluster\"] == 9, 'valence'].mean()],\n",
    "      theta=categories,\n",
    "      fill='toself',\n",
    "      name='Cluster 9',\n",
    "      marker=dict(color=\"yellow\")\n",
    "))\n",
    "\n",
    "\n",
    "\n",
    "# Add extras to the plot such as title\n",
    "# You'll always need `polar=dict(radialaxis=dict(visible=True,range=[0, 1])),` when creating a radar plot\n",
    "fig2.update_layout(\n",
    "  title_text = 'Radar chart of mean values of clusters',\n",
    "  height = 500,\n",
    "  width = 800,\n",
    "  polar=dict(\n",
    "    radialaxis=dict(\n",
    "      visible=True,\n",
    "      range=[-2, 2.5]\n",
    "    )),\n",
    "  showlegend=True\n",
    ")\n",
    "\n",
    "# Show the initialised plot and the layers\n",
    "fig2.show()"
   ]
  },
  {
   "cell_type": "code",
   "execution_count": 119,
   "metadata": {},
   "outputs": [],
   "source": [
    "# Cluster 0 : Jazz Classics / Old tutti frutti\n",
    "# Cluster 1 : Opera\n",
    "# Cluster 2 : Opera and 50s/Christmas\n",
    "# Cluster 3 : Jazz Classics and Rock&Roll(Elvis)\n",
    "# Cluster 4 : Old tutti frutti / Recent Pop / RockReggea (Police)\n",
    "# Cluster 5 : REALLY GOOD -> Jazz / Melodic\n",
    "# Cluster 6 : Old chill Rock/Christmas\n",
    "# Cluster 7 : REALLY GOOD -> Rock and roll classics\n",
    "# Cluster 8 : Symphony\n",
    "# Cluster 9 : Rock and Roll and Movie Soundtracks"
   ]
  },
  {
   "cell_type": "code",
   "execution_count": 128,
   "metadata": {},
   "outputs": [
    {
     "data": {
      "application/vnd.plotly.v1+json": {
       "config": {
        "plotlyServerURL": "https://plot.ly"
       },
       "data": [
        {
         "fill": "toself",
         "marker": {
          "color": "red"
         },
         "name": "Cluster 5",
         "r": [
          -1.0755313575619434,
          -0.9386397548749169,
          -0.36914914363040385,
          1.1378640510624063,
          -0.36443015322153943,
          0.34203496054632954,
          -0.6690753100629456,
          -0.6644087418924353
         ],
         "theta": [
          "energy",
          "loudness",
          "acousticness",
          "tempo ",
          "instrumentalness",
          "key",
          "speechiness",
          "valence"
         ],
         "type": "scatterpolar"
        },
        {
         "fill": "toself",
         "marker": {
          "color": "pink"
         },
         "name": "Cluster 0",
         "r": [
          -1.0230397872868133,
          1.1581895870736387,
          0.9051913859227133,
          -0.9763301949383266,
          2.0256905580027635,
          -0.39928772359610937,
          -0.02558134934506821,
          0.4232181012063777
         ],
         "theta": [
          "energy",
          "loudness",
          "acousticness",
          "tempo ",
          "instrumentalness",
          "key",
          "speechiness",
          "valence"
         ],
         "type": "scatterpolar"
        }
       ],
       "layout": {
        "height": 500,
        "polar": {
         "radialaxis": {
          "range": [
           -2,
           2.5
          ],
          "visible": true
         }
        },
        "showlegend": true,
        "template": {
         "data": {
          "bar": [
           {
            "error_x": {
             "color": "#2a3f5f"
            },
            "error_y": {
             "color": "#2a3f5f"
            },
            "marker": {
             "line": {
              "color": "#E5ECF6",
              "width": 0.5
             },
             "pattern": {
              "fillmode": "overlay",
              "size": 10,
              "solidity": 0.2
             }
            },
            "type": "bar"
           }
          ],
          "barpolar": [
           {
            "marker": {
             "line": {
              "color": "#E5ECF6",
              "width": 0.5
             },
             "pattern": {
              "fillmode": "overlay",
              "size": 10,
              "solidity": 0.2
             }
            },
            "type": "barpolar"
           }
          ],
          "carpet": [
           {
            "aaxis": {
             "endlinecolor": "#2a3f5f",
             "gridcolor": "white",
             "linecolor": "white",
             "minorgridcolor": "white",
             "startlinecolor": "#2a3f5f"
            },
            "baxis": {
             "endlinecolor": "#2a3f5f",
             "gridcolor": "white",
             "linecolor": "white",
             "minorgridcolor": "white",
             "startlinecolor": "#2a3f5f"
            },
            "type": "carpet"
           }
          ],
          "choropleth": [
           {
            "colorbar": {
             "outlinewidth": 0,
             "ticks": ""
            },
            "type": "choropleth"
           }
          ],
          "contour": [
           {
            "colorbar": {
             "outlinewidth": 0,
             "ticks": ""
            },
            "colorscale": [
             [
              0,
              "#0d0887"
             ],
             [
              0.1111111111111111,
              "#46039f"
             ],
             [
              0.2222222222222222,
              "#7201a8"
             ],
             [
              0.3333333333333333,
              "#9c179e"
             ],
             [
              0.4444444444444444,
              "#bd3786"
             ],
             [
              0.5555555555555556,
              "#d8576b"
             ],
             [
              0.6666666666666666,
              "#ed7953"
             ],
             [
              0.7777777777777778,
              "#fb9f3a"
             ],
             [
              0.8888888888888888,
              "#fdca26"
             ],
             [
              1,
              "#f0f921"
             ]
            ],
            "type": "contour"
           }
          ],
          "contourcarpet": [
           {
            "colorbar": {
             "outlinewidth": 0,
             "ticks": ""
            },
            "type": "contourcarpet"
           }
          ],
          "heatmap": [
           {
            "colorbar": {
             "outlinewidth": 0,
             "ticks": ""
            },
            "colorscale": [
             [
              0,
              "#0d0887"
             ],
             [
              0.1111111111111111,
              "#46039f"
             ],
             [
              0.2222222222222222,
              "#7201a8"
             ],
             [
              0.3333333333333333,
              "#9c179e"
             ],
             [
              0.4444444444444444,
              "#bd3786"
             ],
             [
              0.5555555555555556,
              "#d8576b"
             ],
             [
              0.6666666666666666,
              "#ed7953"
             ],
             [
              0.7777777777777778,
              "#fb9f3a"
             ],
             [
              0.8888888888888888,
              "#fdca26"
             ],
             [
              1,
              "#f0f921"
             ]
            ],
            "type": "heatmap"
           }
          ],
          "heatmapgl": [
           {
            "colorbar": {
             "outlinewidth": 0,
             "ticks": ""
            },
            "colorscale": [
             [
              0,
              "#0d0887"
             ],
             [
              0.1111111111111111,
              "#46039f"
             ],
             [
              0.2222222222222222,
              "#7201a8"
             ],
             [
              0.3333333333333333,
              "#9c179e"
             ],
             [
              0.4444444444444444,
              "#bd3786"
             ],
             [
              0.5555555555555556,
              "#d8576b"
             ],
             [
              0.6666666666666666,
              "#ed7953"
             ],
             [
              0.7777777777777778,
              "#fb9f3a"
             ],
             [
              0.8888888888888888,
              "#fdca26"
             ],
             [
              1,
              "#f0f921"
             ]
            ],
            "type": "heatmapgl"
           }
          ],
          "histogram": [
           {
            "marker": {
             "pattern": {
              "fillmode": "overlay",
              "size": 10,
              "solidity": 0.2
             }
            },
            "type": "histogram"
           }
          ],
          "histogram2d": [
           {
            "colorbar": {
             "outlinewidth": 0,
             "ticks": ""
            },
            "colorscale": [
             [
              0,
              "#0d0887"
             ],
             [
              0.1111111111111111,
              "#46039f"
             ],
             [
              0.2222222222222222,
              "#7201a8"
             ],
             [
              0.3333333333333333,
              "#9c179e"
             ],
             [
              0.4444444444444444,
              "#bd3786"
             ],
             [
              0.5555555555555556,
              "#d8576b"
             ],
             [
              0.6666666666666666,
              "#ed7953"
             ],
             [
              0.7777777777777778,
              "#fb9f3a"
             ],
             [
              0.8888888888888888,
              "#fdca26"
             ],
             [
              1,
              "#f0f921"
             ]
            ],
            "type": "histogram2d"
           }
          ],
          "histogram2dcontour": [
           {
            "colorbar": {
             "outlinewidth": 0,
             "ticks": ""
            },
            "colorscale": [
             [
              0,
              "#0d0887"
             ],
             [
              0.1111111111111111,
              "#46039f"
             ],
             [
              0.2222222222222222,
              "#7201a8"
             ],
             [
              0.3333333333333333,
              "#9c179e"
             ],
             [
              0.4444444444444444,
              "#bd3786"
             ],
             [
              0.5555555555555556,
              "#d8576b"
             ],
             [
              0.6666666666666666,
              "#ed7953"
             ],
             [
              0.7777777777777778,
              "#fb9f3a"
             ],
             [
              0.8888888888888888,
              "#fdca26"
             ],
             [
              1,
              "#f0f921"
             ]
            ],
            "type": "histogram2dcontour"
           }
          ],
          "mesh3d": [
           {
            "colorbar": {
             "outlinewidth": 0,
             "ticks": ""
            },
            "type": "mesh3d"
           }
          ],
          "parcoords": [
           {
            "line": {
             "colorbar": {
              "outlinewidth": 0,
              "ticks": ""
             }
            },
            "type": "parcoords"
           }
          ],
          "pie": [
           {
            "automargin": true,
            "type": "pie"
           }
          ],
          "scatter": [
           {
            "marker": {
             "colorbar": {
              "outlinewidth": 0,
              "ticks": ""
             }
            },
            "type": "scatter"
           }
          ],
          "scatter3d": [
           {
            "line": {
             "colorbar": {
              "outlinewidth": 0,
              "ticks": ""
             }
            },
            "marker": {
             "colorbar": {
              "outlinewidth": 0,
              "ticks": ""
             }
            },
            "type": "scatter3d"
           }
          ],
          "scattercarpet": [
           {
            "marker": {
             "colorbar": {
              "outlinewidth": 0,
              "ticks": ""
             }
            },
            "type": "scattercarpet"
           }
          ],
          "scattergeo": [
           {
            "marker": {
             "colorbar": {
              "outlinewidth": 0,
              "ticks": ""
             }
            },
            "type": "scattergeo"
           }
          ],
          "scattergl": [
           {
            "marker": {
             "colorbar": {
              "outlinewidth": 0,
              "ticks": ""
             }
            },
            "type": "scattergl"
           }
          ],
          "scattermapbox": [
           {
            "marker": {
             "colorbar": {
              "outlinewidth": 0,
              "ticks": ""
             }
            },
            "type": "scattermapbox"
           }
          ],
          "scatterpolar": [
           {
            "marker": {
             "colorbar": {
              "outlinewidth": 0,
              "ticks": ""
             }
            },
            "type": "scatterpolar"
           }
          ],
          "scatterpolargl": [
           {
            "marker": {
             "colorbar": {
              "outlinewidth": 0,
              "ticks": ""
             }
            },
            "type": "scatterpolargl"
           }
          ],
          "scatterternary": [
           {
            "marker": {
             "colorbar": {
              "outlinewidth": 0,
              "ticks": ""
             }
            },
            "type": "scatterternary"
           }
          ],
          "surface": [
           {
            "colorbar": {
             "outlinewidth": 0,
             "ticks": ""
            },
            "colorscale": [
             [
              0,
              "#0d0887"
             ],
             [
              0.1111111111111111,
              "#46039f"
             ],
             [
              0.2222222222222222,
              "#7201a8"
             ],
             [
              0.3333333333333333,
              "#9c179e"
             ],
             [
              0.4444444444444444,
              "#bd3786"
             ],
             [
              0.5555555555555556,
              "#d8576b"
             ],
             [
              0.6666666666666666,
              "#ed7953"
             ],
             [
              0.7777777777777778,
              "#fb9f3a"
             ],
             [
              0.8888888888888888,
              "#fdca26"
             ],
             [
              1,
              "#f0f921"
             ]
            ],
            "type": "surface"
           }
          ],
          "table": [
           {
            "cells": {
             "fill": {
              "color": "#EBF0F8"
             },
             "line": {
              "color": "white"
             }
            },
            "header": {
             "fill": {
              "color": "#C8D4E3"
             },
             "line": {
              "color": "white"
             }
            },
            "type": "table"
           }
          ]
         },
         "layout": {
          "annotationdefaults": {
           "arrowcolor": "#2a3f5f",
           "arrowhead": 0,
           "arrowwidth": 1
          },
          "autotypenumbers": "strict",
          "coloraxis": {
           "colorbar": {
            "outlinewidth": 0,
            "ticks": ""
           }
          },
          "colorscale": {
           "diverging": [
            [
             0,
             "#8e0152"
            ],
            [
             0.1,
             "#c51b7d"
            ],
            [
             0.2,
             "#de77ae"
            ],
            [
             0.3,
             "#f1b6da"
            ],
            [
             0.4,
             "#fde0ef"
            ],
            [
             0.5,
             "#f7f7f7"
            ],
            [
             0.6,
             "#e6f5d0"
            ],
            [
             0.7,
             "#b8e186"
            ],
            [
             0.8,
             "#7fbc41"
            ],
            [
             0.9,
             "#4d9221"
            ],
            [
             1,
             "#276419"
            ]
           ],
           "sequential": [
            [
             0,
             "#0d0887"
            ],
            [
             0.1111111111111111,
             "#46039f"
            ],
            [
             0.2222222222222222,
             "#7201a8"
            ],
            [
             0.3333333333333333,
             "#9c179e"
            ],
            [
             0.4444444444444444,
             "#bd3786"
            ],
            [
             0.5555555555555556,
             "#d8576b"
            ],
            [
             0.6666666666666666,
             "#ed7953"
            ],
            [
             0.7777777777777778,
             "#fb9f3a"
            ],
            [
             0.8888888888888888,
             "#fdca26"
            ],
            [
             1,
             "#f0f921"
            ]
           ],
           "sequentialminus": [
            [
             0,
             "#0d0887"
            ],
            [
             0.1111111111111111,
             "#46039f"
            ],
            [
             0.2222222222222222,
             "#7201a8"
            ],
            [
             0.3333333333333333,
             "#9c179e"
            ],
            [
             0.4444444444444444,
             "#bd3786"
            ],
            [
             0.5555555555555556,
             "#d8576b"
            ],
            [
             0.6666666666666666,
             "#ed7953"
            ],
            [
             0.7777777777777778,
             "#fb9f3a"
            ],
            [
             0.8888888888888888,
             "#fdca26"
            ],
            [
             1,
             "#f0f921"
            ]
           ]
          },
          "colorway": [
           "#636efa",
           "#EF553B",
           "#00cc96",
           "#ab63fa",
           "#FFA15A",
           "#19d3f3",
           "#FF6692",
           "#B6E880",
           "#FF97FF",
           "#FECB52"
          ],
          "font": {
           "color": "#2a3f5f"
          },
          "geo": {
           "bgcolor": "white",
           "lakecolor": "white",
           "landcolor": "#E5ECF6",
           "showlakes": true,
           "showland": true,
           "subunitcolor": "white"
          },
          "hoverlabel": {
           "align": "left"
          },
          "hovermode": "closest",
          "mapbox": {
           "style": "light"
          },
          "paper_bgcolor": "white",
          "plot_bgcolor": "#E5ECF6",
          "polar": {
           "angularaxis": {
            "gridcolor": "white",
            "linecolor": "white",
            "ticks": ""
           },
           "bgcolor": "#E5ECF6",
           "radialaxis": {
            "gridcolor": "white",
            "linecolor": "white",
            "ticks": ""
           }
          },
          "scene": {
           "xaxis": {
            "backgroundcolor": "#E5ECF6",
            "gridcolor": "white",
            "gridwidth": 2,
            "linecolor": "white",
            "showbackground": true,
            "ticks": "",
            "zerolinecolor": "white"
           },
           "yaxis": {
            "backgroundcolor": "#E5ECF6",
            "gridcolor": "white",
            "gridwidth": 2,
            "linecolor": "white",
            "showbackground": true,
            "ticks": "",
            "zerolinecolor": "white"
           },
           "zaxis": {
            "backgroundcolor": "#E5ECF6",
            "gridcolor": "white",
            "gridwidth": 2,
            "linecolor": "white",
            "showbackground": true,
            "ticks": "",
            "zerolinecolor": "white"
           }
          },
          "shapedefaults": {
           "line": {
            "color": "#2a3f5f"
           }
          },
          "ternary": {
           "aaxis": {
            "gridcolor": "white",
            "linecolor": "white",
            "ticks": ""
           },
           "baxis": {
            "gridcolor": "white",
            "linecolor": "white",
            "ticks": ""
           },
           "bgcolor": "#E5ECF6",
           "caxis": {
            "gridcolor": "white",
            "linecolor": "white",
            "ticks": ""
           }
          },
          "title": {
           "x": 0.05
          },
          "xaxis": {
           "automargin": true,
           "gridcolor": "white",
           "linecolor": "white",
           "ticks": "",
           "title": {
            "standoff": 15
           },
           "zerolinecolor": "white",
           "zerolinewidth": 2
          },
          "yaxis": {
           "automargin": true,
           "gridcolor": "white",
           "linecolor": "white",
           "ticks": "",
           "title": {
            "standoff": 15
           },
           "zerolinecolor": "white",
           "zerolinewidth": 2
          }
         }
        },
        "title": {
         "text": "Radar chart of mean values of clusters"
        },
        "width": 800
       }
      }
     },
     "metadata": {},
     "output_type": "display_data"
    }
   ],
   "source": [
    "# state the label for each arm of the chart\n",
    "categories = ['energy', 'loudness', 'acousticness','tempo ','instrumentalness','key','speechiness', 'valence']\n",
    "\n",
    "# plot the initialised plot\n",
    "fig = go.Figure()\n",
    "\n",
    "\n",
    "\n",
    "# add a layer over the top of the initialised plot - this one is for cluster 1\n",
    "fig.add_trace(go.Scatterpolar(\n",
    "      r=[result_means_distance.loc[result_means_distance[\"cluster\"] == 5, 'key'].mean(),\n",
    "        result_means_distance.loc[result_means_distance[\"cluster\"] == 5, 'energy'].mean(),\n",
    "        result_means_distance.loc[result_means_distance[\"cluster\"] == 5, 'loudness'].mean(),\n",
    "        result_means_distance.loc[result_means_distance[\"cluster\"] == 5, 'acousticness'].mean(),\n",
    "        result_means_distance.loc[result_means_distance[\"cluster\"] == 5, 'tempo'].mean(),\n",
    "        result_means_distance.loc[result_means_distance[\"cluster\"] == 5, 'instrumentalness'].mean(),\n",
    "        result_means_distance.loc[result_means_distance[\"cluster\"] == 5, 'speechiness'].mean(),\n",
    "        result_means_distance.loc[result_means_distance[\"cluster\"] == 5, 'valence'].mean()],\n",
    "      theta=categories,\n",
    "      fill='toself',\n",
    "      name='Cluster 5',\n",
    "      marker=dict(color=\"red\")\n",
    "))\n",
    "\n",
    "\n",
    "# add a layer over the top of the initialised plot - this one is for cluster 3\n",
    "fig.add_trace(go.Scatterpolar(\n",
    "      r=[result_means_distance.loc[result_means_distance[\"cluster\"] == 0, 'key'].mean(),\n",
    "        result_means_distance.loc[result_means_distance[\"cluster\"] == 0, 'energy'].mean(),\n",
    "        result_means_distance.loc[result_means_distance[\"cluster\"] == 0, 'loudness'].mean(),\n",
    "        result_means_distance.loc[result_means_distance[\"cluster\"] == 0, 'acousticness'].mean(),\n",
    "        result_means_distance.loc[result_means_distance[\"cluster\"] == 0, 'tempo'].mean(),\n",
    "        result_means_distance.loc[result_means_distance[\"cluster\"] == 0, 'instrumentalness'].mean(),\n",
    "        result_means_distance.loc[result_means_distance[\"cluster\"] == 0, 'speechiness'].mean(),\n",
    "        result_means_distance.loc[result_means_distance[\"cluster\"] == 0, 'valence'].mean()],\n",
    "      theta=categories,\n",
    "      fill='toself',\n",
    "      name='Cluster 0',\n",
    "      marker=dict(color=\"pink\")\n",
    "))\n",
    "\n",
    "# Add extras to the plot such as title\n",
    "# You'll always need `polar=dict(radialaxis=dict(visible=True,range=[0, 1])),` when creating a radar plot\n",
    "fig.update_layout(\n",
    "  title_text = 'Radar chart of mean values of clusters',\n",
    "  height = 500,\n",
    "  width = 800,\n",
    "  polar=dict(\n",
    "    radialaxis=dict(\n",
    "      visible=True,\n",
    "      range=[-2, 2.5]\n",
    "    )),\n",
    "  showlegend=True\n",
    ")\n",
    "\n",
    "# Show the initialised plot and the layers\n",
    "fig.show()"
   ]
  },
  {
   "cell_type": "markdown",
   "metadata": {},
   "source": [
    "Scatter plot all"
   ]
  },
  {
   "cell_type": "code",
   "execution_count": null,
   "metadata": {},
   "outputs": [],
   "source": [
    "fig, ax = plt.subplots(2,2, figsize=(20, 10))\n",
    "\n",
    "sns.scatterplot(data = result_means_distance\n",
    "            , x = 'key'\n",
    "            , y = 'energy'\n",
    "            , hue = 'cluster'\n",
    "            , palette = 'bright'\n",
    "            , marker = 'o'\n",
    "            , ax = ax[0,0]);\n",
    "\n",
    "sns.scatterplot(data = result_means_distance\n",
    "            , x = 'loudness'\n",
    "            , y = 'acousticness'\n",
    "            , hue = 'cluster'\n",
    "            , palette = 'bright'\n",
    "            , marker = 'o'\n",
    "            , ax = ax[0,1]);\n",
    "\n",
    "sns.scatterplot(data = result_means_distance\n",
    "            , x = 'tempo'\n",
    "            , y = 'instrumentalness'\n",
    "            , hue = 'cluster'\n",
    "            , palette = 'bright'\n",
    "            , marker = 'o'\n",
    "            , ax = ax[1,0]);\n",
    "\n",
    "sns.scatterplot(data = result_means_distance\n",
    "            , x = 'speechiness'\n",
    "            , y = 'valence'\n",
    "            , hue = 'cluster'\n",
    "            , palette = 'bright'\n",
    "            , marker = 'o'\n",
    "            , ax = ax[1,1]);"
   ]
  },
  {
   "cell_type": "markdown",
   "metadata": {},
   "source": [
    "# Let's try to create 4 main clusters, and to separate these cluster in subclusters "
   ]
  },
  {
   "cell_type": "code",
   "execution_count": 2,
   "metadata": {},
   "outputs": [],
   "source": [
    "songs_for_4_clusters = pd.read_csv('/Users/alex/Desktop/School_Projects/5_unsupervised_ML/df_audio_features_1000')"
   ]
  },
  {
   "cell_type": "markdown",
   "metadata": {},
   "source": [
    "## Set up the DF"
   ]
  },
  {
   "cell_type": "code",
   "execution_count": 3,
   "metadata": {},
   "outputs": [],
   "source": [
    "songs_for_4_clusters = songs_for_4_clusters.copy()\n",
    "songs_for_4_clusters.pop('id')\n",
    "songs_for_4_clusters.pop('html')\n",
    "songs_for_4_clusters.pop('duration_ms')\n",
    "songs_for_4_clusters.pop('time_signature')\n",
    "songs_for_4_clusters.pop('type')\n",
    "songs_for_4_clusters.pop('mode')\n",
    "\n",
    "songs_for_4_clusters = songs_for_4_clusters.set_index(['name', 'artist'])\n"
   ]
  },
  {
   "cell_type": "code",
   "execution_count": 4,
   "metadata": {},
   "outputs": [
    {
     "data": {
      "text/html": [
       "<div>\n",
       "<style scoped>\n",
       "    .dataframe tbody tr th:only-of-type {\n",
       "        vertical-align: middle;\n",
       "    }\n",
       "\n",
       "    .dataframe tbody tr th {\n",
       "        vertical-align: top;\n",
       "    }\n",
       "\n",
       "    .dataframe thead th {\n",
       "        text-align: right;\n",
       "    }\n",
       "</style>\n",
       "<table border=\"1\" class=\"dataframe\">\n",
       "  <thead>\n",
       "    <tr style=\"text-align: right;\">\n",
       "      <th></th>\n",
       "      <th></th>\n",
       "      <th>danceability</th>\n",
       "      <th>energy</th>\n",
       "      <th>key</th>\n",
       "      <th>loudness</th>\n",
       "      <th>speechiness</th>\n",
       "      <th>acousticness</th>\n",
       "      <th>instrumentalness</th>\n",
       "      <th>liveness</th>\n",
       "      <th>valence</th>\n",
       "      <th>tempo</th>\n",
       "    </tr>\n",
       "    <tr>\n",
       "      <th>name</th>\n",
       "      <th>artist</th>\n",
       "      <th></th>\n",
       "      <th></th>\n",
       "      <th></th>\n",
       "      <th></th>\n",
       "      <th></th>\n",
       "      <th></th>\n",
       "      <th></th>\n",
       "      <th></th>\n",
       "      <th></th>\n",
       "      <th></th>\n",
       "    </tr>\n",
       "  </thead>\n",
       "  <tbody>\n",
       "    <tr>\n",
       "      <th>All Shook Up</th>\n",
       "      <th>Elvis Presley</th>\n",
       "      <td>0.624</td>\n",
       "      <td>0.468</td>\n",
       "      <td>10</td>\n",
       "      <td>-12.162</td>\n",
       "      <td>0.1320</td>\n",
       "      <td>0.881</td>\n",
       "      <td>0.000006</td>\n",
       "      <td>0.144</td>\n",
       "      <td>0.952</td>\n",
       "      <td>74.139</td>\n",
       "    </tr>\n",
       "    <tr>\n",
       "      <th>I've Got You Under My Skin - Remastered 1998</th>\n",
       "      <th>Frank Sinatra</th>\n",
       "      <td>0.585</td>\n",
       "      <td>0.247</td>\n",
       "      <td>1</td>\n",
       "      <td>-12.612</td>\n",
       "      <td>0.0400</td>\n",
       "      <td>0.452</td>\n",
       "      <td>0.000009</td>\n",
       "      <td>0.107</td>\n",
       "      <td>0.591</td>\n",
       "      <td>127.150</td>\n",
       "    </tr>\n",
       "    <tr>\n",
       "      <th>Smoke Gets In Your Eyes</th>\n",
       "      <th>The Platters</th>\n",
       "      <td>0.290</td>\n",
       "      <td>0.227</td>\n",
       "      <td>3</td>\n",
       "      <td>-13.060</td>\n",
       "      <td>0.0311</td>\n",
       "      <td>0.944</td>\n",
       "      <td>0.000079</td>\n",
       "      <td>0.617</td>\n",
       "      <td>0.224</td>\n",
       "      <td>114.278</td>\n",
       "    </tr>\n",
       "  </tbody>\n",
       "</table>\n",
       "</div>"
      ],
      "text/plain": [
       "                                                            danceability  \\\n",
       "name                                         artist                        \n",
       "All Shook Up                                 Elvis Presley         0.624   \n",
       "I've Got You Under My Skin - Remastered 1998 Frank Sinatra         0.585   \n",
       "Smoke Gets In Your Eyes                      The Platters          0.290   \n",
       "\n",
       "                                                            energy  key  \\\n",
       "name                                         artist                       \n",
       "All Shook Up                                 Elvis Presley   0.468   10   \n",
       "I've Got You Under My Skin - Remastered 1998 Frank Sinatra   0.247    1   \n",
       "Smoke Gets In Your Eyes                      The Platters    0.227    3   \n",
       "\n",
       "                                                            loudness  \\\n",
       "name                                         artist                    \n",
       "All Shook Up                                 Elvis Presley   -12.162   \n",
       "I've Got You Under My Skin - Remastered 1998 Frank Sinatra   -12.612   \n",
       "Smoke Gets In Your Eyes                      The Platters    -13.060   \n",
       "\n",
       "                                                            speechiness  \\\n",
       "name                                         artist                       \n",
       "All Shook Up                                 Elvis Presley       0.1320   \n",
       "I've Got You Under My Skin - Remastered 1998 Frank Sinatra       0.0400   \n",
       "Smoke Gets In Your Eyes                      The Platters        0.0311   \n",
       "\n",
       "                                                            acousticness  \\\n",
       "name                                         artist                        \n",
       "All Shook Up                                 Elvis Presley         0.881   \n",
       "I've Got You Under My Skin - Remastered 1998 Frank Sinatra         0.452   \n",
       "Smoke Gets In Your Eyes                      The Platters          0.944   \n",
       "\n",
       "                                                            instrumentalness  \\\n",
       "name                                         artist                            \n",
       "All Shook Up                                 Elvis Presley          0.000006   \n",
       "I've Got You Under My Skin - Remastered 1998 Frank Sinatra          0.000009   \n",
       "Smoke Gets In Your Eyes                      The Platters           0.000079   \n",
       "\n",
       "                                                            liveness  valence  \\\n",
       "name                                         artist                             \n",
       "All Shook Up                                 Elvis Presley     0.144    0.952   \n",
       "I've Got You Under My Skin - Remastered 1998 Frank Sinatra     0.107    0.591   \n",
       "Smoke Gets In Your Eyes                      The Platters      0.617    0.224   \n",
       "\n",
       "                                                              tempo  \n",
       "name                                         artist                  \n",
       "All Shook Up                                 Elvis Presley   74.139  \n",
       "I've Got You Under My Skin - Remastered 1998 Frank Sinatra  127.150  \n",
       "Smoke Gets In Your Eyes                      The Platters   114.278  "
      ]
     },
     "execution_count": 4,
     "metadata": {},
     "output_type": "execute_result"
    }
   ],
   "source": [
    "songs_for_4_clusters.head(3)"
   ]
  },
  {
   "cell_type": "markdown",
   "metadata": {},
   "source": [
    "## Scales"
   ]
  },
  {
   "cell_type": "code",
   "execution_count": 6,
   "metadata": {},
   "outputs": [],
   "source": [
    "\n",
    "#MinMax Scaler\n",
    "min_max_df = MinMaxScaler().fit_transform(songs_for_4_clusters)\n",
    "minmax = pd.DataFrame(min_max_df, columns=songs_for_4_clusters.columns, index=songs_for_4_clusters.index)\n",
    "# Making the DataFrame for the MinMaxed heatmap\n",
    "minmax_distances = pd.DataFrame(pairwise_distances(minmax), index=songs_for_4_clusters.index, columns=songs_for_4_clusters.index)\n",
    "\n",
    "## Standard Scaler\n",
    "Standard_df = StandardScaler().fit_transform(songs_for_4_clusters)\n",
    "standard = pd.DataFrame(Standard_df, columns=songs_for_4_clusters.columns, index=songs_for_4_clusters.index)\n",
    "# Making the DataFrame for the Standard heatmap\n",
    "standard_distances = pd.DataFrame(pairwise_distances(standard), index=songs_for_4_clusters.index, columns=songs_for_4_clusters.index)\n",
    "\n",
    "\n",
    "## Quantile Transformer\n",
    "quantile_df = QuantileTransformer(n_quantiles=len(songs_for_4_clusters)).fit_transform(songs_for_4_clusters)\n",
    "quantile = pd.DataFrame(quantile_df, columns=songs_for_4_clusters.columns, index=songs_for_4_clusters.index)\n",
    "# Making the DataFrame for the Quantile heatmap\n",
    "quantile_distances = pd.DataFrame(pairwise_distances(quantile), index=songs_for_4_clusters.index, columns=songs_for_4_clusters.index)\n",
    "\n",
    "\n"
   ]
  },
  {
   "cell_type": "markdown",
   "metadata": {},
   "source": [
    "##### Check how inertia and Silhouette with all scores"
   ]
  },
  {
   "cell_type": "code",
   "execution_count": 7,
   "metadata": {},
   "outputs": [
    {
     "name": "stderr",
     "output_type": "stream",
     "text": [
      "/Users/alex/opt/anaconda3/lib/python3.9/site-packages/sklearn/utils/validation.py:1688: FutureWarning: Feature names only support names that are all strings. Got feature names with dtypes: ['tuple']. An error will be raised in 1.2.\n",
      "  warnings.warn(\n",
      "/Users/alex/opt/anaconda3/lib/python3.9/site-packages/sklearn/utils/validation.py:1688: FutureWarning: Feature names only support names that are all strings. Got feature names with dtypes: ['tuple']. An error will be raised in 1.2.\n",
      "  warnings.warn(\n",
      "/Users/alex/opt/anaconda3/lib/python3.9/site-packages/sklearn/utils/validation.py:1688: FutureWarning: Feature names only support names that are all strings. Got feature names with dtypes: ['tuple']. An error will be raised in 1.2.\n",
      "  warnings.warn(\n",
      "/Users/alex/opt/anaconda3/lib/python3.9/site-packages/sklearn/utils/validation.py:1688: FutureWarning: Feature names only support names that are all strings. Got feature names with dtypes: ['tuple']. An error will be raised in 1.2.\n",
      "  warnings.warn(\n",
      "/Users/alex/opt/anaconda3/lib/python3.9/site-packages/sklearn/utils/validation.py:1688: FutureWarning: Feature names only support names that are all strings. Got feature names with dtypes: ['tuple']. An error will be raised in 1.2.\n",
      "  warnings.warn(\n",
      "/Users/alex/opt/anaconda3/lib/python3.9/site-packages/sklearn/utils/validation.py:1688: FutureWarning: Feature names only support names that are all strings. Got feature names with dtypes: ['tuple']. An error will be raised in 1.2.\n",
      "  warnings.warn(\n",
      "/Users/alex/opt/anaconda3/lib/python3.9/site-packages/sklearn/utils/validation.py:1688: FutureWarning: Feature names only support names that are all strings. Got feature names with dtypes: ['tuple']. An error will be raised in 1.2.\n",
      "  warnings.warn(\n",
      "/Users/alex/opt/anaconda3/lib/python3.9/site-packages/sklearn/utils/validation.py:1688: FutureWarning: Feature names only support names that are all strings. Got feature names with dtypes: ['tuple']. An error will be raised in 1.2.\n",
      "  warnings.warn(\n",
      "/Users/alex/opt/anaconda3/lib/python3.9/site-packages/sklearn/utils/validation.py:1688: FutureWarning: Feature names only support names that are all strings. Got feature names with dtypes: ['tuple']. An error will be raised in 1.2.\n",
      "  warnings.warn(\n"
     ]
    }
   ],
   "source": [
    "max_k = 10\n",
    "\n",
    "distance_inertia_list = []\n",
    "\n",
    "for i in range(1, max_k):\n",
    "    myKMeans = KMeans(n_clusters=i)\n",
    "    myKMeans.fit(standard_distances)\n",
    "    distance_inertia_list.append(round(myKMeans.inertia_))"
   ]
  },
  {
   "cell_type": "code",
   "execution_count": 8,
   "metadata": {},
   "outputs": [
    {
     "name": "stderr",
     "output_type": "stream",
     "text": [
      "/Users/alex/opt/anaconda3/lib/python3.9/site-packages/sklearn/utils/validation.py:1688: FutureWarning: Feature names only support names that are all strings. Got feature names with dtypes: ['tuple']. An error will be raised in 1.2.\n",
      "  warnings.warn(\n",
      "/Users/alex/opt/anaconda3/lib/python3.9/site-packages/sklearn/utils/validation.py:1688: FutureWarning: Feature names only support names that are all strings. Got feature names with dtypes: ['tuple']. An error will be raised in 1.2.\n",
      "  warnings.warn(\n",
      "/Users/alex/opt/anaconda3/lib/python3.9/site-packages/sklearn/utils/validation.py:1688: FutureWarning: Feature names only support names that are all strings. Got feature names with dtypes: ['tuple']. An error will be raised in 1.2.\n",
      "  warnings.warn(\n",
      "/Users/alex/opt/anaconda3/lib/python3.9/site-packages/sklearn/utils/validation.py:1688: FutureWarning: Feature names only support names that are all strings. Got feature names with dtypes: ['tuple']. An error will be raised in 1.2.\n",
      "  warnings.warn(\n",
      "/Users/alex/opt/anaconda3/lib/python3.9/site-packages/sklearn/utils/validation.py:1688: FutureWarning: Feature names only support names that are all strings. Got feature names with dtypes: ['tuple']. An error will be raised in 1.2.\n",
      "  warnings.warn(\n",
      "/Users/alex/opt/anaconda3/lib/python3.9/site-packages/sklearn/utils/validation.py:1688: FutureWarning: Feature names only support names that are all strings. Got feature names with dtypes: ['tuple']. An error will be raised in 1.2.\n",
      "  warnings.warn(\n",
      "/Users/alex/opt/anaconda3/lib/python3.9/site-packages/sklearn/utils/validation.py:1688: FutureWarning: Feature names only support names that are all strings. Got feature names with dtypes: ['tuple']. An error will be raised in 1.2.\n",
      "  warnings.warn(\n",
      "/Users/alex/opt/anaconda3/lib/python3.9/site-packages/sklearn/utils/validation.py:1688: FutureWarning: Feature names only support names that are all strings. Got feature names with dtypes: ['tuple']. An error will be raised in 1.2.\n",
      "  warnings.warn(\n"
     ]
    }
   ],
   "source": [
    "max_k = 10\n",
    "distance_sil_score = []\n",
    "\n",
    "for j in range(2, max_k):\n",
    "  labels = KMeans(n_clusters=j).fit(standard_distances).labels_\n",
    "  distance_sil_score.append(silhouette_score(standard_distances, labels))"
   ]
  },
  {
   "cell_type": "markdown",
   "metadata": {},
   "source": [
    "### With Quantile Scale"
   ]
  },
  {
   "cell_type": "code",
   "execution_count": 9,
   "metadata": {},
   "outputs": [
    {
     "name": "stderr",
     "output_type": "stream",
     "text": [
      "/Users/alex/opt/anaconda3/lib/python3.9/site-packages/sklearn/utils/validation.py:1688: FutureWarning: Feature names only support names that are all strings. Got feature names with dtypes: ['tuple']. An error will be raised in 1.2.\n",
      "  warnings.warn(\n",
      "/Users/alex/opt/anaconda3/lib/python3.9/site-packages/sklearn/utils/validation.py:1688: FutureWarning: Feature names only support names that are all strings. Got feature names with dtypes: ['tuple']. An error will be raised in 1.2.\n",
      "  warnings.warn(\n",
      "/Users/alex/opt/anaconda3/lib/python3.9/site-packages/sklearn/utils/validation.py:1688: FutureWarning: Feature names only support names that are all strings. Got feature names with dtypes: ['tuple']. An error will be raised in 1.2.\n",
      "  warnings.warn(\n",
      "/Users/alex/opt/anaconda3/lib/python3.9/site-packages/sklearn/utils/validation.py:1688: FutureWarning: Feature names only support names that are all strings. Got feature names with dtypes: ['tuple']. An error will be raised in 1.2.\n",
      "  warnings.warn(\n",
      "/Users/alex/opt/anaconda3/lib/python3.9/site-packages/sklearn/utils/validation.py:1688: FutureWarning: Feature names only support names that are all strings. Got feature names with dtypes: ['tuple']. An error will be raised in 1.2.\n",
      "  warnings.warn(\n",
      "/Users/alex/opt/anaconda3/lib/python3.9/site-packages/sklearn/utils/validation.py:1688: FutureWarning: Feature names only support names that are all strings. Got feature names with dtypes: ['tuple']. An error will be raised in 1.2.\n",
      "  warnings.warn(\n",
      "/Users/alex/opt/anaconda3/lib/python3.9/site-packages/sklearn/utils/validation.py:1688: FutureWarning: Feature names only support names that are all strings. Got feature names with dtypes: ['tuple']. An error will be raised in 1.2.\n",
      "  warnings.warn(\n",
      "/Users/alex/opt/anaconda3/lib/python3.9/site-packages/sklearn/utils/validation.py:1688: FutureWarning: Feature names only support names that are all strings. Got feature names with dtypes: ['tuple']. An error will be raised in 1.2.\n",
      "  warnings.warn(\n",
      "/Users/alex/opt/anaconda3/lib/python3.9/site-packages/sklearn/utils/validation.py:1688: FutureWarning: Feature names only support names that are all strings. Got feature names with dtypes: ['tuple']. An error will be raised in 1.2.\n",
      "  warnings.warn(\n"
     ]
    }
   ],
   "source": [
    "max_k = 10\n",
    "\n",
    "quantile_inertia_list = []\n",
    "\n",
    "for i in range(1, max_k):\n",
    "    myKMeans = KMeans(n_clusters=i)\n",
    "    myKMeans.fit(quantile_distances)\n",
    "    quantile_inertia_list.append(round(myKMeans.inertia_))\n"
   ]
  },
  {
   "cell_type": "code",
   "execution_count": 10,
   "metadata": {},
   "outputs": [
    {
     "name": "stderr",
     "output_type": "stream",
     "text": [
      "/Users/alex/opt/anaconda3/lib/python3.9/site-packages/sklearn/utils/validation.py:1688: FutureWarning: Feature names only support names that are all strings. Got feature names with dtypes: ['tuple']. An error will be raised in 1.2.\n",
      "  warnings.warn(\n",
      "/Users/alex/opt/anaconda3/lib/python3.9/site-packages/sklearn/utils/validation.py:1688: FutureWarning: Feature names only support names that are all strings. Got feature names with dtypes: ['tuple']. An error will be raised in 1.2.\n",
      "  warnings.warn(\n",
      "/Users/alex/opt/anaconda3/lib/python3.9/site-packages/sklearn/utils/validation.py:1688: FutureWarning: Feature names only support names that are all strings. Got feature names with dtypes: ['tuple']. An error will be raised in 1.2.\n",
      "  warnings.warn(\n",
      "/Users/alex/opt/anaconda3/lib/python3.9/site-packages/sklearn/utils/validation.py:1688: FutureWarning: Feature names only support names that are all strings. Got feature names with dtypes: ['tuple']. An error will be raised in 1.2.\n",
      "  warnings.warn(\n",
      "/Users/alex/opt/anaconda3/lib/python3.9/site-packages/sklearn/utils/validation.py:1688: FutureWarning: Feature names only support names that are all strings. Got feature names with dtypes: ['tuple']. An error will be raised in 1.2.\n",
      "  warnings.warn(\n",
      "/Users/alex/opt/anaconda3/lib/python3.9/site-packages/sklearn/utils/validation.py:1688: FutureWarning: Feature names only support names that are all strings. Got feature names with dtypes: ['tuple']. An error will be raised in 1.2.\n",
      "  warnings.warn(\n",
      "/Users/alex/opt/anaconda3/lib/python3.9/site-packages/sklearn/utils/validation.py:1688: FutureWarning: Feature names only support names that are all strings. Got feature names with dtypes: ['tuple']. An error will be raised in 1.2.\n",
      "  warnings.warn(\n",
      "/Users/alex/opt/anaconda3/lib/python3.9/site-packages/sklearn/utils/validation.py:1688: FutureWarning: Feature names only support names that are all strings. Got feature names with dtypes: ['tuple']. An error will be raised in 1.2.\n",
      "  warnings.warn(\n"
     ]
    }
   ],
   "source": [
    "max_k = 10\n",
    "quantile_sil_score = []\n",
    "\n",
    "for j in range(2, max_k):\n",
    "  labels = KMeans(n_clusters=j).fit(quantile_distances).labels_\n",
    "  quantile_sil_score.append(silhouette_score(quantile_distances, labels))\n"
   ]
  },
  {
   "cell_type": "markdown",
   "metadata": {},
   "source": [
    "### With MinMax Scale"
   ]
  },
  {
   "cell_type": "code",
   "execution_count": 11,
   "metadata": {},
   "outputs": [
    {
     "name": "stderr",
     "output_type": "stream",
     "text": [
      "/Users/alex/opt/anaconda3/lib/python3.9/site-packages/sklearn/utils/validation.py:1688: FutureWarning: Feature names only support names that are all strings. Got feature names with dtypes: ['tuple']. An error will be raised in 1.2.\n",
      "  warnings.warn(\n",
      "/Users/alex/opt/anaconda3/lib/python3.9/site-packages/sklearn/utils/validation.py:1688: FutureWarning: Feature names only support names that are all strings. Got feature names with dtypes: ['tuple']. An error will be raised in 1.2.\n",
      "  warnings.warn(\n",
      "/Users/alex/opt/anaconda3/lib/python3.9/site-packages/sklearn/utils/validation.py:1688: FutureWarning: Feature names only support names that are all strings. Got feature names with dtypes: ['tuple']. An error will be raised in 1.2.\n",
      "  warnings.warn(\n",
      "/Users/alex/opt/anaconda3/lib/python3.9/site-packages/sklearn/utils/validation.py:1688: FutureWarning: Feature names only support names that are all strings. Got feature names with dtypes: ['tuple']. An error will be raised in 1.2.\n",
      "  warnings.warn(\n",
      "/Users/alex/opt/anaconda3/lib/python3.9/site-packages/sklearn/utils/validation.py:1688: FutureWarning: Feature names only support names that are all strings. Got feature names with dtypes: ['tuple']. An error will be raised in 1.2.\n",
      "  warnings.warn(\n",
      "/Users/alex/opt/anaconda3/lib/python3.9/site-packages/sklearn/utils/validation.py:1688: FutureWarning: Feature names only support names that are all strings. Got feature names with dtypes: ['tuple']. An error will be raised in 1.2.\n",
      "  warnings.warn(\n",
      "/Users/alex/opt/anaconda3/lib/python3.9/site-packages/sklearn/utils/validation.py:1688: FutureWarning: Feature names only support names that are all strings. Got feature names with dtypes: ['tuple']. An error will be raised in 1.2.\n",
      "  warnings.warn(\n",
      "/Users/alex/opt/anaconda3/lib/python3.9/site-packages/sklearn/utils/validation.py:1688: FutureWarning: Feature names only support names that are all strings. Got feature names with dtypes: ['tuple']. An error will be raised in 1.2.\n",
      "  warnings.warn(\n",
      "/Users/alex/opt/anaconda3/lib/python3.9/site-packages/sklearn/utils/validation.py:1688: FutureWarning: Feature names only support names that are all strings. Got feature names with dtypes: ['tuple']. An error will be raised in 1.2.\n",
      "  warnings.warn(\n"
     ]
    }
   ],
   "source": [
    "max_k = 10\n",
    "\n",
    "inertia_list_minmax = []\n",
    "\n",
    "for i in range(1, max_k):\n",
    "    myKMeans = KMeans(n_clusters=i)\n",
    "    myKMeans.fit(minmax_distances)\n",
    "    inertia_list_minmax.append(round(myKMeans.inertia_))\n"
   ]
  },
  {
   "cell_type": "code",
   "execution_count": 12,
   "metadata": {},
   "outputs": [
    {
     "name": "stderr",
     "output_type": "stream",
     "text": [
      "/Users/alex/opt/anaconda3/lib/python3.9/site-packages/sklearn/utils/validation.py:1688: FutureWarning: Feature names only support names that are all strings. Got feature names with dtypes: ['tuple']. An error will be raised in 1.2.\n",
      "  warnings.warn(\n",
      "/Users/alex/opt/anaconda3/lib/python3.9/site-packages/sklearn/utils/validation.py:1688: FutureWarning: Feature names only support names that are all strings. Got feature names with dtypes: ['tuple']. An error will be raised in 1.2.\n",
      "  warnings.warn(\n",
      "/Users/alex/opt/anaconda3/lib/python3.9/site-packages/sklearn/utils/validation.py:1688: FutureWarning: Feature names only support names that are all strings. Got feature names with dtypes: ['tuple']. An error will be raised in 1.2.\n",
      "  warnings.warn(\n",
      "/Users/alex/opt/anaconda3/lib/python3.9/site-packages/sklearn/utils/validation.py:1688: FutureWarning: Feature names only support names that are all strings. Got feature names with dtypes: ['tuple']. An error will be raised in 1.2.\n",
      "  warnings.warn(\n",
      "/Users/alex/opt/anaconda3/lib/python3.9/site-packages/sklearn/utils/validation.py:1688: FutureWarning: Feature names only support names that are all strings. Got feature names with dtypes: ['tuple']. An error will be raised in 1.2.\n",
      "  warnings.warn(\n",
      "/Users/alex/opt/anaconda3/lib/python3.9/site-packages/sklearn/utils/validation.py:1688: FutureWarning: Feature names only support names that are all strings. Got feature names with dtypes: ['tuple']. An error will be raised in 1.2.\n",
      "  warnings.warn(\n",
      "/Users/alex/opt/anaconda3/lib/python3.9/site-packages/sklearn/utils/validation.py:1688: FutureWarning: Feature names only support names that are all strings. Got feature names with dtypes: ['tuple']. An error will be raised in 1.2.\n",
      "  warnings.warn(\n",
      "/Users/alex/opt/anaconda3/lib/python3.9/site-packages/sklearn/utils/validation.py:1688: FutureWarning: Feature names only support names that are all strings. Got feature names with dtypes: ['tuple']. An error will be raised in 1.2.\n",
      "  warnings.warn(\n"
     ]
    }
   ],
   "source": [
    "max_k = 10\n",
    "sil_score_minmax = []\n",
    "\n",
    "for j in range(2, max_k):\n",
    "  labels = KMeans(n_clusters=j).fit(minmax_distances).labels_\n",
    "  sil_score_minmax.append(silhouette_score(minmax_distances, labels))\n"
   ]
  },
  {
   "cell_type": "code",
   "execution_count": 13,
   "metadata": {},
   "outputs": [
    {
     "data": {
      "text/plain": [
       "Text(0.5, 1.0, 'Silhouette Distance Scale')"
      ]
     },
     "execution_count": 13,
     "metadata": {},
     "output_type": "execute_result"
    },
    {
     "data": {
      "image/png": "[encoded data removed]",
      "text/plain": [
       "<Figure size 1800x1080 with 6 Axes>"
      ]
     },
     "metadata": {
      "needs_background": "light"
     },
     "output_type": "display_data"
    }
   ],
   "source": [
    "fig, axes = plt.subplots(2, 3, figsize=(25, 15))\n",
    "\n",
    "sns.lineplot(ax=axes[0,0], data=inertia_list_minmax, marker='o')\n",
    "sns.lineplot(ax=axes[1,0], data=sil_score_minmax, marker='o')\n",
    "sns.lineplot(ax=axes[0,1], data=quantile_inertia_list, marker='o')\n",
    "sns.lineplot(ax=axes[1,1], data=quantile_sil_score, marker='o')\n",
    "sns.lineplot(ax=axes[0,2], data=distance_inertia_list, marker='o')\n",
    "sns.lineplot(ax=axes[1,2], data=distance_sil_score, marker='o')\n",
    "axes[0,0].set_title(\"Inertia MinMax Scale\")\n",
    "axes[1,0].set_title(\"Silhouette MinMax Scale\")\n",
    "axes[0,1].set_title(\"Inertia Quantile Scale\")\n",
    "axes[1,1].set_title(\"Silhouette Quantile Scale\")\n",
    "axes[0,2].set_title(\"Inertia Distance Scale\")\n",
    "axes[1,2].set_title(\"Silhouette Distance Scale\")\n",
    "\n"
   ]
  },
  {
   "cell_type": "markdown",
   "metadata": {},
   "source": [
    "## With 5 clusters"
   ]
  },
  {
   "cell_type": "code",
   "execution_count": 14,
   "metadata": {},
   "outputs": [
    {
     "name": "stderr",
     "output_type": "stream",
     "text": [
      "/Users/alex/opt/anaconda3/lib/python3.9/site-packages/sklearn/utils/validation.py:1688: FutureWarning: Feature names only support names that are all strings. Got feature names with dtypes: ['tuple']. An error will be raised in 1.2.\n",
      "  warnings.warn(\n",
      "/Users/alex/opt/anaconda3/lib/python3.9/site-packages/sklearn/utils/validation.py:1688: FutureWarning: Feature names only support names that are all strings. Got feature names with dtypes: ['tuple']. An error will be raised in 1.2.\n",
      "  warnings.warn(\n"
     ]
    }
   ],
   "source": [
    "# 2. initialize the model\n",
    "my_kmeans = KMeans(n_clusters= 5)\n",
    "# 3. fit the model to the data\n",
    "my_kmeans.fit(minmax_distances) \n",
    "# 4. obtain the cluster output\n",
    "clusters = my_kmeans.predict(minmax_distances)\n",
    "# 5. attach the cluster output to our original DataFrame\n",
    "songs_for_4_clusters[\"cluster\"] = clusters"
   ]
  },
  {
   "cell_type": "code",
   "execution_count": 15,
   "metadata": {},
   "outputs": [],
   "source": [
    "songs_for_4_clusters = songs_for_4_clusters.reset_index()"
   ]
  },
  {
   "cell_type": "code",
   "execution_count": 16,
   "metadata": {},
   "outputs": [],
   "source": [
    "# results = pd.concat([songs_for_4_clusters, songs_for_4_clusters.artist], axis=1)\n",
    "# results = results.reindex(columns=['name','artist', 'danceability', 'energy', 'key', 'loudness', 'mode','speechiness', 'acousticness', 'instrumentalness', 'liveness','valence', 'tempo', 'duration_ms', 'time_signature', 'cluster'])"
   ]
  },
  {
   "cell_type": "code",
   "execution_count": 17,
   "metadata": {},
   "outputs": [
    {
     "data": {
      "text/html": [
       "<div>\n",
       "<style scoped>\n",
       "    .dataframe tbody tr th:only-of-type {\n",
       "        vertical-align: middle;\n",
       "    }\n",
       "\n",
       "    .dataframe tbody tr th {\n",
       "        vertical-align: top;\n",
       "    }\n",
       "\n",
       "    .dataframe thead th {\n",
       "        text-align: right;\n",
       "    }\n",
       "</style>\n",
       "<table border=\"1\" class=\"dataframe\">\n",
       "  <thead>\n",
       "    <tr style=\"text-align: right;\">\n",
       "      <th></th>\n",
       "      <th>name</th>\n",
       "      <th>artist</th>\n",
       "      <th>danceability</th>\n",
       "      <th>energy</th>\n",
       "      <th>key</th>\n",
       "      <th>loudness</th>\n",
       "      <th>speechiness</th>\n",
       "      <th>acousticness</th>\n",
       "      <th>instrumentalness</th>\n",
       "      <th>liveness</th>\n",
       "      <th>valence</th>\n",
       "      <th>tempo</th>\n",
       "      <th>cluster</th>\n",
       "    </tr>\n",
       "  </thead>\n",
       "  <tbody>\n",
       "    <tr>\n",
       "      <th>0</th>\n",
       "      <td>All Shook Up</td>\n",
       "      <td>Elvis Presley</td>\n",
       "      <td>0.624</td>\n",
       "      <td>0.468</td>\n",
       "      <td>10</td>\n",
       "      <td>-12.162</td>\n",
       "      <td>0.1320</td>\n",
       "      <td>0.881</td>\n",
       "      <td>0.000006</td>\n",
       "      <td>0.144</td>\n",
       "      <td>0.952</td>\n",
       "      <td>74.139</td>\n",
       "      <td>3</td>\n",
       "    </tr>\n",
       "    <tr>\n",
       "      <th>1</th>\n",
       "      <td>I've Got You Under My Skin - Remastered 1998</td>\n",
       "      <td>Frank Sinatra</td>\n",
       "      <td>0.585</td>\n",
       "      <td>0.247</td>\n",
       "      <td>1</td>\n",
       "      <td>-12.612</td>\n",
       "      <td>0.0400</td>\n",
       "      <td>0.452</td>\n",
       "      <td>0.000009</td>\n",
       "      <td>0.107</td>\n",
       "      <td>0.591</td>\n",
       "      <td>127.150</td>\n",
       "      <td>3</td>\n",
       "    </tr>\n",
       "    <tr>\n",
       "      <th>2</th>\n",
       "      <td>Smoke Gets In Your Eyes</td>\n",
       "      <td>The Platters</td>\n",
       "      <td>0.290</td>\n",
       "      <td>0.227</td>\n",
       "      <td>3</td>\n",
       "      <td>-13.060</td>\n",
       "      <td>0.0311</td>\n",
       "      <td>0.944</td>\n",
       "      <td>0.000079</td>\n",
       "      <td>0.617</td>\n",
       "      <td>0.224</td>\n",
       "      <td>114.278</td>\n",
       "      <td>0</td>\n",
       "    </tr>\n",
       "  </tbody>\n",
       "</table>\n",
       "</div>"
      ],
      "text/plain": [
       "                                           name         artist  danceability  \\\n",
       "0                                  All Shook Up  Elvis Presley         0.624   \n",
       "1  I've Got You Under My Skin - Remastered 1998  Frank Sinatra         0.585   \n",
       "2                       Smoke Gets In Your Eyes   The Platters         0.290   \n",
       "\n",
       "   energy  key  loudness  speechiness  acousticness  instrumentalness  \\\n",
       "0   0.468   10   -12.162       0.1320         0.881          0.000006   \n",
       "1   0.247    1   -12.612       0.0400         0.452          0.000009   \n",
       "2   0.227    3   -13.060       0.0311         0.944          0.000079   \n",
       "\n",
       "   liveness  valence    tempo  cluster  \n",
       "0     0.144    0.952   74.139        3  \n",
       "1     0.107    0.591  127.150        3  \n",
       "2     0.617    0.224  114.278        0  "
      ]
     },
     "execution_count": 17,
     "metadata": {},
     "output_type": "execute_result"
    }
   ],
   "source": [
    "songs_for_4_clusters.head(3)"
   ]
  },
  {
   "cell_type": "code",
   "execution_count": 18,
   "metadata": {},
   "outputs": [],
   "source": [
    "# sample_results = (\n",
    "#     results.groupby('cluster')[['name', 'artist', 'cluster','danceability', 'energy', 'loudness', 'acousticness', 'tempo', 'instrumentalness','key','speechiness', 'valence' ]]\n",
    "#     .head(5).sort_values(by='cluster')\n",
    "# )"
   ]
  },
  {
   "cell_type": "markdown",
   "metadata": {},
   "source": [
    "### Sample of Playlists 5 clusters"
   ]
  },
  {
   "cell_type": "code",
   "execution_count": 19,
   "metadata": {},
   "outputs": [],
   "source": [
    "# sample_results"
   ]
  },
  {
   "cell_type": "code",
   "execution_count": 21,
   "metadata": {},
   "outputs": [
    {
     "data": {
      "text/html": [
       "<div>\n",
       "<style scoped>\n",
       "    .dataframe tbody tr th:only-of-type {\n",
       "        vertical-align: middle;\n",
       "    }\n",
       "\n",
       "    .dataframe tbody tr th {\n",
       "        vertical-align: top;\n",
       "    }\n",
       "\n",
       "    .dataframe thead th {\n",
       "        text-align: right;\n",
       "    }\n",
       "</style>\n",
       "<table border=\"1\" class=\"dataframe\">\n",
       "  <thead>\n",
       "    <tr style=\"text-align: right;\">\n",
       "      <th></th>\n",
       "      <th>key</th>\n",
       "      <th>energy</th>\n",
       "      <th>loudness</th>\n",
       "      <th>acousticness</th>\n",
       "      <th>tempo</th>\n",
       "      <th>instrumentalness</th>\n",
       "      <th>speechiness</th>\n",
       "      <th>valence</th>\n",
       "    </tr>\n",
       "    <tr>\n",
       "      <th>cluster</th>\n",
       "      <th></th>\n",
       "      <th></th>\n",
       "      <th></th>\n",
       "      <th></th>\n",
       "      <th></th>\n",
       "      <th></th>\n",
       "      <th></th>\n",
       "      <th></th>\n",
       "    </tr>\n",
       "  </thead>\n",
       "  <tbody>\n",
       "    <tr>\n",
       "      <th>0</th>\n",
       "      <td>4.984615</td>\n",
       "      <td>0.182357</td>\n",
       "      <td>-16.729872</td>\n",
       "      <td>0.896518</td>\n",
       "      <td>106.527672</td>\n",
       "      <td>0.174674</td>\n",
       "      <td>0.045807</td>\n",
       "      <td>0.252498</td>\n",
       "    </tr>\n",
       "    <tr>\n",
       "      <th>1</th>\n",
       "      <td>7.866894</td>\n",
       "      <td>0.736764</td>\n",
       "      <td>-6.361857</td>\n",
       "      <td>0.128876</td>\n",
       "      <td>130.446621</td>\n",
       "      <td>0.099600</td>\n",
       "      <td>0.151916</td>\n",
       "      <td>0.523044</td>\n",
       "    </tr>\n",
       "    <tr>\n",
       "      <th>2</th>\n",
       "      <td>3.611111</td>\n",
       "      <td>0.701331</td>\n",
       "      <td>-6.529347</td>\n",
       "      <td>0.151519</td>\n",
       "      <td>116.390428</td>\n",
       "      <td>0.007804</td>\n",
       "      <td>0.102483</td>\n",
       "      <td>0.679561</td>\n",
       "    </tr>\n",
       "    <tr>\n",
       "      <th>3</th>\n",
       "      <td>4.936620</td>\n",
       "      <td>0.437148</td>\n",
       "      <td>-10.295701</td>\n",
       "      <td>0.645869</td>\n",
       "      <td>116.429796</td>\n",
       "      <td>0.027023</td>\n",
       "      <td>0.057418</td>\n",
       "      <td>0.547600</td>\n",
       "    </tr>\n",
       "    <tr>\n",
       "      <th>4</th>\n",
       "      <td>5.016949</td>\n",
       "      <td>0.140467</td>\n",
       "      <td>-21.653220</td>\n",
       "      <td>0.911059</td>\n",
       "      <td>100.077000</td>\n",
       "      <td>0.835270</td>\n",
       "      <td>0.043263</td>\n",
       "      <td>0.122591</td>\n",
       "    </tr>\n",
       "  </tbody>\n",
       "</table>\n",
       "</div>"
      ],
      "text/plain": [
       "              key    energy   loudness  acousticness       tempo  \\\n",
       "cluster                                                            \n",
       "0        4.984615  0.182357 -16.729872      0.896518  106.527672   \n",
       "1        7.866894  0.736764  -6.361857      0.128876  130.446621   \n",
       "2        3.611111  0.701331  -6.529347      0.151519  116.390428   \n",
       "3        4.936620  0.437148 -10.295701      0.645869  116.429796   \n",
       "4        5.016949  0.140467 -21.653220      0.911059  100.077000   \n",
       "\n",
       "         instrumentalness  speechiness   valence  \n",
       "cluster                                           \n",
       "0                0.174674     0.045807  0.252498  \n",
       "1                0.099600     0.151916  0.523044  \n",
       "2                0.007804     0.102483  0.679561  \n",
       "3                0.027023     0.057418  0.547600  \n",
       "4                0.835270     0.043263  0.122591  "
      ]
     },
     "execution_count": 21,
     "metadata": {},
     "output_type": "execute_result"
    }
   ],
   "source": [
    "(\n",
    "    songs_for_4_clusters.groupby('cluster')[['danceability', 'energy', 'loudness', 'acousticness', 'tempo', 'instrumentalness','key','speechiness', 'valence']]\n",
    "    .agg({\n",
    "        'key':'mean', \n",
    "        'energy':'mean',\n",
    "        'loudness':'mean', \n",
    "        'acousticness':'mean', \n",
    "        'tempo':'mean', \n",
    "        'instrumentalness':'mean',\n",
    "        'speechiness':'mean',\n",
    "        'valence':'mean'\n",
    "    })\n",
    ")"
   ]
  },
  {
   "cell_type": "code",
   "execution_count": null,
   "metadata": {},
   "outputs": [],
   "source": [
    "# state the label for each arm of the chart\n",
    "categories = ['energy', 'loudness', 'acousticness','tempo ','instrumentalness','key','speechiness', 'valence']\n",
    "\n",
    "# plot the initialised plot\n",
    "fig = go.Figure()\n",
    "\n",
    "# add a layer over the top of the initialised plot - this one is for cluster 0\n",
    "fig.add_trace(go.Scatterpolar(\n",
    "      r=[result_means_distance.loc[result_means_distance[\"cluster\"] == 0, 'key'].mean(),\n",
    "        result_means_distance.loc[result_means_distance[\"cluster\"] == 0, 'energy'].mean(),\n",
    "        result_means_distance.loc[result_means_distance[\"cluster\"] == 0, 'loudness'].mean(),\n",
    "        result_means_distance.loc[result_means_distance[\"cluster\"] == 0, 'acousticness'].mean(),\n",
    "        result_means_distance.loc[result_means_distance[\"cluster\"] == 0, 'tempo'].mean(),\n",
    "        result_means_distance.loc[result_means_distance[\"cluster\"] == 0, 'instrumentalness'].mean(),\n",
    "        result_means_distance.loc[result_means_distance[\"cluster\"] == 0, 'speechiness'].mean(),\n",
    "        result_means_distance.loc[result_means_distance[\"cluster\"] == 0, 'valence'].mean()\n",
    "],\n",
    "      theta=categories,\n",
    "      fill='toself',\n",
    "      name='Cluster 0',\n",
    "      marker=dict(color=\"blue\")\n",
    "))\n",
    "\n",
    "# add a layer over the top of the initialised plot - this one is for cluster 1\n",
    "fig.add_trace(go.Scatterpolar(\n",
    "      r=[result_means_distance.loc[result_means_distance[\"cluster\"] == 1, 'key'].mean(),\n",
    "        result_means_distance.loc[result_means_distance[\"cluster\"] == 1, 'energy'].mean(),\n",
    "        result_means_distance.loc[result_means_distance[\"cluster\"] == 1, 'loudness'].mean(),\n",
    "        result_means_distance.loc[result_means_distance[\"cluster\"] == 1, 'acousticness'].mean(),\n",
    "        result_means_distance.loc[result_means_distance[\"cluster\"] == 1, 'tempo'].mean(),\n",
    "        result_means_distance.loc[result_means_distance[\"cluster\"] == 1, 'instrumentalness'].mean(),\n",
    "        result_means_distance.loc[result_means_distance[\"cluster\"] == 1, 'speechiness'].mean(),\n",
    "        result_means_distance.loc[result_means_distance[\"cluster\"] == 1, 'valence'].mean()],\n",
    "      theta=categories,\n",
    "      fill='toself',\n",
    "      name='Cluster 1',\n",
    "      marker=dict(color=\"red\")\n",
    "))\n",
    "\n",
    "# add a layer over the top of the initialised plot - this one is for cluster 2\n",
    "fig.add_trace(go.Scatterpolar(\n",
    "      r=[result_means_distance.loc[result_means_distance[\"cluster\"] == 2, 'key'].mean(),\n",
    "        result_means_distance.loc[result_means_distance[\"cluster\"] == 2, 'energy'].mean(),\n",
    "        result_means_distance.loc[result_means_distance[\"cluster\"] == 2, 'loudness'].mean(),\n",
    "        result_means_distance.loc[result_means_distance[\"cluster\"] == 2, 'acousticness'].mean(),\n",
    "        result_means_distance.loc[result_means_distance[\"cluster\"] == 2, 'tempo'].mean(),\n",
    "        result_means_distance.loc[result_means_distance[\"cluster\"] == 2, 'instrumentalness'].mean(),\n",
    "        result_means_distance.loc[result_means_distance[\"cluster\"] == 2, 'speechiness'].mean(),\n",
    "        result_means_distance.loc[result_means_distance[\"cluster\"] == 2, 'valence'].mean()],\n",
    "      theta=categories,\n",
    "      fill='toself',\n",
    "      name='Cluster 2',\n",
    "      marker=dict(color=\"green\")\n",
    "))\n",
    "\n",
    "# add a layer over the top of the initialised plot - this one is for cluster 3\n",
    "fig.add_trace(go.Scatterpolar(\n",
    "      r=[result_means_distance.loc[result_means_distance[\"cluster\"] == 3, 'key'].mean(),\n",
    "        result_means_distance.loc[result_means_distance[\"cluster\"] == 3, 'energy'].mean(),\n",
    "        result_means_distance.loc[result_means_distance[\"cluster\"] == 3, 'loudness'].mean(),\n",
    "        result_means_distance.loc[result_means_distance[\"cluster\"] == 3, 'acousticness'].mean(),\n",
    "        result_means_distance.loc[result_means_distance[\"cluster\"] == 3, 'tempo'].mean(),\n",
    "        result_means_distance.loc[result_means_distance[\"cluster\"] == 3, 'instrumentalness'].mean(),\n",
    "        result_means_distance.loc[result_means_distance[\"cluster\"] == 3, 'speechiness'].mean(),\n",
    "        result_means_distance.loc[result_means_distance[\"cluster\"] == 3, 'valence'].mean()],\n",
    "      theta=categories,\n",
    "      fill='toself',\n",
    "      name='Cluster 3',\n",
    "      marker=dict(color=\"pink\")\n",
    "))\n",
    "\n",
    "# add a layer over the top of the initialised plot - this one is for cluster 4\n",
    "fig.add_trace(go.Scatterpolar(\n",
    "      r=[result_means_distance.loc[result_means_distance[\"cluster\"] == 4, 'key'].mean(),\n",
    "        result_means_distance.loc[result_means_distance[\"cluster\"] == 4, 'energy'].mean(),\n",
    "        result_means_distance.loc[result_means_distance[\"cluster\"] == 4, 'loudness'].mean(),\n",
    "        result_means_distance.loc[result_means_distance[\"cluster\"] == 4, 'acousticness'].mean(),\n",
    "        result_means_distance.loc[result_means_distance[\"cluster\"] == 4, 'tempo'].mean(),\n",
    "        result_means_distance.loc[result_means_distance[\"cluster\"] == 4, 'instrumentalness'].mean(),\n",
    "        result_means_distance.loc[result_means_distance[\"cluster\"] == 4, 'speechiness'].mean(),\n",
    "        result_means_distance.loc[result_means_distance[\"cluster\"] == 4, 'valence'].mean()],\n",
    "      theta=categories,\n",
    "      fill='toself',\n",
    "      name='Cluster 4',\n",
    "      marker=dict(color=\"yellow\")\n",
    "))\n",
    "\n",
    "\n",
    "\n",
    "# Add extras to the plot such as title\n",
    "# You'll always need `polar=dict(radialaxis=dict(visible=True,range=[0, 1])),` when creating a radar plot\n",
    "fig.update_layout(\n",
    "  title_text = 'Radar chart of mean values of clusters',\n",
    "  height = 500,\n",
    "  width = 800,\n",
    "  polar=dict(\n",
    "    radialaxis=dict(\n",
    "      visible=True,\n",
    "      range=[-2, 2.5]\n",
    "    )),\n",
    "  showlegend=True\n",
    ")\n",
    "\n",
    "# Show the initialised plot and the layers\n",
    "fig.show()"
   ]
  }
 ],
 "metadata": {
  "kernelspec": {
   "display_name": "Python 3.9.12 ('base')",
   "language": "python",
   "name": "python3"
  },
  "language_info": {
   "codemirror_mode": {
    "name": "ipython",
    "version": 3
   },
   "file_extension": ".py",
   "mimetype": "text/x-python",
   "name": "python",
   "nbconvert_exporter": "python",
   "pygments_lexer": "ipython3",
   "version": "3.9.12"
  },
  "orig_nbformat": 4,
  "vscode": {
   "interpreter": {
    "hash": "472f3460692ba2c0861145e5e150d03c8a5c0e40e057944a047c431b9050b93d"
   }
  }
 },
 "nbformat": 4,
 "nbformat_minor": 2
}
