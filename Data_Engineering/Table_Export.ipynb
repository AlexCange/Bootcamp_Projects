{
 "cells": [
  {
   "cell_type": "code",
   "execution_count": 3,
   "id": "9fce01eb",
   "metadata": {},
   "outputs": [],
   "source": [
    "from bs4 import BeautifulSoup\n",
    "import requests\n",
    "import pandas as pd\n",
    "import json\n",
    "from datetime import datetime, date, timedelta\n",
    "from pytz import timezone # only needed on colab as the computer is sometimes in a different timezone"
   ]
  },
  {
   "cell_type": "markdown",
   "id": "05b4ab08",
   "metadata": {},
   "source": [
    "# Cities"
   ]
  },
  {
   "cell_type": "code",
   "execution_count": 4,
   "id": "1bb31d47",
   "metadata": {},
   "outputs": [],
   "source": [
    "City_name = []\n",
    "Country = []\n",
    "Latitude = []\n",
    "Longitude = []\n",
    "Population = []"
   ]
  },
  {
   "cell_type": "markdown",
   "id": "f4860932",
   "metadata": {},
   "source": [
    "## Berlin"
   ]
  },
  {
   "cell_type": "code",
   "execution_count": 5,
   "id": "698b6444",
   "metadata": {},
   "outputs": [
    {
     "data": {
      "text/plain": [
       "200"
      ]
     },
     "execution_count": 5,
     "metadata": {},
     "output_type": "execute_result"
    }
   ],
   "source": [
    "url = \"https://en.wikipedia.org/wiki/Berlin\"\n",
    "headers = {'Accept-Language': 'en-US,en;q=0.8'}\n",
    "response = requests.get(url, headers = headers)\n",
    "response.status_code"
   ]
  },
  {
   "cell_type": "code",
   "execution_count": 6,
   "id": "e12c8775",
   "metadata": {
    "scrolled": true
   },
   "outputs": [],
   "source": [
    "demo = BeautifulSoup(response.content, \"html.parser\")"
   ]
  },
  {
   "cell_type": "code",
   "execution_count": 7,
   "id": "d411b34d",
   "metadata": {},
   "outputs": [],
   "source": [
    "#City name\n",
    "berlin_name = demo.select(\"th div.fn\")[0].get_text()\n",
    "City_name.append(berlin_name)\n",
    "#Country\n",
    "berlin_country = demo.select(\"td.infobox-data a\")[0].get_text()\n",
    "Country.append(berlin_country)\n",
    "#Latitude \n",
    "berlin_latitude = demo.select(\"span.latitude\")[0].get_text()\n",
    "Latitude.append(berlin_latitude)\n",
    "#Longitude\n",
    "berlin_longitude = demo.select(\"span.longitude\")[0].get_text()\n",
    "Longitude.append(berlin_longitude)\n",
    "#population\n",
    "berlin_population = demo.select(\"tr.mergedrow td.infobox-data\")[8].get_text()\n",
    "Population.append(berlin_population)"
   ]
  },
  {
   "cell_type": "markdown",
   "id": "89f5d3c4",
   "metadata": {},
   "source": [
    "## Paris"
   ]
  },
  {
   "cell_type": "code",
   "execution_count": 8,
   "id": "5ecb12d2",
   "metadata": {},
   "outputs": [
    {
     "data": {
      "text/plain": [
       "200"
      ]
     },
     "execution_count": 8,
     "metadata": {},
     "output_type": "execute_result"
    }
   ],
   "source": [
    "url3 = \"https://en.m.wikipedia.org/wiki/Paris\"\n",
    "headers3 = {'Accept-Language': 'en-US,en;q=0.8'}\n",
    "response3 = requests.get(url3, headers = headers3)\n",
    "response3.status_code # 200 status code means OK!"
   ]
  },
  {
   "cell_type": "code",
   "execution_count": 9,
   "id": "8d5fa5f4",
   "metadata": {},
   "outputs": [],
   "source": [
    "demo3 = BeautifulSoup(response3.content, \"html.parser\")"
   ]
  },
  {
   "cell_type": "code",
   "execution_count": 10,
   "id": "b8686cd0",
   "metadata": {},
   "outputs": [],
   "source": [
    "paris_name = demo3.select('div.fn')[0].get_text()\n",
    "City_name.append(paris_name)\n",
    "\n",
    "paris_country = demo3.select(\"td.infobox-data\")[0].get_text()\n",
    "Country.append(paris_country)\n",
    "\n",
    "paris_latitude = demo3.select('span.latitude')[0].get_text()\n",
    "Latitude.append(paris_latitude)\n",
    "\n",
    "paris_longitude = demo3.select('span.longitude')[0].get_text()\n",
    "Longitude.append(paris_longitude)\n",
    "\n",
    "paris_population = demo3.select('td.infobox-data')[9].get_text()\n",
    "Population.append(paris_population)"
   ]
  },
  {
   "cell_type": "markdown",
   "id": "0592397e",
   "metadata": {},
   "source": [
    "## Madrid"
   ]
  },
  {
   "cell_type": "code",
   "execution_count": 11,
   "id": "7fa8d42d",
   "metadata": {},
   "outputs": [
    {
     "data": {
      "text/plain": [
       "200"
      ]
     },
     "execution_count": 11,
     "metadata": {},
     "output_type": "execute_result"
    }
   ],
   "source": [
    "url4 = \"https://en.m.wikipedia.org/wiki/Madrid\"\n",
    "headers4 = {'Accept-Language': 'en-US,en;q=0.8'}\n",
    "response4 = requests.get(url4, headers = headers4)\n",
    "response4.status_code # 200 status code means OK!"
   ]
  },
  {
   "cell_type": "code",
   "execution_count": 12,
   "id": "bf05a928",
   "metadata": {},
   "outputs": [],
   "source": [
    "demo4 = BeautifulSoup(response4.content, \"html.parser\")"
   ]
  },
  {
   "cell_type": "code",
   "execution_count": 13,
   "id": "b49ae921",
   "metadata": {},
   "outputs": [],
   "source": [
    "madrid_name= demo4.select(\"div.fn\")[0].get_text()\n",
    "City_name.append(madrid_name)\n",
    "\n",
    "madrid_country= demo4.select(\"td.infobox-data a\")[0].get_text()\n",
    "Country.append(madrid_country)\n",
    "\n",
    "madrid_latitude= demo4.select(\"span.latitude\")[0].get_text()\n",
    "Latitude.append(madrid_latitude)\n",
    "\n",
    "madrid_longitude=demo4.select(\"span.longitude\")[0].get_text()\n",
    "Longitude.append(madrid_longitude)\n",
    "\n",
    "madrid_population= demo4.select(\"td.infobox-data\")[8].get_text()\n",
    "Population.append(madrid_population)"
   ]
  },
  {
   "cell_type": "markdown",
   "id": "ce5c75a6",
   "metadata": {},
   "source": [
    "## Rome"
   ]
  },
  {
   "cell_type": "code",
   "execution_count": 14,
   "id": "56d6ba0f",
   "metadata": {},
   "outputs": [
    {
     "data": {
      "text/plain": [
       "200"
      ]
     },
     "execution_count": 14,
     "metadata": {},
     "output_type": "execute_result"
    }
   ],
   "source": [
    "url5 = \"https://en.wikipedia.org/wiki/Rome\"\n",
    "headers5 = {'Accept-Language': 'en-US,en;q=0.8'}\n",
    "response5 = requests.get(url5, headers = headers4)\n",
    "response5.status_code # 200 status code means OK!"
   ]
  },
  {
   "cell_type": "code",
   "execution_count": 15,
   "id": "f0f0d071",
   "metadata": {},
   "outputs": [],
   "source": [
    "demo5 = BeautifulSoup(response5.content, \"html.parser\")"
   ]
  },
  {
   "cell_type": "code",
   "execution_count": 16,
   "id": "eef0fbda",
   "metadata": {},
   "outputs": [],
   "source": [
    "rome_city = demo5.select(\"div.fn\")[0].get_text()\n",
    "City_name.append(rome_city)\n",
    "\n",
    "rome_country = demo5.select(\"td.infobox-data a\")[0].get_text()\n",
    "Country.append(rome_country)\n",
    "\n",
    "rome_latitude = demo5.select(\"span.latitude\")[0].get_text()\n",
    "Latitude.append(rome_latitude)\n",
    "\n",
    "rome_longitude = demo5.select(\"span.longitude\")[0].get_text()\n",
    "Longitude.append(rome_longitude)\n",
    "\n",
    "rome_population=demo5.select(\"td.infobox-data\")[12].get_text()\n",
    "Population.append(rome_population)"
   ]
  },
  {
   "cell_type": "markdown",
   "id": "d291c483",
   "metadata": {},
   "source": [
    "## Create Tables"
   ]
  },
  {
   "cell_type": "code",
   "execution_count": 17,
   "id": "f8e79722",
   "metadata": {},
   "outputs": [
    {
     "data": {
      "text/plain": [
       "(['Berlin', 'Paris', 'Madrid', 'Rome'],\n",
       " ['Germany', 'France', 'Spain', 'Italy'],\n",
       " ['52°31′12″N', '48°51′24″N', '40°25′00″N', '41°53′36″N'],\n",
       " ['13°24′18″E', '2°21′08″E', '03°42′09″W', '12°28′58″E'],\n",
       " ['3,769,495', '2,165,423', '3,223,334', '2,860,009[2]'])"
      ]
     },
     "execution_count": 17,
     "metadata": {},
     "output_type": "execute_result"
    }
   ],
   "source": [
    "City_name,Country,Latitude,Longitude,Population"
   ]
  },
  {
   "cell_type": "code",
   "execution_count": 18,
   "id": "0178917a",
   "metadata": {},
   "outputs": [],
   "source": [
    "Population = [i.replace('[1]','') for i in Population]\n",
    "Population = [i.replace('[2]','') for i in Population]"
   ]
  },
  {
   "cell_type": "code",
   "execution_count": 64,
   "id": "163ead68",
   "metadata": {},
   "outputs": [],
   "source": [
    "Cities_Infos = pd.DataFrame(\n",
    "    {\"city_ID\": ['1', '2','3','4'],\n",
    "     \"city_name\": City_name,\n",
    "     \"country\": Country,\n",
    "     \"population\": Population,\n",
    "     \"latitude\": Latitude,\n",
    "     \"longitude\": Longitude\n",
    "    }\n",
    ")\n",
    "\n",
    "# fixing latitude\n",
    "Cities_Infos['latitude'] = Cities_Infos['latitude'].str.split('″').str[0].str.replace('°', '.', regex=False).str.replace('′', '', regex=False)\n",
    "# fixing longitude\n",
    "Cities_Infos['longitude'] = Cities_Infos['longitude'].str.split('″').str[0].str.replace('°', '.', regex=False).str.replace('′', '', regex=False)\n",
    "\n"
   ]
  },
  {
   "cell_type": "code",
   "execution_count": 20,
   "id": "a1ab933e",
   "metadata": {},
   "outputs": [],
   "source": [
    "Cities = pd.DataFrame({\n",
    "    \"city_name\": City_name,\n",
    "    \"country\": Country}).reset_index()\n",
    "\n",
    "Cities = Cities.rename(columns={'index':'city_ID'})\n",
    "\n",
    "Cities.city_ID = Cities.city_ID + 1\n",
    "\n"
   ]
  },
  {
   "cell_type": "code",
   "execution_count": 65,
   "id": "335de4cf",
   "metadata": {},
   "outputs": [
    {
     "data": {
      "text/html": [
       "<div>\n",
       "<style scoped>\n",
       "    .dataframe tbody tr th:only-of-type {\n",
       "        vertical-align: middle;\n",
       "    }\n",
       "\n",
       "    .dataframe tbody tr th {\n",
       "        vertical-align: top;\n",
       "    }\n",
       "\n",
       "    .dataframe thead th {\n",
       "        text-align: right;\n",
       "    }\n",
       "</style>\n",
       "<table border=\"1\" class=\"dataframe\">\n",
       "  <thead>\n",
       "    <tr style=\"text-align: right;\">\n",
       "      <th></th>\n",
       "      <th>city_ID</th>\n",
       "      <th>city_name</th>\n",
       "      <th>country</th>\n",
       "      <th>population</th>\n",
       "      <th>latitude</th>\n",
       "      <th>longitude</th>\n",
       "    </tr>\n",
       "  </thead>\n",
       "  <tbody>\n",
       "    <tr>\n",
       "      <th>0</th>\n",
       "      <td>1</td>\n",
       "      <td>Berlin</td>\n",
       "      <td>Germany</td>\n",
       "      <td>3,769,495</td>\n",
       "      <td>52.3112</td>\n",
       "      <td>13.2418</td>\n",
       "    </tr>\n",
       "    <tr>\n",
       "      <th>1</th>\n",
       "      <td>2</td>\n",
       "      <td>Paris</td>\n",
       "      <td>France</td>\n",
       "      <td>2,165,423</td>\n",
       "      <td>48.5124</td>\n",
       "      <td>2.2108</td>\n",
       "    </tr>\n",
       "    <tr>\n",
       "      <th>2</th>\n",
       "      <td>3</td>\n",
       "      <td>Madrid</td>\n",
       "      <td>Spain</td>\n",
       "      <td>3,223,334</td>\n",
       "      <td>40.2500</td>\n",
       "      <td>03.4209</td>\n",
       "    </tr>\n",
       "    <tr>\n",
       "      <th>3</th>\n",
       "      <td>4</td>\n",
       "      <td>Rome</td>\n",
       "      <td>Italy</td>\n",
       "      <td>2,860,009</td>\n",
       "      <td>41.5336</td>\n",
       "      <td>12.2858</td>\n",
       "    </tr>\n",
       "  </tbody>\n",
       "</table>\n",
       "</div>"
      ],
      "text/plain": [
       "  city_ID city_name  country population latitude longitude\n",
       "0       1    Berlin  Germany  3,769,495  52.3112   13.2418\n",
       "1       2     Paris   France  2,165,423  48.5124    2.2108\n",
       "2       3    Madrid    Spain  3,223,334  40.2500   03.4209\n",
       "3       4      Rome    Italy  2,860,009  41.5336   12.2858"
      ]
     },
     "execution_count": 65,
     "metadata": {},
     "output_type": "execute_result"
    }
   ],
   "source": [
    "Cities_Infos"
   ]
  },
  {
   "cell_type": "code",
   "execution_count": 22,
   "id": "db0c5c45",
   "metadata": {},
   "outputs": [
    {
     "data": {
      "text/html": [
       "<div>\n",
       "<style scoped>\n",
       "    .dataframe tbody tr th:only-of-type {\n",
       "        vertical-align: middle;\n",
       "    }\n",
       "\n",
       "    .dataframe tbody tr th {\n",
       "        vertical-align: top;\n",
       "    }\n",
       "\n",
       "    .dataframe thead th {\n",
       "        text-align: right;\n",
       "    }\n",
       "</style>\n",
       "<table border=\"1\" class=\"dataframe\">\n",
       "  <thead>\n",
       "    <tr style=\"text-align: right;\">\n",
       "      <th></th>\n",
       "      <th>city_ID</th>\n",
       "      <th>city_name</th>\n",
       "      <th>country</th>\n",
       "    </tr>\n",
       "  </thead>\n",
       "  <tbody>\n",
       "    <tr>\n",
       "      <th>0</th>\n",
       "      <td>1</td>\n",
       "      <td>Berlin</td>\n",
       "      <td>Germany</td>\n",
       "    </tr>\n",
       "    <tr>\n",
       "      <th>1</th>\n",
       "      <td>2</td>\n",
       "      <td>Paris</td>\n",
       "      <td>France</td>\n",
       "    </tr>\n",
       "    <tr>\n",
       "      <th>2</th>\n",
       "      <td>3</td>\n",
       "      <td>Madrid</td>\n",
       "      <td>Spain</td>\n",
       "    </tr>\n",
       "    <tr>\n",
       "      <th>3</th>\n",
       "      <td>4</td>\n",
       "      <td>Rome</td>\n",
       "      <td>Italy</td>\n",
       "    </tr>\n",
       "  </tbody>\n",
       "</table>\n",
       "</div>"
      ],
      "text/plain": [
       "   city_ID city_name  country\n",
       "0        1    Berlin  Germany\n",
       "1        2     Paris   France\n",
       "2        3    Madrid    Spain\n",
       "3        4      Rome    Italy"
      ]
     },
     "execution_count": 22,
     "metadata": {},
     "output_type": "execute_result"
    }
   ],
   "source": [
    "Cities"
   ]
  },
  {
   "cell_type": "code",
   "execution_count": 23,
   "id": "cace1f54",
   "metadata": {},
   "outputs": [],
   "source": [
    "Airports = pd.DataFrame({\n",
    "    'city_ID': ['1','2','2','3','4','4'],\n",
    "    'city_name': ['Berlin', 'Paris', 'Paris', 'Madrid', 'Rome', 'Rome'],\n",
    "    'ICAO': ['EDDB', 'LFPO', 'LFPG','LEMD' , 'LIRA', 'LIRF']\n",
    "})\n",
    "\n",
    "Airports = pd.merge(Airports,Cities, on='city_name')\n",
    "Airports.pop('city_ID_y')\n",
    "Airports = Airports.rename(columns={'city_ID_x':'city_ID'})"
   ]
  },
  {
   "cell_type": "code",
   "execution_count": 24,
   "id": "5b349205",
   "metadata": {},
   "outputs": [
    {
     "data": {
      "text/html": [
       "<div>\n",
       "<style scoped>\n",
       "    .dataframe tbody tr th:only-of-type {\n",
       "        vertical-align: middle;\n",
       "    }\n",
       "\n",
       "    .dataframe tbody tr th {\n",
       "        vertical-align: top;\n",
       "    }\n",
       "\n",
       "    .dataframe thead th {\n",
       "        text-align: right;\n",
       "    }\n",
       "</style>\n",
       "<table border=\"1\" class=\"dataframe\">\n",
       "  <thead>\n",
       "    <tr style=\"text-align: right;\">\n",
       "      <th></th>\n",
       "      <th>city_ID</th>\n",
       "      <th>city_name</th>\n",
       "      <th>ICAO</th>\n",
       "      <th>country</th>\n",
       "    </tr>\n",
       "  </thead>\n",
       "  <tbody>\n",
       "    <tr>\n",
       "      <th>0</th>\n",
       "      <td>1</td>\n",
       "      <td>Berlin</td>\n",
       "      <td>EDDB</td>\n",
       "      <td>Germany</td>\n",
       "    </tr>\n",
       "    <tr>\n",
       "      <th>1</th>\n",
       "      <td>2</td>\n",
       "      <td>Paris</td>\n",
       "      <td>LFPO</td>\n",
       "      <td>France</td>\n",
       "    </tr>\n",
       "    <tr>\n",
       "      <th>2</th>\n",
       "      <td>2</td>\n",
       "      <td>Paris</td>\n",
       "      <td>LFPG</td>\n",
       "      <td>France</td>\n",
       "    </tr>\n",
       "    <tr>\n",
       "      <th>3</th>\n",
       "      <td>3</td>\n",
       "      <td>Madrid</td>\n",
       "      <td>LEMD</td>\n",
       "      <td>Spain</td>\n",
       "    </tr>\n",
       "    <tr>\n",
       "      <th>4</th>\n",
       "      <td>4</td>\n",
       "      <td>Rome</td>\n",
       "      <td>LIRA</td>\n",
       "      <td>Italy</td>\n",
       "    </tr>\n",
       "    <tr>\n",
       "      <th>5</th>\n",
       "      <td>4</td>\n",
       "      <td>Rome</td>\n",
       "      <td>LIRF</td>\n",
       "      <td>Italy</td>\n",
       "    </tr>\n",
       "  </tbody>\n",
       "</table>\n",
       "</div>"
      ],
      "text/plain": [
       "  city_ID city_name  ICAO  country\n",
       "0       1    Berlin  EDDB  Germany\n",
       "1       2     Paris  LFPO   France\n",
       "2       2     Paris  LFPG   France\n",
       "3       3    Madrid  LEMD    Spain\n",
       "4       4      Rome  LIRA    Italy\n",
       "5       4      Rome  LIRF    Italy"
      ]
     },
     "execution_count": 24,
     "metadata": {},
     "output_type": "execute_result"
    }
   ],
   "source": [
    "Airports"
   ]
  },
  {
   "cell_type": "markdown",
   "id": "c3b3d611",
   "metadata": {},
   "source": [
    "# Weathers"
   ]
  },
  {
   "cell_type": "code",
   "execution_count": 1,
   "id": "509ef52b",
   "metadata": {},
   "outputs": [],
   "source": [
    "list_df = []\n",
    "\n",
    "\n",
    "def weather_lists(Cities):\n",
    "    Responses = []\n",
    "    Jsons = []\n",
    "    API_key = 'f5297da4859dc89a295781904f4487dc'\n",
    "    \n",
    "    for i in Cities:\n",
    "        Responses.append(requests.get(f\"http://api.openweathermap.org/data/2.5/forecast?q={i}&appid={API_key}&units=metric\"))\n",
    "    for j in Responses:\n",
    "        Jsons.append(j.json())\n",
    "    \n",
    "    City = [] \n",
    "    Time_Stamp = [] #_forecast['list'][1]['dt_txt']\n",
    "    Country = []\n",
    "\n",
    "    #Temp\n",
    "    Temperature = [] #_forecast['list'][1]['main']['temp']\n",
    "    Feels_Temperature = [] #_forecast['list'][1]['main']['feels_like']\n",
    "\n",
    "    #Humidity\n",
    "    Humidity = [] #_forecast['list'][1]['main']['humidity']\n",
    "\n",
    "    #Actual Weather\n",
    "    Weather = [] #_forecast['list'][1]['weather'][0]['main']\n",
    "    Weather_desc = [] #_forecast['list'][1]['weather'][0]['description']\n",
    "\n",
    "    #Wind\n",
    "    Wind_Speed = [] #_forecast['list'][1]['wind']['speed']\n",
    "\n",
    "    #risk of rain (from 0 to 1 where 0% to 100%)\n",
    "    Risk_Rain = [] #_forecast['list'][1]['pop']\n",
    "            \n",
    "    for k in Jsons:\n",
    "        for i in range(len(k['list'])):\n",
    "            #City\n",
    "            City.append(k['city']['name'])\n",
    "            Country.append(k['city']['country'])\n",
    "            #Datetime \n",
    "            Time_Stamp.append(k['list'][i]['dt_txt'])\n",
    "\n",
    "            #Temp\n",
    "            Temperature.append(k['list'][i]['main']['temp'])\n",
    "            Feels_Temperature.append(k['list'][i]['main']['feels_like'])\n",
    "\n",
    "            #Humidity\n",
    "            Humidity.append(k['list'][i]['main']['humidity'])\n",
    "\n",
    "            #Wind\n",
    "            Wind_Speed.append(k['list'][i]['wind']['speed'])\n",
    "\n",
    "            #risk of rain (from 0 to 1 where 0% to 100%)\n",
    "            Risk_Rain.append(k['list'][i]['pop'])\n",
    "\n",
    "            for j in range(len(k['list'][i]['weather'])):\n",
    "                #Actual Weather\n",
    "                Weather.append(k['list'][i]['weather'][j]['main'])\n",
    "                Weather_desc.append(k['list'][i]['weather'][j]['description'])\n",
    "\n",
    "\n",
    "    for eachCity in Cities:\n",
    "    #Dynamically create Data frames\n",
    "        df = pd.DataFrame({\n",
    "                'city_id': City,\n",
    "                'country':Country,\n",
    "                'time_Stamp':Time_Stamp,\n",
    "                'temperature':Temperature,\n",
    "                'feels_Temperature':Feels_Temperature,\n",
    "                'weather':Weather,\n",
    "                'weather_desc':Weather_desc,\n",
    "                'wind_Speed':Wind_Speed,\n",
    "                'risk_Rain':Risk_Rain,\n",
    "                'retrieve_Date': datetime.now().date()\n",
    "                })\n",
    "    df.time_Stamp = pd.to_datetime(df.time_Stamp)\n",
    "    df.retrieve_Date = pd.to_datetime(df.retrieve_Date)\n",
    "    df.city_id = df.city_id.replace('Berlin', '1').str.replace('Paris', '2').str.replace('Madrid','3').str.replace('Rome','4')\n",
    "    return df\n",
    "        "
   ]
  },
  {
   "cell_type": "code",
   "execution_count": 4,
   "id": "a2516751",
   "metadata": {},
   "outputs": [],
   "source": [
    "Weathers = weather_lists(['Berlin', 'Paris', 'Madrid', 'Rome, IT'])"
   ]
  },
  {
   "cell_type": "code",
   "execution_count": 5,
   "id": "f245bbb4",
   "metadata": {},
   "outputs": [
    {
     "data": {
      "text/html": [
       "<div>\n",
       "<style scoped>\n",
       "    .dataframe tbody tr th:only-of-type {\n",
       "        vertical-align: middle;\n",
       "    }\n",
       "\n",
       "    .dataframe tbody tr th {\n",
       "        vertical-align: top;\n",
       "    }\n",
       "\n",
       "    .dataframe thead th {\n",
       "        text-align: right;\n",
       "    }\n",
       "</style>\n",
       "<table border=\"1\" class=\"dataframe\">\n",
       "  <thead>\n",
       "    <tr style=\"text-align: right;\">\n",
       "      <th></th>\n",
       "      <th>city_id</th>\n",
       "      <th>country</th>\n",
       "      <th>time_Stamp</th>\n",
       "      <th>temperature</th>\n",
       "      <th>feels_Temperature</th>\n",
       "      <th>weather</th>\n",
       "      <th>weather_desc</th>\n",
       "      <th>wind_Speed</th>\n",
       "      <th>risk_Rain</th>\n",
       "      <th>retrieve_Date</th>\n",
       "    </tr>\n",
       "  </thead>\n",
       "  <tbody>\n",
       "    <tr>\n",
       "      <th>0</th>\n",
       "      <td>1</td>\n",
       "      <td>DE</td>\n",
       "      <td>2022-11-07 09:00:00</td>\n",
       "      <td>9.25</td>\n",
       "      <td>6.73</td>\n",
       "      <td>Clouds</td>\n",
       "      <td>overcast clouds</td>\n",
       "      <td>4.80</td>\n",
       "      <td>0.00</td>\n",
       "      <td>2022-11-07</td>\n",
       "    </tr>\n",
       "    <tr>\n",
       "      <th>1</th>\n",
       "      <td>1</td>\n",
       "      <td>DE</td>\n",
       "      <td>2022-11-07 12:00:00</td>\n",
       "      <td>10.85</td>\n",
       "      <td>9.92</td>\n",
       "      <td>Clouds</td>\n",
       "      <td>broken clouds</td>\n",
       "      <td>5.34</td>\n",
       "      <td>0.00</td>\n",
       "      <td>2022-11-07</td>\n",
       "    </tr>\n",
       "    <tr>\n",
       "      <th>2</th>\n",
       "      <td>1</td>\n",
       "      <td>DE</td>\n",
       "      <td>2022-11-07 15:00:00</td>\n",
       "      <td>11.74</td>\n",
       "      <td>10.80</td>\n",
       "      <td>Clouds</td>\n",
       "      <td>overcast clouds</td>\n",
       "      <td>4.90</td>\n",
       "      <td>0.00</td>\n",
       "      <td>2022-11-07</td>\n",
       "    </tr>\n",
       "    <tr>\n",
       "      <th>3</th>\n",
       "      <td>1</td>\n",
       "      <td>DE</td>\n",
       "      <td>2022-11-07 18:00:00</td>\n",
       "      <td>12.31</td>\n",
       "      <td>11.45</td>\n",
       "      <td>Clouds</td>\n",
       "      <td>overcast clouds</td>\n",
       "      <td>4.99</td>\n",
       "      <td>0.00</td>\n",
       "      <td>2022-11-07</td>\n",
       "    </tr>\n",
       "    <tr>\n",
       "      <th>4</th>\n",
       "      <td>1</td>\n",
       "      <td>DE</td>\n",
       "      <td>2022-11-07 21:00:00</td>\n",
       "      <td>11.94</td>\n",
       "      <td>11.15</td>\n",
       "      <td>Clouds</td>\n",
       "      <td>overcast clouds</td>\n",
       "      <td>4.27</td>\n",
       "      <td>0.00</td>\n",
       "      <td>2022-11-07</td>\n",
       "    </tr>\n",
       "    <tr>\n",
       "      <th>...</th>\n",
       "      <td>...</td>\n",
       "      <td>...</td>\n",
       "      <td>...</td>\n",
       "      <td>...</td>\n",
       "      <td>...</td>\n",
       "      <td>...</td>\n",
       "      <td>...</td>\n",
       "      <td>...</td>\n",
       "      <td>...</td>\n",
       "      <td>...</td>\n",
       "    </tr>\n",
       "    <tr>\n",
       "      <th>155</th>\n",
       "      <td>4</td>\n",
       "      <td>IT</td>\n",
       "      <td>2022-11-11 18:00:00</td>\n",
       "      <td>17.06</td>\n",
       "      <td>16.75</td>\n",
       "      <td>Clouds</td>\n",
       "      <td>broken clouds</td>\n",
       "      <td>1.14</td>\n",
       "      <td>0.02</td>\n",
       "      <td>2022-11-07</td>\n",
       "    </tr>\n",
       "    <tr>\n",
       "      <th>156</th>\n",
       "      <td>4</td>\n",
       "      <td>IT</td>\n",
       "      <td>2022-11-11 21:00:00</td>\n",
       "      <td>15.49</td>\n",
       "      <td>15.05</td>\n",
       "      <td>Clouds</td>\n",
       "      <td>overcast clouds</td>\n",
       "      <td>2.18</td>\n",
       "      <td>0.00</td>\n",
       "      <td>2022-11-07</td>\n",
       "    </tr>\n",
       "    <tr>\n",
       "      <th>157</th>\n",
       "      <td>4</td>\n",
       "      <td>IT</td>\n",
       "      <td>2022-11-12 00:00:00</td>\n",
       "      <td>14.42</td>\n",
       "      <td>13.90</td>\n",
       "      <td>Clouds</td>\n",
       "      <td>overcast clouds</td>\n",
       "      <td>2.48</td>\n",
       "      <td>0.00</td>\n",
       "      <td>2022-11-07</td>\n",
       "    </tr>\n",
       "    <tr>\n",
       "      <th>158</th>\n",
       "      <td>4</td>\n",
       "      <td>IT</td>\n",
       "      <td>2022-11-12 03:00:00</td>\n",
       "      <td>13.60</td>\n",
       "      <td>13.00</td>\n",
       "      <td>Clouds</td>\n",
       "      <td>overcast clouds</td>\n",
       "      <td>2.35</td>\n",
       "      <td>0.00</td>\n",
       "      <td>2022-11-07</td>\n",
       "    </tr>\n",
       "    <tr>\n",
       "      <th>159</th>\n",
       "      <td>4</td>\n",
       "      <td>IT</td>\n",
       "      <td>2022-11-12 06:00:00</td>\n",
       "      <td>12.67</td>\n",
       "      <td>12.03</td>\n",
       "      <td>Clouds</td>\n",
       "      <td>overcast clouds</td>\n",
       "      <td>2.56</td>\n",
       "      <td>0.00</td>\n",
       "      <td>2022-11-07</td>\n",
       "    </tr>\n",
       "  </tbody>\n",
       "</table>\n",
       "<p>160 rows × 10 columns</p>\n",
       "</div>"
      ],
      "text/plain": [
       "    city_id country          time_Stamp  temperature  feels_Temperature  \\\n",
       "0         1      DE 2022-11-07 09:00:00         9.25               6.73   \n",
       "1         1      DE 2022-11-07 12:00:00        10.85               9.92   \n",
       "2         1      DE 2022-11-07 15:00:00        11.74              10.80   \n",
       "3         1      DE 2022-11-07 18:00:00        12.31              11.45   \n",
       "4         1      DE 2022-11-07 21:00:00        11.94              11.15   \n",
       "..      ...     ...                 ...          ...                ...   \n",
       "155       4      IT 2022-11-11 18:00:00        17.06              16.75   \n",
       "156       4      IT 2022-11-11 21:00:00        15.49              15.05   \n",
       "157       4      IT 2022-11-12 00:00:00        14.42              13.90   \n",
       "158       4      IT 2022-11-12 03:00:00        13.60              13.00   \n",
       "159       4      IT 2022-11-12 06:00:00        12.67              12.03   \n",
       "\n",
       "    weather     weather_desc  wind_Speed  risk_Rain retrieve_Date  \n",
       "0    Clouds  overcast clouds        4.80       0.00    2022-11-07  \n",
       "1    Clouds    broken clouds        5.34       0.00    2022-11-07  \n",
       "2    Clouds  overcast clouds        4.90       0.00    2022-11-07  \n",
       "3    Clouds  overcast clouds        4.99       0.00    2022-11-07  \n",
       "4    Clouds  overcast clouds        4.27       0.00    2022-11-07  \n",
       "..      ...              ...         ...        ...           ...  \n",
       "155  Clouds    broken clouds        1.14       0.02    2022-11-07  \n",
       "156  Clouds  overcast clouds        2.18       0.00    2022-11-07  \n",
       "157  Clouds  overcast clouds        2.48       0.00    2022-11-07  \n",
       "158  Clouds  overcast clouds        2.35       0.00    2022-11-07  \n",
       "159  Clouds  overcast clouds        2.56       0.00    2022-11-07  \n",
       "\n",
       "[160 rows x 10 columns]"
      ]
     },
     "execution_count": 5,
     "metadata": {},
     "output_type": "execute_result"
    }
   ],
   "source": [
    "Weathers"
   ]
  },
  {
   "cell_type": "code",
   "execution_count": 59,
   "id": "1c36a2c6",
   "metadata": {},
   "outputs": [
    {
     "name": "stdout",
     "output_type": "stream",
     "text": [
      "<class 'pandas.core.frame.DataFrame'>\n",
      "RangeIndex: 160 entries, 0 to 159\n",
      "Data columns (total 10 columns):\n",
      " #   Column             Non-Null Count  Dtype         \n",
      "---  ------             --------------  -----         \n",
      " 0   city_id            160 non-null    object        \n",
      " 1   country            160 non-null    object        \n",
      " 2   time_Stamp         160 non-null    datetime64[ns]\n",
      " 3   temperature        160 non-null    float64       \n",
      " 4   feels_Temperature  160 non-null    float64       \n",
      " 5   weather            160 non-null    object        \n",
      " 6   weather_desc       160 non-null    object        \n",
      " 7   wind_Speed         160 non-null    float64       \n",
      " 8   risk_Rain          160 non-null    float64       \n",
      " 9   retrieve_Date      160 non-null    datetime64[ns]\n",
      "dtypes: datetime64[ns](2), float64(4), object(4)\n",
      "memory usage: 12.6+ KB\n"
     ]
    }
   ],
   "source": [
    "Weathers.info()"
   ]
  },
  {
   "cell_type": "markdown",
   "id": "2ee24e78",
   "metadata": {},
   "source": [
    "# Flights"
   ]
  },
  {
   "cell_type": "code",
   "execution_count": 30,
   "id": "b6dd8b55",
   "metadata": {},
   "outputs": [],
   "source": [
    "def tomorrows_flight_arrivals(icao_list):\n",
    "\n",
    "    today = datetime.now().date() # all that's needed when working locally \n",
    "    #today = datetime.now().astimezone(timezone('Europe/Berlin')).date() # only needed on colab as the computer is sometimes in a different timezone\n",
    "    tomorrow = (today + timedelta(days=1))\n",
    "\n",
    "    list_for_df = []\n",
    "\n",
    "    for icao in icao_list:\n",
    "        times = [[\"00:00\",\"11:59\"],[\"12:00\",\"23:59\"]]\n",
    "\n",
    "        for time in times:\n",
    "            url = f\"https://aerodatabox.p.rapidapi.com/flights/airports/icao/{icao}/{tomorrow}T{time[0]}/{tomorrow}T{time[1]}\"\n",
    "            querystring = {\"withLeg\":\"true\",\"direction\":\"Arrival\",\"withCancelled\":\"false\",\"withCodeshared\":\"true\",\"withCargo\":\"false\",\"withPrivate\":\"false\"}\n",
    "            headers = {\n",
    "              'x-rapidapi-host': \"aerodatabox.p.rapidapi.com\",\n",
    "              'x-rapidapi-key': \"a41979481emsh9d18344d6bc7a05p1d51bbjsn31de01813053\"\n",
    "              }\n",
    "            response = requests.request(\"GET\", url, headers=headers, params=querystring)\n",
    "            flights_json = response.json()\n",
    "\n",
    "            for flight in flights_json['arrivals']:\n",
    "                flights_dict = {}\n",
    "                flights_dict['arrival_icao'] = icao\n",
    "                # .get() is another way of ensuring our code doesn't break\n",
    "                # in the previous 2 notebooks you learnt about 'if' (cities) and 'try/except' (weather)\n",
    "                # .get() works similar, it will get the text if possible, if there is no text a None value will be inserted instead\n",
    "                flights_dict['arrival_time_local'] = flight['arrival'].get('scheduledTimeLocal', None)\n",
    "                flights_dict['arrival_terminal'] = flight['arrival'].get('terminal', None)\n",
    "                flights_dict['departure_city'] = flight['departure']['airport'].get('name', None)\n",
    "                flights_dict['departure_icao'] = flight['departure']['airport'].get('icao', None)\n",
    "                flights_dict['departure_time_local'] = flight['departure'].get('scheduledTimeLocal', None)\n",
    "                flights_dict['airline'] = flight['airline'].get('name', None)\n",
    "                flights_dict['flight_number'] = flight.get('number', None)\n",
    "                flights_dict['data_retrieved_on'] = datetime.now().astimezone(timezone('Europe/Berlin')).date()\n",
    "                list_for_df.append(flights_dict)\n",
    "\n",
    "    df = pd.DataFrame(list_for_df)\n",
    "    df.arrival_time_local = pd.to_datetime(df.arrival_time_local, utc= True)\n",
    "    df.departure_time_local = pd.to_datetime(df.departure_time_local, utc= True)\n",
    "    df.data_retrieved_on = pd.to_datetime(df.data_retrieved_on, utc= True)\n",
    "    return df"
   ]
  },
  {
   "cell_type": "code",
   "execution_count": 31,
   "id": "4d950e9f",
   "metadata": {},
   "outputs": [],
   "source": [
    "Flights = tomorrows_flight_arrivals(['EDDB', 'LFPO', 'LFPG','LEMD' , 'LIRA', 'LIRF'])"
   ]
  },
  {
   "cell_type": "code",
   "execution_count": 32,
   "id": "d8f0b72b",
   "metadata": {},
   "outputs": [
    {
     "data": {
      "text/html": [
       "<div>\n",
       "<style scoped>\n",
       "    .dataframe tbody tr th:only-of-type {\n",
       "        vertical-align: middle;\n",
       "    }\n",
       "\n",
       "    .dataframe tbody tr th {\n",
       "        vertical-align: top;\n",
       "    }\n",
       "\n",
       "    .dataframe thead th {\n",
       "        text-align: right;\n",
       "    }\n",
       "</style>\n",
       "<table border=\"1\" class=\"dataframe\">\n",
       "  <thead>\n",
       "    <tr style=\"text-align: right;\">\n",
       "      <th></th>\n",
       "      <th>arrival_icao</th>\n",
       "      <th>arrival_time_local</th>\n",
       "      <th>arrival_terminal</th>\n",
       "      <th>departure_city</th>\n",
       "      <th>departure_icao</th>\n",
       "      <th>departure_time_local</th>\n",
       "      <th>airline</th>\n",
       "      <th>flight_number</th>\n",
       "      <th>data_retrieved_on</th>\n",
       "    </tr>\n",
       "  </thead>\n",
       "  <tbody>\n",
       "    <tr>\n",
       "      <th>0</th>\n",
       "      <td>EDDB</td>\n",
       "      <td>2022-11-05 06:55:00+00:00</td>\n",
       "      <td>1</td>\n",
       "      <td>Riga</td>\n",
       "      <td>EVRA</td>\n",
       "      <td>2022-11-05 05:15:00+00:00</td>\n",
       "      <td>Air Baltic</td>\n",
       "      <td>BT 211</td>\n",
       "      <td>2022-11-04 00:00:00+00:00</td>\n",
       "    </tr>\n",
       "    <tr>\n",
       "      <th>1</th>\n",
       "      <td>EDDB</td>\n",
       "      <td>2022-11-05 06:55:00+00:00</td>\n",
       "      <td>1</td>\n",
       "      <td>Cologne</td>\n",
       "      <td>EDDK</td>\n",
       "      <td>2022-11-05 05:45:00+00:00</td>\n",
       "      <td>Eurowings</td>\n",
       "      <td>EW 6</td>\n",
       "      <td>2022-11-04 00:00:00+00:00</td>\n",
       "    </tr>\n",
       "    <tr>\n",
       "      <th>2</th>\n",
       "      <td>EDDB</td>\n",
       "      <td>2022-11-05 06:55:00+00:00</td>\n",
       "      <td>1</td>\n",
       "      <td>Frankfurt-am-Main</td>\n",
       "      <td>EDDF</td>\n",
       "      <td>2022-11-05 05:45:00+00:00</td>\n",
       "      <td>Lufthansa</td>\n",
       "      <td>LH 170</td>\n",
       "      <td>2022-11-04 00:00:00+00:00</td>\n",
       "    </tr>\n",
       "    <tr>\n",
       "      <th>3</th>\n",
       "      <td>EDDB</td>\n",
       "      <td>2022-11-05 06:55:00+00:00</td>\n",
       "      <td>1</td>\n",
       "      <td>Newark</td>\n",
       "      <td>KEWR</td>\n",
       "      <td>2022-11-04 22:50:00+00:00</td>\n",
       "      <td>United</td>\n",
       "      <td>UA 962</td>\n",
       "      <td>2022-11-04 00:00:00+00:00</td>\n",
       "    </tr>\n",
       "    <tr>\n",
       "      <th>4</th>\n",
       "      <td>EDDB</td>\n",
       "      <td>2022-11-05 05:45:00+00:00</td>\n",
       "      <td>0</td>\n",
       "      <td>Vilnius</td>\n",
       "      <td>EYVI</td>\n",
       "      <td>2022-11-05 04:05:00+00:00</td>\n",
       "      <td>Ryanair</td>\n",
       "      <td>FR 1571</td>\n",
       "      <td>2022-11-04 00:00:00+00:00</td>\n",
       "    </tr>\n",
       "    <tr>\n",
       "      <th>...</th>\n",
       "      <td>...</td>\n",
       "      <td>...</td>\n",
       "      <td>...</td>\n",
       "      <td>...</td>\n",
       "      <td>...</td>\n",
       "      <td>...</td>\n",
       "      <td>...</td>\n",
       "      <td>...</td>\n",
       "      <td>...</td>\n",
       "    </tr>\n",
       "    <tr>\n",
       "      <th>3410</th>\n",
       "      <td>LIRF</td>\n",
       "      <td>2022-11-05 22:35:00+00:00</td>\n",
       "      <td>1</td>\n",
       "      <td>Paris</td>\n",
       "      <td>LFPO</td>\n",
       "      <td>2022-11-05 20:35:00+00:00</td>\n",
       "      <td>Vueling</td>\n",
       "      <td>VY 6933</td>\n",
       "      <td>2022-11-04 00:00:00+00:00</td>\n",
       "    </tr>\n",
       "    <tr>\n",
       "      <th>3411</th>\n",
       "      <td>LIRF</td>\n",
       "      <td>2022-11-05 22:00:00+00:00</td>\n",
       "      <td>1</td>\n",
       "      <td>Amman</td>\n",
       "      <td>OJAI</td>\n",
       "      <td>2022-11-05 18:15:00+00:00</td>\n",
       "      <td>Wizz Air</td>\n",
       "      <td>W6 8310</td>\n",
       "      <td>2022-11-04 00:00:00+00:00</td>\n",
       "    </tr>\n",
       "    <tr>\n",
       "      <th>3412</th>\n",
       "      <td>LIRF</td>\n",
       "      <td>2022-11-05 21:05:00+00:00</td>\n",
       "      <td>1</td>\n",
       "      <td>Catania</td>\n",
       "      <td>LICC</td>\n",
       "      <td>2022-11-05 19:40:00+00:00</td>\n",
       "      <td>Ryanair</td>\n",
       "      <td>FR 5846</td>\n",
       "      <td>2022-11-04 00:00:00+00:00</td>\n",
       "    </tr>\n",
       "    <tr>\n",
       "      <th>3413</th>\n",
       "      <td>LIRF</td>\n",
       "      <td>2022-11-05 21:30:00+00:00</td>\n",
       "      <td>3</td>\n",
       "      <td>Lanzarote Island</td>\n",
       "      <td>GCRR</td>\n",
       "      <td>2022-11-05 17:30:00+00:00</td>\n",
       "      <td>Ryanair</td>\n",
       "      <td>FR 5859</td>\n",
       "      <td>2022-11-04 00:00:00+00:00</td>\n",
       "    </tr>\n",
       "    <tr>\n",
       "      <th>3414</th>\n",
       "      <td>LIRF</td>\n",
       "      <td>2022-11-05 21:30:00+00:00</td>\n",
       "      <td>1</td>\n",
       "      <td>Madrid</td>\n",
       "      <td>LEMD</td>\n",
       "      <td>2022-11-05 19:00:00+00:00</td>\n",
       "      <td>Iberia</td>\n",
       "      <td>IB 3238</td>\n",
       "      <td>2022-11-04 00:00:00+00:00</td>\n",
       "    </tr>\n",
       "  </tbody>\n",
       "</table>\n",
       "<p>3415 rows × 9 columns</p>\n",
       "</div>"
      ],
      "text/plain": [
       "     arrival_icao        arrival_time_local arrival_terminal  \\\n",
       "0            EDDB 2022-11-05 06:55:00+00:00                1   \n",
       "1            EDDB 2022-11-05 06:55:00+00:00                1   \n",
       "2            EDDB 2022-11-05 06:55:00+00:00                1   \n",
       "3            EDDB 2022-11-05 06:55:00+00:00                1   \n",
       "4            EDDB 2022-11-05 05:45:00+00:00                0   \n",
       "...           ...                       ...              ...   \n",
       "3410         LIRF 2022-11-05 22:35:00+00:00                1   \n",
       "3411         LIRF 2022-11-05 22:00:00+00:00                1   \n",
       "3412         LIRF 2022-11-05 21:05:00+00:00                1   \n",
       "3413         LIRF 2022-11-05 21:30:00+00:00                3   \n",
       "3414         LIRF 2022-11-05 21:30:00+00:00                1   \n",
       "\n",
       "         departure_city departure_icao      departure_time_local     airline  \\\n",
       "0                  Riga           EVRA 2022-11-05 05:15:00+00:00  Air Baltic   \n",
       "1               Cologne           EDDK 2022-11-05 05:45:00+00:00   Eurowings   \n",
       "2     Frankfurt-am-Main           EDDF 2022-11-05 05:45:00+00:00   Lufthansa   \n",
       "3                Newark           KEWR 2022-11-04 22:50:00+00:00      United   \n",
       "4               Vilnius           EYVI 2022-11-05 04:05:00+00:00     Ryanair   \n",
       "...                 ...            ...                       ...         ...   \n",
       "3410              Paris           LFPO 2022-11-05 20:35:00+00:00     Vueling   \n",
       "3411              Amman           OJAI 2022-11-05 18:15:00+00:00    Wizz Air   \n",
       "3412            Catania           LICC 2022-11-05 19:40:00+00:00     Ryanair   \n",
       "3413   Lanzarote Island           GCRR 2022-11-05 17:30:00+00:00     Ryanair   \n",
       "3414             Madrid           LEMD 2022-11-05 19:00:00+00:00      Iberia   \n",
       "\n",
       "     flight_number         data_retrieved_on  \n",
       "0           BT 211 2022-11-04 00:00:00+00:00  \n",
       "1             EW 6 2022-11-04 00:00:00+00:00  \n",
       "2           LH 170 2022-11-04 00:00:00+00:00  \n",
       "3           UA 962 2022-11-04 00:00:00+00:00  \n",
       "4          FR 1571 2022-11-04 00:00:00+00:00  \n",
       "...            ...                       ...  \n",
       "3410       VY 6933 2022-11-04 00:00:00+00:00  \n",
       "3411       W6 8310 2022-11-04 00:00:00+00:00  \n",
       "3412       FR 5846 2022-11-04 00:00:00+00:00  \n",
       "3413       FR 5859 2022-11-04 00:00:00+00:00  \n",
       "3414       IB 3238 2022-11-04 00:00:00+00:00  \n",
       "\n",
       "[3415 rows x 9 columns]"
      ]
     },
     "execution_count": 32,
     "metadata": {},
     "output_type": "execute_result"
    }
   ],
   "source": [
    "Flights"
   ]
  },
  {
   "cell_type": "code",
   "execution_count": 33,
   "id": "e5acd427",
   "metadata": {},
   "outputs": [
    {
     "name": "stdout",
     "output_type": "stream",
     "text": [
      "<class 'pandas.core.frame.DataFrame'>\n",
      "RangeIndex: 3415 entries, 0 to 3414\n",
      "Data columns (total 9 columns):\n",
      " #   Column                Non-Null Count  Dtype              \n",
      "---  ------                --------------  -----              \n",
      " 0   arrival_icao          3415 non-null   object             \n",
      " 1   arrival_time_local    3415 non-null   datetime64[ns, UTC]\n",
      " 2   arrival_terminal      3377 non-null   object             \n",
      " 3   departure_city        3415 non-null   object             \n",
      " 4   departure_icao        3403 non-null   object             \n",
      " 5   departure_time_local  2390 non-null   datetime64[ns, UTC]\n",
      " 6   airline               3415 non-null   object             \n",
      " 7   flight_number         3415 non-null   object             \n",
      " 8   data_retrieved_on     3415 non-null   datetime64[ns, UTC]\n",
      "dtypes: datetime64[ns, UTC](3), object(6)\n",
      "memory usage: 240.2+ KB\n"
     ]
    }
   ],
   "source": [
    "Flights.info()"
   ]
  },
  {
   "cell_type": "markdown",
   "id": "74b7237b",
   "metadata": {},
   "source": [
    "# Connect to MySQL"
   ]
  },
  {
   "cell_type": "code",
   "execution_count": 51,
   "id": "148c37af",
   "metadata": {},
   "outputs": [],
   "source": [
    "schema=\"E_Scooter\"   # name of the database you want to use here\n",
    "host=\"127.0.0.1\"        # to connect to your local server\n",
    "user=\"root\"\n",
    "password=\"Maxime45\" # your password!!!!\n",
    "port=3306\n",
    "con = f'mysql+pymysql://{user}:{password}@{host}:{port}/{schema}'"
   ]
  },
  {
   "cell_type": "code",
   "execution_count": 64,
   "id": "5f47a1b5",
   "metadata": {},
   "outputs": [
    {
     "data": {
      "text/plain": [
       "4"
      ]
     },
     "execution_count": 64,
     "metadata": {},
     "output_type": "execute_result"
    }
   ],
   "source": [
    "Cities.to_sql('Cities',         # 'iss_logs'-> table name;\n",
    "              if_exists='append', # if_exists -> will create new table if doesn't exist, otherwise, 'append' - will append data to existing table;\n",
    "              con=con,            # con-> connection string;\n",
    "              index=False)        # index = False -> will not send index column to database\n",
    "                                 "
   ]
  },
  {
   "cell_type": "code",
   "execution_count": 65,
   "id": "1611a890",
   "metadata": {},
   "outputs": [
    {
     "data": {
      "text/plain": [
       "6"
      ]
     },
     "execution_count": 65,
     "metadata": {},
     "output_type": "execute_result"
    }
   ],
   "source": [
    "Airports.to_sql('Airports',         # 'iss_logs'-> table name;\n",
    "              if_exists='append', # if_exists -> will create new table if doesn't exist, otherwise, 'append' - will append data to existing table;\n",
    "              con=con,            # con-> connection string;\n",
    "              index=False)        # index = False -> will not send index column to database\n",
    "                             "
   ]
  },
  {
   "cell_type": "code",
   "execution_count": 66,
   "id": "c5829d12",
   "metadata": {},
   "outputs": [
    {
     "data": {
      "text/plain": [
       "4"
      ]
     },
     "execution_count": 66,
     "metadata": {},
     "output_type": "execute_result"
    }
   ],
   "source": [
    "Cities_Infos.to_sql('Cities_Infos',         # 'iss_logs'-> table name;\n",
    "              if_exists='append', # if_exists -> will create new table if doesn't exist, otherwise, 'append' - will append data to existing table;\n",
    "              con=con,            # con-> connection string;\n",
    "              index=False)        # index = False -> will not send index column to database\n",
    "                             "
   ]
  },
  {
   "cell_type": "code",
   "execution_count": 61,
   "id": "c33f35f9",
   "metadata": {},
   "outputs": [
    {
     "data": {
      "text/plain": [
       "160"
      ]
     },
     "execution_count": 61,
     "metadata": {},
     "output_type": "execute_result"
    }
   ],
   "source": [
    "Weathers.to_sql('Weather',         # 'iss_logs'-> table name;\n",
    "              if_exists='append', # if_exists -> will create new table if doesn't exist, otherwise, 'append' - will append data to existing table;\n",
    "              con=con,            # con-> connection string;\n",
    "              index=False)        # index = False -> will not send index column to database\n",
    "                          "
   ]
  },
  {
   "cell_type": "code",
   "execution_count": 60,
   "id": "29aba772",
   "metadata": {},
   "outputs": [
    {
     "data": {
      "text/plain": [
       "3415"
      ]
     },
     "execution_count": 60,
     "metadata": {},
     "output_type": "execute_result"
    }
   ],
   "source": [
    "Flights.to_sql('Flights',         # 'iss_logs'-> table name;\n",
    "              if_exists='append', # if_exists -> will create new table if doesn't exist, otherwise, 'append' - will append data to existing table;\n",
    "              con=con,            # con-> connection string;\n",
    "              index=False)        # index = False -> will not send index column to database\n",
    "                          "
   ]
  },
  {
   "cell_type": "markdown",
   "id": "e1d1513b-495d-4d65-bd24-6a55df337c64",
   "metadata": {},
   "source": [
    "# Add columns\n"
   ]
  },
  {
   "cell_type": "code",
   "execution_count": 41,
   "id": "e6118ff7-a59a-47ab-950c-68ac3eb9f295",
   "metadata": {},
   "outputs": [
    {
     "data": {
      "text/plain": [
       "0"
      ]
     },
     "execution_count": 41,
     "metadata": {},
     "output_type": "execute_result"
    }
   ],
   "source": [
    "Flights.duplicated().sum()"
   ]
  },
  {
   "cell_type": "code",
   "execution_count": null,
   "id": "e9bd3032-4270-43ed-8c7f-26c293b597d5",
   "metadata": {},
   "outputs": [],
   "source": []
  }
 ],
 "metadata": {
  "kernelspec": {
   "display_name": "Python 3.9.12 ('base')",
   "language": "python",
   "name": "python3"
  },
  "language_info": {
   "codemirror_mode": {
    "name": "ipython",
    "version": 3
   },
   "file_extension": ".py",
   "mimetype": "text/x-python",
   "name": "python",
   "nbconvert_exporter": "python",
   "pygments_lexer": "ipython3",
   "version": "3.9.12"
  },
  "vscode": {
   "interpreter": {
    "hash": "472f3460692ba2c0861145e5e150d03c8a5c0e40e057944a047c431b9050b93d"
   }
  }
 },
 "nbformat": 4,
 "nbformat_minor": 5
}
